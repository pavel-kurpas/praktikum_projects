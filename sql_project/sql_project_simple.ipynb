{
 "cells": [
  {
   "cell_type": "markdown",
   "id": "15c6bdd8",
   "metadata": {
    "toc": true
   },
   "source": [
    "<h1>Содержание<span class=\"tocSkip\"></span></h1>\n",
    "<div class=\"toc\"><ul class=\"toc-item\"><li><span><a href=\"#Обзор-данных\" data-toc-modified-id=\"Обзор-данных-1\">Обзор данных</a></span></li><li><span><a href=\"#Задача-1\" data-toc-modified-id=\"Задача-1-2\">Задача 1</a></span></li><li><span><a href=\"#Задача-2\" data-toc-modified-id=\"Задача-2-3\">Задача 2</a></span></li><li><span><a href=\"#Задача-3\" data-toc-modified-id=\"Задача-3-4\">Задача 3</a></span></li><li><span><a href=\"#Задача-4\" data-toc-modified-id=\"Задача-4-5\">Задача 4</a></span></li><li><span><a href=\"#Задача-5\" data-toc-modified-id=\"Задача-5-6\">Задача 5</a></span></li><li><span><a href=\"#Выводы\" data-toc-modified-id=\"Выводы-7\">Выводы</a></span></li></ul></div>"
   ]
  },
  {
   "cell_type": "markdown",
   "id": "38f9a8a2",
   "metadata": {},
   "source": [
    "# Исследование базы данных книжного сервиса"
   ]
  },
  {
   "cell_type": "markdown",
   "id": "f5ff88af",
   "metadata": {},
   "source": [
    "Компания купила крупный сервис для чтения книг по подписке. Необходимо проанализировать базу данных, содержащих информацию о книгах, издательствах, авторах, а также пользовательские обзоры книг.\n",
    "\n",
    "**Цель исследования** - получить данные для формирования ценностного предложения для нового продукта.\n",
    "\n",
    "**Задачи проекта:**\n",
    "1. Найти количество книг, вышедших после 1 января 2000 года.\n",
    "2. Найти количество обзоров и среднюю оценку для каждой книги.\n",
    "3. Определить издательство, которое выпустило наибольшее число книг толще 50 страниц.\n",
    "4. Определить автора с самой высокой средней оценкой книг.\n",
    "5. Вычислить среднее количество обзоров от пользователей, которые поставили больше 50 оценок.\n",
    "\n",
    "**Источник данных** — база данных сервиса для чтения книг."
   ]
  },
  {
   "cell_type": "markdown",
   "id": "082fd080",
   "metadata": {},
   "source": [
    "## Обзор данных"
   ]
  },
  {
   "cell_type": "markdown",
   "id": "390a6714",
   "metadata": {},
   "source": [
    "Загрузим библиотеки, необходимые для работы:"
   ]
  },
  {
   "cell_type": "code",
   "execution_count": 1,
   "id": "c30cfc68",
   "metadata": {},
   "outputs": [],
   "source": [
    "import pandas as pd\n",
    "from sqlalchemy import create_engine"
   ]
  },
  {
   "cell_type": "markdown",
   "id": "40fb44c0",
   "metadata": {},
   "source": [
    "Теперь подключимся к базе данных:"
   ]
  },
  {
   "cell_type": "code",
   "execution_count": 2,
   "id": "d9e06c2f",
   "metadata": {},
   "outputs": [],
   "source": [
    "db_config = {\n",
    "    'user': '',\n",
    "    'pwd': '',\n",
    "    'host': '',\n",
    "    'port': 6432,\n",
    "    'db': 'data-analyst-final-project-db'\n",
    "}\n",
    "\n",
    "connection_string = 'postgresql://{}:{}@{}:{}/{}'.format(\n",
    "    db_config['user'], db_config['pwd'], db_config['host'], db_config['port'],\n",
    "    db_config['db'])\n",
    "\n",
    "engine = create_engine(connection_string, connect_args={'sslmode': 'require'})"
   ]
  },
  {
   "cell_type": "markdown",
   "id": "82a2f008",
   "metadata": {},
   "source": [
    "Изучим таблицы. Откроем первые строки и посчитаем количество записей для каждой из них. Начнём с таблицы `books`."
   ]
  },
  {
   "cell_type": "code",
   "execution_count": 3,
   "id": "081d6da9",
   "metadata": {},
   "outputs": [
    {
     "data": {
      "text/html": [
       "<div>\n",
       "<style scoped>\n",
       "    .dataframe tbody tr th:only-of-type {\n",
       "        vertical-align: middle;\n",
       "    }\n",
       "\n",
       "    .dataframe tbody tr th {\n",
       "        vertical-align: top;\n",
       "    }\n",
       "\n",
       "    .dataframe thead th {\n",
       "        text-align: right;\n",
       "    }\n",
       "</style>\n",
       "<table border=\"1\" class=\"dataframe\">\n",
       "  <thead>\n",
       "    <tr style=\"text-align: right;\">\n",
       "      <th></th>\n",
       "      <th>book_id</th>\n",
       "      <th>author_id</th>\n",
       "      <th>title</th>\n",
       "      <th>num_pages</th>\n",
       "      <th>publication_date</th>\n",
       "      <th>publisher_id</th>\n",
       "    </tr>\n",
       "  </thead>\n",
       "  <tbody>\n",
       "    <tr>\n",
       "      <th>0</th>\n",
       "      <td>1</td>\n",
       "      <td>546</td>\n",
       "      <td>'Salem's Lot</td>\n",
       "      <td>594</td>\n",
       "      <td>2005-11-01</td>\n",
       "      <td>93</td>\n",
       "    </tr>\n",
       "    <tr>\n",
       "      <th>1</th>\n",
       "      <td>2</td>\n",
       "      <td>465</td>\n",
       "      <td>1 000 Places to See Before You Die</td>\n",
       "      <td>992</td>\n",
       "      <td>2003-05-22</td>\n",
       "      <td>336</td>\n",
       "    </tr>\n",
       "    <tr>\n",
       "      <th>2</th>\n",
       "      <td>3</td>\n",
       "      <td>407</td>\n",
       "      <td>13 Little Blue Envelopes (Little Blue Envelope...</td>\n",
       "      <td>322</td>\n",
       "      <td>2010-12-21</td>\n",
       "      <td>135</td>\n",
       "    </tr>\n",
       "    <tr>\n",
       "      <th>3</th>\n",
       "      <td>4</td>\n",
       "      <td>82</td>\n",
       "      <td>1491: New Revelations of the Americas Before C...</td>\n",
       "      <td>541</td>\n",
       "      <td>2006-10-10</td>\n",
       "      <td>309</td>\n",
       "    </tr>\n",
       "    <tr>\n",
       "      <th>4</th>\n",
       "      <td>5</td>\n",
       "      <td>125</td>\n",
       "      <td>1776</td>\n",
       "      <td>386</td>\n",
       "      <td>2006-07-04</td>\n",
       "      <td>268</td>\n",
       "    </tr>\n",
       "  </tbody>\n",
       "</table>\n",
       "</div>"
      ],
      "text/plain": [
       "   book_id  author_id                                              title  \\\n",
       "0        1        546                                       'Salem's Lot   \n",
       "1        2        465                 1 000 Places to See Before You Die   \n",
       "2        3        407  13 Little Blue Envelopes (Little Blue Envelope...   \n",
       "3        4         82  1491: New Revelations of the Americas Before C...   \n",
       "4        5        125                                               1776   \n",
       "\n",
       "   num_pages publication_date  publisher_id  \n",
       "0        594       2005-11-01            93  \n",
       "1        992       2003-05-22           336  \n",
       "2        322       2010-12-21           135  \n",
       "3        541       2006-10-10           309  \n",
       "4        386       2006-07-04           268  "
      ]
     },
     "metadata": {},
     "output_type": "display_data"
    },
    {
     "data": {
      "text/html": [
       "<div>\n",
       "<style scoped>\n",
       "    .dataframe tbody tr th:only-of-type {\n",
       "        vertical-align: middle;\n",
       "    }\n",
       "\n",
       "    .dataframe tbody tr th {\n",
       "        vertical-align: top;\n",
       "    }\n",
       "\n",
       "    .dataframe thead th {\n",
       "        text-align: right;\n",
       "    }\n",
       "</style>\n",
       "<table border=\"1\" class=\"dataframe\">\n",
       "  <thead>\n",
       "    <tr style=\"text-align: right;\">\n",
       "      <th></th>\n",
       "      <th>books_total</th>\n",
       "    </tr>\n",
       "  </thead>\n",
       "  <tbody>\n",
       "    <tr>\n",
       "      <th>0</th>\n",
       "      <td>1000</td>\n",
       "    </tr>\n",
       "  </tbody>\n",
       "</table>\n",
       "</div>"
      ],
      "text/plain": [
       "   books_total\n",
       "0         1000"
      ]
     },
     "execution_count": 3,
     "metadata": {},
     "output_type": "execute_result"
    }
   ],
   "source": [
    "query = '''\n",
    "            SELECT * FROM books\n",
    "            LIMIT 5\n",
    "        '''\n",
    "display(pd.io.sql.read_sql(query, con=engine))\n",
    "\n",
    "query = '''\n",
    "            SELECT COUNT(book_id) AS books_total\n",
    "            FROM books\n",
    "        '''\n",
    "pd.io.sql.read_sql(query, con=engine)"
   ]
  },
  {
   "cell_type": "markdown",
   "id": "58cd388c",
   "metadata": {},
   "source": [
    "Из условия известно:\n",
    "\n",
    "`books` — таблица книг:\n",
    "- `book_id` — идентификатор книги (первичный ключ),\n",
    "- `author_id` — идентификатор автора (внешний ключ),\n",
    "- `title` — название книги,\n",
    "- `num_pages` — количество страниц,\n",
    "- `publication_date` — дата публикации книги,\n",
    "- `publisher_id` — идентификатор издателя (внешний ключ).\n"
   ]
  },
  {
   "cell_type": "markdown",
   "id": "e6530094",
   "metadata": {},
   "source": [
    "Таблица содержит данные о 1000 книгах. Первичным ключом таблицы `books` является идентификатор книги — `book_id`. В таблице также есть два внешних ключа — `author_id` для связи с таблицей `authors` и `publisher_id` для связи с таблицей `publishers`.\n",
    "\n",
    "Выведем те же самые данные для таблицы `authors`:"
   ]
  },
  {
   "cell_type": "code",
   "execution_count": 4,
   "id": "e5909e7a",
   "metadata": {},
   "outputs": [
    {
     "data": {
      "text/html": [
       "<div>\n",
       "<style scoped>\n",
       "    .dataframe tbody tr th:only-of-type {\n",
       "        vertical-align: middle;\n",
       "    }\n",
       "\n",
       "    .dataframe tbody tr th {\n",
       "        vertical-align: top;\n",
       "    }\n",
       "\n",
       "    .dataframe thead th {\n",
       "        text-align: right;\n",
       "    }\n",
       "</style>\n",
       "<table border=\"1\" class=\"dataframe\">\n",
       "  <thead>\n",
       "    <tr style=\"text-align: right;\">\n",
       "      <th></th>\n",
       "      <th>author_id</th>\n",
       "      <th>author</th>\n",
       "    </tr>\n",
       "  </thead>\n",
       "  <tbody>\n",
       "    <tr>\n",
       "      <th>0</th>\n",
       "      <td>1</td>\n",
       "      <td>A.S. Byatt</td>\n",
       "    </tr>\n",
       "    <tr>\n",
       "      <th>1</th>\n",
       "      <td>2</td>\n",
       "      <td>Aesop/Laura Harris/Laura Gibbs</td>\n",
       "    </tr>\n",
       "    <tr>\n",
       "      <th>2</th>\n",
       "      <td>3</td>\n",
       "      <td>Agatha Christie</td>\n",
       "    </tr>\n",
       "    <tr>\n",
       "      <th>3</th>\n",
       "      <td>4</td>\n",
       "      <td>Alan Brennert</td>\n",
       "    </tr>\n",
       "    <tr>\n",
       "      <th>4</th>\n",
       "      <td>5</td>\n",
       "      <td>Alan Moore/David   Lloyd</td>\n",
       "    </tr>\n",
       "  </tbody>\n",
       "</table>\n",
       "</div>"
      ],
      "text/plain": [
       "   author_id                          author\n",
       "0          1                      A.S. Byatt\n",
       "1          2  Aesop/Laura Harris/Laura Gibbs\n",
       "2          3                 Agatha Christie\n",
       "3          4                   Alan Brennert\n",
       "4          5        Alan Moore/David   Lloyd"
      ]
     },
     "metadata": {},
     "output_type": "display_data"
    },
    {
     "data": {
      "text/html": [
       "<div>\n",
       "<style scoped>\n",
       "    .dataframe tbody tr th:only-of-type {\n",
       "        vertical-align: middle;\n",
       "    }\n",
       "\n",
       "    .dataframe tbody tr th {\n",
       "        vertical-align: top;\n",
       "    }\n",
       "\n",
       "    .dataframe thead th {\n",
       "        text-align: right;\n",
       "    }\n",
       "</style>\n",
       "<table border=\"1\" class=\"dataframe\">\n",
       "  <thead>\n",
       "    <tr style=\"text-align: right;\">\n",
       "      <th></th>\n",
       "      <th>authors_total</th>\n",
       "    </tr>\n",
       "  </thead>\n",
       "  <tbody>\n",
       "    <tr>\n",
       "      <th>0</th>\n",
       "      <td>636</td>\n",
       "    </tr>\n",
       "  </tbody>\n",
       "</table>\n",
       "</div>"
      ],
      "text/plain": [
       "   authors_total\n",
       "0            636"
      ]
     },
     "execution_count": 4,
     "metadata": {},
     "output_type": "execute_result"
    }
   ],
   "source": [
    "query = '''\n",
    "            SELECT * FROM authors\n",
    "            LIMIT 5\n",
    "        '''\n",
    "display(pd.io.sql.read_sql(query, con=engine))\n",
    "\n",
    "query = '''\n",
    "            SELECT COUNT(author_id) AS authors_total\n",
    "            FROM authors\n",
    "        '''\n",
    "pd.io.sql.read_sql(query, con=engine)"
   ]
  },
  {
   "cell_type": "markdown",
   "id": "c6560670",
   "metadata": {},
   "source": [
    "Структура таблицы:\n",
    "\n",
    "`authors` — таблица авторов:\n",
    "\n",
    "- `author_id` — идентификатор автора (первичный ключ),\n",
    "- `author` — имя автора."
   ]
  },
  {
   "cell_type": "markdown",
   "id": "cf3cc7e3",
   "metadata": {},
   "source": [
    "В данной таблице представлена информация о 636 авторах. В таблице всего два столбца - `author_id` (первичный ключ) и имя автора.\n",
    "\n",
    "Перейдём к таблице `publishers`:"
   ]
  },
  {
   "cell_type": "code",
   "execution_count": 5,
   "id": "ce72e432",
   "metadata": {},
   "outputs": [
    {
     "data": {
      "text/html": [
       "<div>\n",
       "<style scoped>\n",
       "    .dataframe tbody tr th:only-of-type {\n",
       "        vertical-align: middle;\n",
       "    }\n",
       "\n",
       "    .dataframe tbody tr th {\n",
       "        vertical-align: top;\n",
       "    }\n",
       "\n",
       "    .dataframe thead th {\n",
       "        text-align: right;\n",
       "    }\n",
       "</style>\n",
       "<table border=\"1\" class=\"dataframe\">\n",
       "  <thead>\n",
       "    <tr style=\"text-align: right;\">\n",
       "      <th></th>\n",
       "      <th>publisher_id</th>\n",
       "      <th>publisher</th>\n",
       "    </tr>\n",
       "  </thead>\n",
       "  <tbody>\n",
       "    <tr>\n",
       "      <th>0</th>\n",
       "      <td>1</td>\n",
       "      <td>Ace</td>\n",
       "    </tr>\n",
       "    <tr>\n",
       "      <th>1</th>\n",
       "      <td>2</td>\n",
       "      <td>Ace Book</td>\n",
       "    </tr>\n",
       "    <tr>\n",
       "      <th>2</th>\n",
       "      <td>3</td>\n",
       "      <td>Ace Books</td>\n",
       "    </tr>\n",
       "    <tr>\n",
       "      <th>3</th>\n",
       "      <td>4</td>\n",
       "      <td>Ace Hardcover</td>\n",
       "    </tr>\n",
       "    <tr>\n",
       "      <th>4</th>\n",
       "      <td>5</td>\n",
       "      <td>Addison Wesley Publishing Company</td>\n",
       "    </tr>\n",
       "  </tbody>\n",
       "</table>\n",
       "</div>"
      ],
      "text/plain": [
       "   publisher_id                          publisher\n",
       "0             1                                Ace\n",
       "1             2                           Ace Book\n",
       "2             3                          Ace Books\n",
       "3             4                      Ace Hardcover\n",
       "4             5  Addison Wesley Publishing Company"
      ]
     },
     "metadata": {},
     "output_type": "display_data"
    },
    {
     "data": {
      "text/html": [
       "<div>\n",
       "<style scoped>\n",
       "    .dataframe tbody tr th:only-of-type {\n",
       "        vertical-align: middle;\n",
       "    }\n",
       "\n",
       "    .dataframe tbody tr th {\n",
       "        vertical-align: top;\n",
       "    }\n",
       "\n",
       "    .dataframe thead th {\n",
       "        text-align: right;\n",
       "    }\n",
       "</style>\n",
       "<table border=\"1\" class=\"dataframe\">\n",
       "  <thead>\n",
       "    <tr style=\"text-align: right;\">\n",
       "      <th></th>\n",
       "      <th>publishers_total</th>\n",
       "    </tr>\n",
       "  </thead>\n",
       "  <tbody>\n",
       "    <tr>\n",
       "      <th>0</th>\n",
       "      <td>340</td>\n",
       "    </tr>\n",
       "  </tbody>\n",
       "</table>\n",
       "</div>"
      ],
      "text/plain": [
       "   publishers_total\n",
       "0               340"
      ]
     },
     "execution_count": 5,
     "metadata": {},
     "output_type": "execute_result"
    }
   ],
   "source": [
    "query = '''\n",
    "            SELECT * FROM publishers\n",
    "            LIMIT 5\n",
    "        '''\n",
    "display(pd.io.sql.read_sql(query, con=engine))\n",
    "\n",
    "query = '''\n",
    "            SELECT COUNT(publisher_id) AS publishers_total\n",
    "            FROM publishers\n",
    "        '''\n",
    "pd.io.sql.read_sql(query, con=engine)"
   ]
  },
  {
   "cell_type": "markdown",
   "id": "9df2b1e2",
   "metadata": {},
   "source": [
    "Структура таблицы:\n",
    "\n",
    "`publishers` — таблица издательств:\n",
    "\n",
    "- `publisher_id` — идентификатор издательства (первичный ключ),\n",
    "- `publisher` — название издательства."
   ]
  },
  {
   "cell_type": "markdown",
   "id": "2e367ee8",
   "metadata": {},
   "source": [
    "В таблице состоит из двух столбцов - id издательства (первичный ключ) и название издательства. В ней содержится 340 записей.\n",
    "\n",
    "Перейдём к таблице `ratings`. Сразу же выведем минимальную и максимальную оценки:"
   ]
  },
  {
   "cell_type": "code",
   "execution_count": 6,
   "id": "267e433f",
   "metadata": {},
   "outputs": [
    {
     "data": {
      "text/html": [
       "<div>\n",
       "<style scoped>\n",
       "    .dataframe tbody tr th:only-of-type {\n",
       "        vertical-align: middle;\n",
       "    }\n",
       "\n",
       "    .dataframe tbody tr th {\n",
       "        vertical-align: top;\n",
       "    }\n",
       "\n",
       "    .dataframe thead th {\n",
       "        text-align: right;\n",
       "    }\n",
       "</style>\n",
       "<table border=\"1\" class=\"dataframe\">\n",
       "  <thead>\n",
       "    <tr style=\"text-align: right;\">\n",
       "      <th></th>\n",
       "      <th>rating_id</th>\n",
       "      <th>book_id</th>\n",
       "      <th>username</th>\n",
       "      <th>rating</th>\n",
       "    </tr>\n",
       "  </thead>\n",
       "  <tbody>\n",
       "    <tr>\n",
       "      <th>0</th>\n",
       "      <td>1</td>\n",
       "      <td>1</td>\n",
       "      <td>ryanfranco</td>\n",
       "      <td>4</td>\n",
       "    </tr>\n",
       "    <tr>\n",
       "      <th>1</th>\n",
       "      <td>2</td>\n",
       "      <td>1</td>\n",
       "      <td>grantpatricia</td>\n",
       "      <td>2</td>\n",
       "    </tr>\n",
       "    <tr>\n",
       "      <th>2</th>\n",
       "      <td>3</td>\n",
       "      <td>1</td>\n",
       "      <td>brandtandrea</td>\n",
       "      <td>5</td>\n",
       "    </tr>\n",
       "    <tr>\n",
       "      <th>3</th>\n",
       "      <td>4</td>\n",
       "      <td>2</td>\n",
       "      <td>lorichen</td>\n",
       "      <td>3</td>\n",
       "    </tr>\n",
       "    <tr>\n",
       "      <th>4</th>\n",
       "      <td>5</td>\n",
       "      <td>2</td>\n",
       "      <td>mariokeller</td>\n",
       "      <td>2</td>\n",
       "    </tr>\n",
       "  </tbody>\n",
       "</table>\n",
       "</div>"
      ],
      "text/plain": [
       "   rating_id  book_id       username  rating\n",
       "0          1        1     ryanfranco       4\n",
       "1          2        1  grantpatricia       2\n",
       "2          3        1   brandtandrea       5\n",
       "3          4        2       lorichen       3\n",
       "4          5        2    mariokeller       2"
      ]
     },
     "metadata": {},
     "output_type": "display_data"
    },
    {
     "data": {
      "text/html": [
       "<div>\n",
       "<style scoped>\n",
       "    .dataframe tbody tr th:only-of-type {\n",
       "        vertical-align: middle;\n",
       "    }\n",
       "\n",
       "    .dataframe tbody tr th {\n",
       "        vertical-align: top;\n",
       "    }\n",
       "\n",
       "    .dataframe thead th {\n",
       "        text-align: right;\n",
       "    }\n",
       "</style>\n",
       "<table border=\"1\" class=\"dataframe\">\n",
       "  <thead>\n",
       "    <tr style=\"text-align: right;\">\n",
       "      <th></th>\n",
       "      <th>ratings_total</th>\n",
       "    </tr>\n",
       "  </thead>\n",
       "  <tbody>\n",
       "    <tr>\n",
       "      <th>0</th>\n",
       "      <td>6456</td>\n",
       "    </tr>\n",
       "  </tbody>\n",
       "</table>\n",
       "</div>"
      ],
      "text/plain": [
       "   ratings_total\n",
       "0           6456"
      ]
     },
     "metadata": {},
     "output_type": "display_data"
    },
    {
     "data": {
      "text/html": [
       "<div>\n",
       "<style scoped>\n",
       "    .dataframe tbody tr th:only-of-type {\n",
       "        vertical-align: middle;\n",
       "    }\n",
       "\n",
       "    .dataframe tbody tr th {\n",
       "        vertical-align: top;\n",
       "    }\n",
       "\n",
       "    .dataframe thead th {\n",
       "        text-align: right;\n",
       "    }\n",
       "</style>\n",
       "<table border=\"1\" class=\"dataframe\">\n",
       "  <thead>\n",
       "    <tr style=\"text-align: right;\">\n",
       "      <th></th>\n",
       "      <th>min</th>\n",
       "      <th>max</th>\n",
       "    </tr>\n",
       "  </thead>\n",
       "  <tbody>\n",
       "    <tr>\n",
       "      <th>0</th>\n",
       "      <td>1</td>\n",
       "      <td>5</td>\n",
       "    </tr>\n",
       "  </tbody>\n",
       "</table>\n",
       "</div>"
      ],
      "text/plain": [
       "   min  max\n",
       "0    1    5"
      ]
     },
     "execution_count": 6,
     "metadata": {},
     "output_type": "execute_result"
    }
   ],
   "source": [
    "query = '''\n",
    "            SELECT * FROM ratings\n",
    "            LIMIT 5\n",
    "        '''\n",
    "display(pd.io.sql.read_sql(query, con=engine))\n",
    "\n",
    "query = '''\n",
    "            SELECT COUNT(rating_id) AS ratings_total\n",
    "            FROM ratings\n",
    "        '''\n",
    "display(pd.io.sql.read_sql(query, con=engine))\n",
    "\n",
    "query = '''\n",
    "            SELECT MIN(rating),\n",
    "                   MAX(rating)\n",
    "            FROM ratings\n",
    "        '''\n",
    "\n",
    "pd.io.sql.read_sql(query, con=engine)"
   ]
  },
  {
   "cell_type": "markdown",
   "id": "7609834d",
   "metadata": {},
   "source": [
    "Из условия:\n",
    "\n",
    "`ratings` — таблица пользовательских оценок книг:\n",
    "- `rating_id` — идентификатор оценки (первичный ключ),\n",
    "- `book_id` — идентификатор книги (внешний ключ),\n",
    "- `username` — имя пользователя, оставившего оценку,\n",
    "- `rating` — оценка книги."
   ]
  },
  {
   "cell_type": "markdown",
   "id": "4af5ac6b",
   "metadata": {},
   "source": [
    "Пользователи сервиса поставили 6456 оценок в диапозоне от 1 до 5. В таблице содержатся первичный ключ `rating_id` и внешний ключ `book_id` для связи с таблицей `books`.\n",
    "\n",
    "Наконец, изучим таблицу `reviews`:"
   ]
  },
  {
   "cell_type": "code",
   "execution_count": 7,
   "id": "1342d64e",
   "metadata": {},
   "outputs": [
    {
     "data": {
      "text/html": [
       "<div>\n",
       "<style scoped>\n",
       "    .dataframe tbody tr th:only-of-type {\n",
       "        vertical-align: middle;\n",
       "    }\n",
       "\n",
       "    .dataframe tbody tr th {\n",
       "        vertical-align: top;\n",
       "    }\n",
       "\n",
       "    .dataframe thead th {\n",
       "        text-align: right;\n",
       "    }\n",
       "</style>\n",
       "<table border=\"1\" class=\"dataframe\">\n",
       "  <thead>\n",
       "    <tr style=\"text-align: right;\">\n",
       "      <th></th>\n",
       "      <th>review_id</th>\n",
       "      <th>book_id</th>\n",
       "      <th>username</th>\n",
       "      <th>text</th>\n",
       "    </tr>\n",
       "  </thead>\n",
       "  <tbody>\n",
       "    <tr>\n",
       "      <th>0</th>\n",
       "      <td>1</td>\n",
       "      <td>1</td>\n",
       "      <td>brandtandrea</td>\n",
       "      <td>Mention society tell send professor analysis. ...</td>\n",
       "    </tr>\n",
       "    <tr>\n",
       "      <th>1</th>\n",
       "      <td>2</td>\n",
       "      <td>1</td>\n",
       "      <td>ryanfranco</td>\n",
       "      <td>Foot glass pretty audience hit themselves. Amo...</td>\n",
       "    </tr>\n",
       "    <tr>\n",
       "      <th>2</th>\n",
       "      <td>3</td>\n",
       "      <td>2</td>\n",
       "      <td>lorichen</td>\n",
       "      <td>Listen treat keep worry. Miss husband tax but ...</td>\n",
       "    </tr>\n",
       "    <tr>\n",
       "      <th>3</th>\n",
       "      <td>4</td>\n",
       "      <td>3</td>\n",
       "      <td>johnsonamanda</td>\n",
       "      <td>Finally month interesting blue could nature cu...</td>\n",
       "    </tr>\n",
       "    <tr>\n",
       "      <th>4</th>\n",
       "      <td>5</td>\n",
       "      <td>3</td>\n",
       "      <td>scotttamara</td>\n",
       "      <td>Nation purpose heavy give wait song will. List...</td>\n",
       "    </tr>\n",
       "  </tbody>\n",
       "</table>\n",
       "</div>"
      ],
      "text/plain": [
       "   review_id  book_id       username  \\\n",
       "0          1        1   brandtandrea   \n",
       "1          2        1     ryanfranco   \n",
       "2          3        2       lorichen   \n",
       "3          4        3  johnsonamanda   \n",
       "4          5        3    scotttamara   \n",
       "\n",
       "                                                text  \n",
       "0  Mention society tell send professor analysis. ...  \n",
       "1  Foot glass pretty audience hit themselves. Amo...  \n",
       "2  Listen treat keep worry. Miss husband tax but ...  \n",
       "3  Finally month interesting blue could nature cu...  \n",
       "4  Nation purpose heavy give wait song will. List...  "
      ]
     },
     "metadata": {},
     "output_type": "display_data"
    },
    {
     "data": {
      "text/html": [
       "<div>\n",
       "<style scoped>\n",
       "    .dataframe tbody tr th:only-of-type {\n",
       "        vertical-align: middle;\n",
       "    }\n",
       "\n",
       "    .dataframe tbody tr th {\n",
       "        vertical-align: top;\n",
       "    }\n",
       "\n",
       "    .dataframe thead th {\n",
       "        text-align: right;\n",
       "    }\n",
       "</style>\n",
       "<table border=\"1\" class=\"dataframe\">\n",
       "  <thead>\n",
       "    <tr style=\"text-align: right;\">\n",
       "      <th></th>\n",
       "      <th>reviews_total</th>\n",
       "    </tr>\n",
       "  </thead>\n",
       "  <tbody>\n",
       "    <tr>\n",
       "      <th>0</th>\n",
       "      <td>2793</td>\n",
       "    </tr>\n",
       "  </tbody>\n",
       "</table>\n",
       "</div>"
      ],
      "text/plain": [
       "   reviews_total\n",
       "0           2793"
      ]
     },
     "execution_count": 7,
     "metadata": {},
     "output_type": "execute_result"
    }
   ],
   "source": [
    "query = '''\n",
    "            SELECT * FROM reviews\n",
    "            LIMIT 5\n",
    "        '''\n",
    "\n",
    "display(pd.io.sql.read_sql(query, con=engine))\n",
    "\n",
    "query = '''\n",
    "            SELECT COUNT(review_id) AS reviews_total\n",
    "            FROM reviews\n",
    "        '''\n",
    "\n",
    "pd.io.sql.read_sql(query, con=engine)"
   ]
  },
  {
   "cell_type": "markdown",
   "id": "70a96612",
   "metadata": {},
   "source": [
    "`reviews` — таблица пользовательских обзоров на книги:\n",
    "- `review_id` — идентификатор обзора (первичный ключ),\n",
    "- `book_id` — идентификатор книги (внешний ключ),\n",
    "- `username` — имя пользователя, написавшего обзор,\n",
    "- `text` — текст обзора."
   ]
  },
  {
   "cell_type": "markdown",
   "id": "fb7527b2",
   "metadata": {},
   "source": [
    "В таблице представлены данные о 2793 обзорах пользователей. В ней также присуствуют первичный (`review_id`) и внешний (`book_id`) ключи."
   ]
  },
  {
   "cell_type": "markdown",
   "id": "e77959c4",
   "metadata": {},
   "source": [
    "**Промежуточные вывод:** сервис предлагает 1000 книг от 636 разных авторов, которые были опубликованы 340 издательствами; пользователи сервиса выставили 6456 оценок и написали 2793 обзора."
   ]
  },
  {
   "cell_type": "markdown",
   "id": "871ccc95",
   "metadata": {},
   "source": [
    "## Задача 1"
   ]
  },
  {
   "cell_type": "markdown",
   "id": "8f10865c",
   "metadata": {},
   "source": [
    "Посчитаем, сколько книг вышло после 1 января 2000 г.:"
   ]
  },
  {
   "cell_type": "code",
   "execution_count": 8,
   "id": "612d9ecc",
   "metadata": {},
   "outputs": [
    {
     "data": {
      "text/html": [
       "<div>\n",
       "<style scoped>\n",
       "    .dataframe tbody tr th:only-of-type {\n",
       "        vertical-align: middle;\n",
       "    }\n",
       "\n",
       "    .dataframe tbody tr th {\n",
       "        vertical-align: top;\n",
       "    }\n",
       "\n",
       "    .dataframe thead th {\n",
       "        text-align: right;\n",
       "    }\n",
       "</style>\n",
       "<table border=\"1\" class=\"dataframe\">\n",
       "  <thead>\n",
       "    <tr style=\"text-align: right;\">\n",
       "      <th></th>\n",
       "      <th>books_of_21_century</th>\n",
       "    </tr>\n",
       "  </thead>\n",
       "  <tbody>\n",
       "    <tr>\n",
       "      <th>0</th>\n",
       "      <td>821</td>\n",
       "    </tr>\n",
       "  </tbody>\n",
       "</table>\n",
       "</div>"
      ],
      "text/plain": [
       "   books_of_21_century\n",
       "0                  821"
      ]
     },
     "execution_count": 8,
     "metadata": {},
     "output_type": "execute_result"
    }
   ],
   "source": [
    "query = '''\n",
    "            SELECT COUNT(book_id) AS books_of_21_century\n",
    "            FROM books\n",
    "            WHERE CAST(publication_date AS timestamp) >= '2000-01-01'\n",
    "        '''\n",
    "\n",
    "pd.io.sql.read_sql(query, con=engine)"
   ]
  },
  {
   "cell_type": "markdown",
   "id": "7d3d7906",
   "metadata": {},
   "source": [
    "Больше 80% представленных в сервисе книг вышло после 1 января 2000 г. Иными словами, в сервисе в большинстве своём представлена современная литература."
   ]
  },
  {
   "cell_type": "markdown",
   "id": "915ab0f7",
   "metadata": {},
   "source": [
    "## Задача 2"
   ]
  },
  {
   "cell_type": "markdown",
   "id": "b51c11d6",
   "metadata": {},
   "source": [
    "Для каждой книги найдём количество обзоров и среднюю оценку. Выведем на экран топ-10 книг по количеству обзоров и среднему рейтингу:"
   ]
  },
  {
   "cell_type": "code",
   "execution_count": 7,
   "id": "e7215518",
   "metadata": {},
   "outputs": [
    {
     "data": {
      "text/html": [
       "<div>\n",
       "<style scoped>\n",
       "    .dataframe tbody tr th:only-of-type {\n",
       "        vertical-align: middle;\n",
       "    }\n",
       "\n",
       "    .dataframe tbody tr th {\n",
       "        vertical-align: top;\n",
       "    }\n",
       "\n",
       "    .dataframe thead th {\n",
       "        text-align: right;\n",
       "    }\n",
       "</style>\n",
       "<table border=\"1\" class=\"dataframe\">\n",
       "  <thead>\n",
       "    <tr style=\"text-align: right;\">\n",
       "      <th></th>\n",
       "      <th>book_id</th>\n",
       "      <th>title</th>\n",
       "      <th>reviews_cnt</th>\n",
       "      <th>avg_rating</th>\n",
       "    </tr>\n",
       "  </thead>\n",
       "  <tbody>\n",
       "    <tr>\n",
       "      <th>0</th>\n",
       "      <td>672</td>\n",
       "      <td>The Cat in the Hat and Other Dr. Seuss Favorites</td>\n",
       "      <td>NaN</td>\n",
       "      <td>5.00</td>\n",
       "    </tr>\n",
       "    <tr>\n",
       "      <th>1</th>\n",
       "      <td>17</td>\n",
       "      <td>A Dirty Job (Grim Reaper  #1)</td>\n",
       "      <td>4.0</td>\n",
       "      <td>5.00</td>\n",
       "    </tr>\n",
       "    <tr>\n",
       "      <th>2</th>\n",
       "      <td>553</td>\n",
       "      <td>School's Out—Forever (Maximum Ride  #2)</td>\n",
       "      <td>3.0</td>\n",
       "      <td>5.00</td>\n",
       "    </tr>\n",
       "    <tr>\n",
       "      <th>3</th>\n",
       "      <td>444</td>\n",
       "      <td>Moneyball: The Art of Winning an Unfair Game</td>\n",
       "      <td>3.0</td>\n",
       "      <td>5.00</td>\n",
       "    </tr>\n",
       "    <tr>\n",
       "      <th>4</th>\n",
       "      <td>516</td>\n",
       "      <td>Plum Island (John Corey  #1)</td>\n",
       "      <td>2.0</td>\n",
       "      <td>5.00</td>\n",
       "    </tr>\n",
       "    <tr>\n",
       "      <th>...</th>\n",
       "      <td>...</td>\n",
       "      <td>...</td>\n",
       "      <td>...</td>\n",
       "      <td>...</td>\n",
       "    </tr>\n",
       "    <tr>\n",
       "      <th>995</th>\n",
       "      <td>915</td>\n",
       "      <td>The World Is Flat: A Brief History of the Twen...</td>\n",
       "      <td>3.0</td>\n",
       "      <td>2.25</td>\n",
       "    </tr>\n",
       "    <tr>\n",
       "      <th>996</th>\n",
       "      <td>202</td>\n",
       "      <td>Drowning Ruth</td>\n",
       "      <td>3.0</td>\n",
       "      <td>2.00</td>\n",
       "    </tr>\n",
       "    <tr>\n",
       "      <th>997</th>\n",
       "      <td>371</td>\n",
       "      <td>Junky</td>\n",
       "      <td>2.0</td>\n",
       "      <td>2.00</td>\n",
       "    </tr>\n",
       "    <tr>\n",
       "      <th>998</th>\n",
       "      <td>316</td>\n",
       "      <td>His Excellency: George Washington</td>\n",
       "      <td>2.0</td>\n",
       "      <td>2.00</td>\n",
       "    </tr>\n",
       "    <tr>\n",
       "      <th>999</th>\n",
       "      <td>303</td>\n",
       "      <td>Harvesting the Heart</td>\n",
       "      <td>2.0</td>\n",
       "      <td>1.50</td>\n",
       "    </tr>\n",
       "  </tbody>\n",
       "</table>\n",
       "<p>1000 rows × 4 columns</p>\n",
       "</div>"
      ],
      "text/plain": [
       "     book_id                                              title  reviews_cnt  \\\n",
       "0        672   The Cat in the Hat and Other Dr. Seuss Favorites          NaN   \n",
       "1         17                      A Dirty Job (Grim Reaper  #1)          4.0   \n",
       "2        553            School's Out—Forever (Maximum Ride  #2)          3.0   \n",
       "3        444       Moneyball: The Art of Winning an Unfair Game          3.0   \n",
       "4        516                       Plum Island (John Corey  #1)          2.0   \n",
       "..       ...                                                ...          ...   \n",
       "995      915  The World Is Flat: A Brief History of the Twen...          3.0   \n",
       "996      202                                      Drowning Ruth          3.0   \n",
       "997      371                                              Junky          2.0   \n",
       "998      316                  His Excellency: George Washington          2.0   \n",
       "999      303                               Harvesting the Heart          2.0   \n",
       "\n",
       "     avg_rating  \n",
       "0          5.00  \n",
       "1          5.00  \n",
       "2          5.00  \n",
       "3          5.00  \n",
       "4          5.00  \n",
       "..          ...  \n",
       "995        2.25  \n",
       "996        2.00  \n",
       "997        2.00  \n",
       "998        2.00  \n",
       "999        1.50  \n",
       "\n",
       "[1000 rows x 4 columns]"
      ]
     },
     "execution_count": 7,
     "metadata": {},
     "output_type": "execute_result"
    }
   ],
   "source": [
    "query = '''\n",
    "            WITH rev_cnt AS\n",
    "            (SELECT book_id,\n",
    "                    COUNT(review_id) AS reviews_cnt\n",
    "            FROM reviews\n",
    "            GROUP BY book_id),\n",
    "            \n",
    "            rev_avg AS \n",
    "            (SELECT book_id,\n",
    "                    AVG(rating) AS avg_rating\n",
    "            FROM ratings\n",
    "            GROUP BY book_id)\n",
    "            \n",
    "            \n",
    "            \n",
    "            SELECT b.book_id,\n",
    "                   b.title,\n",
    "                   rev_cnt.reviews_cnt,\n",
    "                   rev_avg.avg_rating\n",
    "            FROM books AS b\n",
    "            LEFT JOIN rev_cnt ON rev_cnt.book_id = b.book_id\n",
    "            JOIN rev_avg ON rev_avg.book_id = b.book_id\n",
    "            ORDER BY rev_avg.avg_rating DESC, rev_cnt.reviews_cnt DESC \n",
    "        '''\n",
    "\n",
    "pd.io.sql.read_sql(query, con=engine)"
   ]
  },
  {
   "cell_type": "markdown",
   "id": "ed6a2ba4",
   "metadata": {},
   "source": [
    "По таблице не видно сильной зависимости между рейтингом и количеством отзывов. Высокие рейтинги имеют как книги с большим количеством отзывов, так и без отзывов вообще. Хотя вот самые низкие рейтинги имеют всё же книги с отзывами."
   ]
  },
  {
   "cell_type": "markdown",
   "id": "a4ea218a",
   "metadata": {},
   "source": [
    "## Задача 3"
   ]
  },
  {
   "cell_type": "markdown",
   "id": "111bad7c",
   "metadata": {},
   "source": [
    "Найдём издательство, которое выпустило наибольшее число книг толще 50 страниц (чтобы исключить брошюры):"
   ]
  },
  {
   "cell_type": "code",
   "execution_count": 10,
   "id": "a968f7f3",
   "metadata": {},
   "outputs": [
    {
     "data": {
      "text/html": [
       "<div>\n",
       "<style scoped>\n",
       "    .dataframe tbody tr th:only-of-type {\n",
       "        vertical-align: middle;\n",
       "    }\n",
       "\n",
       "    .dataframe tbody tr th {\n",
       "        vertical-align: top;\n",
       "    }\n",
       "\n",
       "    .dataframe thead th {\n",
       "        text-align: right;\n",
       "    }\n",
       "</style>\n",
       "<table border=\"1\" class=\"dataframe\">\n",
       "  <thead>\n",
       "    <tr style=\"text-align: right;\">\n",
       "      <th></th>\n",
       "      <th>publisher</th>\n",
       "      <th>books_total</th>\n",
       "    </tr>\n",
       "  </thead>\n",
       "  <tbody>\n",
       "    <tr>\n",
       "      <th>0</th>\n",
       "      <td>Penguin Books</td>\n",
       "      <td>42</td>\n",
       "    </tr>\n",
       "  </tbody>\n",
       "</table>\n",
       "</div>"
      ],
      "text/plain": [
       "       publisher  books_total\n",
       "0  Penguin Books           42"
      ]
     },
     "execution_count": 10,
     "metadata": {},
     "output_type": "execute_result"
    }
   ],
   "source": [
    "query = '''\n",
    "            SELECT p.publisher,\n",
    "                   COUNT(b.book_id) AS books_total\n",
    "            FROM books AS b\n",
    "            JOIN publishers AS p ON b.publisher_id = p.publisher_id\n",
    "            WHERE b.num_pages > 50\n",
    "            GROUP BY p.publisher_id\n",
    "            ORDER BY books_total DESC\n",
    "            LIMIT 1\n",
    "        '''\n",
    "\n",
    "pd.io.sql.read_sql(query, con=engine)"
   ]
  },
  {
   "cell_type": "markdown",
   "id": "facfe509",
   "metadata": {},
   "source": [
    "Наибольшее количество книг (42), представленных в сервисе, выпущено издательством Penguin Books."
   ]
  },
  {
   "cell_type": "markdown",
   "id": "243ddf8a",
   "metadata": {},
   "source": [
    "## Задача 4"
   ]
  },
  {
   "cell_type": "markdown",
   "id": "02041e66",
   "metadata": {},
   "source": [
    "Определим автора с самой высокой средней оценкой книг:"
   ]
  },
  {
   "cell_type": "code",
   "execution_count": 16,
   "id": "90b151a3",
   "metadata": {},
   "outputs": [
    {
     "data": {
      "text/html": [
       "<div>\n",
       "<style scoped>\n",
       "    .dataframe tbody tr th:only-of-type {\n",
       "        vertical-align: middle;\n",
       "    }\n",
       "\n",
       "    .dataframe tbody tr th {\n",
       "        vertical-align: top;\n",
       "    }\n",
       "\n",
       "    .dataframe thead th {\n",
       "        text-align: right;\n",
       "    }\n",
       "</style>\n",
       "<table border=\"1\" class=\"dataframe\">\n",
       "  <thead>\n",
       "    <tr style=\"text-align: right;\">\n",
       "      <th></th>\n",
       "      <th>author</th>\n",
       "      <th>avg_rating</th>\n",
       "    </tr>\n",
       "  </thead>\n",
       "  <tbody>\n",
       "    <tr>\n",
       "      <th>0</th>\n",
       "      <td>J.K. Rowling/Mary GrandPré</td>\n",
       "      <td>4.287097</td>\n",
       "    </tr>\n",
       "  </tbody>\n",
       "</table>\n",
       "</div>"
      ],
      "text/plain": [
       "                       author  avg_rating\n",
       "0  J.K. Rowling/Mary GrandPré    4.287097"
      ]
     },
     "execution_count": 16,
     "metadata": {},
     "output_type": "execute_result"
    }
   ],
   "source": [
    "query = '''\n",
    "            SELECT a.author,\n",
    "                   AVG(r.rating) AS avg_rating\n",
    "            FROM authors AS a\n",
    "            JOIN books AS b ON a.author_id = b.author_id\n",
    "            JOIN ratings AS r ON b.book_id = r.book_id\n",
    "            WHERE r.book_id IN (SELECT book_id\n",
    "                                FROM ratings\n",
    "                                GROUP BY book_id\n",
    "                                HAVING COUNT(rating_id) >= 50)\n",
    "            GROUP BY a.author_id\n",
    "            ORDER BY avg_rating DESC\n",
    "            LIMIT 1\n",
    "        '''\n",
    "\n",
    "pd.io.sql.read_sql(query, con=engine)"
   ]
  },
  {
   "cell_type": "markdown",
   "id": "735be30f",
   "metadata": {},
   "source": [
    "Самыми популярными авторами оказались Джоан Роулинг в соавторстве с Мэри Гранпре, создавшими серию книг о Гарри Поттере. Им пренадлежит самая высокая средняя оценка пользователей — 4.3."
   ]
  },
  {
   "cell_type": "markdown",
   "id": "8279639d",
   "metadata": {},
   "source": [
    "## Задача 5"
   ]
  },
  {
   "cell_type": "markdown",
   "id": "c1b02f03",
   "metadata": {},
   "source": [
    "Посчитаем среднее количество обзоров от пользователей, которые поставили более 50 оценок:"
   ]
  },
  {
   "cell_type": "code",
   "execution_count": 12,
   "id": "e4309cc9",
   "metadata": {},
   "outputs": [
    {
     "data": {
      "text/html": [
       "<div>\n",
       "<style scoped>\n",
       "    .dataframe tbody tr th:only-of-type {\n",
       "        vertical-align: middle;\n",
       "    }\n",
       "\n",
       "    .dataframe tbody tr th {\n",
       "        vertical-align: top;\n",
       "    }\n",
       "\n",
       "    .dataframe thead th {\n",
       "        text-align: right;\n",
       "    }\n",
       "</style>\n",
       "<table border=\"1\" class=\"dataframe\">\n",
       "  <thead>\n",
       "    <tr style=\"text-align: right;\">\n",
       "      <th></th>\n",
       "      <th>avg_reviews</th>\n",
       "    </tr>\n",
       "  </thead>\n",
       "  <tbody>\n",
       "    <tr>\n",
       "      <th>0</th>\n",
       "      <td>24.222222</td>\n",
       "    </tr>\n",
       "  </tbody>\n",
       "</table>\n",
       "</div>"
      ],
      "text/plain": [
       "   avg_reviews\n",
       "0    24.222222"
      ]
     },
     "execution_count": 12,
     "metadata": {},
     "output_type": "execute_result"
    }
   ],
   "source": [
    "query = '''\n",
    "            SELECT AVG(reviews_cnt) AS avg_reviews FROM (\n",
    "                                                             SELECT DISTINCT username,\n",
    "                                                                    COUNT(review_id) AS reviews_cnt\n",
    "                                                             FROM reviews\n",
    "                                                             WHERE username IN (SELECT username\n",
    "                                                                                FROM ratings\n",
    "                                                                                GROUP BY username\n",
    "                                                                                HAVING COUNT(rating_id) >= 50) \n",
    "                                                             GROUP BY username) AS re\n",
    "        '''\n",
    "\n",
    "pd.io.sql.read_sql(query, con=engine)"
   ]
  },
  {
   "cell_type": "markdown",
   "id": "46966066",
   "metadata": {},
   "source": [
    "В среднем пользователи, которые поставили более 50 оценок, пишут около 24 обзоров."
   ]
  },
  {
   "cell_type": "markdown",
   "id": "60291796",
   "metadata": {},
   "source": [
    "## Выводы"
   ]
  },
  {
   "cell_type": "markdown",
   "id": "a40e87ad",
   "metadata": {},
   "source": [
    "1. В сервисе представлены 1000 книг, написанных 636 авторами и опубликованных 340 издательствами. Пользователи сервиса поставили 6456 оценок от 1 до 5, а также написали 2793 обзора.\n",
    "\n",
    "2. Более 80% книг, представленных в сервисе, изданы в XXI веке.\n",
    "\n",
    "3.  Сильной зависимости между рейтингом и количеством отзывов не наблюдается. Высокие рейтинги имеют как книги с большим количеством отзывов, так и без отзывов вообще. Самые низкие рейтинги имеют всё же книги с отзывами.\n",
    "\n",
    "4. Больше всего книг, доступных в серсиве, было выпущено издательством Penguin Books.\n",
    "\n",
    "5. Самая высокая средняя оценка пользователей в сервисе принадлежит книгам Джоан Роулинг совместно с Мари Гранпре.\n",
    "\n",
    "6. Пользователи, которые ставят больше 50 оценок, в среднем пишут около 24 рецензий."
   ]
  },
  {
   "cell_type": "code",
   "execution_count": null,
   "id": "13bd8ca6",
   "metadata": {},
   "outputs": [],
   "source": []
  }
 ],
 "metadata": {
  "ExecuteTimeLog": [
   {
    "duration": 464,
    "start_time": "2023-02-01T05:31:50.023Z"
   },
   {
    "duration": 8436,
    "start_time": "2023-02-01T05:31:50.489Z"
   },
   {
    "duration": 380,
    "start_time": "2023-02-01T05:31:58.926Z"
   },
   {
    "duration": 140,
    "start_time": "2023-02-01T05:31:59.309Z"
   },
   {
    "duration": 146,
    "start_time": "2023-02-01T05:31:59.451Z"
   },
   {
    "duration": 208,
    "start_time": "2023-02-01T05:31:59.600Z"
   },
   {
    "duration": 139,
    "start_time": "2023-02-01T05:31:59.810Z"
   },
   {
    "duration": 72,
    "start_time": "2023-02-01T05:31:59.950Z"
   },
   {
    "duration": 79,
    "start_time": "2023-02-01T05:32:00.023Z"
   },
   {
    "duration": 72,
    "start_time": "2023-02-01T05:32:00.104Z"
   },
   {
    "duration": 76,
    "start_time": "2023-02-01T05:32:00.178Z"
   },
   {
    "duration": 74,
    "start_time": "2023-02-01T05:32:00.256Z"
   },
   {
    "duration": 104,
    "start_time": "2023-02-01T05:34:02.941Z"
   },
   {
    "duration": 75,
    "start_time": "2023-02-01T05:34:05.097Z"
   },
   {
    "duration": 74,
    "start_time": "2023-02-01T05:35:18.965Z"
   },
   {
    "duration": 75,
    "start_time": "2023-02-01T05:35:20.309Z"
   }
  ],
  "kernelspec": {
   "display_name": "Python 3 (ipykernel)",
   "language": "python",
   "name": "python3"
  },
  "language_info": {
   "codemirror_mode": {
    "name": "ipython",
    "version": 3
   },
   "file_extension": ".py",
   "mimetype": "text/x-python",
   "name": "python",
   "nbconvert_exporter": "python",
   "pygments_lexer": "ipython3",
   "version": "3.9.7"
  },
  "toc": {
   "base_numbering": 1,
   "nav_menu": {},
   "number_sections": false,
   "sideBar": true,
   "skip_h1_title": true,
   "title_cell": "Содержание",
   "title_sidebar": "Содержание",
   "toc_cell": true,
   "toc_position": {
    "height": "calc(100% - 180px)",
    "left": "10px",
    "top": "150px",
    "width": "384px"
   },
   "toc_section_display": true,
   "toc_window_display": true
  }
 },
 "nbformat": 4,
 "nbformat_minor": 5
}
