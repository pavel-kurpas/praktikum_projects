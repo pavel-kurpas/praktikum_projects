{
 "cells": [
  {
   "cell_type": "markdown",
   "id": "5316f6e6",
   "metadata": {
    "toc": true
   },
   "source": [
    "<h1>Содержание<span class=\"tocSkip\"></span></h1>\n",
    "<div class=\"toc\"><ul class=\"toc-item\"><li><span><a href=\"#Обзор-данных\" data-toc-modified-id=\"Обзор-данных-1\"><span class=\"toc-item-num\">1&nbsp;&nbsp;</span>Обзор данных</a></span></li><li><span><a href=\"#Предобработка-данных\" data-toc-modified-id=\"Предобработка-данных-2\"><span class=\"toc-item-num\">2&nbsp;&nbsp;</span>Предобработка данных</a></span><ul class=\"toc-item\"><li><span><a href=\"#Пропуски-значений\" data-toc-modified-id=\"Пропуски-значений-2.1\"><span class=\"toc-item-num\">2.1&nbsp;&nbsp;</span>Пропуски значений</a></span></li><li><span><a href=\"#Артефакты\" data-toc-modified-id=\"Артефакты-2.2\"><span class=\"toc-item-num\">2.2&nbsp;&nbsp;</span>Артефакты</a></span></li><li><span><a href=\"#Типы-данных\" data-toc-modified-id=\"Типы-данных-2.3\"><span class=\"toc-item-num\">2.3&nbsp;&nbsp;</span>Типы данных</a></span></li><li><span><a href=\"#Дубликаты\" data-toc-modified-id=\"Дубликаты-2.4\"><span class=\"toc-item-num\">2.4&nbsp;&nbsp;</span>Дубликаты</a></span></li><li><span><a href=\"#Категоризация-данных\" data-toc-modified-id=\"Категоризация-данных-2.5\"><span class=\"toc-item-num\">2.5&nbsp;&nbsp;</span>Категоризация данных</a></span></li></ul></li><li><span><a href=\"#Проверка-гипотез\" data-toc-modified-id=\"Проверка-гипотез-3\"><span class=\"toc-item-num\">3&nbsp;&nbsp;</span>Проверка гипотез</a></span><ul class=\"toc-item\"><li><span><a href=\"#Зависимость-между-количеством-детей-и-возвратом-кредита-в-срок\" data-toc-modified-id=\"Зависимость-между-количеством-детей-и-возвратом-кредита-в-срок-3.1\"><span class=\"toc-item-num\">3.1&nbsp;&nbsp;</span>Зависимость между количеством детей и возвратом кредита в срок</a></span></li><li><span><a href=\"#Зависимость-между-семейным-положением-и-возвратом-кредита-в-срок\" data-toc-modified-id=\"Зависимость-между-семейным-положением-и-возвратом-кредита-в-срок-3.2\"><span class=\"toc-item-num\">3.2&nbsp;&nbsp;</span>Зависимость между семейным положением и возвратом кредита в срок</a></span></li><li><span><a href=\"#Зависимость-между-уровнем-дохода-и-возвратом-кредита-в-срок\" data-toc-modified-id=\"Зависимость-между-уровнем-дохода-и-возвратом-кредита-в-срок-3.3\"><span class=\"toc-item-num\">3.3&nbsp;&nbsp;</span>Зависимость между уровнем дохода и возвратом кредита в срок</a></span></li><li><span><a href=\"#Зависимость-между-целью-кредита-и-возвратом-кредита-в-срок\" data-toc-modified-id=\"Зависимость-между-целью-кредита-и-возвратом-кредита-в-срок-3.4\"><span class=\"toc-item-num\">3.4&nbsp;&nbsp;</span>Зависимость между целью кредита и возвратом кредита в срок</a></span></li></ul></li><li><span><a href=\"#Итоги-исследования\" data-toc-modified-id=\"Итоги-исследования-4\"><span class=\"toc-item-num\">4&nbsp;&nbsp;</span>Итоги исследования</a></span></li></ul></div>"
   ]
  },
  {
   "cell_type": "markdown",
   "id": "eedf612a",
   "metadata": {},
   "source": [
    "# Исследование кредитоспособности заёмщиков"
   ]
  },
  {
   "cell_type": "markdown",
   "id": "63121494",
   "metadata": {},
   "source": [
    "Исследование выполняется для банка. Целью является выявление влияния семейного положения и количества детей у заёмщика на его или её платёжеспособность. Результаты исследования необходимы для построения модели кредитного скоринга.\n",
    "\n",
    "Основная задача в рамках данного учебного проекта — выполнить полную предобработку данных. Выявление упомянутого выше влияния — скорее формальная задача."
   ]
  },
  {
   "cell_type": "markdown",
   "id": "f3ea2e28",
   "metadata": {},
   "source": [
    "## Обзор данных"
   ]
  },
  {
   "cell_type": "markdown",
   "id": "20619edc",
   "metadata": {},
   "source": [
    "Сохраним полученную от заказчика таблицу со статистикой платёжеспособности клиентов в переменную `solvency` и просмотрим её первые 10 строк.\n",
    "\n",
    "(этот проект выполнялся локально, поэтому, чтобы не возникло проблем с путём к датасету, мы загрузили его в гугл-таблицу и дальше уже работали с ней)"
   ]
  },
  {
   "cell_type": "code",
   "execution_count": 1,
   "id": "c7e0fe16",
   "metadata": {
    "scrolled": true
   },
   "outputs": [
    {
     "data": {
      "text/html": [
       "<div>\n",
       "<style scoped>\n",
       "    .dataframe tbody tr th:only-of-type {\n",
       "        vertical-align: middle;\n",
       "    }\n",
       "\n",
       "    .dataframe tbody tr th {\n",
       "        vertical-align: top;\n",
       "    }\n",
       "\n",
       "    .dataframe thead th {\n",
       "        text-align: right;\n",
       "    }\n",
       "</style>\n",
       "<table border=\"1\" class=\"dataframe\">\n",
       "  <thead>\n",
       "    <tr style=\"text-align: right;\">\n",
       "      <th></th>\n",
       "      <th>children</th>\n",
       "      <th>days_employed</th>\n",
       "      <th>dob_years</th>\n",
       "      <th>education</th>\n",
       "      <th>education_id</th>\n",
       "      <th>family_status</th>\n",
       "      <th>family_status_id</th>\n",
       "      <th>gender</th>\n",
       "      <th>income_type</th>\n",
       "      <th>debt</th>\n",
       "      <th>total_income</th>\n",
       "      <th>purpose</th>\n",
       "    </tr>\n",
       "  </thead>\n",
       "  <tbody>\n",
       "    <tr>\n",
       "      <th>0</th>\n",
       "      <td>1</td>\n",
       "      <td>-8437.673028</td>\n",
       "      <td>42</td>\n",
       "      <td>высшее</td>\n",
       "      <td>0</td>\n",
       "      <td>женат / замужем</td>\n",
       "      <td>0</td>\n",
       "      <td>F</td>\n",
       "      <td>сотрудник</td>\n",
       "      <td>0</td>\n",
       "      <td>253875.639453</td>\n",
       "      <td>покупка жилья</td>\n",
       "    </tr>\n",
       "    <tr>\n",
       "      <th>1</th>\n",
       "      <td>1</td>\n",
       "      <td>-4024.803754</td>\n",
       "      <td>36</td>\n",
       "      <td>среднее</td>\n",
       "      <td>1</td>\n",
       "      <td>женат / замужем</td>\n",
       "      <td>0</td>\n",
       "      <td>F</td>\n",
       "      <td>сотрудник</td>\n",
       "      <td>0</td>\n",
       "      <td>112080.014102</td>\n",
       "      <td>приобретение автомобиля</td>\n",
       "    </tr>\n",
       "    <tr>\n",
       "      <th>2</th>\n",
       "      <td>0</td>\n",
       "      <td>-5623.422610</td>\n",
       "      <td>33</td>\n",
       "      <td>Среднее</td>\n",
       "      <td>1</td>\n",
       "      <td>женат / замужем</td>\n",
       "      <td>0</td>\n",
       "      <td>M</td>\n",
       "      <td>сотрудник</td>\n",
       "      <td>0</td>\n",
       "      <td>145885.952297</td>\n",
       "      <td>покупка жилья</td>\n",
       "    </tr>\n",
       "    <tr>\n",
       "      <th>3</th>\n",
       "      <td>3</td>\n",
       "      <td>-4124.747207</td>\n",
       "      <td>32</td>\n",
       "      <td>среднее</td>\n",
       "      <td>1</td>\n",
       "      <td>женат / замужем</td>\n",
       "      <td>0</td>\n",
       "      <td>M</td>\n",
       "      <td>сотрудник</td>\n",
       "      <td>0</td>\n",
       "      <td>267628.550329</td>\n",
       "      <td>дополнительное образование</td>\n",
       "    </tr>\n",
       "    <tr>\n",
       "      <th>4</th>\n",
       "      <td>0</td>\n",
       "      <td>340266.072047</td>\n",
       "      <td>53</td>\n",
       "      <td>среднее</td>\n",
       "      <td>1</td>\n",
       "      <td>гражданский брак</td>\n",
       "      <td>1</td>\n",
       "      <td>F</td>\n",
       "      <td>пенсионер</td>\n",
       "      <td>0</td>\n",
       "      <td>158616.077870</td>\n",
       "      <td>сыграть свадьбу</td>\n",
       "    </tr>\n",
       "    <tr>\n",
       "      <th>5</th>\n",
       "      <td>0</td>\n",
       "      <td>-926.185831</td>\n",
       "      <td>27</td>\n",
       "      <td>высшее</td>\n",
       "      <td>0</td>\n",
       "      <td>гражданский брак</td>\n",
       "      <td>1</td>\n",
       "      <td>M</td>\n",
       "      <td>компаньон</td>\n",
       "      <td>0</td>\n",
       "      <td>255763.565419</td>\n",
       "      <td>покупка жилья</td>\n",
       "    </tr>\n",
       "    <tr>\n",
       "      <th>6</th>\n",
       "      <td>0</td>\n",
       "      <td>-2879.202052</td>\n",
       "      <td>43</td>\n",
       "      <td>высшее</td>\n",
       "      <td>0</td>\n",
       "      <td>женат / замужем</td>\n",
       "      <td>0</td>\n",
       "      <td>F</td>\n",
       "      <td>компаньон</td>\n",
       "      <td>0</td>\n",
       "      <td>240525.971920</td>\n",
       "      <td>операции с жильем</td>\n",
       "    </tr>\n",
       "    <tr>\n",
       "      <th>7</th>\n",
       "      <td>0</td>\n",
       "      <td>-152.779569</td>\n",
       "      <td>50</td>\n",
       "      <td>СРЕДНЕЕ</td>\n",
       "      <td>1</td>\n",
       "      <td>женат / замужем</td>\n",
       "      <td>0</td>\n",
       "      <td>M</td>\n",
       "      <td>сотрудник</td>\n",
       "      <td>0</td>\n",
       "      <td>135823.934197</td>\n",
       "      <td>образование</td>\n",
       "    </tr>\n",
       "    <tr>\n",
       "      <th>8</th>\n",
       "      <td>2</td>\n",
       "      <td>-6929.865299</td>\n",
       "      <td>35</td>\n",
       "      <td>ВЫСШЕЕ</td>\n",
       "      <td>0</td>\n",
       "      <td>гражданский брак</td>\n",
       "      <td>1</td>\n",
       "      <td>F</td>\n",
       "      <td>сотрудник</td>\n",
       "      <td>0</td>\n",
       "      <td>95856.832424</td>\n",
       "      <td>на проведение свадьбы</td>\n",
       "    </tr>\n",
       "    <tr>\n",
       "      <th>9</th>\n",
       "      <td>0</td>\n",
       "      <td>-2188.756445</td>\n",
       "      <td>41</td>\n",
       "      <td>среднее</td>\n",
       "      <td>1</td>\n",
       "      <td>женат / замужем</td>\n",
       "      <td>0</td>\n",
       "      <td>M</td>\n",
       "      <td>сотрудник</td>\n",
       "      <td>0</td>\n",
       "      <td>144425.938277</td>\n",
       "      <td>покупка жилья для семьи</td>\n",
       "    </tr>\n",
       "  </tbody>\n",
       "</table>\n",
       "</div>"
      ],
      "text/plain": [
       "  children  days_employed  dob_years education  education_id  \\\n",
       "0        1   -8437.673028         42    высшее             0   \n",
       "1        1   -4024.803754         36   среднее             1   \n",
       "2        0   -5623.422610         33   Среднее             1   \n",
       "3        3   -4124.747207         32   среднее             1   \n",
       "4        0  340266.072047         53   среднее             1   \n",
       "5        0    -926.185831         27    высшее             0   \n",
       "6        0   -2879.202052         43    высшее             0   \n",
       "7        0    -152.779569         50   СРЕДНЕЕ             1   \n",
       "8        2   -6929.865299         35    ВЫСШЕЕ             0   \n",
       "9        0   -2188.756445         41   среднее             1   \n",
       "\n",
       "      family_status  family_status_id gender income_type  debt   total_income  \\\n",
       "0   женат / замужем                 0      F   сотрудник     0  253875.639453   \n",
       "1   женат / замужем                 0      F   сотрудник     0  112080.014102   \n",
       "2   женат / замужем                 0      M   сотрудник     0  145885.952297   \n",
       "3   женат / замужем                 0      M   сотрудник     0  267628.550329   \n",
       "4  гражданский брак                 1      F   пенсионер     0  158616.077870   \n",
       "5  гражданский брак                 1      M   компаньон     0  255763.565419   \n",
       "6   женат / замужем                 0      F   компаньон     0  240525.971920   \n",
       "7   женат / замужем                 0      M   сотрудник     0  135823.934197   \n",
       "8  гражданский брак                 1      F   сотрудник     0   95856.832424   \n",
       "9   женат / замужем                 0      M   сотрудник     0  144425.938277   \n",
       "\n",
       "                      purpose  \n",
       "0               покупка жилья  \n",
       "1     приобретение автомобиля  \n",
       "2               покупка жилья  \n",
       "3  дополнительное образование  \n",
       "4             сыграть свадьбу  \n",
       "5               покупка жилья  \n",
       "6           операции с жильем  \n",
       "7                 образование  \n",
       "8       на проведение свадьбы  \n",
       "9     покупка жилья для семьи  "
      ]
     },
     "metadata": {},
     "output_type": "display_data"
    }
   ],
   "source": [
    "import pandas as pd\n",
    "from io import BytesIO\n",
    "import requests\n",
    "\n",
    "spreadsheet_id = '1AgW0rFmv44WafQiuOppcoghodTj4P_qS6ebJ4piaovk'\n",
    "file_name = f'https://docs.google.com/spreadsheets/d/{spreadsheet_id}/export?format=csv'\n",
    "r = requests.get(file_name)\n",
    "solvency = pd.read_csv(BytesIO(r.content))\n",
    "\n",
    "display(solvency.head(10))"
   ]
  },
  {
   "cell_type": "markdown",
   "id": "110d0736",
   "metadata": {},
   "source": [
    "Из описания проекта известны обозначения столбцов:\n",
    "\n",
    "`children` — количество детей в семье;\n",
    "\n",
    "`days_employed` — общий трудовой стаж в днях;\n",
    "\n",
    "`dob_years` — возраст клиента в годах;\n",
    "\n",
    "`education` — уровень образования клиента; \n",
    "\n",
    "`education_id` — идентификатор уровня образования;\n",
    "\n",
    "`family_status` — семейное положение;\n",
    "\n",
    "`family_status_id` — идентификатор семейного положения;\n",
    "\n",
    "`gender` — пол клиента;\n",
    "\n",
    "`income_type` — тип занятости;\n",
    "\n",
    "`debt` — имел ли задолженность по возврату кредитов;\n",
    "\n",
    "`total_income` — ежемесячный доход;\n",
    "\n",
    "`purpose` — цель получения кредита."
   ]
  },
  {
   "cell_type": "markdown",
   "id": "23bd88a8",
   "metadata": {},
   "source": [
    "Уже заметны артефакты и неявные дубликаты в таблице. Так, в некоторых строках из столбца `days_employed` представлены отрицательные значения. Это странно, поскольку стаж не может быть отрицательным. Кроме того, в том же столбцы есть неожиданно большие значения стажа (больше 340 тысяч дней).\n",
    "\n",
    "Неявные дубликаты видны в столбцах `education` и `purpose`. В первом случае дело в регистре, во втором случае расходятся формулировки (н-р, \"на проведение свадьбы\" = \"сыграть свадьбу\")."
   ]
  },
  {
   "cell_type": "markdown",
   "id": "bb872618",
   "metadata": {},
   "source": [
    "Просмотрим информацию о таблице."
   ]
  },
  {
   "cell_type": "code",
   "execution_count": 2,
   "id": "23147b9d",
   "metadata": {},
   "outputs": [
    {
     "name": "stdout",
     "output_type": "stream",
     "text": [
      "<class 'pandas.core.frame.DataFrame'>\n",
      "RangeIndex: 21525 entries, 0 to 21524\n",
      "Data columns (total 12 columns):\n",
      " #   Column            Non-Null Count  Dtype  \n",
      "---  ------            --------------  -----  \n",
      " 0   children          21525 non-null  object \n",
      " 1   days_employed     19351 non-null  float64\n",
      " 2   dob_years         21525 non-null  int64  \n",
      " 3   education         21525 non-null  object \n",
      " 4   education_id      21525 non-null  int64  \n",
      " 5   family_status     21525 non-null  object \n",
      " 6   family_status_id  21525 non-null  int64  \n",
      " 7   gender            21525 non-null  object \n",
      " 8   income_type       21525 non-null  object \n",
      " 9   debt              21525 non-null  int64  \n",
      " 10  total_income      19351 non-null  float64\n",
      " 11  purpose           21525 non-null  object \n",
      "dtypes: float64(2), int64(4), object(6)\n",
      "memory usage: 2.0+ MB\n"
     ]
    }
   ],
   "source": [
    "solvency.info()"
   ]
  },
  {
   "cell_type": "markdown",
   "id": "f8de5229",
   "metadata": {},
   "source": [
    "Заметны пропуски в столбцах `days_employed` и `total_income`.\n",
    "\n",
    "В ходе предобработки данных придётся изменить тип столбца `children`. В таблице он строковый, хотя должен быть целочисленный. Это критично: если мы захотим ввести количество детей в модель оценки кредитоспособности, то этот показатель нам нужен будет именно в числовом формате."
   ]
  },
  {
   "cell_type": "markdown",
   "id": "42a292f2",
   "metadata": {},
   "source": [
    "**Промежуточные выводы:**\n",
    "\n",
    "1. Оформление таблицы данных корректное: столбцы названы понятно, стиль соблюден.\n",
    "2. В данных сразу заметен ряд проблем: пропуски, артефакты, неудобные тип данных, дубликаты."
   ]
  },
  {
   "cell_type": "markdown",
   "id": "2c0f8dda",
   "metadata": {},
   "source": [
    "## Предобработка данных"
   ]
  },
  {
   "cell_type": "markdown",
   "id": "0f204b58",
   "metadata": {},
   "source": [
    "### Пропуски значений"
   ]
  },
  {
   "cell_type": "markdown",
   "id": "e058f7af",
   "metadata": {},
   "source": [
    "<a id='omissions_share'></a>\n",
    "Как мы уже говорили, в столбцах `days_employed` и `total_income` есть пропуски — для некоторых клиентов пропущены значения стажа и ежемесячного дохода, т.е. количественные переменные. Рассчитаем долю пропусков в общем количестве значений в этих столбцах:"
   ]
  },
  {
   "cell_type": "code",
   "execution_count": 3,
   "id": "bf71ae5b",
   "metadata": {},
   "outputs": [
    {
     "name": "stdout",
     "output_type": "stream",
     "text": [
      "Количество пропусков в стоблце стажа: 2174\n",
      "Доля пропусков в столбце стажа: 10.1%\n",
      "Количество пропусков в стоблце ежемесячного дохода: 2174\n",
      "Доля пропусков в столбце ежемесячного дохода: 10.1%\n"
     ]
    }
   ],
   "source": [
    "days_employed_nan_share = solvency['days_employed'].isna().sum() / len(solvency['days_employed'])\n",
    "total_income_nan_share = solvency['total_income'].isna().sum() / len(solvency['total_income'])\n",
    "\n",
    "print('Количество пропусков в стоблце стажа:', solvency['days_employed'].isna().sum())\n",
    "print(f'Доля пропусков в столбце стажа: {days_employed_nan_share:.1%}')\n",
    "print('Количество пропусков в стоблце ежемесячного дохода:', solvency['total_income'].isna().sum())\n",
    "print(f'Доля пропусков в столбце ежемесячного дохода: {total_income_nan_share:.1%}')"
   ]
  },
  {
   "cell_type": "markdown",
   "id": "88da25f1",
   "metadata": {},
   "source": [
    "Одинаковое количество пропусков в столбцах заставляет предположить, что их возникновение носит системный характер. Проверим, всегда ли пропуск в столбце `days_employed` сочетается с пропуском в столбце `total_income`. Для этого найдём количество строк, в которых пропуски есть в обоих столбцах, и сравним его с количеством строк с пропусками вообще."
   ]
  },
  {
   "cell_type": "code",
   "execution_count": 4,
   "id": "ca336924",
   "metadata": {},
   "outputs": [
    {
     "data": {
      "text/plain": [
       "2174"
      ]
     },
     "execution_count": 4,
     "metadata": {},
     "output_type": "execute_result"
    }
   ],
   "source": [
    "len(solvency[solvency['days_employed'].isna() & solvency['total_income'].isna()])"
   ]
  },
  {
   "cell_type": "markdown",
   "id": "c953d27d",
   "metadata": {},
   "source": [
    "Количество строк с пропусками в обоих столбцах совпадает с общим количеством строк с пропусками. **Значит, всегда, когда есть пропуск в столбце стажа, отсутствует и значение в столбце ежемесячного дохода.**"
   ]
  },
  {
   "cell_type": "markdown",
   "id": "4f9035c7",
   "metadata": {},
   "source": [
    "Как можно это объяснить? Попробуем найти связь пропусков с другими столбцами. Просмотрим первые 15 строк таблицы, содержащей только строки с пропусками."
   ]
  },
  {
   "cell_type": "code",
   "execution_count": 5,
   "id": "396dd89c",
   "metadata": {},
   "outputs": [
    {
     "data": {
      "text/html": [
       "<div>\n",
       "<style scoped>\n",
       "    .dataframe tbody tr th:only-of-type {\n",
       "        vertical-align: middle;\n",
       "    }\n",
       "\n",
       "    .dataframe tbody tr th {\n",
       "        vertical-align: top;\n",
       "    }\n",
       "\n",
       "    .dataframe thead th {\n",
       "        text-align: right;\n",
       "    }\n",
       "</style>\n",
       "<table border=\"1\" class=\"dataframe\">\n",
       "  <thead>\n",
       "    <tr style=\"text-align: right;\">\n",
       "      <th></th>\n",
       "      <th>children</th>\n",
       "      <th>days_employed</th>\n",
       "      <th>dob_years</th>\n",
       "      <th>education</th>\n",
       "      <th>education_id</th>\n",
       "      <th>family_status</th>\n",
       "      <th>family_status_id</th>\n",
       "      <th>gender</th>\n",
       "      <th>income_type</th>\n",
       "      <th>debt</th>\n",
       "      <th>total_income</th>\n",
       "      <th>purpose</th>\n",
       "    </tr>\n",
       "  </thead>\n",
       "  <tbody>\n",
       "    <tr>\n",
       "      <th>12</th>\n",
       "      <td>0</td>\n",
       "      <td>NaN</td>\n",
       "      <td>65</td>\n",
       "      <td>среднее</td>\n",
       "      <td>1</td>\n",
       "      <td>гражданский брак</td>\n",
       "      <td>1</td>\n",
       "      <td>M</td>\n",
       "      <td>пенсионер</td>\n",
       "      <td>0</td>\n",
       "      <td>NaN</td>\n",
       "      <td>сыграть свадьбу</td>\n",
       "    </tr>\n",
       "    <tr>\n",
       "      <th>26</th>\n",
       "      <td>0</td>\n",
       "      <td>NaN</td>\n",
       "      <td>41</td>\n",
       "      <td>среднее</td>\n",
       "      <td>1</td>\n",
       "      <td>женат / замужем</td>\n",
       "      <td>0</td>\n",
       "      <td>M</td>\n",
       "      <td>госслужащий</td>\n",
       "      <td>0</td>\n",
       "      <td>NaN</td>\n",
       "      <td>образование</td>\n",
       "    </tr>\n",
       "    <tr>\n",
       "      <th>29</th>\n",
       "      <td>0</td>\n",
       "      <td>NaN</td>\n",
       "      <td>63</td>\n",
       "      <td>среднее</td>\n",
       "      <td>1</td>\n",
       "      <td>Не женат / не замужем</td>\n",
       "      <td>4</td>\n",
       "      <td>F</td>\n",
       "      <td>пенсионер</td>\n",
       "      <td>0</td>\n",
       "      <td>NaN</td>\n",
       "      <td>строительство жилой недвижимости</td>\n",
       "    </tr>\n",
       "    <tr>\n",
       "      <th>41</th>\n",
       "      <td>0</td>\n",
       "      <td>NaN</td>\n",
       "      <td>50</td>\n",
       "      <td>среднее</td>\n",
       "      <td>1</td>\n",
       "      <td>женат / замужем</td>\n",
       "      <td>0</td>\n",
       "      <td>F</td>\n",
       "      <td>госслужащий</td>\n",
       "      <td>0</td>\n",
       "      <td>NaN</td>\n",
       "      <td>сделка с подержанным автомобилем</td>\n",
       "    </tr>\n",
       "    <tr>\n",
       "      <th>55</th>\n",
       "      <td>0</td>\n",
       "      <td>NaN</td>\n",
       "      <td>54</td>\n",
       "      <td>среднее</td>\n",
       "      <td>1</td>\n",
       "      <td>гражданский брак</td>\n",
       "      <td>1</td>\n",
       "      <td>F</td>\n",
       "      <td>пенсионер</td>\n",
       "      <td>1</td>\n",
       "      <td>NaN</td>\n",
       "      <td>сыграть свадьбу</td>\n",
       "    </tr>\n",
       "    <tr>\n",
       "      <th>65</th>\n",
       "      <td>0</td>\n",
       "      <td>NaN</td>\n",
       "      <td>21</td>\n",
       "      <td>среднее</td>\n",
       "      <td>1</td>\n",
       "      <td>Не женат / не замужем</td>\n",
       "      <td>4</td>\n",
       "      <td>M</td>\n",
       "      <td>компаньон</td>\n",
       "      <td>0</td>\n",
       "      <td>NaN</td>\n",
       "      <td>операции с коммерческой недвижимостью</td>\n",
       "    </tr>\n",
       "    <tr>\n",
       "      <th>67</th>\n",
       "      <td>0</td>\n",
       "      <td>NaN</td>\n",
       "      <td>52</td>\n",
       "      <td>высшее</td>\n",
       "      <td>0</td>\n",
       "      <td>женат / замужем</td>\n",
       "      <td>0</td>\n",
       "      <td>F</td>\n",
       "      <td>пенсионер</td>\n",
       "      <td>0</td>\n",
       "      <td>NaN</td>\n",
       "      <td>покупка жилья для семьи</td>\n",
       "    </tr>\n",
       "    <tr>\n",
       "      <th>72</th>\n",
       "      <td>1</td>\n",
       "      <td>NaN</td>\n",
       "      <td>32</td>\n",
       "      <td>высшее</td>\n",
       "      <td>0</td>\n",
       "      <td>женат / замужем</td>\n",
       "      <td>0</td>\n",
       "      <td>M</td>\n",
       "      <td>госслужащий</td>\n",
       "      <td>0</td>\n",
       "      <td>NaN</td>\n",
       "      <td>операции с коммерческой недвижимостью</td>\n",
       "    </tr>\n",
       "    <tr>\n",
       "      <th>82</th>\n",
       "      <td>2</td>\n",
       "      <td>NaN</td>\n",
       "      <td>50</td>\n",
       "      <td>высшее</td>\n",
       "      <td>0</td>\n",
       "      <td>женат / замужем</td>\n",
       "      <td>0</td>\n",
       "      <td>F</td>\n",
       "      <td>сотрудник</td>\n",
       "      <td>0</td>\n",
       "      <td>NaN</td>\n",
       "      <td>жилье</td>\n",
       "    </tr>\n",
       "    <tr>\n",
       "      <th>83</th>\n",
       "      <td>0</td>\n",
       "      <td>NaN</td>\n",
       "      <td>52</td>\n",
       "      <td>среднее</td>\n",
       "      <td>1</td>\n",
       "      <td>женат / замужем</td>\n",
       "      <td>0</td>\n",
       "      <td>M</td>\n",
       "      <td>сотрудник</td>\n",
       "      <td>0</td>\n",
       "      <td>NaN</td>\n",
       "      <td>жилье</td>\n",
       "    </tr>\n",
       "    <tr>\n",
       "      <th>90</th>\n",
       "      <td>2</td>\n",
       "      <td>NaN</td>\n",
       "      <td>35</td>\n",
       "      <td>высшее</td>\n",
       "      <td>0</td>\n",
       "      <td>женат / замужем</td>\n",
       "      <td>0</td>\n",
       "      <td>F</td>\n",
       "      <td>сотрудник</td>\n",
       "      <td>0</td>\n",
       "      <td>NaN</td>\n",
       "      <td>операции с жильем</td>\n",
       "    </tr>\n",
       "    <tr>\n",
       "      <th>94</th>\n",
       "      <td>1</td>\n",
       "      <td>NaN</td>\n",
       "      <td>34</td>\n",
       "      <td>высшее</td>\n",
       "      <td>0</td>\n",
       "      <td>гражданский брак</td>\n",
       "      <td>1</td>\n",
       "      <td>F</td>\n",
       "      <td>компаньон</td>\n",
       "      <td>0</td>\n",
       "      <td>NaN</td>\n",
       "      <td>на проведение свадьбы</td>\n",
       "    </tr>\n",
       "    <tr>\n",
       "      <th>96</th>\n",
       "      <td>0</td>\n",
       "      <td>NaN</td>\n",
       "      <td>44</td>\n",
       "      <td>СРЕДНЕЕ</td>\n",
       "      <td>1</td>\n",
       "      <td>женат / замужем</td>\n",
       "      <td>0</td>\n",
       "      <td>F</td>\n",
       "      <td>сотрудник</td>\n",
       "      <td>0</td>\n",
       "      <td>NaN</td>\n",
       "      <td>покупка жилой недвижимости</td>\n",
       "    </tr>\n",
       "    <tr>\n",
       "      <th>97</th>\n",
       "      <td>0</td>\n",
       "      <td>NaN</td>\n",
       "      <td>47</td>\n",
       "      <td>высшее</td>\n",
       "      <td>0</td>\n",
       "      <td>женат / замужем</td>\n",
       "      <td>0</td>\n",
       "      <td>F</td>\n",
       "      <td>сотрудник</td>\n",
       "      <td>0</td>\n",
       "      <td>NaN</td>\n",
       "      <td>профильное образование</td>\n",
       "    </tr>\n",
       "    <tr>\n",
       "      <th>120</th>\n",
       "      <td>0</td>\n",
       "      <td>NaN</td>\n",
       "      <td>46</td>\n",
       "      <td>среднее</td>\n",
       "      <td>1</td>\n",
       "      <td>женат / замужем</td>\n",
       "      <td>0</td>\n",
       "      <td>F</td>\n",
       "      <td>сотрудник</td>\n",
       "      <td>0</td>\n",
       "      <td>NaN</td>\n",
       "      <td>высшее образование</td>\n",
       "    </tr>\n",
       "  </tbody>\n",
       "</table>\n",
       "</div>"
      ],
      "text/plain": [
       "    children  days_employed  dob_years education  education_id  \\\n",
       "12         0            NaN         65   среднее             1   \n",
       "26         0            NaN         41   среднее             1   \n",
       "29         0            NaN         63   среднее             1   \n",
       "41         0            NaN         50   среднее             1   \n",
       "55         0            NaN         54   среднее             1   \n",
       "65         0            NaN         21   среднее             1   \n",
       "67         0            NaN         52    высшее             0   \n",
       "72         1            NaN         32    высшее             0   \n",
       "82         2            NaN         50    высшее             0   \n",
       "83         0            NaN         52   среднее             1   \n",
       "90         2            NaN         35    высшее             0   \n",
       "94         1            NaN         34    высшее             0   \n",
       "96         0            NaN         44   СРЕДНЕЕ             1   \n",
       "97         0            NaN         47    высшее             0   \n",
       "120        0            NaN         46   среднее             1   \n",
       "\n",
       "             family_status  family_status_id gender  income_type  debt  \\\n",
       "12        гражданский брак                 1      M    пенсионер     0   \n",
       "26         женат / замужем                 0      M  госслужащий     0   \n",
       "29   Не женат / не замужем                 4      F    пенсионер     0   \n",
       "41         женат / замужем                 0      F  госслужащий     0   \n",
       "55        гражданский брак                 1      F    пенсионер     1   \n",
       "65   Не женат / не замужем                 4      M    компаньон     0   \n",
       "67         женат / замужем                 0      F    пенсионер     0   \n",
       "72         женат / замужем                 0      M  госслужащий     0   \n",
       "82         женат / замужем                 0      F    сотрудник     0   \n",
       "83         женат / замужем                 0      M    сотрудник     0   \n",
       "90         женат / замужем                 0      F    сотрудник     0   \n",
       "94        гражданский брак                 1      F    компаньон     0   \n",
       "96         женат / замужем                 0      F    сотрудник     0   \n",
       "97         женат / замужем                 0      F    сотрудник     0   \n",
       "120        женат / замужем                 0      F    сотрудник     0   \n",
       "\n",
       "     total_income                                purpose  \n",
       "12            NaN                        сыграть свадьбу  \n",
       "26            NaN                            образование  \n",
       "29            NaN       строительство жилой недвижимости  \n",
       "41            NaN       сделка с подержанным автомобилем  \n",
       "55            NaN                        сыграть свадьбу  \n",
       "65            NaN  операции с коммерческой недвижимостью  \n",
       "67            NaN                покупка жилья для семьи  \n",
       "72            NaN  операции с коммерческой недвижимостью  \n",
       "82            NaN                                  жилье  \n",
       "83            NaN                                  жилье  \n",
       "90            NaN                      операции с жильем  \n",
       "94            NaN                  на проведение свадьбы  \n",
       "96            NaN             покупка жилой недвижимости  \n",
       "97            NaN                 профильное образование  \n",
       "120           NaN                     высшее образование  "
      ]
     },
     "execution_count": 5,
     "metadata": {},
     "output_type": "execute_result"
    }
   ],
   "source": [
    "solvency[solvency['total_income'].isna()].head(15)"
   ]
  },
  {
   "cell_type": "markdown",
   "id": "8466c9f4",
   "metadata": {},
   "source": [
    "Очевидных взаимосвязей между пропусками и значениями в других столбцах нет. Остаётся только искать общее между стажем и ежемесячным доходом."
   ]
  },
  {
   "cell_type": "markdown",
   "id": "9f0104ea",
   "metadata": {},
   "source": [
    "Наиболее вероятными представляются следующие объяснения: <a id='omissions_reason'></a>\n",
    "\n",
    "1. **Ошибка при формировании выгрузки**. Скорее всего, пропуски возникли из-за технической ошибки. Объяснения, связанные с содержанием столбцов `days_employed` и `total_income`, звучат менее убедительно (хотя могут быть применимы к отдельным ячейкам — см. п. 2). В какой момент могла возникнуть эта проблема? Вероятно, при формировании выгрузки. Трудно представить себе ситуацию, в которой такие важные с точки выдачи кредита показатели, как стаж и ежемесячный доход, отсутствовали бы во внутренней базе данных банка. Если бы технический сбой произошёл на этапе ввода данных в эту базу, то его бы уже точно заметили и починили. Попробуем определить конкретную причину возникшей ошибки. Если обратить внимание на формат значений в столбцах `days_employed` и `total_income`, можно заметить, что в обоих должны быть числа с плавающей точкой. Возможно, пропуски связаны с тем, что сотрудник, заносивший данные о клиенте, использовал в качестве десятичного разделителя запятую, а не точку. Иными словами, пропуски могут быть связаны с *форматом десятичного разделителя*. При формировании выгрузки значения с некорректным разделителем могли быть распознаны неверно и заменены пропусками. \n",
    "\n",
    "\n",
    "2. **Соображения конфиденциальности**. Некоторые пропуски могут быть связаны со стремлением сохранить анонимность клиента при передаче его данных для построения модели скоринга. В принципе, зная род занятий, семейный статус, уровень образования, количество детей, длительность стажа и размер дохода, можно определить личности некоторых клиентов. Это касается главным образом крупных чиновников."
   ]
  },
  {
   "cell_type": "markdown",
   "id": "07f2d764",
   "metadata": {},
   "source": [
    "**Как решить проблему наличия пропусков?** <a id='median_usage'></a>\n",
    "\n",
    "Пропуски в столбцах `days_employed` и `total_income` встречаются в достаточной большой доле строк (более 10%, см. [выше](#omissions_share)), поэтому просто удалить их было бы неразумно. Нужен заполнитель.\n",
    "\n",
    "Поскольку значения в этих столбцах относятся к категории количественных, заполнять их следует, используя данные из других, непустых строк. Для этого лучше подойдёт медианное, а не среднее значение. Дело в том, что диапазон возможных значений стажа и дохода очень велик, следовательно, разброс значений может быть большой (иными словами, вполне разумно ожидать большой дисперсии этих значений в выборке). По этой причине среднее арифметическое не будет являться характерным значением для выборки. Большей репрезентативностью обладает здесь медиана.\n",
    "\n",
    "Само заполнение пропусков кажется целесообразным проводить *после того, как будут устранены встречающиеся в них артефакты* (отрицательные значения, неожиданно большие значения). Так медианные значения будут более характерны для выборки."
   ]
  },
  {
   "cell_type": "markdown",
   "id": "e74446fd",
   "metadata": {},
   "source": [
    "### Артефакты"
   ]
  },
  {
   "cell_type": "markdown",
   "id": "20f26324",
   "metadata": {},
   "source": [
    "На этапе обзора данных были выявлены два типа артефактов в столбце `days_employed` — отрицательные значения и неожиданно большие значения стажа. Проверим, есть ли подобные артефакты в столбце `total_income`. Затем вернёмся к столбцу `days_employed`, устраним артефакты и пропуски, а уже потом рассмотрим столбцы с целочисленными и строковыми значениями.\n",
    "\n",
    "Усложнять логику просмотра столбцов приходится за тем, чтобы поскорее разобраться с пропусками в столбцах `days_employed` и `total_income`. \n",
    "\n",
    "Выведем на экран 10 первых значений из столбца `total_income`, отсортированного по убыванию.   "
   ]
  },
  {
   "cell_type": "code",
   "execution_count": 6,
   "id": "684b748c",
   "metadata": {},
   "outputs": [
    {
     "data": {
      "text/plain": [
       "12412    2.265604e+06\n",
       "19606    2.200852e+06\n",
       "9169     1.726276e+06\n",
       "20809    1.715018e+06\n",
       "17178    1.711309e+06\n",
       "17503    1.597613e+06\n",
       "18368    1.551153e+06\n",
       "18353    1.427934e+06\n",
       "15268    1.350246e+06\n",
       "11071    1.286281e+06\n",
       "Name: total_income, dtype: float64"
      ]
     },
     "execution_count": 6,
     "metadata": {},
     "output_type": "execute_result"
    }
   ],
   "source": [
    "solvency['total_income'].sort_values(ascending=False).head(10)"
   ]
  },
  {
   "cell_type": "markdown",
   "id": "91da330a",
   "metadata": {},
   "source": [
    "Теперь выведем 10 последних значений из того же столбца."
   ]
  },
  {
   "cell_type": "code",
   "execution_count": 7,
   "id": "c3eb8f30",
   "metadata": {},
   "outputs": [
    {
     "data": {
      "text/plain": [
       "21415   NaN\n",
       "21423   NaN\n",
       "21426   NaN\n",
       "21432   NaN\n",
       "21463   NaN\n",
       "21489   NaN\n",
       "21495   NaN\n",
       "21497   NaN\n",
       "21502   NaN\n",
       "21510   NaN\n",
       "Name: total_income, dtype: float64"
      ]
     },
     "execution_count": 7,
     "metadata": {},
     "output_type": "execute_result"
    }
   ],
   "source": [
    "solvency['total_income'].sort_values(ascending=False).tail(10)"
   ]
  },
  {
   "cell_type": "markdown",
   "id": "37965ccd",
   "metadata": {},
   "source": [
    "Артефактов, которые встречались нам в столбце `days_employed`, не выявлено. Можно заполнить пропуски медианным значением по столбцу. Сделаем это.\n",
    "\n",
    "Медиану по столбцу сохраним в переменную `total_income_median`. Это значение нам ещё понадобится в будущем."
   ]
  },
  {
   "cell_type": "code",
   "execution_count": 8,
   "id": "aa2d1f83",
   "metadata": {},
   "outputs": [],
   "source": [
    "total_income_median = solvency['total_income'].median()\n",
    "solvency.loc[:, 'total_income'] = solvency['total_income'].fillna(total_income_median)"
   ]
  },
  {
   "cell_type": "markdown",
   "id": "fd5250b5",
   "metadata": {},
   "source": [
    "Рассчитаем медианы дохода в зависимости от типа источника дохода. Для этого напишем функцию `get_median_by_type`, протестируем её и только потом уже применим к датасету."
   ]
  },
  {
   "cell_type": "code",
   "execution_count": 9,
   "id": "425dbeca",
   "metadata": {},
   "outputs": [
    {
     "data": {
      "text/plain": [
       "{'A': 3.0, 'B': 4.0}"
      ]
     },
     "execution_count": 9,
     "metadata": {},
     "output_type": "execute_result"
    }
   ],
   "source": [
    "def get_median_by_type(df, values_column, types_column):    \n",
    "    medians = [\n",
    "        df[df[types_column] == certain_type][values_column].median() for certain_type in df[types_column].unique()\n",
    "    ]\n",
    "    return dict(zip(df[types_column].unique(), medians))\n",
    "\n",
    "\n",
    "test_df = pd.DataFrame({\n",
    "    'value_column': [1, 2, 3, 4, 5, 6],\n",
    "    'type_column': ['A', 'B', 'A', 'B', 'A', 'B']\n",
    "})\n",
    "\n",
    "get_median_by_type(test_df, 'value_column', 'type_column')"
   ]
  },
  {
   "cell_type": "code",
   "execution_count": 10,
   "id": "1786e8ce",
   "metadata": {},
   "outputs": [],
   "source": [
    "for certain_type in solvency['income_type'].unique():\n",
    "    solvency.loc[solvency['income_type'] == certain_type, 'total_income'] = (solvency.query('income_type == @certain_type')['total_income']\n",
    "     .fillna(get_median_by_type(df=solvency, values_column='total_income', types_column='income_type')[certain_type])) "
   ]
  },
  {
   "cell_type": "markdown",
   "id": "cd7087c5",
   "metadata": {},
   "source": [
    "**Обработка артефактов в столбце `days_employed`**"
   ]
  },
  {
   "cell_type": "markdown",
   "id": "1fbea671",
   "metadata": {},
   "source": [
    "Начнём с обработки аномально больших значений.\n",
    "\n",
    "В ходе обзора данных мы видели положительные аномально большие значения. Проверим, бывают ли таковыми отрицательные значения стажа. Запишем в переменную `solvency_negative` строки с отрицательными значениями стажа, отсортируем полученную таблицу по возрастанию и выведем 5 первых строк столбца `days_employed` (то есть 5 строк с наибольшим по модулю значением стажа)."
   ]
  },
  {
   "cell_type": "code",
   "execution_count": 11,
   "id": "9de2fe5b",
   "metadata": {},
   "outputs": [
    {
     "data": {
      "text/plain": [
       "16335   -18388.949901\n",
       "4299    -17615.563266\n",
       "7329    -16593.472817\n",
       "17838   -16264.699501\n",
       "16825   -16119.687737\n",
       "Name: days_employed, dtype: float64"
      ]
     },
     "execution_count": 11,
     "metadata": {},
     "output_type": "execute_result"
    }
   ],
   "source": [
    "solvency_negative = solvency[solvency['days_employed'] < 0]\n",
    "solvency_negative['days_employed'].sort_values().head()"
   ]
  },
  {
   "cell_type": "markdown",
   "id": "65cbfbde",
   "metadata": {},
   "source": [
    "Переведём наибольший по модулю отрицательный стаж в года. <a id='biggest_negative'></a>"
   ]
  },
  {
   "cell_type": "code",
   "execution_count": 12,
   "id": "308a363e",
   "metadata": {},
   "outputs": [
    {
     "name": "stdout",
     "output_type": "stream",
     "text": [
      "Самый длительный отрицательный стаж: -50.4 лет\n"
     ]
    }
   ],
   "source": [
    "print(f'Самый длительный отрицательный стаж: {-18388.949901 / 365:.1f} лет')"
   ]
  },
  {
   "cell_type": "markdown",
   "id": "4d2653d8",
   "metadata": {},
   "source": [
    "Это значение трудно назвать аномально большим по модулю.\n",
    "\n",
    "Теперь убедимся, что положительные аномально большие значения действительно аномально большие. Сохраним в переменной `solvency_positive` строки с неотрицательными значениями в столбце `days_employed`, затем отсортируем полученную таблицу по убыванию и выведем на экран первые 5 строк из столбца стажа."
   ]
  },
  {
   "cell_type": "code",
   "execution_count": 13,
   "id": "720009ce",
   "metadata": {},
   "outputs": [
    {
     "data": {
      "text/plain": [
       "6954     401755.400475\n",
       "10006    401715.811749\n",
       "7664     401675.093434\n",
       "2156     401674.466633\n",
       "7794     401663.850046\n",
       "Name: days_employed, dtype: float64"
      ]
     },
     "execution_count": 13,
     "metadata": {},
     "output_type": "execute_result"
    }
   ],
   "source": [
    "solvency_positive = solvency[solvency['days_employed'] >= 0]\n",
    "solvency_positive['days_employed'].sort_values(ascending=False).head()"
   ]
  },
  {
   "cell_type": "markdown",
   "id": "3b59d2c5",
   "metadata": {},
   "source": [
    "А теперь последние 5 наименьших неотрицательных значений стажа: <a id='min_positive_calc'></a>"
   ]
  },
  {
   "cell_type": "code",
   "execution_count": 14,
   "id": "4b58b86d",
   "metadata": {},
   "outputs": [
    {
     "data": {
      "text/plain": [
       "7229     328827.345667\n",
       "14783    328795.726728\n",
       "17782    328771.341387\n",
       "9328     328734.923996\n",
       "20444    328728.720605\n",
       "Name: days_employed, dtype: float64"
      ]
     },
     "execution_count": 14,
     "metadata": {},
     "output_type": "execute_result"
    }
   ],
   "source": [
    "solvency_positive['days_employed'].sort_values(ascending=False).tail()"
   ]
  },
  {
   "cell_type": "markdown",
   "id": "eae15424",
   "metadata": {},
   "source": [
    "Сохраним минимальный положительный срок стажа в переменную `min_positive_employes`, а затем переведём его в года:"
   ]
  },
  {
   "cell_type": "code",
   "execution_count": 15,
   "id": "fff0f885",
   "metadata": {},
   "outputs": [
    {
     "data": {
      "text/plain": [
       "900.6266317945204"
      ]
     },
     "execution_count": 15,
     "metadata": {},
     "output_type": "execute_result"
    }
   ],
   "source": [
    "min_positive_employed = 328728.720605\n",
    "min_positive_employed / 365"
   ]
  },
  {
   "cell_type": "markdown",
   "id": "e2bbb5ca",
   "metadata": {},
   "source": [
    "900 лет — неправдоподобно большой срок стажа. Получается, все положительные значения представляют собой артефакты. Попробуем найти этому объяснения. Посмотрим, какие значения в других столбцах соответствуют положительной величине стажа."
   ]
  },
  {
   "cell_type": "code",
   "execution_count": 16,
   "id": "29072882",
   "metadata": {},
   "outputs": [
    {
     "data": {
      "text/html": [
       "<div>\n",
       "<style scoped>\n",
       "    .dataframe tbody tr th:only-of-type {\n",
       "        vertical-align: middle;\n",
       "    }\n",
       "\n",
       "    .dataframe tbody tr th {\n",
       "        vertical-align: top;\n",
       "    }\n",
       "\n",
       "    .dataframe thead th {\n",
       "        text-align: right;\n",
       "    }\n",
       "</style>\n",
       "<table border=\"1\" class=\"dataframe\">\n",
       "  <thead>\n",
       "    <tr style=\"text-align: right;\">\n",
       "      <th></th>\n",
       "      <th>children</th>\n",
       "      <th>days_employed</th>\n",
       "      <th>dob_years</th>\n",
       "      <th>education</th>\n",
       "      <th>education_id</th>\n",
       "      <th>family_status</th>\n",
       "      <th>family_status_id</th>\n",
       "      <th>gender</th>\n",
       "      <th>income_type</th>\n",
       "      <th>debt</th>\n",
       "      <th>total_income</th>\n",
       "      <th>purpose</th>\n",
       "    </tr>\n",
       "  </thead>\n",
       "  <tbody>\n",
       "    <tr>\n",
       "      <th>4</th>\n",
       "      <td>0</td>\n",
       "      <td>340266.072047</td>\n",
       "      <td>53</td>\n",
       "      <td>среднее</td>\n",
       "      <td>1</td>\n",
       "      <td>гражданский брак</td>\n",
       "      <td>1</td>\n",
       "      <td>F</td>\n",
       "      <td>пенсионер</td>\n",
       "      <td>0</td>\n",
       "      <td>158616.077870</td>\n",
       "      <td>сыграть свадьбу</td>\n",
       "    </tr>\n",
       "    <tr>\n",
       "      <th>18</th>\n",
       "      <td>0</td>\n",
       "      <td>400281.136913</td>\n",
       "      <td>53</td>\n",
       "      <td>среднее</td>\n",
       "      <td>1</td>\n",
       "      <td>вдовец / вдова</td>\n",
       "      <td>2</td>\n",
       "      <td>F</td>\n",
       "      <td>пенсионер</td>\n",
       "      <td>0</td>\n",
       "      <td>56823.777243</td>\n",
       "      <td>на покупку подержанного автомобиля</td>\n",
       "    </tr>\n",
       "    <tr>\n",
       "      <th>24</th>\n",
       "      <td>1</td>\n",
       "      <td>338551.952911</td>\n",
       "      <td>57</td>\n",
       "      <td>среднее</td>\n",
       "      <td>1</td>\n",
       "      <td>Не женат / не замужем</td>\n",
       "      <td>4</td>\n",
       "      <td>F</td>\n",
       "      <td>пенсионер</td>\n",
       "      <td>0</td>\n",
       "      <td>290547.235997</td>\n",
       "      <td>операции с коммерческой недвижимостью</td>\n",
       "    </tr>\n",
       "    <tr>\n",
       "      <th>25</th>\n",
       "      <td>0</td>\n",
       "      <td>363548.489348</td>\n",
       "      <td>67</td>\n",
       "      <td>среднее</td>\n",
       "      <td>1</td>\n",
       "      <td>женат / замужем</td>\n",
       "      <td>0</td>\n",
       "      <td>M</td>\n",
       "      <td>пенсионер</td>\n",
       "      <td>0</td>\n",
       "      <td>55112.757732</td>\n",
       "      <td>покупка недвижимости</td>\n",
       "    </tr>\n",
       "    <tr>\n",
       "      <th>30</th>\n",
       "      <td>1</td>\n",
       "      <td>335581.668515</td>\n",
       "      <td>62</td>\n",
       "      <td>среднее</td>\n",
       "      <td>1</td>\n",
       "      <td>женат / замужем</td>\n",
       "      <td>0</td>\n",
       "      <td>F</td>\n",
       "      <td>пенсионер</td>\n",
       "      <td>0</td>\n",
       "      <td>171456.067993</td>\n",
       "      <td>операции с коммерческой недвижимостью</td>\n",
       "    </tr>\n",
       "    <tr>\n",
       "      <th>35</th>\n",
       "      <td>0</td>\n",
       "      <td>394021.072184</td>\n",
       "      <td>68</td>\n",
       "      <td>среднее</td>\n",
       "      <td>1</td>\n",
       "      <td>гражданский брак</td>\n",
       "      <td>1</td>\n",
       "      <td>M</td>\n",
       "      <td>пенсионер</td>\n",
       "      <td>0</td>\n",
       "      <td>77805.677436</td>\n",
       "      <td>на проведение свадьбы</td>\n",
       "    </tr>\n",
       "    <tr>\n",
       "      <th>50</th>\n",
       "      <td>0</td>\n",
       "      <td>353731.432338</td>\n",
       "      <td>63</td>\n",
       "      <td>среднее</td>\n",
       "      <td>1</td>\n",
       "      <td>женат / замужем</td>\n",
       "      <td>0</td>\n",
       "      <td>F</td>\n",
       "      <td>пенсионер</td>\n",
       "      <td>0</td>\n",
       "      <td>92342.730612</td>\n",
       "      <td>автомобили</td>\n",
       "    </tr>\n",
       "    <tr>\n",
       "      <th>56</th>\n",
       "      <td>0</td>\n",
       "      <td>370145.087237</td>\n",
       "      <td>64</td>\n",
       "      <td>среднее</td>\n",
       "      <td>1</td>\n",
       "      <td>вдовец / вдова</td>\n",
       "      <td>2</td>\n",
       "      <td>F</td>\n",
       "      <td>пенсионер</td>\n",
       "      <td>0</td>\n",
       "      <td>149141.043533</td>\n",
       "      <td>образование</td>\n",
       "    </tr>\n",
       "    <tr>\n",
       "      <th>71</th>\n",
       "      <td>0</td>\n",
       "      <td>338113.529892</td>\n",
       "      <td>62</td>\n",
       "      <td>среднее</td>\n",
       "      <td>1</td>\n",
       "      <td>женат / замужем</td>\n",
       "      <td>0</td>\n",
       "      <td>F</td>\n",
       "      <td>пенсионер</td>\n",
       "      <td>0</td>\n",
       "      <td>43929.696397</td>\n",
       "      <td>автомобили</td>\n",
       "    </tr>\n",
       "    <tr>\n",
       "      <th>78</th>\n",
       "      <td>0</td>\n",
       "      <td>359722.945074</td>\n",
       "      <td>61</td>\n",
       "      <td>высшее</td>\n",
       "      <td>0</td>\n",
       "      <td>женат / замужем</td>\n",
       "      <td>0</td>\n",
       "      <td>M</td>\n",
       "      <td>пенсионер</td>\n",
       "      <td>0</td>\n",
       "      <td>175127.646000</td>\n",
       "      <td>сделка с автомобилем</td>\n",
       "    </tr>\n",
       "  </tbody>\n",
       "</table>\n",
       "</div>"
      ],
      "text/plain": [
       "   children  days_employed  dob_years education  education_id  \\\n",
       "4         0  340266.072047         53   среднее             1   \n",
       "18        0  400281.136913         53   среднее             1   \n",
       "24        1  338551.952911         57   среднее             1   \n",
       "25        0  363548.489348         67   среднее             1   \n",
       "30        1  335581.668515         62   среднее             1   \n",
       "35        0  394021.072184         68   среднее             1   \n",
       "50        0  353731.432338         63   среднее             1   \n",
       "56        0  370145.087237         64   среднее             1   \n",
       "71        0  338113.529892         62   среднее             1   \n",
       "78        0  359722.945074         61    высшее             0   \n",
       "\n",
       "            family_status  family_status_id gender income_type  debt  \\\n",
       "4        гражданский брак                 1      F   пенсионер     0   \n",
       "18         вдовец / вдова                 2      F   пенсионер     0   \n",
       "24  Не женат / не замужем                 4      F   пенсионер     0   \n",
       "25        женат / замужем                 0      M   пенсионер     0   \n",
       "30        женат / замужем                 0      F   пенсионер     0   \n",
       "35       гражданский брак                 1      M   пенсионер     0   \n",
       "50        женат / замужем                 0      F   пенсионер     0   \n",
       "56         вдовец / вдова                 2      F   пенсионер     0   \n",
       "71        женат / замужем                 0      F   пенсионер     0   \n",
       "78        женат / замужем                 0      M   пенсионер     0   \n",
       "\n",
       "     total_income                                purpose  \n",
       "4   158616.077870                        сыграть свадьбу  \n",
       "18   56823.777243     на покупку подержанного автомобиля  \n",
       "24  290547.235997  операции с коммерческой недвижимостью  \n",
       "25   55112.757732                   покупка недвижимости  \n",
       "30  171456.067993  операции с коммерческой недвижимостью  \n",
       "35   77805.677436                  на проведение свадьбы  \n",
       "50   92342.730612                             автомобили  \n",
       "56  149141.043533                            образование  \n",
       "71   43929.696397                             автомобили  \n",
       "78  175127.646000                   сделка с автомобилем  "
      ]
     },
     "execution_count": 16,
     "metadata": {},
     "output_type": "execute_result"
    }
   ],
   "source": [
    "solvency_positive.head(10)"
   ]
  },
  {
   "cell_type": "markdown",
   "id": "6171d03a",
   "metadata": {},
   "source": [
    "Во всех выведенных 10 строках таблицы с положительными значениями стажа одно и то же значение в столбце `income_type` — 'пенсионер'. Проверим, какие ещё типы занятости встречаются в этой таблице."
   ]
  },
  {
   "cell_type": "code",
   "execution_count": 17,
   "id": "9abeed5b",
   "metadata": {},
   "outputs": [
    {
     "data": {
      "text/plain": [
       "array(['пенсионер', 'безработный'], dtype=object)"
      ]
     },
     "execution_count": 17,
     "metadata": {},
     "output_type": "execute_result"
    }
   ],
   "source": [
    "solvency_positive['income_type'].unique()"
   ]
  },
  {
   "cell_type": "markdown",
   "id": "1f24fef9",
   "metadata": {},
   "source": [
    "Теперь выясним, встречаются ли безработные и пенсионеры, чей стаж отрицательный."
   ]
  },
  {
   "cell_type": "code",
   "execution_count": 18,
   "id": "1caab562",
   "metadata": {},
   "outputs": [
    {
     "name": "stdout",
     "output_type": "stream",
     "text": [
      "Количество пенсионеров с отрицательным стажем: 0\n",
      "Количество безработных с отрицательным стажем: 0\n"
     ]
    }
   ],
   "source": [
    "print('Количество пенсионеров с отрицательным стажем:',\n",
    "      solvency_negative[solvency_negative['income_type'] == 'пенсионер']['income_type'].count()\n",
    "     )\n",
    "print('Количество безработных с отрицательным стажем:',\n",
    "      solvency_negative[solvency_negative['income_type'] == 'безработный']['income_type'].count()\n",
    "     )"
   ]
  },
  {
   "cell_type": "markdown",
   "id": "4f2d6e49",
   "metadata": {},
   "source": [
    "Таким образом, *аномально большой стаж всегда связан с типом занятости клиента*. Если стаж аномально велик, то клиент — пенсионер или безработный. Верна и обратная логика: если клиент — безработный или пенсионер, то его стаж будет аномально велик. На этом основании можно с высокой долей уверенности утверждать, что аномально большие значения стажа связаны с *ошибками в процедуре расчёта его длительности для пенсионеров и безработных*.\n",
    "\n",
    "Кажется, сбой возникает на этапе формирования выгрузки. Это предположение основано на тех же утверждениях, что и в случае с [пропусками](#omissions_reason).\n",
    "\n",
    "Есть впечатление, что ошибка состоит в том, что длительность стажа приведена в часах, а не в днях. Проверим эту гипотезу. Сначала разделим *минимальное* положительное значение стажа на (365*24). Если гипотеза верна, то таким образом мы получим величину стажа в годах. "
   ]
  },
  {
   "cell_type": "code",
   "execution_count": 19,
   "id": "14cf08ff",
   "metadata": {},
   "outputs": [
    {
     "data": {
      "text/plain": [
       "37.52610965810502"
      ]
     },
     "execution_count": 19,
     "metadata": {},
     "output_type": "execute_result"
    }
   ],
   "source": [
    "min_positive_employed / (365*24)"
   ]
  },
  {
   "cell_type": "markdown",
   "id": "4d1e49d6",
   "metadata": {},
   "source": [
    "37,5 лет — вполне возможная длительность стажа. Теперь следует проверить, нет ли в таблице `solvency_positive` клиентов моложе 37,5 лет. Если такие есть, то гипотеза не верна: превышание стажа над возрастом невозможно."
   ]
  },
  {
   "cell_type": "code",
   "execution_count": 20,
   "id": "d46fcc47",
   "metadata": {},
   "outputs": [
    {
     "name": "stdout",
     "output_type": "stream",
     "text": [
      "Количество клиентов, чей возраст меньше минимального стажа: 25\n"
     ]
    }
   ],
   "source": [
    "younger_than_employed = solvency_positive[(solvency_positive['dob_years'] > 0) & (solvency_positive['dob_years'] < min_positive_employed / (365*24))]['dob_years'].count()\n",
    "print(f'Количество клиентов, чей возраст меньше минимального стажа: {younger_than_employed}')"
   ]
  },
  {
   "cell_type": "markdown",
   "id": "33ba8550",
   "metadata": {},
   "source": [
    "Гипотеза о том, что аномально большие значения стажа выражены в часах, оказалась неверна.\n",
    "\n",
    "Теперь узнаем, какую долю составляют строки с аномально большими значениями стажа среди всех строк, у которых в столбце `days_employed` не стоит пропуск. Делитель рассчитаем при помощи метода `count()` — он по умолчанию считает только непустые строки."
   ]
  },
  {
   "cell_type": "code",
   "execution_count": 21,
   "id": "7c29d9e9",
   "metadata": {},
   "outputs": [
    {
     "name": "stdout",
     "output_type": "stream",
     "text": [
      "Доля непустых строк с отрицательным значением стажа: 17.8%\n"
     ]
    }
   ],
   "source": [
    "positive_lines_share = solvency[solvency['days_employed'] > 0]['days_employed'].count() / solvency['days_employed'].count()\n",
    "\n",
    "print(f'Доля непустых строк с отрицательным значением стажа: {positive_lines_share:.1%}')"
   ]
  },
  {
   "cell_type": "markdown",
   "id": "03d74e12",
   "metadata": {},
   "source": [
    "Аномально большие значения составляют более 17% всех непустых строк в столбце стажа. Удалять их не стоит, иначе будет потеряно много данных. Кроме того, значение стажа не актуально в контексте задачи по оценке влияния семейного положения и количества детей на кредитоспособность. Поэтому мы можем смело заменить аномально большие значения на медиану по столбцу `days_employed` (о причине использования медианы, а не средней арифметической, говорилось [выше](#median_usage))."
   ]
  },
  {
   "cell_type": "markdown",
   "id": "cd838015",
   "metadata": {},
   "source": [
    "Теперь разберёмся с отрицательными значениями стажа. Как мы могли видеть [ранее](#biggest_negative), аномально больших значений по модулю среди них нет.\n",
    "\n",
    "Скорее всего, отрицательные значения возникли из-за того, что в формуле для их расчёта перепутаны местами уменьшаемое и вычитаемое: на месте уменьшаемого стоит более ранняя дата (если стаж не прерывался, то это будет дата начала стажа), а на месте вычитаемого — более поздняя дата (если стаж не прерывался, то это всегда будет дата обращения клиента в банк).\n",
    "\n",
    "Выходит, с отрицательными значениями стажа не связано никаких аномалий, кроме собственно отрицательности. Чтобы привести их к приемлемому формату, можно просто убрать знак минус перед каждым из значений. Сделаем это, умножив все отрицательные значения в столбце `days_employed` на (-1). "
   ]
  },
  {
   "cell_type": "code",
   "execution_count": 22,
   "id": "8292042f",
   "metadata": {},
   "outputs": [],
   "source": [
    "solvency.loc[solvency['days_employed'] < 0, 'days_employed'] =  solvency[solvency['days_employed'] < 0]['days_employed']*(-1)"
   ]
  },
  {
   "cell_type": "markdown",
   "id": "d037be23",
   "metadata": {},
   "source": [
    "Теперь можно рассчитать медиану по столбцу стажа. Аномально большие значения мы исключим из расчёта."
   ]
  },
  {
   "cell_type": "code",
   "execution_count": 23,
   "id": "4c0b35e4",
   "metadata": {},
   "outputs": [
    {
     "data": {
      "text/html": [
       "<div>\n",
       "<style scoped>\n",
       "    .dataframe tbody tr th:only-of-type {\n",
       "        vertical-align: middle;\n",
       "    }\n",
       "\n",
       "    .dataframe tbody tr th {\n",
       "        vertical-align: top;\n",
       "    }\n",
       "\n",
       "    .dataframe thead th {\n",
       "        text-align: right;\n",
       "    }\n",
       "</style>\n",
       "<table border=\"1\" class=\"dataframe\">\n",
       "  <thead>\n",
       "    <tr style=\"text-align: right;\">\n",
       "      <th></th>\n",
       "      <th>children</th>\n",
       "      <th>days_employed</th>\n",
       "      <th>dob_years</th>\n",
       "      <th>education</th>\n",
       "      <th>education_id</th>\n",
       "      <th>family_status</th>\n",
       "      <th>family_status_id</th>\n",
       "      <th>gender</th>\n",
       "      <th>income_type</th>\n",
       "      <th>debt</th>\n",
       "      <th>total_income</th>\n",
       "      <th>purpose</th>\n",
       "    </tr>\n",
       "  </thead>\n",
       "  <tbody>\n",
       "    <tr>\n",
       "      <th>12</th>\n",
       "      <td>0</td>\n",
       "      <td>NaN</td>\n",
       "      <td>65</td>\n",
       "      <td>среднее</td>\n",
       "      <td>1</td>\n",
       "      <td>гражданский брак</td>\n",
       "      <td>1</td>\n",
       "      <td>M</td>\n",
       "      <td>пенсионер</td>\n",
       "      <td>0</td>\n",
       "      <td>145017.937533</td>\n",
       "      <td>сыграть свадьбу</td>\n",
       "    </tr>\n",
       "    <tr>\n",
       "      <th>26</th>\n",
       "      <td>0</td>\n",
       "      <td>NaN</td>\n",
       "      <td>41</td>\n",
       "      <td>среднее</td>\n",
       "      <td>1</td>\n",
       "      <td>женат / замужем</td>\n",
       "      <td>0</td>\n",
       "      <td>M</td>\n",
       "      <td>госслужащий</td>\n",
       "      <td>0</td>\n",
       "      <td>145017.937533</td>\n",
       "      <td>образование</td>\n",
       "    </tr>\n",
       "    <tr>\n",
       "      <th>29</th>\n",
       "      <td>0</td>\n",
       "      <td>NaN</td>\n",
       "      <td>63</td>\n",
       "      <td>среднее</td>\n",
       "      <td>1</td>\n",
       "      <td>Не женат / не замужем</td>\n",
       "      <td>4</td>\n",
       "      <td>F</td>\n",
       "      <td>пенсионер</td>\n",
       "      <td>0</td>\n",
       "      <td>145017.937533</td>\n",
       "      <td>строительство жилой недвижимости</td>\n",
       "    </tr>\n",
       "    <tr>\n",
       "      <th>41</th>\n",
       "      <td>0</td>\n",
       "      <td>NaN</td>\n",
       "      <td>50</td>\n",
       "      <td>среднее</td>\n",
       "      <td>1</td>\n",
       "      <td>женат / замужем</td>\n",
       "      <td>0</td>\n",
       "      <td>F</td>\n",
       "      <td>госслужащий</td>\n",
       "      <td>0</td>\n",
       "      <td>145017.937533</td>\n",
       "      <td>сделка с подержанным автомобилем</td>\n",
       "    </tr>\n",
       "    <tr>\n",
       "      <th>55</th>\n",
       "      <td>0</td>\n",
       "      <td>NaN</td>\n",
       "      <td>54</td>\n",
       "      <td>среднее</td>\n",
       "      <td>1</td>\n",
       "      <td>гражданский брак</td>\n",
       "      <td>1</td>\n",
       "      <td>F</td>\n",
       "      <td>пенсионер</td>\n",
       "      <td>1</td>\n",
       "      <td>145017.937533</td>\n",
       "      <td>сыграть свадьбу</td>\n",
       "    </tr>\n",
       "  </tbody>\n",
       "</table>\n",
       "</div>"
      ],
      "text/plain": [
       "   children  days_employed  dob_years education  education_id  \\\n",
       "12        0            NaN         65   среднее             1   \n",
       "26        0            NaN         41   среднее             1   \n",
       "29        0            NaN         63   среднее             1   \n",
       "41        0            NaN         50   среднее             1   \n",
       "55        0            NaN         54   среднее             1   \n",
       "\n",
       "            family_status  family_status_id gender  income_type  debt  \\\n",
       "12       гражданский брак                 1      M    пенсионер     0   \n",
       "26        женат / замужем                 0      M  госслужащий     0   \n",
       "29  Не женат / не замужем                 4      F    пенсионер     0   \n",
       "41        женат / замужем                 0      F  госслужащий     0   \n",
       "55       гражданский брак                 1      F    пенсионер     1   \n",
       "\n",
       "     total_income                           purpose  \n",
       "12  145017.937533                   сыграть свадьбу  \n",
       "26  145017.937533                       образование  \n",
       "29  145017.937533  строительство жилой недвижимости  \n",
       "41  145017.937533  сделка с подержанным автомобилем  \n",
       "55  145017.937533                   сыграть свадьбу  "
      ]
     },
     "execution_count": 23,
     "metadata": {},
     "output_type": "execute_result"
    }
   ],
   "source": [
    "test_df = solvency[solvency['days_employed'].isna()][:5]\n",
    "test_df"
   ]
  },
  {
   "cell_type": "code",
   "execution_count": 24,
   "id": "c15d55f6",
   "metadata": {},
   "outputs": [
    {
     "name": "stdout",
     "output_type": "stream",
     "text": [
      "1015.3954505009738\n"
     ]
    },
    {
     "data": {
      "text/plain": [
       "12    2164.341489\n",
       "26    2164.341489\n",
       "29    2164.341489\n",
       "41    2164.341489\n",
       "55    2164.341489\n",
       "dtype: float64"
      ]
     },
     "metadata": {},
     "output_type": "display_data"
    }
   ],
   "source": [
    "import numpy as np\n",
    "import math\n",
    "\n",
    "age1 = 0\n",
    "age2 = 30\n",
    "\n",
    "print(solvency[(\n",
    "            solvency['dob_years'] >= age1\n",
    "        ) & (\n",
    "            solvency['dob_years'] < age2\n",
    "        )]['days_employed'].median())\n",
    "\n",
    "def median_days_employed(row, age1, age2):\n",
    "    if age1 <= row['dob_years'] < age2 and math.isnan(row['days_employed']):\n",
    "        return solvency[(\n",
    "            solvency['dob_years'] >= age1\n",
    "        ) & (\n",
    "            solvency['dob_years'] < age2\n",
    "        )]['days_employed'].median()\n",
    "    return row['days_employed']\n",
    "\n",
    "\n",
    "    \n",
    "\n",
    "display(test_df.apply(median_days_employed, axis=1, age1=0, age2=70)) "
   ]
  },
  {
   "cell_type": "code",
   "execution_count": 25,
   "id": "3e141019",
   "metadata": {},
   "outputs": [
    {
     "data": {
      "text/plain": [
       "True"
      ]
     },
     "execution_count": 25,
     "metadata": {},
     "output_type": "execute_result"
    }
   ],
   "source": [
    "math.isnan(test_df.loc[12,'days_employed'])"
   ]
  },
  {
   "cell_type": "code",
   "execution_count": 26,
   "id": "fb96ba45",
   "metadata": {},
   "outputs": [
    {
     "data": {
      "text/plain": [
       "1630.0408997010547"
      ]
     },
     "execution_count": 26,
     "metadata": {},
     "output_type": "execute_result"
    }
   ],
   "source": [
    "days_employed_median = solvency[solvency['days_employed'] < min_positive_employed]['days_employed'].median()\n",
    "days_employed_median"
   ]
  },
  {
   "cell_type": "markdown",
   "id": "97c50fb7",
   "metadata": {},
   "source": [
    "Заменим медианой пропуски и аномально большие значения в столбце `days_employed`. Значение `min_positive_employed` приведём к целым числам, чтобы не возникали проблемы с невключением граничного значения, вызванные округлениями при его [расчёте](#min_positive_calc)."
   ]
  },
  {
   "cell_type": "code",
   "execution_count": 27,
   "id": "7ce4d576",
   "metadata": {},
   "outputs": [],
   "source": [
    "solvency.loc[:, 'days_employed'] = solvency['days_employed'].fillna(days_employed_median)\n",
    "solvency.loc[solvency['days_employed'] >= int(min_positive_employed), 'days_employed'] = days_employed_median"
   ]
  },
  {
   "cell_type": "markdown",
   "id": "fce4e499",
   "metadata": {},
   "source": [
    "Проверим, успешно ли устранены пропуски."
   ]
  },
  {
   "cell_type": "code",
   "execution_count": 28,
   "id": "2a089912",
   "metadata": {},
   "outputs": [
    {
     "name": "stdout",
     "output_type": "stream",
     "text": [
      "<class 'pandas.core.frame.DataFrame'>\n",
      "RangeIndex: 21525 entries, 0 to 21524\n",
      "Data columns (total 12 columns):\n",
      " #   Column            Non-Null Count  Dtype  \n",
      "---  ------            --------------  -----  \n",
      " 0   children          21525 non-null  object \n",
      " 1   days_employed     21525 non-null  float64\n",
      " 2   dob_years         21525 non-null  int64  \n",
      " 3   education         21525 non-null  object \n",
      " 4   education_id      21525 non-null  int64  \n",
      " 5   family_status     21525 non-null  object \n",
      " 6   family_status_id  21525 non-null  int64  \n",
      " 7   gender            21525 non-null  object \n",
      " 8   income_type       21525 non-null  object \n",
      " 9   debt              21525 non-null  int64  \n",
      " 10  total_income      21525 non-null  float64\n",
      " 11  purpose           21525 non-null  object \n",
      "dtypes: float64(2), int64(4), object(6)\n",
      "memory usage: 2.0+ MB\n"
     ]
    }
   ],
   "source": [
    "solvency.info()"
   ]
  },
  {
   "cell_type": "markdown",
   "id": "ad779a7f",
   "metadata": {},
   "source": [
    "Пропусков в таблице больше нет. Теперь выведем 5 наибольших значения в столбце и 5 наименьших значений по столбцу `days_employed`, чтобы проверить, успешно ли из него устранены артефакты. "
   ]
  },
  {
   "cell_type": "code",
   "execution_count": 29,
   "id": "ae476d01",
   "metadata": {},
   "outputs": [
    {
     "data": {
      "text/plain": [
       "16335    18388.949901\n",
       "4299     17615.563266\n",
       "7329     16593.472817\n",
       "17838    16264.699501\n",
       "16825    16119.687737\n",
       "Name: days_employed, dtype: float64"
      ]
     },
     "metadata": {},
     "output_type": "display_data"
    },
    {
     "data": {
      "text/plain": [
       "2127     34.701045\n",
       "9683     33.520665\n",
       "6157     30.195337\n",
       "8336     24.240695\n",
       "17437    24.141633\n",
       "Name: days_employed, dtype: float64"
      ]
     },
     "metadata": {},
     "output_type": "display_data"
    }
   ],
   "source": [
    "display(solvency['days_employed'].sort_values(ascending=False).head())\n",
    "display(solvency['days_employed'].sort_values(ascending=False).tail())"
   ]
  },
  {
   "cell_type": "markdown",
   "id": "4283e3fc",
   "metadata": {},
   "source": [
    "Артефакты в столбце `days_employed` устранены успешно.\n",
    "\n",
    "**Обработка артефактов в целочисленных столбцах**\n",
    "\n",
    "Целочисленные столбцы — это `education_id`, `family_status_id`, `debt` и `dob_years`.\n",
    "\n",
    "Сначала проверим, есть ли артефакты в столбцах с предположительно малым разнообразием значений. Выведем на экран уникальные значения столбцов `education_id`, `family_status_id` и `debt`."
   ]
  },
  {
   "cell_type": "code",
   "execution_count": 30,
   "id": "ba949f30",
   "metadata": {},
   "outputs": [
    {
     "name": "stdout",
     "output_type": "stream",
     "text": [
      "Уникальные значения в столбце education_id: [0 1 2 3 4]\n",
      "Уникальные значения в столбце family_status_id: [0 1 2 3 4]\n",
      "Уникальные значения в столбце debt: [0 1]\n"
     ]
    }
   ],
   "source": [
    "print('Уникальные значения в столбце education_id:', solvency['education_id'].unique())\n",
    "print('Уникальные значения в столбце family_status_id:', solvency['family_status_id'].unique())\n",
    "print('Уникальные значения в столбце debt:', solvency['debt'].unique())"
   ]
  },
  {
   "cell_type": "markdown",
   "id": "6731915b",
   "metadata": {},
   "source": [
    "В этих столбцах артефактов нет.\n",
    "\n",
    "Теперь посмотрим 5 первых значений из столбца возраста, отсортированного по убыванию. "
   ]
  },
  {
   "cell_type": "code",
   "execution_count": 31,
   "id": "03602bd1",
   "metadata": {},
   "outputs": [
    {
     "data": {
      "text/plain": [
       "8880     75\n",
       "4895     74\n",
       "2557     74\n",
       "3460     74\n",
       "12317    74\n",
       "Name: dob_years, dtype: int64"
      ]
     },
     "execution_count": 31,
     "metadata": {},
     "output_type": "execute_result"
    }
   ],
   "source": [
    "solvency['dob_years'].sort_values(ascending=False).head()"
   ]
  },
  {
   "cell_type": "markdown",
   "id": "cd30b352",
   "metadata": {},
   "source": [
    "Выведем 5 последних значений из того же столбца."
   ]
  },
  {
   "cell_type": "code",
   "execution_count": 32,
   "id": "9418d975",
   "metadata": {},
   "outputs": [
    {
     "data": {
      "text/plain": [
       "578      0\n",
       "8672     0\n",
       "2469     0\n",
       "1890     0\n",
       "14514    0\n",
       "Name: dob_years, dtype: int64"
      ]
     },
     "execution_count": 32,
     "metadata": {},
     "output_type": "execute_result"
    }
   ],
   "source": [
    "solvency['dob_years'].sort_values(ascending=False).tail()"
   ]
  },
  {
   "cell_type": "markdown",
   "id": "8b74b7d6",
   "metadata": {},
   "source": [
    "0 лет — явно некорректное значение возраста. Посмотрим, есть ли в этом столбце ещё значения, которые меньше 18 лет (именно с этого возраста в России можно брать кредит), и сколько раз они встречаются."
   ]
  },
  {
   "cell_type": "code",
   "execution_count": 33,
   "id": "d907f8f3",
   "metadata": {},
   "outputs": [
    {
     "data": {
      "text/plain": [
       "0    101\n",
       "Name: dob_years, dtype: int64"
      ]
     },
     "execution_count": 33,
     "metadata": {},
     "output_type": "execute_result"
    }
   ],
   "source": [
    "solvency[solvency['dob_years'] < 18]['dob_years'].value_counts()"
   ]
  },
  {
   "cell_type": "markdown",
   "id": "c006deee",
   "metadata": {},
   "source": [
    "Получается, в столбце `dob_years` присутствует только один вид некорректных значений — нули. Посмотрим, нет ли закономерности в появлении нуля в столбце возраста. Для этого выведем на экран первые 10 строк, в которых значение возраста — 0."
   ]
  },
  {
   "cell_type": "code",
   "execution_count": 34,
   "id": "187a456c",
   "metadata": {},
   "outputs": [
    {
     "data": {
      "text/html": [
       "<div>\n",
       "<style scoped>\n",
       "    .dataframe tbody tr th:only-of-type {\n",
       "        vertical-align: middle;\n",
       "    }\n",
       "\n",
       "    .dataframe tbody tr th {\n",
       "        vertical-align: top;\n",
       "    }\n",
       "\n",
       "    .dataframe thead th {\n",
       "        text-align: right;\n",
       "    }\n",
       "</style>\n",
       "<table border=\"1\" class=\"dataframe\">\n",
       "  <thead>\n",
       "    <tr style=\"text-align: right;\">\n",
       "      <th></th>\n",
       "      <th>children</th>\n",
       "      <th>days_employed</th>\n",
       "      <th>dob_years</th>\n",
       "      <th>education</th>\n",
       "      <th>education_id</th>\n",
       "      <th>family_status</th>\n",
       "      <th>family_status_id</th>\n",
       "      <th>gender</th>\n",
       "      <th>income_type</th>\n",
       "      <th>debt</th>\n",
       "      <th>total_income</th>\n",
       "      <th>purpose</th>\n",
       "    </tr>\n",
       "  </thead>\n",
       "  <tbody>\n",
       "    <tr>\n",
       "      <th>99</th>\n",
       "      <td>0</td>\n",
       "      <td>1630.040900</td>\n",
       "      <td>0</td>\n",
       "      <td>Среднее</td>\n",
       "      <td>1</td>\n",
       "      <td>женат / замужем</td>\n",
       "      <td>0</td>\n",
       "      <td>F</td>\n",
       "      <td>пенсионер</td>\n",
       "      <td>0</td>\n",
       "      <td>71291.522491</td>\n",
       "      <td>автомобиль</td>\n",
       "    </tr>\n",
       "    <tr>\n",
       "      <th>149</th>\n",
       "      <td>0</td>\n",
       "      <td>2664.273168</td>\n",
       "      <td>0</td>\n",
       "      <td>среднее</td>\n",
       "      <td>1</td>\n",
       "      <td>в разводе</td>\n",
       "      <td>3</td>\n",
       "      <td>F</td>\n",
       "      <td>сотрудник</td>\n",
       "      <td>0</td>\n",
       "      <td>70176.435951</td>\n",
       "      <td>операции с жильем</td>\n",
       "    </tr>\n",
       "    <tr>\n",
       "      <th>270</th>\n",
       "      <td>3</td>\n",
       "      <td>1872.663186</td>\n",
       "      <td>0</td>\n",
       "      <td>среднее</td>\n",
       "      <td>1</td>\n",
       "      <td>женат / замужем</td>\n",
       "      <td>0</td>\n",
       "      <td>F</td>\n",
       "      <td>сотрудник</td>\n",
       "      <td>0</td>\n",
       "      <td>102166.458894</td>\n",
       "      <td>ремонт жилью</td>\n",
       "    </tr>\n",
       "    <tr>\n",
       "      <th>578</th>\n",
       "      <td>0</td>\n",
       "      <td>1630.040900</td>\n",
       "      <td>0</td>\n",
       "      <td>среднее</td>\n",
       "      <td>1</td>\n",
       "      <td>женат / замужем</td>\n",
       "      <td>0</td>\n",
       "      <td>F</td>\n",
       "      <td>пенсионер</td>\n",
       "      <td>0</td>\n",
       "      <td>97620.687042</td>\n",
       "      <td>строительство собственной недвижимости</td>\n",
       "    </tr>\n",
       "    <tr>\n",
       "      <th>1040</th>\n",
       "      <td>0</td>\n",
       "      <td>1158.029561</td>\n",
       "      <td>0</td>\n",
       "      <td>высшее</td>\n",
       "      <td>0</td>\n",
       "      <td>в разводе</td>\n",
       "      <td>3</td>\n",
       "      <td>F</td>\n",
       "      <td>компаньон</td>\n",
       "      <td>0</td>\n",
       "      <td>303994.134987</td>\n",
       "      <td>свой автомобиль</td>\n",
       "    </tr>\n",
       "    <tr>\n",
       "      <th>1149</th>\n",
       "      <td>0</td>\n",
       "      <td>934.654854</td>\n",
       "      <td>0</td>\n",
       "      <td>среднее</td>\n",
       "      <td>1</td>\n",
       "      <td>женат / замужем</td>\n",
       "      <td>0</td>\n",
       "      <td>F</td>\n",
       "      <td>компаньон</td>\n",
       "      <td>0</td>\n",
       "      <td>201852.430096</td>\n",
       "      <td>покупка недвижимости</td>\n",
       "    </tr>\n",
       "    <tr>\n",
       "      <th>1175</th>\n",
       "      <td>0</td>\n",
       "      <td>1630.040900</td>\n",
       "      <td>0</td>\n",
       "      <td>среднее</td>\n",
       "      <td>1</td>\n",
       "      <td>женат / замужем</td>\n",
       "      <td>0</td>\n",
       "      <td>F</td>\n",
       "      <td>пенсионер</td>\n",
       "      <td>0</td>\n",
       "      <td>313949.845188</td>\n",
       "      <td>получение дополнительного образования</td>\n",
       "    </tr>\n",
       "    <tr>\n",
       "      <th>1386</th>\n",
       "      <td>0</td>\n",
       "      <td>5043.219890</td>\n",
       "      <td>0</td>\n",
       "      <td>высшее</td>\n",
       "      <td>0</td>\n",
       "      <td>женат / замужем</td>\n",
       "      <td>0</td>\n",
       "      <td>M</td>\n",
       "      <td>госслужащий</td>\n",
       "      <td>0</td>\n",
       "      <td>240523.618071</td>\n",
       "      <td>сделка с автомобилем</td>\n",
       "    </tr>\n",
       "    <tr>\n",
       "      <th>1890</th>\n",
       "      <td>0</td>\n",
       "      <td>1630.040900</td>\n",
       "      <td>0</td>\n",
       "      <td>высшее</td>\n",
       "      <td>0</td>\n",
       "      <td>Не женат / не замужем</td>\n",
       "      <td>4</td>\n",
       "      <td>F</td>\n",
       "      <td>сотрудник</td>\n",
       "      <td>0</td>\n",
       "      <td>145017.937533</td>\n",
       "      <td>жилье</td>\n",
       "    </tr>\n",
       "    <tr>\n",
       "      <th>1898</th>\n",
       "      <td>0</td>\n",
       "      <td>1630.040900</td>\n",
       "      <td>0</td>\n",
       "      <td>среднее</td>\n",
       "      <td>1</td>\n",
       "      <td>вдовец / вдова</td>\n",
       "      <td>2</td>\n",
       "      <td>F</td>\n",
       "      <td>пенсионер</td>\n",
       "      <td>0</td>\n",
       "      <td>127400.268338</td>\n",
       "      <td>на покупку автомобиля</td>\n",
       "    </tr>\n",
       "  </tbody>\n",
       "</table>\n",
       "</div>"
      ],
      "text/plain": [
       "     children  days_employed  dob_years education  education_id  \\\n",
       "99          0    1630.040900          0   Среднее             1   \n",
       "149         0    2664.273168          0   среднее             1   \n",
       "270         3    1872.663186          0   среднее             1   \n",
       "578         0    1630.040900          0   среднее             1   \n",
       "1040        0    1158.029561          0    высшее             0   \n",
       "1149        0     934.654854          0   среднее             1   \n",
       "1175        0    1630.040900          0   среднее             1   \n",
       "1386        0    5043.219890          0    высшее             0   \n",
       "1890        0    1630.040900          0    высшее             0   \n",
       "1898        0    1630.040900          0   среднее             1   \n",
       "\n",
       "              family_status  family_status_id gender  income_type  debt  \\\n",
       "99          женат / замужем                 0      F    пенсионер     0   \n",
       "149               в разводе                 3      F    сотрудник     0   \n",
       "270         женат / замужем                 0      F    сотрудник     0   \n",
       "578         женат / замужем                 0      F    пенсионер     0   \n",
       "1040              в разводе                 3      F    компаньон     0   \n",
       "1149        женат / замужем                 0      F    компаньон     0   \n",
       "1175        женат / замужем                 0      F    пенсионер     0   \n",
       "1386        женат / замужем                 0      M  госслужащий     0   \n",
       "1890  Не женат / не замужем                 4      F    сотрудник     0   \n",
       "1898         вдовец / вдова                 2      F    пенсионер     0   \n",
       "\n",
       "       total_income                                 purpose  \n",
       "99     71291.522491                              автомобиль  \n",
       "149    70176.435951                       операции с жильем  \n",
       "270   102166.458894                            ремонт жилью  \n",
       "578    97620.687042  строительство собственной недвижимости  \n",
       "1040  303994.134987                         свой автомобиль  \n",
       "1149  201852.430096                    покупка недвижимости  \n",
       "1175  313949.845188   получение дополнительного образования  \n",
       "1386  240523.618071                    сделка с автомобилем  \n",
       "1890  145017.937533                                   жилье  \n",
       "1898  127400.268338                   на покупку автомобиля  "
      ]
     },
     "execution_count": 34,
     "metadata": {},
     "output_type": "execute_result"
    }
   ],
   "source": [
    "solvency[solvency['dob_years'] == 0].head(10)"
   ]
  },
  {
   "cell_type": "markdown",
   "id": "e7d3ba6a",
   "metadata": {},
   "source": [
    "Не просматривается никаких связей между нулевым возрастом и значениями в других столбцах соответствующих строк. Скорее всего, нули возникли в таблице из-за ошибки при вводе данных. Например, сотрудник банка мог просто забыть заполнить графу \"Возраст\". \n",
    "\n",
    "Строк, содержащих нули в столбце возраста, относительно немного, поэтому их удаление из таблицы не повлияет на качество данных. Удалим их, предварительно собрав соответствующие им индексы в переменную `dob_rows_to_drop_indeces`. Сразу же проверим, остались ли строки с нулевым значением возраста."
   ]
  },
  {
   "cell_type": "code",
   "execution_count": 35,
   "id": "534ee362",
   "metadata": {},
   "outputs": [
    {
     "name": "stdout",
     "output_type": "stream",
     "text": [
      "Количество строк с нулевым значением возраста: 0\n"
     ]
    }
   ],
   "source": [
    "dob_rows_to_drop_indeces = solvency.index[solvency['dob_years'] == 0].tolist()\n",
    "solvency = solvency.drop(labels=dob_rows_to_drop_indeces).reset_index(drop=True)\n",
    "print('Количество строк с нулевым значением возраста:', solvency[solvency['dob_years'] == 0]['dob_years'].count())"
   ]
  },
  {
   "cell_type": "markdown",
   "id": "aecc03f6",
   "metadata": {},
   "source": [
    "Артефакты в столбце `dob_years` успешно устранены."
   ]
  },
  {
   "cell_type": "markdown",
   "id": "8fa6a05c",
   "metadata": {},
   "source": [
    "**Обработка артефактов в строковых столбцах** <a id='unique_values_str'></a>\n",
    "\n",
    "Строковые столбцы — это `children`, `education`, `family_status`, `gender`, `income_type` и `purpose`. Выведем на экран списки их уникальных значений. "
   ]
  },
  {
   "cell_type": "code",
   "execution_count": 36,
   "id": "6f5b4a78",
   "metadata": {},
   "outputs": [
    {
     "name": "stdout",
     "output_type": "stream",
     "text": [
      "Уникальные значения в столбце children: ['1' '0' '3' '2' '−1' '4' '20' '5']\n",
      " ---------------------------------------------------------------------------------------------------- \n",
      "Уникальные значения в столбце education: ['высшее' 'среднее' 'Среднее' 'СРЕДНЕЕ' 'ВЫСШЕЕ' 'неоконченное высшее'\n",
      " 'начальное' 'Высшее' 'НЕОКОНЧЕННОЕ ВЫСШЕЕ' 'Неоконченное высшее'\n",
      " 'НАЧАЛЬНОЕ' 'Начальное' 'Ученая степень' 'УЧЕНАЯ СТЕПЕНЬ'\n",
      " 'ученая степень']\n",
      " ---------------------------------------------------------------------------------------------------- \n",
      "Уникальные значения в столбце family_status: ['женат / замужем' 'гражданский брак' 'вдовец / вдова' 'в разводе'\n",
      " 'Не женат / не замужем']\n",
      " ---------------------------------------------------------------------------------------------------- \n",
      "Уникальные значения в столбце gender: ['F' 'M' 'XNA']\n",
      " ---------------------------------------------------------------------------------------------------- \n",
      "Уникальные значения в столбце income_type: ['сотрудник' 'пенсионер' 'компаньон' 'госслужащий' 'безработный'\n",
      " 'предприниматель' 'студент' 'в декрете']\n",
      " ---------------------------------------------------------------------------------------------------- \n",
      "Уникальные значения в столбце purpose: ['покупка жилья' 'приобретение автомобиля' 'дополнительное образование'\n",
      " 'сыграть свадьбу' 'операции с жильем' 'образование'\n",
      " 'на проведение свадьбы' 'покупка жилья для семьи' 'покупка недвижимости'\n",
      " 'покупка коммерческой недвижимости' 'покупка жилой недвижимости'\n",
      " 'строительство собственной недвижимости' 'недвижимость'\n",
      " 'строительство недвижимости' 'на покупку подержанного автомобиля'\n",
      " 'на покупку своего автомобиля' 'операции с коммерческой недвижимостью'\n",
      " 'строительство жилой недвижимости' 'жилье'\n",
      " 'операции со своей недвижимостью' 'автомобили' 'заняться образованием'\n",
      " 'сделка с подержанным автомобилем' 'получение образования' 'автомобиль'\n",
      " 'свадьба' 'получение дополнительного образования' 'покупка своего жилья'\n",
      " 'операции с недвижимостью' 'получение высшего образования'\n",
      " 'свой автомобиль' 'сделка с автомобилем' 'профильное образование'\n",
      " 'высшее образование' 'покупка жилья для сдачи' 'на покупку автомобиля'\n",
      " 'ремонт жилью' 'заняться высшим образованием']\n"
     ]
    }
   ],
   "source": [
    "separator = '-'\n",
    "print('Уникальные значения в столбце children:', solvency['children'].unique(), end=f'\\n {separator*100} \\n')\n",
    "print('Уникальные значения в столбце education:', solvency['education'].unique(), end=f'\\n {separator*100} \\n')\n",
    "print('Уникальные значения в столбце family_status:', solvency['family_status'].unique(), end=f'\\n {separator*100} \\n')\n",
    "print('Уникальные значения в столбце gender:', solvency['gender'].unique(), end=f'\\n {separator*100} \\n')\n",
    "print('Уникальные значения в столбце income_type:', solvency['income_type'].unique(), end=f'\\n {separator*100} \\n')\n",
    "print('Уникальные значения в столбце purpose:', solvency['purpose'].unique())"
   ]
  },
  {
   "cell_type": "markdown",
   "id": "f2927302",
   "metadata": {},
   "source": [
    "Явные артефакты присутствуют только в столбце `children` — количество детей не может быть отрицательным. Также следует проверить значение 20 в столбце `children` и значение `XNA` в столбце `gender`.\n",
    "\n",
    "Для начала найдём количество строк, в которых столбец `children` имеет значение \"−1\"."
   ]
  },
  {
   "cell_type": "code",
   "execution_count": 37,
   "id": "482d2885",
   "metadata": {},
   "outputs": [
    {
     "name": "stdout",
     "output_type": "stream",
     "text": [
      "47\n"
     ]
    }
   ],
   "source": [
    "print(solvency[solvency['children'] == '−1']['children'].count())"
   ]
  },
  {
   "cell_type": "markdown",
   "id": "fd8f58db",
   "metadata": {},
   "source": [
    "Теперь просмотрим первые 15 строк с отрицательным числом в столбце `children`.  "
   ]
  },
  {
   "cell_type": "code",
   "execution_count": 38,
   "id": "13b0f84a",
   "metadata": {},
   "outputs": [
    {
     "data": {
      "text/html": [
       "<div>\n",
       "<style scoped>\n",
       "    .dataframe tbody tr th:only-of-type {\n",
       "        vertical-align: middle;\n",
       "    }\n",
       "\n",
       "    .dataframe tbody tr th {\n",
       "        vertical-align: top;\n",
       "    }\n",
       "\n",
       "    .dataframe thead th {\n",
       "        text-align: right;\n",
       "    }\n",
       "</style>\n",
       "<table border=\"1\" class=\"dataframe\">\n",
       "  <thead>\n",
       "    <tr style=\"text-align: right;\">\n",
       "      <th></th>\n",
       "      <th>children</th>\n",
       "      <th>days_employed</th>\n",
       "      <th>dob_years</th>\n",
       "      <th>education</th>\n",
       "      <th>education_id</th>\n",
       "      <th>family_status</th>\n",
       "      <th>family_status_id</th>\n",
       "      <th>gender</th>\n",
       "      <th>income_type</th>\n",
       "      <th>debt</th>\n",
       "      <th>total_income</th>\n",
       "      <th>purpose</th>\n",
       "    </tr>\n",
       "  </thead>\n",
       "  <tbody>\n",
       "    <tr>\n",
       "      <th>288</th>\n",
       "      <td>−1</td>\n",
       "      <td>4417.703588</td>\n",
       "      <td>46</td>\n",
       "      <td>среднее</td>\n",
       "      <td>1</td>\n",
       "      <td>гражданский брак</td>\n",
       "      <td>1</td>\n",
       "      <td>F</td>\n",
       "      <td>сотрудник</td>\n",
       "      <td>0</td>\n",
       "      <td>102816.346412</td>\n",
       "      <td>профильное образование</td>\n",
       "    </tr>\n",
       "    <tr>\n",
       "      <th>701</th>\n",
       "      <td>−1</td>\n",
       "      <td>902.084528</td>\n",
       "      <td>50</td>\n",
       "      <td>среднее</td>\n",
       "      <td>1</td>\n",
       "      <td>женат / замужем</td>\n",
       "      <td>0</td>\n",
       "      <td>F</td>\n",
       "      <td>госслужащий</td>\n",
       "      <td>0</td>\n",
       "      <td>137882.899271</td>\n",
       "      <td>приобретение автомобиля</td>\n",
       "    </tr>\n",
       "    <tr>\n",
       "      <th>738</th>\n",
       "      <td>−1</td>\n",
       "      <td>3174.456205</td>\n",
       "      <td>57</td>\n",
       "      <td>среднее</td>\n",
       "      <td>1</td>\n",
       "      <td>женат / замужем</td>\n",
       "      <td>0</td>\n",
       "      <td>F</td>\n",
       "      <td>сотрудник</td>\n",
       "      <td>0</td>\n",
       "      <td>64268.044444</td>\n",
       "      <td>дополнительное образование</td>\n",
       "    </tr>\n",
       "    <tr>\n",
       "      <th>796</th>\n",
       "      <td>−1</td>\n",
       "      <td>1630.040900</td>\n",
       "      <td>54</td>\n",
       "      <td>среднее</td>\n",
       "      <td>1</td>\n",
       "      <td>Не женат / не замужем</td>\n",
       "      <td>4</td>\n",
       "      <td>F</td>\n",
       "      <td>пенсионер</td>\n",
       "      <td>0</td>\n",
       "      <td>86293.724153</td>\n",
       "      <td>дополнительное образование</td>\n",
       "    </tr>\n",
       "    <tr>\n",
       "      <th>937</th>\n",
       "      <td>−1</td>\n",
       "      <td>1630.040900</td>\n",
       "      <td>57</td>\n",
       "      <td>Среднее</td>\n",
       "      <td>1</td>\n",
       "      <td>женат / замужем</td>\n",
       "      <td>0</td>\n",
       "      <td>F</td>\n",
       "      <td>пенсионер</td>\n",
       "      <td>0</td>\n",
       "      <td>145017.937533</td>\n",
       "      <td>на покупку своего автомобиля</td>\n",
       "    </tr>\n",
       "    <tr>\n",
       "      <th>1356</th>\n",
       "      <td>−1</td>\n",
       "      <td>1195.264956</td>\n",
       "      <td>55</td>\n",
       "      <td>СРЕДНЕЕ</td>\n",
       "      <td>1</td>\n",
       "      <td>женат / замужем</td>\n",
       "      <td>0</td>\n",
       "      <td>F</td>\n",
       "      <td>компаньон</td>\n",
       "      <td>0</td>\n",
       "      <td>69550.699692</td>\n",
       "      <td>профильное образование</td>\n",
       "    </tr>\n",
       "    <tr>\n",
       "      <th>1919</th>\n",
       "      <td>−1</td>\n",
       "      <td>1461.303336</td>\n",
       "      <td>38</td>\n",
       "      <td>среднее</td>\n",
       "      <td>1</td>\n",
       "      <td>Не женат / не замужем</td>\n",
       "      <td>4</td>\n",
       "      <td>M</td>\n",
       "      <td>сотрудник</td>\n",
       "      <td>0</td>\n",
       "      <td>109121.569013</td>\n",
       "      <td>покупка жилья</td>\n",
       "    </tr>\n",
       "    <tr>\n",
       "      <th>2063</th>\n",
       "      <td>−1</td>\n",
       "      <td>2539.761232</td>\n",
       "      <td>42</td>\n",
       "      <td>среднее</td>\n",
       "      <td>1</td>\n",
       "      <td>в разводе</td>\n",
       "      <td>3</td>\n",
       "      <td>F</td>\n",
       "      <td>компаньон</td>\n",
       "      <td>0</td>\n",
       "      <td>162638.609373</td>\n",
       "      <td>покупка жилья</td>\n",
       "    </tr>\n",
       "    <tr>\n",
       "      <th>3795</th>\n",
       "      <td>−1</td>\n",
       "      <td>3045.290443</td>\n",
       "      <td>26</td>\n",
       "      <td>Среднее</td>\n",
       "      <td>1</td>\n",
       "      <td>гражданский брак</td>\n",
       "      <td>1</td>\n",
       "      <td>F</td>\n",
       "      <td>госслужащий</td>\n",
       "      <td>0</td>\n",
       "      <td>131892.785435</td>\n",
       "      <td>на проведение свадьбы</td>\n",
       "    </tr>\n",
       "    <tr>\n",
       "      <th>4180</th>\n",
       "      <td>−1</td>\n",
       "      <td>901.101738</td>\n",
       "      <td>41</td>\n",
       "      <td>среднее</td>\n",
       "      <td>1</td>\n",
       "      <td>женат / замужем</td>\n",
       "      <td>0</td>\n",
       "      <td>F</td>\n",
       "      <td>госслужащий</td>\n",
       "      <td>0</td>\n",
       "      <td>226375.766751</td>\n",
       "      <td>операции со своей недвижимостью</td>\n",
       "    </tr>\n",
       "    <tr>\n",
       "      <th>4381</th>\n",
       "      <td>−1</td>\n",
       "      <td>1630.040900</td>\n",
       "      <td>64</td>\n",
       "      <td>СРЕДНЕЕ</td>\n",
       "      <td>1</td>\n",
       "      <td>женат / замужем</td>\n",
       "      <td>0</td>\n",
       "      <td>F</td>\n",
       "      <td>пенсионер</td>\n",
       "      <td>0</td>\n",
       "      <td>163264.062064</td>\n",
       "      <td>покупка недвижимости</td>\n",
       "    </tr>\n",
       "    <tr>\n",
       "      <th>4521</th>\n",
       "      <td>−1</td>\n",
       "      <td>1811.899756</td>\n",
       "      <td>32</td>\n",
       "      <td>среднее</td>\n",
       "      <td>1</td>\n",
       "      <td>женат / замужем</td>\n",
       "      <td>0</td>\n",
       "      <td>F</td>\n",
       "      <td>сотрудник</td>\n",
       "      <td>0</td>\n",
       "      <td>160544.718446</td>\n",
       "      <td>образование</td>\n",
       "    </tr>\n",
       "    <tr>\n",
       "      <th>5248</th>\n",
       "      <td>−1</td>\n",
       "      <td>1143.485347</td>\n",
       "      <td>46</td>\n",
       "      <td>среднее</td>\n",
       "      <td>1</td>\n",
       "      <td>вдовец / вдова</td>\n",
       "      <td>2</td>\n",
       "      <td>F</td>\n",
       "      <td>сотрудник</td>\n",
       "      <td>0</td>\n",
       "      <td>278708.018820</td>\n",
       "      <td>покупка недвижимости</td>\n",
       "    </tr>\n",
       "    <tr>\n",
       "      <th>5989</th>\n",
       "      <td>−1</td>\n",
       "      <td>1361.258696</td>\n",
       "      <td>46</td>\n",
       "      <td>высшее</td>\n",
       "      <td>0</td>\n",
       "      <td>женат / замужем</td>\n",
       "      <td>0</td>\n",
       "      <td>F</td>\n",
       "      <td>сотрудник</td>\n",
       "      <td>0</td>\n",
       "      <td>143008.454914</td>\n",
       "      <td>строительство собственной недвижимости</td>\n",
       "    </tr>\n",
       "    <tr>\n",
       "      <th>6360</th>\n",
       "      <td>−1</td>\n",
       "      <td>1630.040900</td>\n",
       "      <td>48</td>\n",
       "      <td>среднее</td>\n",
       "      <td>1</td>\n",
       "      <td>вдовец / вдова</td>\n",
       "      <td>2</td>\n",
       "      <td>F</td>\n",
       "      <td>пенсионер</td>\n",
       "      <td>0</td>\n",
       "      <td>36052.447435</td>\n",
       "      <td>образование</td>\n",
       "    </tr>\n",
       "  </tbody>\n",
       "</table>\n",
       "</div>"
      ],
      "text/plain": [
       "     children  days_employed  dob_years education  education_id  \\\n",
       "288        −1    4417.703588         46   среднее             1   \n",
       "701        −1     902.084528         50   среднее             1   \n",
       "738        −1    3174.456205         57   среднее             1   \n",
       "796        −1    1630.040900         54   среднее             1   \n",
       "937        −1    1630.040900         57   Среднее             1   \n",
       "1356       −1    1195.264956         55   СРЕДНЕЕ             1   \n",
       "1919       −1    1461.303336         38   среднее             1   \n",
       "2063       −1    2539.761232         42   среднее             1   \n",
       "3795       −1    3045.290443         26   Среднее             1   \n",
       "4180       −1     901.101738         41   среднее             1   \n",
       "4381       −1    1630.040900         64   СРЕДНЕЕ             1   \n",
       "4521       −1    1811.899756         32   среднее             1   \n",
       "5248       −1    1143.485347         46   среднее             1   \n",
       "5989       −1    1361.258696         46    высшее             0   \n",
       "6360       −1    1630.040900         48   среднее             1   \n",
       "\n",
       "              family_status  family_status_id gender  income_type  debt  \\\n",
       "288        гражданский брак                 1      F    сотрудник     0   \n",
       "701         женат / замужем                 0      F  госслужащий     0   \n",
       "738         женат / замужем                 0      F    сотрудник     0   \n",
       "796   Не женат / не замужем                 4      F    пенсионер     0   \n",
       "937         женат / замужем                 0      F    пенсионер     0   \n",
       "1356        женат / замужем                 0      F    компаньон     0   \n",
       "1919  Не женат / не замужем                 4      M    сотрудник     0   \n",
       "2063              в разводе                 3      F    компаньон     0   \n",
       "3795       гражданский брак                 1      F  госслужащий     0   \n",
       "4180        женат / замужем                 0      F  госслужащий     0   \n",
       "4381        женат / замужем                 0      F    пенсионер     0   \n",
       "4521        женат / замужем                 0      F    сотрудник     0   \n",
       "5248         вдовец / вдова                 2      F    сотрудник     0   \n",
       "5989        женат / замужем                 0      F    сотрудник     0   \n",
       "6360         вдовец / вдова                 2      F    пенсионер     0   \n",
       "\n",
       "       total_income                                 purpose  \n",
       "288   102816.346412                  профильное образование  \n",
       "701   137882.899271                 приобретение автомобиля  \n",
       "738    64268.044444              дополнительное образование  \n",
       "796    86293.724153              дополнительное образование  \n",
       "937   145017.937533            на покупку своего автомобиля  \n",
       "1356   69550.699692                  профильное образование  \n",
       "1919  109121.569013                           покупка жилья  \n",
       "2063  162638.609373                           покупка жилья  \n",
       "3795  131892.785435                   на проведение свадьбы  \n",
       "4180  226375.766751         операции со своей недвижимостью  \n",
       "4381  163264.062064                    покупка недвижимости  \n",
       "4521  160544.718446                             образование  \n",
       "5248  278708.018820                    покупка недвижимости  \n",
       "5989  143008.454914  строительство собственной недвижимости  \n",
       "6360   36052.447435                             образование  "
      ]
     },
     "execution_count": 38,
     "metadata": {},
     "output_type": "execute_result"
    }
   ],
   "source": [
    "solvency[solvency['children'] == '−1'].head(15)"
   ]
  },
  {
   "cell_type": "markdown",
   "id": "57dfdfce",
   "metadata": {},
   "source": [
    "Закономерностей в выведенных данных нет. Вероятно, `'−1'` в столбце `children` — это техническая ошибка. Её причиной мог послужить некорректный формат данных, введённых в базу (например, вместо ожидаемого числового значения в поле \"Количество детей\" сотрудник мог вписать слово \"нет\"), или же ошибка, возникшая при формировании выгрузки.\n",
    "\n",
    "Строк с `'−1'` в столбце `children` немного, поэтому их можно просто удалить. Сразу же проверим, прошло ли удаление успешно."
   ]
  },
  {
   "cell_type": "code",
   "execution_count": 39,
   "id": "578ed4ef",
   "metadata": {},
   "outputs": [
    {
     "name": "stdout",
     "output_type": "stream",
     "text": [
      "Количество строк с отрицательным числом детей: 0\n"
     ]
    }
   ],
   "source": [
    "children_rows_to_drop_indeces = solvency.index[solvency['children'] == '−1'].tolist()\n",
    "solvency = solvency.drop(labels=children_rows_to_drop_indeces).reset_index(drop=True)\n",
    "print('Количество строк с отрицательным числом детей:', solvency[solvency['children'] == '−1']['children'].count())"
   ]
  },
  {
   "cell_type": "markdown",
   "id": "4462219a",
   "metadata": {},
   "source": [
    "Проверим, не является ли ошибкой значение \"20\" в столбце `children`. Для этого посмотрим, в скольких строках встречается это значение."
   ]
  },
  {
   "cell_type": "code",
   "execution_count": 40,
   "id": "075aa915",
   "metadata": {},
   "outputs": [
    {
     "data": {
      "text/plain": [
       "75"
      ]
     },
     "execution_count": 40,
     "metadata": {},
     "output_type": "execute_result"
    }
   ],
   "source": [
    "solvency[solvency['children'] == '20']['children'].count()"
   ]
  },
  {
   "cell_type": "markdown",
   "id": "ded20763",
   "metadata": {},
   "source": [
    "Такое большое количество клиентов с 20 детьми маловероятно. Вообще 20 детей — это [рекордно](https://reestrrekordov.ru/samaja-mnogodetnaja-semja-rossii/) много, такие случаи единичны. Это явная ошибка. Чтобы попробовать найти её причину, выведем первые 10 строк, у которых в столбце `children` стоит `'20'`."
   ]
  },
  {
   "cell_type": "code",
   "execution_count": 41,
   "id": "24d59121",
   "metadata": {},
   "outputs": [
    {
     "data": {
      "text/html": [
       "<div>\n",
       "<style scoped>\n",
       "    .dataframe tbody tr th:only-of-type {\n",
       "        vertical-align: middle;\n",
       "    }\n",
       "\n",
       "    .dataframe tbody tr th {\n",
       "        vertical-align: top;\n",
       "    }\n",
       "\n",
       "    .dataframe thead th {\n",
       "        text-align: right;\n",
       "    }\n",
       "</style>\n",
       "<table border=\"1\" class=\"dataframe\">\n",
       "  <thead>\n",
       "    <tr style=\"text-align: right;\">\n",
       "      <th></th>\n",
       "      <th>children</th>\n",
       "      <th>days_employed</th>\n",
       "      <th>dob_years</th>\n",
       "      <th>education</th>\n",
       "      <th>education_id</th>\n",
       "      <th>family_status</th>\n",
       "      <th>family_status_id</th>\n",
       "      <th>gender</th>\n",
       "      <th>income_type</th>\n",
       "      <th>debt</th>\n",
       "      <th>total_income</th>\n",
       "      <th>purpose</th>\n",
       "    </tr>\n",
       "  </thead>\n",
       "  <tbody>\n",
       "    <tr>\n",
       "      <th>601</th>\n",
       "      <td>20</td>\n",
       "      <td>880.221113</td>\n",
       "      <td>21</td>\n",
       "      <td>среднее</td>\n",
       "      <td>1</td>\n",
       "      <td>женат / замужем</td>\n",
       "      <td>0</td>\n",
       "      <td>M</td>\n",
       "      <td>компаньон</td>\n",
       "      <td>0</td>\n",
       "      <td>145334.865002</td>\n",
       "      <td>покупка жилья</td>\n",
       "    </tr>\n",
       "    <tr>\n",
       "      <th>714</th>\n",
       "      <td>20</td>\n",
       "      <td>855.595512</td>\n",
       "      <td>44</td>\n",
       "      <td>среднее</td>\n",
       "      <td>1</td>\n",
       "      <td>женат / замужем</td>\n",
       "      <td>0</td>\n",
       "      <td>F</td>\n",
       "      <td>компаньон</td>\n",
       "      <td>0</td>\n",
       "      <td>112998.738649</td>\n",
       "      <td>покупка недвижимости</td>\n",
       "    </tr>\n",
       "    <tr>\n",
       "      <th>1064</th>\n",
       "      <td>20</td>\n",
       "      <td>3310.411598</td>\n",
       "      <td>56</td>\n",
       "      <td>среднее</td>\n",
       "      <td>1</td>\n",
       "      <td>женат / замужем</td>\n",
       "      <td>0</td>\n",
       "      <td>F</td>\n",
       "      <td>сотрудник</td>\n",
       "      <td>1</td>\n",
       "      <td>229518.537004</td>\n",
       "      <td>получение образования</td>\n",
       "    </tr>\n",
       "    <tr>\n",
       "      <th>2488</th>\n",
       "      <td>20</td>\n",
       "      <td>2714.161249</td>\n",
       "      <td>59</td>\n",
       "      <td>высшее</td>\n",
       "      <td>0</td>\n",
       "      <td>вдовец / вдова</td>\n",
       "      <td>2</td>\n",
       "      <td>F</td>\n",
       "      <td>сотрудник</td>\n",
       "      <td>0</td>\n",
       "      <td>264474.835577</td>\n",
       "      <td>операции с коммерческой недвижимостью</td>\n",
       "    </tr>\n",
       "    <tr>\n",
       "      <th>3276</th>\n",
       "      <td>20</td>\n",
       "      <td>1630.040900</td>\n",
       "      <td>35</td>\n",
       "      <td>среднее</td>\n",
       "      <td>1</td>\n",
       "      <td>Не женат / не замужем</td>\n",
       "      <td>4</td>\n",
       "      <td>F</td>\n",
       "      <td>госслужащий</td>\n",
       "      <td>0</td>\n",
       "      <td>145017.937533</td>\n",
       "      <td>профильное образование</td>\n",
       "    </tr>\n",
       "    <tr>\n",
       "      <th>3370</th>\n",
       "      <td>20</td>\n",
       "      <td>1630.040900</td>\n",
       "      <td>56</td>\n",
       "      <td>высшее</td>\n",
       "      <td>0</td>\n",
       "      <td>женат / замужем</td>\n",
       "      <td>0</td>\n",
       "      <td>F</td>\n",
       "      <td>компаньон</td>\n",
       "      <td>0</td>\n",
       "      <td>145017.937533</td>\n",
       "      <td>высшее образование</td>\n",
       "    </tr>\n",
       "    <tr>\n",
       "      <th>3645</th>\n",
       "      <td>20</td>\n",
       "      <td>913.161503</td>\n",
       "      <td>23</td>\n",
       "      <td>среднее</td>\n",
       "      <td>1</td>\n",
       "      <td>Не женат / не замужем</td>\n",
       "      <td>4</td>\n",
       "      <td>F</td>\n",
       "      <td>сотрудник</td>\n",
       "      <td>0</td>\n",
       "      <td>101255.492076</td>\n",
       "      <td>на покупку подержанного автомобиля</td>\n",
       "    </tr>\n",
       "    <tr>\n",
       "      <th>3671</th>\n",
       "      <td>20</td>\n",
       "      <td>2907.910616</td>\n",
       "      <td>40</td>\n",
       "      <td>среднее</td>\n",
       "      <td>1</td>\n",
       "      <td>гражданский брак</td>\n",
       "      <td>1</td>\n",
       "      <td>M</td>\n",
       "      <td>сотрудник</td>\n",
       "      <td>0</td>\n",
       "      <td>115380.694664</td>\n",
       "      <td>на покупку подержанного автомобиля</td>\n",
       "    </tr>\n",
       "    <tr>\n",
       "      <th>3708</th>\n",
       "      <td>20</td>\n",
       "      <td>805.044438</td>\n",
       "      <td>26</td>\n",
       "      <td>высшее</td>\n",
       "      <td>0</td>\n",
       "      <td>Не женат / не замужем</td>\n",
       "      <td>4</td>\n",
       "      <td>M</td>\n",
       "      <td>сотрудник</td>\n",
       "      <td>0</td>\n",
       "      <td>137200.646181</td>\n",
       "      <td>ремонт жилью</td>\n",
       "    </tr>\n",
       "    <tr>\n",
       "      <th>3849</th>\n",
       "      <td>20</td>\n",
       "      <td>8190.644409</td>\n",
       "      <td>45</td>\n",
       "      <td>среднее</td>\n",
       "      <td>1</td>\n",
       "      <td>гражданский брак</td>\n",
       "      <td>1</td>\n",
       "      <td>F</td>\n",
       "      <td>сотрудник</td>\n",
       "      <td>0</td>\n",
       "      <td>312270.145176</td>\n",
       "      <td>сделка с подержанным автомобилем</td>\n",
       "    </tr>\n",
       "  </tbody>\n",
       "</table>\n",
       "</div>"
      ],
      "text/plain": [
       "     children  days_employed  dob_years education  education_id  \\\n",
       "601        20     880.221113         21   среднее             1   \n",
       "714        20     855.595512         44   среднее             1   \n",
       "1064       20    3310.411598         56   среднее             1   \n",
       "2488       20    2714.161249         59    высшее             0   \n",
       "3276       20    1630.040900         35   среднее             1   \n",
       "3370       20    1630.040900         56    высшее             0   \n",
       "3645       20     913.161503         23   среднее             1   \n",
       "3671       20    2907.910616         40   среднее             1   \n",
       "3708       20     805.044438         26    высшее             0   \n",
       "3849       20    8190.644409         45   среднее             1   \n",
       "\n",
       "              family_status  family_status_id gender  income_type  debt  \\\n",
       "601         женат / замужем                 0      M    компаньон     0   \n",
       "714         женат / замужем                 0      F    компаньон     0   \n",
       "1064        женат / замужем                 0      F    сотрудник     1   \n",
       "2488         вдовец / вдова                 2      F    сотрудник     0   \n",
       "3276  Не женат / не замужем                 4      F  госслужащий     0   \n",
       "3370        женат / замужем                 0      F    компаньон     0   \n",
       "3645  Не женат / не замужем                 4      F    сотрудник     0   \n",
       "3671       гражданский брак                 1      M    сотрудник     0   \n",
       "3708  Не женат / не замужем                 4      M    сотрудник     0   \n",
       "3849       гражданский брак                 1      F    сотрудник     0   \n",
       "\n",
       "       total_income                                purpose  \n",
       "601   145334.865002                          покупка жилья  \n",
       "714   112998.738649                   покупка недвижимости  \n",
       "1064  229518.537004                  получение образования  \n",
       "2488  264474.835577  операции с коммерческой недвижимостью  \n",
       "3276  145017.937533                 профильное образование  \n",
       "3370  145017.937533                     высшее образование  \n",
       "3645  101255.492076     на покупку подержанного автомобиля  \n",
       "3671  115380.694664     на покупку подержанного автомобиля  \n",
       "3708  137200.646181                           ремонт жилью  \n",
       "3849  312270.145176       сделка с подержанным автомобилем  "
      ]
     },
     "execution_count": 41,
     "metadata": {},
     "output_type": "execute_result"
    }
   ],
   "source": [
    "solvency[solvency['children'] == '20'].head(10)"
   ]
  },
  {
   "cell_type": "markdown",
   "id": "407eb967",
   "metadata": {},
   "source": [
    "Закономерностей в выведенных данных найти не удаётся. Видимо, дело снова в технической ошибке. Наверное, ошибка формирования выгрузки. Более точно сказать сложно.\n",
    "\n",
    "По отношению к общему числу строк количество строк, где число детей равно 20, немного. Удалим их так же, как делали раньше."
   ]
  },
  {
   "cell_type": "code",
   "execution_count": 42,
   "id": "2481dc7e",
   "metadata": {},
   "outputs": [
    {
     "name": "stdout",
     "output_type": "stream",
     "text": [
      "Количество строк, где количество детей равно 20: 0\n"
     ]
    }
   ],
   "source": [
    "children_rows_to_drop_indeces = solvency.index[solvency['children'] == '20'].tolist()\n",
    "solvency = solvency.drop(labels=children_rows_to_drop_indeces).reset_index(drop=True)\n",
    "print('Количество строк, где количество детей равно 20:', solvency[solvency['children'] == '20']['children'].count())"
   ]
  },
  {
   "cell_type": "markdown",
   "id": "694f9d98",
   "metadata": {},
   "source": [
    "Теперь об аббревиатуре `'XNA'` в столбце `gender`. Посмотрим, как часто она встречается."
   ]
  },
  {
   "cell_type": "code",
   "execution_count": 43,
   "id": "3b963c32",
   "metadata": {},
   "outputs": [
    {
     "data": {
      "text/plain": [
       "1"
      ]
     },
     "execution_count": 43,
     "metadata": {},
     "output_type": "execute_result"
    }
   ],
   "source": [
    "solvency[solvency['gender'] == 'XNA']['gender'].count()"
   ]
  },
  {
   "cell_type": "markdown",
   "id": "0d25623d",
   "metadata": {},
   "source": [
    "1 раз — это совсем мало. Похоже, что речь в данном случае действительно идёт о человеке, определяющем себя небинарно. Не будем ничего делать с этой строкой.\n",
    "\n",
    "На этом обработку артефактов можно считать законченной."
   ]
  },
  {
   "cell_type": "markdown",
   "id": "2e8f97e8",
   "metadata": {},
   "source": [
    "### Типы данных"
   ]
  },
  {
   "cell_type": "markdown",
   "id": "ad4f52d4",
   "metadata": {},
   "source": [
    "<a id='minuses'></a>\n",
    "Данные в столбце `children` имеют не удобный для анализа тип — строка. Причина понятна — в столбце раньше присутствовало значение `'−1'`, которое не было проинтерпретировано `pandas` как целочисленное. Дело в том, что перед цифрой 1 стоит не дефис-минус (U+002D), который служит для `pandas` маркером отрицательного значения, а минус (U+2212). Из-за этого значение интепретируется как строковое.\n",
    "\n",
    "Сделаем столбец `children` целочисленным."
   ]
  },
  {
   "cell_type": "code",
   "execution_count": 44,
   "id": "df849b90",
   "metadata": {},
   "outputs": [],
   "source": [
    "solvency['children'] = solvency['children'].astype('int')"
   ]
  },
  {
   "cell_type": "markdown",
   "id": "da0f0004",
   "metadata": {},
   "source": [
    "Также было бы удобно, если бы доход и стаж имели целочисленный вид. Переведём их значения в новый тип."
   ]
  },
  {
   "cell_type": "code",
   "execution_count": 45,
   "id": "ca2a414a",
   "metadata": {},
   "outputs": [],
   "source": [
    "solvency[['total_income', 'days_employed']] = solvency[['total_income','days_employed']].astype('int')"
   ]
  },
  {
   "cell_type": "markdown",
   "id": "925556c3",
   "metadata": {},
   "source": [
    "### Дубликаты"
   ]
  },
  {
   "cell_type": "markdown",
   "id": "0d5c014d",
   "metadata": {},
   "source": [
    "Проверим, сколько в таблице явных дубликатов. Для этого используем методы `duplicated()` и `sum()`."
   ]
  },
  {
   "cell_type": "code",
   "execution_count": 46,
   "id": "8450e52a",
   "metadata": {},
   "outputs": [
    {
     "data": {
      "text/plain": [
       "54"
      ]
     },
     "execution_count": 46,
     "metadata": {},
     "output_type": "execute_result"
    }
   ],
   "source": [
    "solvency.duplicated().sum()"
   ]
  },
  {
   "cell_type": "markdown",
   "id": "a7544e47",
   "metadata": {},
   "source": [
    "Теперь сведём некоторые неявные дубликаты к явным. [Выше](#unique_values_str) приводились списки уникальных значений строковых столбцов. По ним видно, что в столбце `education` много дубликатов, которые отличаются только регистром. Приведём все значения в этом столбце к нижнему регистру методом `str.lower()`.  "
   ]
  },
  {
   "cell_type": "code",
   "execution_count": 47,
   "id": "dada1d6d",
   "metadata": {},
   "outputs": [],
   "source": [
    "solvency['education'] = solvency['education'].str.lower()"
   ]
  },
  {
   "cell_type": "markdown",
   "id": "70ee8ab4",
   "metadata": {},
   "source": [
    "Проверим, изменилось ли количество явных дубликатов."
   ]
  },
  {
   "cell_type": "code",
   "execution_count": 48,
   "id": "87999503",
   "metadata": {},
   "outputs": [
    {
     "data": {
      "text/plain": [
       "71"
      ]
     },
     "execution_count": 48,
     "metadata": {},
     "output_type": "execute_result"
    }
   ],
   "source": [
    "solvency.duplicated().sum()"
   ]
  },
  {
   "cell_type": "markdown",
   "id": "8e35c3da",
   "metadata": {},
   "source": [
    "<a id='purpose_duplicates'></a>\n",
    "Можно было бы также устранить неявные дубликаты в столбце `purpose`, однако это может привести к потере потенциально важной информации. Так, значения `'автомобиль'` и `'автомобили'` можно считать дубликатами, но что, если в первом случае речь идёт об операции с одним автомобилем, а во втором случае — с несколькими автомобилями? Вместо удаления дубликатов по этому столбцу лучше ввести обобщающие категории. Так мы точно не потеряем информацию о клиентах."
   ]
  },
  {
   "cell_type": "markdown",
   "id": "df7ead35",
   "metadata": {},
   "source": [
    "Попробуем понять причину возникновения дубликатов. Выведем на экран первые 5 строк из таблицы `solvency_dupl`, куда мы сохранили все найденные дубликаты."
   ]
  },
  {
   "cell_type": "code",
   "execution_count": 49,
   "id": "8432d356",
   "metadata": {},
   "outputs": [
    {
     "data": {
      "text/html": [
       "<div>\n",
       "<style scoped>\n",
       "    .dataframe tbody tr th:only-of-type {\n",
       "        vertical-align: middle;\n",
       "    }\n",
       "\n",
       "    .dataframe tbody tr th {\n",
       "        vertical-align: top;\n",
       "    }\n",
       "\n",
       "    .dataframe thead th {\n",
       "        text-align: right;\n",
       "    }\n",
       "</style>\n",
       "<table border=\"1\" class=\"dataframe\">\n",
       "  <thead>\n",
       "    <tr style=\"text-align: right;\">\n",
       "      <th></th>\n",
       "      <th>children</th>\n",
       "      <th>days_employed</th>\n",
       "      <th>dob_years</th>\n",
       "      <th>education</th>\n",
       "      <th>education_id</th>\n",
       "      <th>family_status</th>\n",
       "      <th>family_status_id</th>\n",
       "      <th>gender</th>\n",
       "      <th>income_type</th>\n",
       "      <th>debt</th>\n",
       "      <th>total_income</th>\n",
       "      <th>purpose</th>\n",
       "    </tr>\n",
       "  </thead>\n",
       "  <tbody>\n",
       "    <tr>\n",
       "      <th>2823</th>\n",
       "      <td>0</td>\n",
       "      <td>1630</td>\n",
       "      <td>41</td>\n",
       "      <td>среднее</td>\n",
       "      <td>1</td>\n",
       "      <td>женат / замужем</td>\n",
       "      <td>0</td>\n",
       "      <td>F</td>\n",
       "      <td>сотрудник</td>\n",
       "      <td>0</td>\n",
       "      <td>145017</td>\n",
       "      <td>покупка жилья для семьи</td>\n",
       "    </tr>\n",
       "    <tr>\n",
       "      <th>3260</th>\n",
       "      <td>0</td>\n",
       "      <td>1630</td>\n",
       "      <td>58</td>\n",
       "      <td>среднее</td>\n",
       "      <td>1</td>\n",
       "      <td>гражданский брак</td>\n",
       "      <td>1</td>\n",
       "      <td>F</td>\n",
       "      <td>пенсионер</td>\n",
       "      <td>0</td>\n",
       "      <td>145017</td>\n",
       "      <td>сыграть свадьбу</td>\n",
       "    </tr>\n",
       "    <tr>\n",
       "      <th>4142</th>\n",
       "      <td>1</td>\n",
       "      <td>1630</td>\n",
       "      <td>34</td>\n",
       "      <td>высшее</td>\n",
       "      <td>0</td>\n",
       "      <td>гражданский брак</td>\n",
       "      <td>1</td>\n",
       "      <td>F</td>\n",
       "      <td>сотрудник</td>\n",
       "      <td>0</td>\n",
       "      <td>145017</td>\n",
       "      <td>свадьба</td>\n",
       "    </tr>\n",
       "    <tr>\n",
       "      <th>4808</th>\n",
       "      <td>0</td>\n",
       "      <td>1630</td>\n",
       "      <td>60</td>\n",
       "      <td>среднее</td>\n",
       "      <td>1</td>\n",
       "      <td>гражданский брак</td>\n",
       "      <td>1</td>\n",
       "      <td>F</td>\n",
       "      <td>пенсионер</td>\n",
       "      <td>0</td>\n",
       "      <td>145017</td>\n",
       "      <td>свадьба</td>\n",
       "    </tr>\n",
       "    <tr>\n",
       "      <th>5506</th>\n",
       "      <td>0</td>\n",
       "      <td>1630</td>\n",
       "      <td>58</td>\n",
       "      <td>среднее</td>\n",
       "      <td>1</td>\n",
       "      <td>гражданский брак</td>\n",
       "      <td>1</td>\n",
       "      <td>F</td>\n",
       "      <td>пенсионер</td>\n",
       "      <td>0</td>\n",
       "      <td>145017</td>\n",
       "      <td>сыграть свадьбу</td>\n",
       "    </tr>\n",
       "  </tbody>\n",
       "</table>\n",
       "</div>"
      ],
      "text/plain": [
       "      children  days_employed  dob_years education  education_id  \\\n",
       "2823         0           1630         41   среднее             1   \n",
       "3260         0           1630         58   среднее             1   \n",
       "4142         1           1630         34    высшее             0   \n",
       "4808         0           1630         60   среднее             1   \n",
       "5506         0           1630         58   среднее             1   \n",
       "\n",
       "         family_status  family_status_id gender income_type  debt  \\\n",
       "2823   женат / замужем                 0      F   сотрудник     0   \n",
       "3260  гражданский брак                 1      F   пенсионер     0   \n",
       "4142  гражданский брак                 1      F   сотрудник     0   \n",
       "4808  гражданский брак                 1      F   пенсионер     0   \n",
       "5506  гражданский брак                 1      F   пенсионер     0   \n",
       "\n",
       "      total_income                  purpose  \n",
       "2823        145017  покупка жилья для семьи  \n",
       "3260        145017          сыграть свадьбу  \n",
       "4142        145017                  свадьба  \n",
       "4808        145017                  свадьба  \n",
       "5506        145017          сыграть свадьбу  "
      ]
     },
     "execution_count": 49,
     "metadata": {},
     "output_type": "execute_result"
    }
   ],
   "source": [
    "solvency_dupl = solvency[solvency.duplicated()]\n",
    "solvency_dupl.head()"
   ]
  },
  {
   "cell_type": "markdown",
   "id": "d8d9254b",
   "metadata": {},
   "source": [
    "Похоже, **дубликаты возникли из-за замены пропусков и некоторых артефактов на медианные значения**. Проверим это, посмотрев уникальные значения по столбцам `days_employed` и `total_income` в таблице `solvency_dupl` и сравнив их с медианными значениями."
   ]
  },
  {
   "cell_type": "code",
   "execution_count": 50,
   "id": "b0e28677",
   "metadata": {},
   "outputs": [
    {
     "data": {
      "text/plain": [
       "days_employed  total_income\n",
       "1630           145017          71\n",
       "dtype: int64"
      ]
     },
     "metadata": {},
     "output_type": "display_data"
    },
    {
     "name": "stdout",
     "output_type": "stream",
     "text": [
      "Медиана, использованная для замены пропусков и артефактов в столбце days_employed: 1630.0408997010547\n",
      "Медиана, использованная для замены пропусков и артефактов в столбце total_income: 145017.93753253992\n"
     ]
    }
   ],
   "source": [
    "display(solvency_dupl.value_counts(['days_employed', 'total_income']))\n",
    "\n",
    "print('Медиана, использованная для замены пропусков и артефактов в столбце days_employed:', days_employed_median)\n",
    "print('Медиана, использованная для замены пропусков и артефактов в столбце total_income:', total_income_median)"
   ]
  },
  {
   "cell_type": "markdown",
   "id": "426b9009",
   "metadata": {},
   "source": [
    "В этих столбцах присутствуют только медианные значения. Гипотеза подтверждается.\n",
    "\n",
    "Удалим найденные дубликаты методом `drop_duplicates()`. Сразу же обновим индексацию строк методом `reset_index()`, очистив старые индексы."
   ]
  },
  {
   "cell_type": "code",
   "execution_count": 51,
   "id": "88ed5510",
   "metadata": {},
   "outputs": [],
   "source": [
    "solvency = solvency.drop_duplicates().reset_index(drop=True)"
   ]
  },
  {
   "cell_type": "markdown",
   "id": "0e7619ff",
   "metadata": {},
   "source": [
    "Проверим, все ли явные дубликаты удалены."
   ]
  },
  {
   "cell_type": "code",
   "execution_count": 52,
   "id": "d9259a20",
   "metadata": {},
   "outputs": [
    {
     "data": {
      "text/plain": [
       "0"
      ]
     },
     "execution_count": 52,
     "metadata": {},
     "output_type": "execute_result"
    }
   ],
   "source": [
    "solvency.duplicated().sum()"
   ]
  },
  {
   "cell_type": "markdown",
   "id": "c8fd3af6",
   "metadata": {},
   "source": [
    "Удаление дубликатов прошло успешно."
   ]
  },
  {
   "cell_type": "markdown",
   "id": "8cf7f9fb",
   "metadata": {},
   "source": [
    "### Категоризация данных"
   ]
  },
  {
   "cell_type": "markdown",
   "id": "1db808a9",
   "metadata": {},
   "source": [
    "Создадим словари для типов образования — `education_dict` — и семейного статуса — `family_status_dict`. Сразу же удалим дубликаты, которые неизбежно появятся в них, обновим индексы строк и выведем оба словаря на экран."
   ]
  },
  {
   "cell_type": "code",
   "execution_count": 53,
   "id": "0357692f",
   "metadata": {},
   "outputs": [
    {
     "data": {
      "text/html": [
       "<div>\n",
       "<style scoped>\n",
       "    .dataframe tbody tr th:only-of-type {\n",
       "        vertical-align: middle;\n",
       "    }\n",
       "\n",
       "    .dataframe tbody tr th {\n",
       "        vertical-align: top;\n",
       "    }\n",
       "\n",
       "    .dataframe thead th {\n",
       "        text-align: right;\n",
       "    }\n",
       "</style>\n",
       "<table border=\"1\" class=\"dataframe\">\n",
       "  <thead>\n",
       "    <tr style=\"text-align: right;\">\n",
       "      <th></th>\n",
       "      <th>education_id</th>\n",
       "      <th>education</th>\n",
       "    </tr>\n",
       "  </thead>\n",
       "  <tbody>\n",
       "    <tr>\n",
       "      <th>0</th>\n",
       "      <td>0</td>\n",
       "      <td>высшее</td>\n",
       "    </tr>\n",
       "    <tr>\n",
       "      <th>1</th>\n",
       "      <td>1</td>\n",
       "      <td>среднее</td>\n",
       "    </tr>\n",
       "    <tr>\n",
       "      <th>2</th>\n",
       "      <td>2</td>\n",
       "      <td>неоконченное высшее</td>\n",
       "    </tr>\n",
       "    <tr>\n",
       "      <th>3</th>\n",
       "      <td>3</td>\n",
       "      <td>начальное</td>\n",
       "    </tr>\n",
       "    <tr>\n",
       "      <th>4</th>\n",
       "      <td>4</td>\n",
       "      <td>ученая степень</td>\n",
       "    </tr>\n",
       "  </tbody>\n",
       "</table>\n",
       "</div>"
      ],
      "text/plain": [
       "   education_id            education\n",
       "0             0               высшее\n",
       "1             1              среднее\n",
       "2             2  неоконченное высшее\n",
       "3             3            начальное\n",
       "4             4       ученая степень"
      ]
     },
     "metadata": {},
     "output_type": "display_data"
    },
    {
     "data": {
      "text/html": [
       "<div>\n",
       "<style scoped>\n",
       "    .dataframe tbody tr th:only-of-type {\n",
       "        vertical-align: middle;\n",
       "    }\n",
       "\n",
       "    .dataframe tbody tr th {\n",
       "        vertical-align: top;\n",
       "    }\n",
       "\n",
       "    .dataframe thead th {\n",
       "        text-align: right;\n",
       "    }\n",
       "</style>\n",
       "<table border=\"1\" class=\"dataframe\">\n",
       "  <thead>\n",
       "    <tr style=\"text-align: right;\">\n",
       "      <th></th>\n",
       "      <th>family_status_id</th>\n",
       "      <th>family_status</th>\n",
       "    </tr>\n",
       "  </thead>\n",
       "  <tbody>\n",
       "    <tr>\n",
       "      <th>0</th>\n",
       "      <td>0</td>\n",
       "      <td>женат / замужем</td>\n",
       "    </tr>\n",
       "    <tr>\n",
       "      <th>1</th>\n",
       "      <td>1</td>\n",
       "      <td>гражданский брак</td>\n",
       "    </tr>\n",
       "    <tr>\n",
       "      <th>2</th>\n",
       "      <td>2</td>\n",
       "      <td>вдовец / вдова</td>\n",
       "    </tr>\n",
       "    <tr>\n",
       "      <th>3</th>\n",
       "      <td>3</td>\n",
       "      <td>в разводе</td>\n",
       "    </tr>\n",
       "    <tr>\n",
       "      <th>4</th>\n",
       "      <td>4</td>\n",
       "      <td>Не женат / не замужем</td>\n",
       "    </tr>\n",
       "  </tbody>\n",
       "</table>\n",
       "</div>"
      ],
      "text/plain": [
       "   family_status_id          family_status\n",
       "0                 0        женат / замужем\n",
       "1                 1       гражданский брак\n",
       "2                 2         вдовец / вдова\n",
       "3                 3              в разводе\n",
       "4                 4  Не женат / не замужем"
      ]
     },
     "metadata": {},
     "output_type": "display_data"
    }
   ],
   "source": [
    "education_dict = solvency[['education_id', 'education']]\n",
    "family_status_dict = solvency[['family_status_id', 'family_status']]\n",
    "\n",
    "education_dict = education_dict.drop_duplicates().reset_index(drop=True)\n",
    "family_status_dict = family_status_dict.drop_duplicates().reset_index(drop=True)\n",
    "\n",
    "display(education_dict.head())\n",
    "display(family_status_dict.head())"
   ]
  },
  {
   "cell_type": "markdown",
   "id": "8defdcc2",
   "metadata": {},
   "source": [
    "Словари для типов образования и семейного статуса готовы.\n",
    "\n",
    "Удалим из `solvency` столбцы `education` и `family_status`, оставив только их идентификаторы."
   ]
  },
  {
   "cell_type": "code",
   "execution_count": 54,
   "id": "147db73f",
   "metadata": {},
   "outputs": [],
   "source": [
    "solvency = solvency.drop(columns=['education', 'family_status'])"
   ]
  },
  {
   "cell_type": "markdown",
   "id": "111e87a4",
   "metadata": {},
   "source": [
    "Для экономии памяти целесообразным представляется ввести идентификаторы для типов дохода. Идентификаторы будут целочисленными, то есть, не являясь строковыми, они не будут иметь легко интепретируемого значения (в отличие от, например, классов по размеру дохода (см. ниже)). Отказ от введения значащих идентификаторов типов доходов связан с тем, что по этому столбцу сложно однозначно ранжировать платёжеспособность клиентов, так что нагружать идентификаторы какими-то самостоятельными смыслами просто незачем.\n",
    "\n",
    "Создадим таблицу `income_type_dict` со столбцами `income_type_id` и `income_type`. Сразу же выведем её на экран."
   ]
  },
  {
   "cell_type": "code",
   "execution_count": 55,
   "id": "433a0151",
   "metadata": {},
   "outputs": [
    {
     "data": {
      "text/html": [
       "<div>\n",
       "<style scoped>\n",
       "    .dataframe tbody tr th:only-of-type {\n",
       "        vertical-align: middle;\n",
       "    }\n",
       "\n",
       "    .dataframe tbody tr th {\n",
       "        vertical-align: top;\n",
       "    }\n",
       "\n",
       "    .dataframe thead th {\n",
       "        text-align: right;\n",
       "    }\n",
       "</style>\n",
       "<table border=\"1\" class=\"dataframe\">\n",
       "  <thead>\n",
       "    <tr style=\"text-align: right;\">\n",
       "      <th></th>\n",
       "      <th>income_type_id</th>\n",
       "      <th>income_type</th>\n",
       "    </tr>\n",
       "  </thead>\n",
       "  <tbody>\n",
       "    <tr>\n",
       "      <th>0</th>\n",
       "      <td>0</td>\n",
       "      <td>сотрудник</td>\n",
       "    </tr>\n",
       "    <tr>\n",
       "      <th>1</th>\n",
       "      <td>1</td>\n",
       "      <td>пенсионер</td>\n",
       "    </tr>\n",
       "    <tr>\n",
       "      <th>2</th>\n",
       "      <td>2</td>\n",
       "      <td>компаньон</td>\n",
       "    </tr>\n",
       "    <tr>\n",
       "      <th>3</th>\n",
       "      <td>3</td>\n",
       "      <td>госслужащий</td>\n",
       "    </tr>\n",
       "    <tr>\n",
       "      <th>4</th>\n",
       "      <td>4</td>\n",
       "      <td>безработный</td>\n",
       "    </tr>\n",
       "    <tr>\n",
       "      <th>5</th>\n",
       "      <td>5</td>\n",
       "      <td>предприниматель</td>\n",
       "    </tr>\n",
       "    <tr>\n",
       "      <th>6</th>\n",
       "      <td>6</td>\n",
       "      <td>студент</td>\n",
       "    </tr>\n",
       "    <tr>\n",
       "      <th>7</th>\n",
       "      <td>7</td>\n",
       "      <td>в декрете</td>\n",
       "    </tr>\n",
       "  </tbody>\n",
       "</table>\n",
       "</div>"
      ],
      "text/plain": [
       "   income_type_id      income_type\n",
       "0               0        сотрудник\n",
       "1               1        пенсионер\n",
       "2               2        компаньон\n",
       "3               3      госслужащий\n",
       "4               4      безработный\n",
       "5               5  предприниматель\n",
       "6               6          студент\n",
       "7               7        в декрете"
      ]
     },
     "execution_count": 55,
     "metadata": {},
     "output_type": "execute_result"
    }
   ],
   "source": [
    "income_type_dict = pd.DataFrame(data={\n",
    "    'income_type_id': [i for i in range(len(solvency['income_type'].unique()))],\n",
    "    'income_type': solvency['income_type'].unique()\n",
    "    })\n",
    "income_type_dict"
   ]
  },
  {
   "cell_type": "markdown",
   "id": "8d384e26",
   "metadata": {},
   "source": [
    "Не будем удалять из таблицы столбец `income_type` и добавлять новый столбец `income_type_id`. Вместо этого просто заменим значения в `income_type` на соответствующие им идентификаторы, а затем переименуем его.\n",
    "\n",
    "Для выполнения замены создадим функцию `replace_value_with_id`. В качестве аргументов она будет принимать значение из столбца изначальной таблицы и словарь, соотносящий идентификатор и значение из столбца. Чтобы возвращаемое значение было целым числом, а не `Series`, воспользуемся атрибутом `values`."
   ]
  },
  {
   "cell_type": "code",
   "execution_count": 56,
   "id": "b5044cee",
   "metadata": {},
   "outputs": [],
   "source": [
    "def replace_value_with_id(old_value, dictionary):\n",
    "    id_column = dictionary.columns[0]\n",
    "    values_column = dictionary.columns[1]\n",
    "    new_value = dictionary.loc[dictionary[values_column] == old_value, id_column].values[0]\n",
    "    return new_value"
   ]
  },
  {
   "cell_type": "markdown",
   "id": "ca69f108",
   "metadata": {},
   "source": [
    "Проверим, корректно ли работает функция. Подадим ей на вход значение `'госслужащий'`. Если всё в порядке, то она вернёт значение `3`."
   ]
  },
  {
   "cell_type": "code",
   "execution_count": 57,
   "id": "f2aa55bd",
   "metadata": {},
   "outputs": [
    {
     "data": {
      "text/plain": [
       "3"
      ]
     },
     "execution_count": 57,
     "metadata": {},
     "output_type": "execute_result"
    }
   ],
   "source": [
    "replace_value_with_id('госслужащий', income_type_dict)"
   ]
  },
  {
   "cell_type": "code",
   "execution_count": 58,
   "id": "cb54277d",
   "metadata": {},
   "outputs": [
    {
     "data": {
      "text/plain": [
       "0    0\n",
       "1    0\n",
       "2    0\n",
       "3    0\n",
       "4    1\n",
       "Name: income_type, dtype: int64"
      ]
     },
     "execution_count": 58,
     "metadata": {},
     "output_type": "execute_result"
    }
   ],
   "source": [
    "solvency['income_type'].head().map({x: y for y, x in enumerate(solvency['income_type'].unique())})"
   ]
  },
  {
   "cell_type": "markdown",
   "id": "afa0354a",
   "metadata": {},
   "source": [
    "Функция работает корректно."
   ]
  },
  {
   "cell_type": "markdown",
   "id": "29c26d1f",
   "metadata": {},
   "source": [
    "Заменим тип дохода в таблице `solvency` на его идентификатор методом `apply()`. Сразу заменим название столбца `income_type` на `income_type_id`."
   ]
  },
  {
   "cell_type": "code",
   "execution_count": 59,
   "id": "fa1048bf",
   "metadata": {},
   "outputs": [],
   "source": [
    "solvency['income_type'] = solvency['income_type'].apply(replace_value_with_id, dictionary=income_type_dict)\n",
    "solvency = solvency.rename(columns={'income_type': 'income_type_id'})"
   ]
  },
  {
   "cell_type": "markdown",
   "id": "37519233",
   "metadata": {},
   "source": [
    "Проверим результат переименования."
   ]
  },
  {
   "cell_type": "code",
   "execution_count": 60,
   "id": "442a2464",
   "metadata": {},
   "outputs": [
    {
     "data": {
      "text/plain": [
       "Index(['children', 'days_employed', 'dob_years', 'education_id',\n",
       "       'family_status_id', 'gender', 'income_type_id', 'debt', 'total_income',\n",
       "       'purpose'],\n",
       "      dtype='object')"
      ]
     },
     "execution_count": 60,
     "metadata": {},
     "output_type": "execute_result"
    }
   ],
   "source": [
    "solvency.columns"
   ]
  },
  {
   "cell_type": "markdown",
   "id": "ba519198",
   "metadata": {},
   "source": [
    "Переименование прошло успешно."
   ]
  },
  {
   "cell_type": "markdown",
   "id": "024ae278",
   "metadata": {},
   "source": [
    "Теперь классифицируем клиентов по размеру дохода. Введём следующие категории:\n",
    "* 0–30000 — `'E'`;\n",
    "\n",
    "\n",
    "* 30001–50000 — `'D'`;\n",
    "\n",
    "\n",
    "* 50001–200000 — `'C'`;\n",
    "\n",
    "\n",
    "* 200001–1000000 — `'B'`;\n",
    "\n",
    "\n",
    "* 1000001 и выше — `'A'`.\n",
    "\n",
    "Очевидно, что буква, соответствующая той или иной категории, позволяет примерно оценить уровень платёжеспособности клиента. Именно поэтому используются буквенные, а не числовые идентификаторы.\n",
    "\n",
    "Напишем функцию `match_income_category`, которая будет определять, к какой категории относится клиент по размеру своего дохода. Её аргументом будет являться значение из столбца `total_income`. Возвращать же она будет категорию по размеру, к которой относится данный клиент."
   ]
  },
  {
   "cell_type": "code",
   "execution_count": 61,
   "id": "815ad0c0",
   "metadata": {},
   "outputs": [],
   "source": [
    "def match_income_category(value):\n",
    "    if value <= 30000:\n",
    "        return 'E'\n",
    "    if 30001 <= value <= 50000:\n",
    "        return 'D'\n",
    "    if 50001 <= value <= 200000:\n",
    "        return 'C'\n",
    "    if 200001 <= value <= 1000000:\n",
    "        return 'B'\n",
    "    if  value >= 1000001:\n",
    "        return 'A'"
   ]
  },
  {
   "cell_type": "markdown",
   "id": "d08256d1",
   "metadata": {},
   "source": [
    "Проверим, правильно ли работает функция. Создадим список `test_values` из значений `5000000`,`800000`,`100000`,`40000` и `20000`. Запустим функцию в цикле. Если всё в порядке, то в итоге будет напечатан список `['A', 'B', 'C', 'D', 'E']`. "
   ]
  },
  {
   "cell_type": "code",
   "execution_count": 62,
   "id": "c7317acd",
   "metadata": {},
   "outputs": [
    {
     "data": {
      "text/plain": [
       "['A', 'B', 'C', 'D', 'E']"
      ]
     },
     "execution_count": 62,
     "metadata": {},
     "output_type": "execute_result"
    }
   ],
   "source": [
    "test_values = [5000000, 800000, 100000, 40000, 20000]\n",
    "test_result = []\n",
    "\n",
    "for value in test_values:\n",
    "    test_result.append(match_income_category(value))\n",
    "    \n",
    "test_result"
   ]
  },
  {
   "cell_type": "markdown",
   "id": "376a37b1",
   "metadata": {},
   "source": [
    "Функция работает корректно. Используем её для создания нового столбца c категориями по размеру дохода `total_income_category`, применив метод `apply()` к столбцу `total_income`."
   ]
  },
  {
   "cell_type": "code",
   "execution_count": 63,
   "id": "3a014c44",
   "metadata": {},
   "outputs": [],
   "source": [
    "solvency['total_income_category'] = solvency['total_income'].apply(match_income_category)"
   ]
  },
  {
   "cell_type": "markdown",
   "id": "b75322b5",
   "metadata": {},
   "source": [
    "Теперь стоит категоризировать данные из столбца `purpose`. Как уже [говорилось](#purpose_duplicates), в нём много значений, которые близки друг к другу по смыслу. Чтобы было проще анализировать данные, введём следующие категории целей:\n",
    "* `‘операции с автомобилем’`,\n",
    "\n",
    "\n",
    "* `‘операции с недвижимостью’`,\n",
    "\n",
    "\n",
    "* `‘проведение свадьбы’`,\n",
    "\n",
    "\n",
    "* `‘получение образования’`.\n",
    "\n",
    "Напишем функцию `match_purpose_category`, которая будет определять категорию цели данного клиента по ключевой подстроке из столбца `purpose`.  Её аргументом будет являться строка из столбца `purpose`. Возвращать же она будет категорию, к которой относится цель получения кредита данным клиентом.\n",
    "\n",
    "Ключевые подстроки выделим, проанализировав [уникальные значения](#unique_values_str) в столбце `purpose`. Это будут:\n",
    "\n",
    "* для категории `‘операции с автомобилем’` — `'автомобил'`;\n",
    "\n",
    "\n",
    "* для категории `‘операции с недвижимостью’` — `'недвижимост'` и `'жиль'`;\n",
    "\n",
    "\n",
    "* для категории `‘проведение свадьбы’` — `'свадьб'`;\n",
    "\n",
    "\n",
    "* для категории `‘получение образования’` — `'образовани'`."
   ]
  },
  {
   "cell_type": "code",
   "execution_count": 64,
   "id": "49f58b4f",
   "metadata": {},
   "outputs": [],
   "source": [
    "def match_purpose_category(string):\n",
    "    if 'автомобил' in string:\n",
    "        return 'операции с автомобилем'\n",
    "    if 'недвижимост' in string or 'жиль' in string:\n",
    "        return 'операции с недвижимостью'\n",
    "    if 'свадьб' in string:\n",
    "        return 'проведение свадьбы'\n",
    "    if 'образовани' in string:\n",
    "        return 'получение образования'"
   ]
  },
  {
   "cell_type": "markdown",
   "id": "91aa5760",
   "metadata": {},
   "source": [
    "Проверим, правильно ли работает функция. Перезапишем значения списка `test_values`, сохранив туда строки `получить образование`,`провести свадьбу`,`купить недвижимость`,`купить жильё` и `купить автомобиль`. К этому списку в цикле применим функцию. Если она работает верно, то на экран будет выведен список `['получение образования', 'проведение свадьбы', 'операции с недвижимостью', 'операции с недвижимостью', 'операции с автомобилем']`."
   ]
  },
  {
   "cell_type": "code",
   "execution_count": 65,
   "id": "9a0cedc4",
   "metadata": {},
   "outputs": [
    {
     "data": {
      "text/plain": [
       "['получение образования',\n",
       " 'проведение свадьбы',\n",
       " 'операции с недвижимостью',\n",
       " 'операции с недвижимостью',\n",
       " 'операции с автомобилем']"
      ]
     },
     "execution_count": 65,
     "metadata": {},
     "output_type": "execute_result"
    }
   ],
   "source": [
    "test_values = ['получить образование', 'провести свадьбу', 'купить недвижимость', 'купить жильё', 'купить автомобиль']\n",
    "test_result = []\n",
    "\n",
    "for string in test_values:\n",
    "    test_result.append(match_purpose_category(string))\n",
    "    \n",
    "test_result"
   ]
  },
  {
   "cell_type": "markdown",
   "id": "1a9f731e",
   "metadata": {},
   "source": [
    "Функция работает корректно. Используем её в методе `apply()`, чтобы создать новый столбец с категориями целей `purpose_category` на основе столбца `purpose`."
   ]
  },
  {
   "cell_type": "code",
   "execution_count": 66,
   "id": "42a6ee3d",
   "metadata": {},
   "outputs": [],
   "source": [
    "solvency['purpose_category'] = solvency['purpose'].apply(match_purpose_category)"
   ]
  },
  {
   "cell_type": "markdown",
   "id": "5f9ff978",
   "metadata": {},
   "source": [
    "Проверим, не осталось ли в таблице строк, для которых не подобрана категория цели. Для этого выведем на экран список уникальных значений столбца `purpose_category`."
   ]
  },
  {
   "cell_type": "code",
   "execution_count": 67,
   "id": "e4c85875",
   "metadata": {},
   "outputs": [
    {
     "data": {
      "text/plain": [
       "array(['операции с недвижимостью', 'операции с автомобилем',\n",
       "       'получение образования', 'проведение свадьбы'], dtype=object)"
      ]
     },
     "execution_count": 67,
     "metadata": {},
     "output_type": "execute_result"
    }
   ],
   "source": [
    "solvency['purpose_category'].unique()"
   ]
  },
  {
   "cell_type": "markdown",
   "id": "a4558959",
   "metadata": {},
   "source": [
    "Цели во всех строках успешно категоризированы."
   ]
  },
  {
   "cell_type": "markdown",
   "id": "1c5c4f64",
   "metadata": {},
   "source": [
    "**Промежуточные выводы**\n",
    "\n",
    "В ходе предобработки данных были выявлены и устранены 4 типа проблем в данных о платёжеспособности клиентов: пропуски, артефакты, неверные типы данных и дубликаты значений. Проблемы встречались в столбцах `children`, `days_employed`, `dob_years`, `education` и `total_income`. По всей видимости, все они были связаны с проблемами технического характера: проблема с десятичным разделителем, ошибки в алгоритмах расчёта стажа, неверно распознанные символы, ошибки операторов базы данных и т.п.\n",
    "\n",
    "Кроме того, была введена категоризация по столбцам с идентификаторами и целью кредита.\n",
    "\n",
    "Устранение проблем и категоризация позволили привести данные к виду, удобному для анализа."
   ]
  },
  {
   "cell_type": "markdown",
   "id": "53041192",
   "metadata": {},
   "source": [
    "## Проверка гипотез"
   ]
  },
  {
   "cell_type": "markdown",
   "id": "1d7c468a",
   "metadata": {},
   "source": [
    "В соответствии с заданием, необходимо проверить следующие четыре гипотезы:\n",
    "\n",
    "1. Есть ли зависимость между количеством детей и возвратом кредита в срок?\n",
    "\n",
    "\n",
    "2. Есть ли зависимость между семейным положением и возвратом кредита в срок?\n",
    "\n",
    "\n",
    "3. Есть ли зависимость между уровнем дохода и возвратом кредита в срок?\n",
    "\n",
    "\n",
    "4. Как разные цели кредита влияют на его возврат в срок?"
   ]
  },
  {
   "cell_type": "markdown",
   "id": "c07b580e",
   "metadata": {},
   "source": [
    "### Зависимость между количеством детей и возвратом кредита в срок"
   ]
  },
  {
   "cell_type": "markdown",
   "id": "c45c6308",
   "metadata": {},
   "source": [
    "<a id='means_calc'></a>\n",
    "Чтобы проверить гипотезу о зависимости между своевременным возвратом кредита и количеством детей у клиента, рассчитаем среднее значение по столбцу `debt` для каждого из уникальных значений числа детей. Чем меньше соответствующее среднее значение, тем меньшее количество невозвратов кредита в срок у данной категории клиентов, и наоборот.\n",
    "\n",
    "В целях данного исследования будем считать, что среднее по столбцу `debt` является показателем средней платёжеспособности.\n",
    "\n",
    "Результат представим в виде сводной таблицы `pivot_debt_vs_children`. Сразу выведем её на экран."
   ]
  },
  {
   "cell_type": "code",
   "execution_count": 68,
   "id": "432a8112",
   "metadata": {},
   "outputs": [
    {
     "data": {
      "text/html": [
       "<div>\n",
       "<style scoped>\n",
       "    .dataframe tbody tr th:only-of-type {\n",
       "        vertical-align: middle;\n",
       "    }\n",
       "\n",
       "    .dataframe tbody tr th {\n",
       "        vertical-align: top;\n",
       "    }\n",
       "\n",
       "    .dataframe thead tr th {\n",
       "        text-align: left;\n",
       "    }\n",
       "\n",
       "    .dataframe thead tr:last-of-type th {\n",
       "        text-align: right;\n",
       "    }\n",
       "</style>\n",
       "<table border=\"1\" class=\"dataframe\">\n",
       "  <thead>\n",
       "    <tr>\n",
       "      <th></th>\n",
       "      <th>mean</th>\n",
       "      <th>sum</th>\n",
       "    </tr>\n",
       "    <tr>\n",
       "      <th></th>\n",
       "      <th>debt</th>\n",
       "      <th>debt</th>\n",
       "    </tr>\n",
       "    <tr>\n",
       "      <th>children</th>\n",
       "      <th></th>\n",
       "      <th></th>\n",
       "    </tr>\n",
       "  </thead>\n",
       "  <tbody>\n",
       "    <tr>\n",
       "      <th>0</th>\n",
       "      <td>0.075453</td>\n",
       "      <td>1058</td>\n",
       "    </tr>\n",
       "    <tr>\n",
       "      <th>1</th>\n",
       "      <td>0.092028</td>\n",
       "      <td>441</td>\n",
       "    </tr>\n",
       "    <tr>\n",
       "      <th>2</th>\n",
       "      <td>0.095145</td>\n",
       "      <td>194</td>\n",
       "    </tr>\n",
       "    <tr>\n",
       "      <th>3</th>\n",
       "      <td>0.082317</td>\n",
       "      <td>27</td>\n",
       "    </tr>\n",
       "    <tr>\n",
       "      <th>4</th>\n",
       "      <td>0.097561</td>\n",
       "      <td>4</td>\n",
       "    </tr>\n",
       "    <tr>\n",
       "      <th>5</th>\n",
       "      <td>0.000000</td>\n",
       "      <td>0</td>\n",
       "    </tr>\n",
       "  </tbody>\n",
       "</table>\n",
       "</div>"
      ],
      "text/plain": [
       "              mean   sum\n",
       "              debt  debt\n",
       "children                \n",
       "0         0.075453  1058\n",
       "1         0.092028   441\n",
       "2         0.095145   194\n",
       "3         0.082317    27\n",
       "4         0.097561     4\n",
       "5         0.000000     0"
      ]
     },
     "execution_count": 68,
     "metadata": {},
     "output_type": "execute_result"
    }
   ],
   "source": [
    "pivot_debt_vs_children = solvency.pivot_table(index=['children'], values='debt', aggfunc=['mean', 'sum'])\n",
    "pivot_debt_vs_children"
   ]
  },
  {
   "cell_type": "code",
   "execution_count": 69,
   "id": "c1b28555",
   "metadata": {},
   "outputs": [
    {
     "data": {
      "text/html": [
       "<style type=\"text/css\">\n",
       "</style>\n",
       "<table id=\"T_7eb13_\">\n",
       "  <thead>\n",
       "    <tr>\n",
       "      <th class=\"blank level0\" >&nbsp;</th>\n",
       "      <th class=\"col_heading level0 col0\" >Кол-во пользователей</th>\n",
       "      <th class=\"col_heading level0 col1\" >Кол-во должников</th>\n",
       "      <th class=\"col_heading level0 col2\" >% должников</th>\n",
       "      <th class=\"col_heading level0 col3\" >% НЕдолжников</th>\n",
       "    </tr>\n",
       "    <tr>\n",
       "      <th class=\"index_name level0\" >children</th>\n",
       "      <th class=\"blank col0\" >&nbsp;</th>\n",
       "      <th class=\"blank col1\" >&nbsp;</th>\n",
       "      <th class=\"blank col2\" >&nbsp;</th>\n",
       "      <th class=\"blank col3\" >&nbsp;</th>\n",
       "    </tr>\n",
       "  </thead>\n",
       "  <tbody>\n",
       "    <tr>\n",
       "      <th id=\"T_7eb13_level0_row0\" class=\"row_heading level0 row0\" >0</th>\n",
       "      <td id=\"T_7eb13_row0_col0\" class=\"data row0 col0\" >14022</td>\n",
       "      <td id=\"T_7eb13_row0_col1\" class=\"data row0 col1\" >1058</td>\n",
       "      <td id=\"T_7eb13_row0_col2\" class=\"data row0 col2\" >7.55%</td>\n",
       "      <td id=\"T_7eb13_row0_col3\" class=\"data row0 col3\" >92.45%</td>\n",
       "    </tr>\n",
       "    <tr>\n",
       "      <th id=\"T_7eb13_level0_row1\" class=\"row_heading level0 row1\" >1</th>\n",
       "      <td id=\"T_7eb13_row1_col0\" class=\"data row1 col0\" >4792</td>\n",
       "      <td id=\"T_7eb13_row1_col1\" class=\"data row1 col1\" >441</td>\n",
       "      <td id=\"T_7eb13_row1_col2\" class=\"data row1 col2\" >9.20%</td>\n",
       "      <td id=\"T_7eb13_row1_col3\" class=\"data row1 col3\" >90.80%</td>\n",
       "    </tr>\n",
       "    <tr>\n",
       "      <th id=\"T_7eb13_level0_row2\" class=\"row_heading level0 row2\" >2</th>\n",
       "      <td id=\"T_7eb13_row2_col0\" class=\"data row2 col0\" >2039</td>\n",
       "      <td id=\"T_7eb13_row2_col1\" class=\"data row2 col1\" >194</td>\n",
       "      <td id=\"T_7eb13_row2_col2\" class=\"data row2 col2\" >9.51%</td>\n",
       "      <td id=\"T_7eb13_row2_col3\" class=\"data row2 col3\" >90.49%</td>\n",
       "    </tr>\n",
       "    <tr>\n",
       "      <th id=\"T_7eb13_level0_row3\" class=\"row_heading level0 row3\" >3</th>\n",
       "      <td id=\"T_7eb13_row3_col0\" class=\"data row3 col0\" >328</td>\n",
       "      <td id=\"T_7eb13_row3_col1\" class=\"data row3 col1\" >27</td>\n",
       "      <td id=\"T_7eb13_row3_col2\" class=\"data row3 col2\" >8.23%</td>\n",
       "      <td id=\"T_7eb13_row3_col3\" class=\"data row3 col3\" >91.77%</td>\n",
       "    </tr>\n",
       "    <tr>\n",
       "      <th id=\"T_7eb13_level0_row4\" class=\"row_heading level0 row4\" >4</th>\n",
       "      <td id=\"T_7eb13_row4_col0\" class=\"data row4 col0\" >41</td>\n",
       "      <td id=\"T_7eb13_row4_col1\" class=\"data row4 col1\" >4</td>\n",
       "      <td id=\"T_7eb13_row4_col2\" class=\"data row4 col2\" >9.76%</td>\n",
       "      <td id=\"T_7eb13_row4_col3\" class=\"data row4 col3\" >90.24%</td>\n",
       "    </tr>\n",
       "    <tr>\n",
       "      <th id=\"T_7eb13_level0_row5\" class=\"row_heading level0 row5\" >5</th>\n",
       "      <td id=\"T_7eb13_row5_col0\" class=\"data row5 col0\" >9</td>\n",
       "      <td id=\"T_7eb13_row5_col1\" class=\"data row5 col1\" >0</td>\n",
       "      <td id=\"T_7eb13_row5_col2\" class=\"data row5 col2\" >0.00%</td>\n",
       "      <td id=\"T_7eb13_row5_col3\" class=\"data row5 col3\" >100.00%</td>\n",
       "    </tr>\n",
       "  </tbody>\n",
       "</table>\n"
      ],
      "text/plain": [
       "<pandas.io.formats.style.Styler at 0x7f4643323d30>"
      ]
     },
     "execution_count": 69,
     "metadata": {},
     "output_type": "execute_result"
    }
   ],
   "source": [
    "df_example = solvency.pivot_table(index = 'children', values = 'debt', \n",
    "                            aggfunc = ['count', 'sum', 'mean', lambda x: 1 - x.mean()])\n",
    "df_example.columns = ['Кол-во пользователей', 'Кол-во должников', '% должников', '% НЕдолжников']\n",
    "df_example.style.format({'% должников': '{:.2%}', '% НЕдолжников': '{:.2%}'})"
   ]
  },
  {
   "cell_type": "markdown",
   "id": "aadb8de6",
   "metadata": {},
   "source": [
    "<a id='check_means'></a>\n",
    "Прежде чем делать выводы, проверим адекватность полученных средних значений \"на глаз\". \n",
    "\n",
    "Логично, что чем больше выборка, тем в большей степени рассчитанное по ней среднее значение соответствует среднему по генеральной совокупности. Делать выводы о генеральной совокупности по небольшим выборкам не разумно.\n",
    "\n",
    "Посмотрим, какое количество клиентов представлено в каждой из шести категорий из таблицы выше."
   ]
  },
  {
   "cell_type": "code",
   "execution_count": 70,
   "id": "fc86b0ae",
   "metadata": {},
   "outputs": [
    {
     "data": {
      "text/plain": [
       "0    14022\n",
       "1     4792\n",
       "2     2039\n",
       "3      328\n",
       "4       41\n",
       "5        9\n",
       "Name: children, dtype: int64"
      ]
     },
     "execution_count": 70,
     "metadata": {},
     "output_type": "execute_result"
    }
   ],
   "source": [
    "solvency['children'].value_counts()"
   ]
  },
  {
   "cell_type": "markdown",
   "id": "5a12e004",
   "metadata": {},
   "source": [
    "Выборки для последних двух категорий явно малы, поэтому мы не будем принимать во внимание рассчитанные по ним средние."
   ]
  },
  {
   "cell_type": "markdown",
   "id": "0465bd39",
   "metadata": {},
   "source": [
    "По приведённым выше средним значениям можно сделать два наблюдения:\n",
    "\n",
    "1. Наличие детей у клиента действительно влияет на то, будет ли кредит возвращен им в срок. Среднее значение дамми-переменной `debt` для клиентов без детей заметно ниже, чем у тех клиентов, у которых дети есть.\n",
    "\n",
    " \n",
    "2. Нельзя утверждать, что появление у клиента второго или третьего ребёнка приводит к росту вероятности невыплаты им кредита в срок. Значение среднего в категории \"Клиенты с двумя детьми\" лишь незначительно выше, чем в категории \"Клиенты с одним ребёнком\", а для категории \"Клиенты с тремя детьми\" среднее и вовсе ниже.\n",
    "\n",
    "**Вывод**\n",
    "\n",
    "Гипотеза подтверждается лишь частично. В среднем при прочих равных платёжеспособность клиента, у которого есть дети, ниже, чем у клиента без детей, но при этом платёжеспособность значительно не отличается у клиентов с разным количеством детей."
   ]
  },
  {
   "cell_type": "markdown",
   "id": "4cdaa48d",
   "metadata": {},
   "source": [
    "### Зависимость между семейным положением и возвратом кредита в срок "
   ]
  },
  {
   "cell_type": "markdown",
   "id": "5ac0c199",
   "metadata": {},
   "source": [
    "Исследуем гипотезу о наличии зависимости между своевременным погашением кредита и семейным положением клиента. Сделаем это [так же](#means_calc), как и при проверке предыдущей гипотезы.\n",
    "\n",
    "Средние значения сохраним в сводной таблице `pivot_debt_vs_family_status`. Перед выводом на экран добавим в неё столбец `family_status` для наглядности. Сделаем это методом `merge()`. "
   ]
  },
  {
   "cell_type": "code",
   "execution_count": 71,
   "id": "aafa6370",
   "metadata": {},
   "outputs": [
    {
     "data": {
      "text/html": [
       "<div>\n",
       "<style scoped>\n",
       "    .dataframe tbody tr th:only-of-type {\n",
       "        vertical-align: middle;\n",
       "    }\n",
       "\n",
       "    .dataframe tbody tr th {\n",
       "        vertical-align: top;\n",
       "    }\n",
       "\n",
       "    .dataframe thead th {\n",
       "        text-align: right;\n",
       "    }\n",
       "</style>\n",
       "<table border=\"1\" class=\"dataframe\">\n",
       "  <thead>\n",
       "    <tr style=\"text-align: right;\">\n",
       "      <th></th>\n",
       "      <th>family_status_id</th>\n",
       "      <th>family_status</th>\n",
       "      <th>debt</th>\n",
       "    </tr>\n",
       "  </thead>\n",
       "  <tbody>\n",
       "    <tr>\n",
       "      <th>0</th>\n",
       "      <td>0</td>\n",
       "      <td>женат / замужем</td>\n",
       "      <td>0.075575</td>\n",
       "    </tr>\n",
       "    <tr>\n",
       "      <th>1</th>\n",
       "      <td>1</td>\n",
       "      <td>гражданский брак</td>\n",
       "      <td>0.093119</td>\n",
       "    </tr>\n",
       "    <tr>\n",
       "      <th>2</th>\n",
       "      <td>2</td>\n",
       "      <td>вдовец / вдова</td>\n",
       "      <td>0.065539</td>\n",
       "    </tr>\n",
       "    <tr>\n",
       "      <th>3</th>\n",
       "      <td>3</td>\n",
       "      <td>в разводе</td>\n",
       "      <td>0.071247</td>\n",
       "    </tr>\n",
       "    <tr>\n",
       "      <th>4</th>\n",
       "      <td>4</td>\n",
       "      <td>Не женат / не замужем</td>\n",
       "      <td>0.097842</td>\n",
       "    </tr>\n",
       "  </tbody>\n",
       "</table>\n",
       "</div>"
      ],
      "text/plain": [
       "   family_status_id          family_status      debt\n",
       "0                 0        женат / замужем  0.075575\n",
       "1                 1       гражданский брак  0.093119\n",
       "2                 2         вдовец / вдова  0.065539\n",
       "3                 3              в разводе  0.071247\n",
       "4                 4  Не женат / не замужем  0.097842"
      ]
     },
     "execution_count": 71,
     "metadata": {},
     "output_type": "execute_result"
    }
   ],
   "source": [
    "pivot_debt_vs_family_status = solvency.pivot_table(index=['family_status_id'], values='debt', aggfunc='mean')\n",
    "pivot_debt_vs_family_status = family_status_dict.merge(right=pivot_debt_vs_family_status, on='family_status_id', how='left')\n",
    "pivot_debt_vs_family_status"
   ]
  },
  {
   "cell_type": "markdown",
   "id": "c4056c19",
   "metadata": {},
   "source": [
    "Как и в случае [предыдущей](#check_means) гипотезы, \"на глаз\" проверим адекватность рассчитанных средних."
   ]
  },
  {
   "cell_type": "code",
   "execution_count": 72,
   "id": "32c1221d",
   "metadata": {},
   "outputs": [
    {
     "data": {
      "text/plain": [
       "0    12213\n",
       "1     4113\n",
       "4     2780\n",
       "3     1179\n",
       "2      946\n",
       "Name: family_status_id, dtype: int64"
      ]
     },
     "execution_count": 72,
     "metadata": {},
     "output_type": "execute_result"
    }
   ],
   "source": [
    "solvency['family_status_id'].value_counts()"
   ]
  },
  {
   "cell_type": "markdown",
   "id": "d6af3ba9",
   "metadata": {},
   "source": [
    "Для всех категорий семейного статуса выборка достаточно большая, поэтому будем считать рассчитанные для них средние соответствующими генеральной совокупности."
   ]
  },
  {
   "cell_type": "markdown",
   "id": "0cb00fe8",
   "metadata": {},
   "source": [
    "По рассчитанным средним можно сделать такие наблюдения (в среднем при прочих равных):\n",
    "\n",
    "* холостые клиенты и клиенты, состоящие в гражданском браке, чаще других не погашают кредит в срок;\n",
    "\n",
    "\n",
    "* разведённые и женатые/замужние клиенты реже допускают просрочки;\n",
    "\n",
    "\n",
    "* наименее склонны нарушать сроки возврата кредита вдовствующие клиенты.\n",
    "\n",
    "**Вывод**\n",
    "\n",
    "Гипотеза подтверждается: зависимость между семейным положением и возвратом кредита в срок действительно есть."
   ]
  },
  {
   "cell_type": "markdown",
   "id": "98070bda",
   "metadata": {},
   "source": [
    "### Зависимость между уровнем дохода и возвратом кредита в срок"
   ]
  },
  {
   "cell_type": "markdown",
   "id": "9f0fcd56",
   "metadata": {},
   "source": [
    "Рассмотрим гипотезу о наличии зависимости между уровнем дохода и своевременным погашением кредита. Сделаем это [так же](#means_calc), как и в предыдущих случаях. Для группировки будем использовать столбец `total_income_category`.\n",
    "\n",
    "Средние значения сохраним в сводной таблице `pivot_debt_vs_income`. Сразу напечатаем её на экране."
   ]
  },
  {
   "cell_type": "code",
   "execution_count": 73,
   "id": "c5da0f03",
   "metadata": {},
   "outputs": [
    {
     "data": {
      "text/html": [
       "<div>\n",
       "<style scoped>\n",
       "    .dataframe tbody tr th:only-of-type {\n",
       "        vertical-align: middle;\n",
       "    }\n",
       "\n",
       "    .dataframe tbody tr th {\n",
       "        vertical-align: top;\n",
       "    }\n",
       "\n",
       "    .dataframe thead th {\n",
       "        text-align: right;\n",
       "    }\n",
       "</style>\n",
       "<table border=\"1\" class=\"dataframe\">\n",
       "  <thead>\n",
       "    <tr style=\"text-align: right;\">\n",
       "      <th></th>\n",
       "      <th>debt</th>\n",
       "    </tr>\n",
       "    <tr>\n",
       "      <th>total_income_category</th>\n",
       "      <th></th>\n",
       "    </tr>\n",
       "  </thead>\n",
       "  <tbody>\n",
       "    <tr>\n",
       "      <th>A</th>\n",
       "      <td>0.080000</td>\n",
       "    </tr>\n",
       "    <tr>\n",
       "      <th>B</th>\n",
       "      <td>0.070784</td>\n",
       "    </tr>\n",
       "    <tr>\n",
       "      <th>C</th>\n",
       "      <td>0.084921</td>\n",
       "    </tr>\n",
       "    <tr>\n",
       "      <th>D</th>\n",
       "      <td>0.060519</td>\n",
       "    </tr>\n",
       "    <tr>\n",
       "      <th>E</th>\n",
       "      <td>0.090909</td>\n",
       "    </tr>\n",
       "  </tbody>\n",
       "</table>\n",
       "</div>"
      ],
      "text/plain": [
       "                           debt\n",
       "total_income_category          \n",
       "A                      0.080000\n",
       "B                      0.070784\n",
       "C                      0.084921\n",
       "D                      0.060519\n",
       "E                      0.090909"
      ]
     },
     "execution_count": 73,
     "metadata": {},
     "output_type": "execute_result"
    }
   ],
   "source": [
    "pivot_debt_vs_income = solvency.pivot_table(index=['total_income_category'], values='debt', aggfunc='mean')\n",
    "pivot_debt_vs_income"
   ]
  },
  {
   "cell_type": "markdown",
   "id": "70dca562",
   "metadata": {},
   "source": [
    "Как и в случае [предыдущих](#check_means) гипотез, \"на глаз\" проверим адекватность рассчитанных средних."
   ]
  },
  {
   "cell_type": "code",
   "execution_count": 74,
   "id": "406d74ee",
   "metadata": {},
   "outputs": [
    {
     "data": {
      "text/plain": [
       "C    15850\n",
       "B     4987\n",
       "D      347\n",
       "A       25\n",
       "E       22\n",
       "Name: total_income_category, dtype: int64"
      ]
     },
     "execution_count": 74,
     "metadata": {},
     "output_type": "execute_result"
    }
   ],
   "source": [
    "solvency['total_income_category'].value_counts()"
   ]
  },
  {
   "cell_type": "markdown",
   "id": "8e054d77",
   "metadata": {},
   "source": [
    "Для \"хвостовых\" категорий `A` и `E` размер выборки очень небольшой, поэтому мы не будем принимать во внимание рассчитанные по ним значения."
   ]
  },
  {
   "cell_type": "markdown",
   "id": "af3279bf",
   "metadata": {},
   "source": [
    "По рассчитанным средним для категорий `B`, `C` и `D` видно, что при снижении уровня дохода не происходит однозначного увеличения вероятности невозврата кредита в срок."
   ]
  },
  {
   "cell_type": "markdown",
   "id": "52f0a29c",
   "metadata": {},
   "source": [
    "**Вывод**\n",
    "\n",
    "Гипотеза *не* подтверждается: зависимости между уровнем дохода и своевременным погашением кредита нет.\n",
    "\n",
    "Впрочем, этот вывод не следует считать окончательным. Дело в том, что исход проведённой нами проверки гипотезы в значительной степени зависит от выбранного ранее способа выделения категорий по доходу. Если бы мы выбрали для них другие граничные значения или ввели бы дополнительные категории, результат мог бы быть другим.\n",
    "\n",
    "Для проверки этой гипотезы лучше подошли бы эконометрические методы (это утверждение в общем-то касается и проверки всех остальных гипотез)."
   ]
  },
  {
   "cell_type": "markdown",
   "id": "779e1995",
   "metadata": {},
   "source": [
    "### Зависимость между целью кредита и возвратом кредита в срок"
   ]
  },
  {
   "cell_type": "markdown",
   "id": "36bdc7f8",
   "metadata": {},
   "source": [
    "Проверим гипотезу о наличии зависимости между целью кредита и возвратом кредита в срок [так же](#means_calc), как проверяли другие гипотезы. Для группировки будем использовать столбец `purpose_category`.\n",
    "\n",
    "Средние значения сохраним в сводной таблице `pivot_debt_vs_purpose`. Сразу напечатаем её на экранe."
   ]
  },
  {
   "cell_type": "code",
   "execution_count": 75,
   "id": "1fdd3e0f",
   "metadata": {},
   "outputs": [
    {
     "data": {
      "text/html": [
       "<div>\n",
       "<style scoped>\n",
       "    .dataframe tbody tr th:only-of-type {\n",
       "        vertical-align: middle;\n",
       "    }\n",
       "\n",
       "    .dataframe tbody tr th {\n",
       "        vertical-align: top;\n",
       "    }\n",
       "\n",
       "    .dataframe thead th {\n",
       "        text-align: right;\n",
       "    }\n",
       "</style>\n",
       "<table border=\"1\" class=\"dataframe\">\n",
       "  <thead>\n",
       "    <tr style=\"text-align: right;\">\n",
       "      <th></th>\n",
       "      <th>debt</th>\n",
       "    </tr>\n",
       "    <tr>\n",
       "      <th>purpose_category</th>\n",
       "      <th></th>\n",
       "    </tr>\n",
       "  </thead>\n",
       "  <tbody>\n",
       "    <tr>\n",
       "      <th>операции с автомобилем</th>\n",
       "      <td>0.093236</td>\n",
       "    </tr>\n",
       "    <tr>\n",
       "      <th>операции с недвижимостью</th>\n",
       "      <td>0.072590</td>\n",
       "    </tr>\n",
       "    <tr>\n",
       "      <th>получение образования</th>\n",
       "      <td>0.092947</td>\n",
       "    </tr>\n",
       "    <tr>\n",
       "      <th>проведение свадьбы</th>\n",
       "      <td>0.078730</td>\n",
       "    </tr>\n",
       "  </tbody>\n",
       "</table>\n",
       "</div>"
      ],
      "text/plain": [
       "                              debt\n",
       "purpose_category                  \n",
       "операции с автомобилем    0.093236\n",
       "операции с недвижимостью  0.072590\n",
       "получение образования     0.092947\n",
       "проведение свадьбы        0.078730"
      ]
     },
     "execution_count": 75,
     "metadata": {},
     "output_type": "execute_result"
    }
   ],
   "source": [
    "pivot_debt_vs_purpose = solvency.pivot_table(index=['purpose_category'], values='debt', aggfunc='mean')\n",
    "pivot_debt_vs_purpose"
   ]
  },
  {
   "cell_type": "markdown",
   "id": "7a2949f5",
   "metadata": {},
   "source": [
    "Как и в случае [предыдущих](#check_means) гипотез, \"на глаз\" проверим адекватность рассчитанных средних."
   ]
  },
  {
   "cell_type": "code",
   "execution_count": 76,
   "id": "3e0941ce",
   "metadata": {},
   "outputs": [
    {
     "data": {
      "text/plain": [
       "операции с недвижимостью    10704\n",
       "операции с автомобилем       4258\n",
       "получение образования        3970\n",
       "проведение свадьбы           2299\n",
       "Name: purpose_category, dtype: int64"
      ]
     },
     "execution_count": 76,
     "metadata": {},
     "output_type": "execute_result"
    }
   ],
   "source": [
    "solvency['purpose_category'].value_counts()"
   ]
  },
  {
   "cell_type": "markdown",
   "id": "a443fcc8",
   "metadata": {},
   "source": [
    "Для всех категорий цели выборка достаточно большая, поэтому будем считать рассчитанные для них средние соответствующими генеральной совокупности."
   ]
  },
  {
   "cell_type": "markdown",
   "id": "3cba49f1",
   "metadata": {},
   "source": [
    "По рассчитанным средним можно сделать такой вывод (в среднем при прочих равных): клиенты, которые берут кредит для получения образования или операций с автомобием, чаще не погашают кредит в срок, чем клиенты, которые намереваются использовать кредит для проведения свадьбы или операций с недвижимостью.\n",
    "\n",
    "**Вывод**\n",
    "\n",
    "Гипотеза подтверждается: цель кредита и возврат кредита в срок действительно взаимосвязаны."
   ]
  },
  {
   "cell_type": "markdown",
   "id": "51416957",
   "metadata": {},
   "source": [
    "## Итоги исследования"
   ]
  },
  {
   "cell_type": "markdown",
   "id": "cb2a6391",
   "metadata": {},
   "source": [
    "В начале исследования была проведена предобработка данных. В ходе неё были выполнены следующие операции:\n",
    "\n",
    "1. *Обнаружены и заполнены пропуски в столбцах `days_employed` и `total_income`*. Пропуски в стобце `days_employed` были заполнены медианой по положительным значениям столбца с предварительно исключенными артефактами, а в столбце `total_income` — медианами по столбцу, рассчитанными по типам дохода из столбца `income_type`.\n",
    "\n",
    "\n",
    "2. *Обнаружены и устранены артефакты*. В столбце `days_employed` были устранены неправдоподобно большие значения (заменены на медиану по положительным значениям столбца) и отрицательные значения (умножены на `-1`). Были удалены строки с нулевыми значениями в столбце `dob_years`, а также с отрицательными (точнее, текстовыми) и неправдобно большими значениями в столбце `children`. \n",
    "\n",
    "\n",
    "3. *Исправлены типы данных в столбцах `children`, `total_income`, `days_employed`.* Значения в этих столбцах были приведены к целочисленному формату.\n",
    "\n",
    "\n",
    "4. *Устранены дубликаты, возникшие из-за заполнения некоторых ячеек медианными значениями.*\n",
    "\n",
    "\n",
    "5. *Была проведена категоризация данных*. Выделены категории по размеру дохода. Также категориальные строковые значения в столбцах `education`, `family_status` и `income_type` заменены числовыми идентификаторами.\n",
    "\n",
    "Затем мы проверили четыре гипотезы и установили:\n",
    "\n",
    "1. *Наличие детей у заёмщика влияет на его или её платёжеспособность*. В то же время их количество не имеет большого значения с точки зрения платёжеспособности.\n",
    "\n",
    "\n",
    "2. *Семейное положение влияет на платёжеспособность заёмщика*. Чаще всего не выплачивают кредит в срок неженатые/незамужние и разведённые клиенты, а реже всего — вдовы и вдовцы.\n",
    "\n",
    "\n",
    "3. *Уровень дохода **не** влияет на  платёжеспособность заёмщика*. Данный вывод, однако, может быть искажённым в силу несовершенства доступных методов проверки гипотезы.\n",
    "\n",
    "\n",
    "4. *Цель кредита влияет на платёжеспособность заёмщика*. К непогашению кредита в срок наиболее склонны те клиенты, которые берут его с целью операций с автомобилем или получения образования, а наименее склонны те, кто занимает для проведения операций с недвижимостью.\n",
    "\n",
    "Эту информацию необходимо учитывать при подборе условий кредита и принятии решения о его предоставлении. Кроме того, она пригодится для формирования линейки продуктов банка и маркетинга.\n",
    "\n",
    "**Рекомендации**\n",
    "\n",
    "1. *Проверить возможные ошибки в интерпретации десятичного разделителся программой, формирующей выгрузку.* Пропуски возникли, вероятно, из-за формата десятичного разделителя, использованного при вводе данных и неверно обработанного при формировании выгрузки. Это хорошо бы проверить. Если эта ошибка возникла до формирования выгрузки, то стоит проверить исходную базу данных банка на предмет отсутствующих значений.\n",
    "\n",
    "\n",
    "2. *Проверить алгоритм расчёта стажа*. Есть впечатление, что отрицательные значения стажа возникли из-за того, что в алгоритме его расчёте перепутаны местами уменьшаемое и вычитаемое.\n",
    "\n",
    "\n",
    "3. *Проверить, какие значения в столбце `children` при формировании выгрузки (или в самой базе данных) заменяются на `'−1'`.* Не теряются ли из-за этого какие-то данные? И ещё стоит заменить заполнитель на какой-нибудь другой целочисленный. Например, `-1` [подойдёт](#minuses).\n",
    "\n",
    "\n",
    "4. *Проверить, на каком этапе и из-за чего возникают неправодобно большие значения стажа и количества детей, а также нулевой возраст.*"
   ]
  }
 ],
 "metadata": {
  "ExecuteTimeLog": [
   {
    "duration": 3598,
    "start_time": "2022-05-06T13:34:43.344Z"
   },
   {
    "duration": 16,
    "start_time": "2022-05-06T13:34:46.944Z"
   },
   {
    "duration": 9,
    "start_time": "2022-05-06T13:34:46.961Z"
   },
   {
    "duration": 9,
    "start_time": "2022-05-06T13:34:46.972Z"
   },
   {
    "duration": 28,
    "start_time": "2022-05-06T13:34:46.982Z"
   },
   {
    "duration": 9,
    "start_time": "2022-05-06T13:34:47.011Z"
   },
   {
    "duration": 8,
    "start_time": "2022-05-06T13:34:47.022Z"
   },
   {
    "duration": 5,
    "start_time": "2022-05-06T13:34:47.032Z"
   },
   {
    "duration": 107,
    "start_time": "2022-05-06T13:34:47.039Z"
   },
   {
    "duration": 3,
    "start_time": "2022-05-06T13:34:47.150Z"
   },
   {
    "duration": 8,
    "start_time": "2022-05-06T13:34:47.155Z"
   },
   {
    "duration": 8,
    "start_time": "2022-05-06T13:34:47.165Z"
   },
   {
    "duration": 5,
    "start_time": "2022-05-06T13:34:47.175Z"
   },
   {
    "duration": 21,
    "start_time": "2022-05-06T13:34:47.182Z"
   },
   {
    "duration": 8,
    "start_time": "2022-05-06T13:34:47.206Z"
   },
   {
    "duration": 10,
    "start_time": "2022-05-06T13:34:47.215Z"
   },
   {
    "duration": 7,
    "start_time": "2022-05-06T13:34:47.227Z"
   },
   {
    "duration": 7,
    "start_time": "2022-05-06T13:34:47.236Z"
   },
   {
    "duration": 6,
    "start_time": "2022-05-06T13:34:47.245Z"
   },
   {
    "duration": 7,
    "start_time": "2022-05-06T13:34:47.252Z"
   },
   {
    "duration": 6,
    "start_time": "2022-05-06T13:34:47.260Z"
   },
   {
    "duration": 5,
    "start_time": "2022-05-06T13:34:47.300Z"
   },
   {
    "duration": 49,
    "start_time": "2022-05-06T13:34:47.307Z"
   },
   {
    "duration": 33,
    "start_time": "2022-05-06T13:34:47.357Z"
   },
   {
    "duration": 8,
    "start_time": "2022-05-06T13:34:47.392Z"
   },
   {
    "duration": 10,
    "start_time": "2022-05-06T13:34:47.402Z"
   },
   {
    "duration": 10,
    "start_time": "2022-05-06T13:34:47.413Z"
   },
   {
    "duration": 6,
    "start_time": "2022-05-06T13:34:47.427Z"
   },
   {
    "duration": 13,
    "start_time": "2022-05-06T13:34:47.435Z"
   },
   {
    "duration": 10,
    "start_time": "2022-05-06T13:34:47.450Z"
   },
   {
    "duration": 42,
    "start_time": "2022-05-06T13:34:47.462Z"
   },
   {
    "duration": 4,
    "start_time": "2022-05-06T13:34:47.506Z"
   },
   {
    "duration": 16,
    "start_time": "2022-05-06T13:34:47.512Z"
   },
   {
    "duration": 11,
    "start_time": "2022-05-06T13:34:47.530Z"
   },
   {
    "duration": 6,
    "start_time": "2022-05-06T13:34:47.543Z"
   },
   {
    "duration": 53,
    "start_time": "2022-05-06T13:34:47.551Z"
   },
   {
    "duration": 12,
    "start_time": "2022-05-06T13:34:47.606Z"
   },
   {
    "duration": 6,
    "start_time": "2022-05-06T13:34:47.620Z"
   },
   {
    "duration": 10,
    "start_time": "2022-05-06T13:34:47.628Z"
   },
   {
    "duration": 7,
    "start_time": "2022-05-06T13:34:47.639Z"
   },
   {
    "duration": 54,
    "start_time": "2022-05-06T13:34:47.648Z"
   },
   {
    "duration": 11,
    "start_time": "2022-05-06T13:34:47.704Z"
   },
   {
    "duration": 23,
    "start_time": "2022-05-06T13:34:47.717Z"
   },
   {
    "duration": 22,
    "start_time": "2022-05-06T13:34:47.742Z"
   },
   {
    "duration": 35,
    "start_time": "2022-05-06T13:34:47.765Z"
   },
   {
    "duration": 18,
    "start_time": "2022-05-06T13:34:47.802Z"
   },
   {
    "duration": 16,
    "start_time": "2022-05-06T13:34:47.821Z"
   },
   {
    "duration": 20,
    "start_time": "2022-05-06T13:34:47.839Z"
   },
   {
    "duration": 9,
    "start_time": "2022-05-06T13:34:47.861Z"
   },
   {
    "duration": 10,
    "start_time": "2022-05-06T13:34:47.900Z"
   },
   {
    "duration": 8,
    "start_time": "2022-05-06T13:34:47.912Z"
   },
   {
    "duration": 8,
    "start_time": "2022-05-06T13:34:47.922Z"
   },
   {
    "duration": 3689,
    "start_time": "2022-05-06T13:34:47.932Z"
   },
   {
    "duration": 4,
    "start_time": "2022-05-06T13:34:51.623Z"
   },
   {
    "duration": 5,
    "start_time": "2022-05-06T13:34:51.628Z"
   },
   {
    "duration": 8,
    "start_time": "2022-05-06T13:34:51.634Z"
   },
   {
    "duration": 13,
    "start_time": "2022-05-06T13:34:51.643Z"
   },
   {
    "duration": 8,
    "start_time": "2022-05-06T13:34:51.658Z"
   },
   {
    "duration": 10,
    "start_time": "2022-05-06T13:34:51.667Z"
   },
   {
    "duration": 9,
    "start_time": "2022-05-06T13:34:51.699Z"
   },
   {
    "duration": 9,
    "start_time": "2022-05-06T13:34:51.710Z"
   },
   {
    "duration": 15,
    "start_time": "2022-05-06T13:34:51.721Z"
   },
   {
    "duration": 5,
    "start_time": "2022-05-06T13:34:51.738Z"
   },
   {
    "duration": 16,
    "start_time": "2022-05-06T13:34:51.744Z"
   },
   {
    "duration": 5,
    "start_time": "2022-05-06T13:34:51.762Z"
   },
   {
    "duration": 14,
    "start_time": "2022-05-06T13:34:51.801Z"
   },
   {
    "duration": 7,
    "start_time": "2022-05-06T13:34:51.817Z"
   },
   {
    "duration": 19,
    "start_time": "2022-05-06T13:34:51.825Z"
   },
   {
    "duration": 6,
    "start_time": "2022-05-06T13:34:51.846Z"
   },
   {
    "duration": 66,
    "start_time": "2022-05-06T13:43:02.684Z"
   },
   {
    "duration": 222,
    "start_time": "2022-05-06T13:47:04.334Z"
   },
   {
    "duration": 239,
    "start_time": "2022-05-06T13:51:31.417Z"
   },
   {
    "duration": 217,
    "start_time": "2022-05-06T13:55:22.601Z"
   },
   {
    "duration": 3064,
    "start_time": "2022-05-06T13:55:42.595Z"
   },
   {
    "duration": 8090,
    "start_time": "2022-05-06T13:56:17.389Z"
   },
   {
    "duration": 14,
    "start_time": "2022-05-06T13:56:25.481Z"
   },
   {
    "duration": 6,
    "start_time": "2022-05-06T13:56:25.496Z"
   },
   {
    "duration": 5,
    "start_time": "2022-05-06T13:56:25.504Z"
   },
   {
    "duration": 14,
    "start_time": "2022-05-06T13:56:25.510Z"
   },
   {
    "duration": 6,
    "start_time": "2022-05-06T13:56:25.526Z"
   },
   {
    "duration": 6,
    "start_time": "2022-05-06T13:56:25.533Z"
   },
   {
    "duration": 4,
    "start_time": "2022-05-06T13:56:25.541Z"
   },
   {
    "duration": 9,
    "start_time": "2022-05-06T13:56:25.546Z"
   },
   {
    "duration": 2,
    "start_time": "2022-05-06T13:56:25.558Z"
   },
   {
    "duration": 43,
    "start_time": "2022-05-06T13:56:25.562Z"
   },
   {
    "duration": 6,
    "start_time": "2022-05-06T13:56:25.607Z"
   },
   {
    "duration": 6,
    "start_time": "2022-05-06T13:56:25.615Z"
   },
   {
    "duration": 15,
    "start_time": "2022-05-06T13:56:25.622Z"
   },
   {
    "duration": 5,
    "start_time": "2022-05-06T13:56:25.638Z"
   },
   {
    "duration": 15,
    "start_time": "2022-05-06T13:56:25.644Z"
   },
   {
    "duration": 9,
    "start_time": "2022-05-06T13:56:25.661Z"
   },
   {
    "duration": 30,
    "start_time": "2022-05-06T13:56:25.671Z"
   },
   {
    "duration": 13,
    "start_time": "2022-05-06T13:56:25.702Z"
   },
   {
    "duration": 12,
    "start_time": "2022-05-06T13:56:25.716Z"
   },
   {
    "duration": 11,
    "start_time": "2022-05-06T13:56:25.729Z"
   },
   {
    "duration": 8,
    "start_time": "2022-05-06T13:56:25.741Z"
   },
   {
    "duration": 45,
    "start_time": "2022-05-06T13:56:25.750Z"
   },
   {
    "duration": 11,
    "start_time": "2022-05-06T13:56:25.796Z"
   },
   {
    "duration": 5,
    "start_time": "2022-05-06T13:56:25.809Z"
   },
   {
    "duration": 5,
    "start_time": "2022-05-06T13:56:25.816Z"
   },
   {
    "duration": 5,
    "start_time": "2022-05-06T13:56:25.823Z"
   },
   {
    "duration": 5,
    "start_time": "2022-05-06T13:56:25.832Z"
   },
   {
    "duration": 14,
    "start_time": "2022-05-06T13:56:25.839Z"
   },
   {
    "duration": 9,
    "start_time": "2022-05-06T13:56:25.854Z"
   },
   {
    "duration": 15,
    "start_time": "2022-05-06T13:56:25.899Z"
   },
   {
    "duration": 5,
    "start_time": "2022-05-06T13:56:25.915Z"
   },
   {
    "duration": 16,
    "start_time": "2022-05-06T13:56:25.921Z"
   },
   {
    "duration": 12,
    "start_time": "2022-05-06T13:56:25.938Z"
   },
   {
    "duration": 5,
    "start_time": "2022-05-06T13:56:25.952Z"
   },
   {
    "duration": 43,
    "start_time": "2022-05-06T13:56:25.958Z"
   },
   {
    "duration": 10,
    "start_time": "2022-05-06T13:56:26.002Z"
   },
   {
    "duration": 8,
    "start_time": "2022-05-06T13:56:26.013Z"
   },
   {
    "duration": 7,
    "start_time": "2022-05-06T13:56:26.023Z"
   },
   {
    "duration": 7,
    "start_time": "2022-05-06T13:56:26.031Z"
   },
   {
    "duration": 16,
    "start_time": "2022-05-06T13:56:26.039Z"
   },
   {
    "duration": 10,
    "start_time": "2022-05-06T13:56:26.056Z"
   },
   {
    "duration": 45,
    "start_time": "2022-05-06T13:56:26.067Z"
   },
   {
    "duration": 22,
    "start_time": "2022-05-06T13:56:26.113Z"
   },
   {
    "duration": 6,
    "start_time": "2022-05-06T13:56:26.136Z"
   },
   {
    "duration": 18,
    "start_time": "2022-05-06T13:56:26.144Z"
   },
   {
    "duration": 38,
    "start_time": "2022-05-06T13:56:26.163Z"
   },
   {
    "duration": 17,
    "start_time": "2022-05-06T13:56:26.202Z"
   },
   {
    "duration": 4,
    "start_time": "2022-05-06T13:56:26.220Z"
   },
   {
    "duration": 13,
    "start_time": "2022-05-06T13:56:26.225Z"
   },
   {
    "duration": 3,
    "start_time": "2022-05-06T13:56:26.239Z"
   },
   {
    "duration": 6,
    "start_time": "2022-05-06T13:56:26.243Z"
   },
   {
    "duration": 85,
    "start_time": "2022-05-06T13:56:26.251Z"
   },
   {
    "duration": 0,
    "start_time": "2022-05-06T13:56:26.338Z"
   },
   {
    "duration": 0,
    "start_time": "2022-05-06T13:56:26.339Z"
   },
   {
    "duration": 0,
    "start_time": "2022-05-06T13:56:26.341Z"
   },
   {
    "duration": 0,
    "start_time": "2022-05-06T13:56:26.342Z"
   },
   {
    "duration": 0,
    "start_time": "2022-05-06T13:56:26.343Z"
   },
   {
    "duration": 0,
    "start_time": "2022-05-06T13:56:26.344Z"
   },
   {
    "duration": 0,
    "start_time": "2022-05-06T13:56:26.345Z"
   },
   {
    "duration": 0,
    "start_time": "2022-05-06T13:56:26.346Z"
   },
   {
    "duration": 0,
    "start_time": "2022-05-06T13:56:26.347Z"
   },
   {
    "duration": 0,
    "start_time": "2022-05-06T13:56:26.348Z"
   },
   {
    "duration": 0,
    "start_time": "2022-05-06T13:56:26.349Z"
   },
   {
    "duration": 0,
    "start_time": "2022-05-06T13:56:26.350Z"
   },
   {
    "duration": 0,
    "start_time": "2022-05-06T13:56:26.352Z"
   },
   {
    "duration": 0,
    "start_time": "2022-05-06T13:56:26.353Z"
   },
   {
    "duration": 0,
    "start_time": "2022-05-06T13:56:26.354Z"
   },
   {
    "duration": 0,
    "start_time": "2022-05-06T13:56:26.355Z"
   },
   {
    "duration": 0,
    "start_time": "2022-05-06T13:56:26.356Z"
   },
   {
    "duration": 0,
    "start_time": "2022-05-06T13:56:26.357Z"
   },
   {
    "duration": 5,
    "start_time": "2022-05-06T13:56:37.241Z"
   },
   {
    "duration": 792,
    "start_time": "2022-05-06T13:56:52.064Z"
   },
   {
    "duration": 5,
    "start_time": "2022-05-06T13:57:06.537Z"
   },
   {
    "duration": 8,
    "start_time": "2022-05-06T13:57:13.884Z"
   },
   {
    "duration": 5,
    "start_time": "2022-05-06T13:57:31.635Z"
   },
   {
    "duration": 4,
    "start_time": "2022-05-06T13:57:51.246Z"
   },
   {
    "duration": 8,
    "start_time": "2022-05-06T13:57:59.086Z"
   },
   {
    "duration": 6,
    "start_time": "2022-05-06T13:58:09.151Z"
   },
   {
    "duration": 3527,
    "start_time": "2022-05-06T13:59:43.248Z"
   },
   {
    "duration": 4,
    "start_time": "2022-05-06T13:59:46.777Z"
   },
   {
    "duration": 5,
    "start_time": "2022-05-06T13:59:46.782Z"
   },
   {
    "duration": 12,
    "start_time": "2022-05-06T13:59:46.789Z"
   },
   {
    "duration": 10,
    "start_time": "2022-05-06T13:59:46.802Z"
   },
   {
    "duration": 3,
    "start_time": "2022-05-06T13:59:46.813Z"
   },
   {
    "duration": 7,
    "start_time": "2022-05-06T13:59:46.817Z"
   },
   {
    "duration": 10,
    "start_time": "2022-05-06T13:59:46.825Z"
   },
   {
    "duration": 6,
    "start_time": "2022-05-06T13:59:46.836Z"
   },
   {
    "duration": 21,
    "start_time": "2022-05-06T14:00:38.899Z"
   },
   {
    "duration": 6,
    "start_time": "2022-05-06T14:00:40.288Z"
   },
   {
    "duration": 16,
    "start_time": "2022-05-06T14:00:41.435Z"
   },
   {
    "duration": 5,
    "start_time": "2022-05-06T14:00:41.919Z"
   },
   {
    "duration": 13,
    "start_time": "2022-05-06T14:00:42.938Z"
   },
   {
    "duration": 6,
    "start_time": "2022-05-06T14:00:43.320Z"
   },
   {
    "duration": 13,
    "start_time": "2022-05-06T14:00:44.545Z"
   },
   {
    "duration": 7,
    "start_time": "2022-05-06T14:00:45.063Z"
   },
   {
    "duration": 449,
    "start_time": "2022-05-06T14:01:33.876Z"
   }
  ],
  "kernelspec": {
   "display_name": "Python 3 (ipykernel)",
   "language": "python",
   "name": "python3"
  },
  "language_info": {
   "codemirror_mode": {
    "name": "ipython",
    "version": 3
   },
   "file_extension": ".py",
   "mimetype": "text/x-python",
   "name": "python",
   "nbconvert_exporter": "python",
   "pygments_lexer": "ipython3",
   "version": "3.9.7"
  },
  "toc": {
   "base_numbering": 1,
   "nav_menu": {},
   "number_sections": true,
   "sideBar": true,
   "skip_h1_title": true,
   "title_cell": "Содержание",
   "title_sidebar": "Содержание",
   "toc_cell": true,
   "toc_position": {},
   "toc_section_display": true,
   "toc_window_display": true
  },
  "toc-autonumbering": true
 },
 "nbformat": 4,
 "nbformat_minor": 5
}
