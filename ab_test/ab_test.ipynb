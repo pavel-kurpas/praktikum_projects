{
 "cells": [
  {
   "cell_type": "markdown",
   "id": "c3502796",
   "metadata": {
    "toc": true
   },
   "source": [
    "<h1>Содержание<span class=\"tocSkip\"></span></h1>\n",
    "<div class=\"toc\"><ul class=\"toc-item\"><li><span><a href=\"#Приоритизация-гипотез\" data-toc-modified-id=\"Приоритизация-гипотез-1\"><span class=\"toc-item-num\">1&nbsp;&nbsp;</span>Приоритизация гипотез</a></span><ul class=\"toc-item\"><li><span><a href=\"#Фреймворк-ICE\" data-toc-modified-id=\"Фреймворк-ICE-1.1\"><span class=\"toc-item-num\">1.1&nbsp;&nbsp;</span>Фреймворк <code>ICE</code></a></span></li><li><span><a href=\"#Фреймворк-RICE\" data-toc-modified-id=\"Фреймворк-RICE-1.2\"><span class=\"toc-item-num\">1.2&nbsp;&nbsp;</span>Фреймворк <code>RICE</code></a></span></li><li><span><a href=\"#Сравнение-результатов-приоритизации\" data-toc-modified-id=\"Сравнение-результатов-приоритизации-1.3\"><span class=\"toc-item-num\">1.3&nbsp;&nbsp;</span>Сравнение результатов приоритизации</a></span></li></ul></li><li><span><a href=\"#A/B-тест\" data-toc-modified-id=\"A/B-тест-2\"><span class=\"toc-item-num\">2&nbsp;&nbsp;</span>A/B-тест</a></span><ul class=\"toc-item\"><li><span><a href=\"#Обзор-данных\" data-toc-modified-id=\"Обзор-данных-2.1\"><span class=\"toc-item-num\">2.1&nbsp;&nbsp;</span>Обзор данных</a></span></li><li><span><a href=\"#Предобработка-данных\" data-toc-modified-id=\"Предобработка-данных-2.2\"><span class=\"toc-item-num\">2.2&nbsp;&nbsp;</span>Предобработка данных</a></span><ul class=\"toc-item\"><li><span><a href=\"#Переименование-столбцов\" data-toc-modified-id=\"Переименование-столбцов-2.2.1\"><span class=\"toc-item-num\">2.2.1&nbsp;&nbsp;</span>Переименование столбцов</a></span></li><li><span><a href=\"#Типы-данных\" data-toc-modified-id=\"Типы-данных-2.2.2\"><span class=\"toc-item-num\">2.2.2&nbsp;&nbsp;</span>Типы данных</a></span></li><li><span><a href=\"#Поиск-артефактов\" data-toc-modified-id=\"Поиск-артефактов-2.2.3\"><span class=\"toc-item-num\">2.2.3&nbsp;&nbsp;</span>Поиск артефактов</a></span></li><li><span><a href=\"#Агрегирование-данных-для-анализа\" data-toc-modified-id=\"Агрегирование-данных-для-анализа-2.2.4\"><span class=\"toc-item-num\">2.2.4&nbsp;&nbsp;</span>Агрегирование данных для анализа</a></span></li></ul></li><li><span><a href=\"#Анализ-результатов-A/B-теста\" data-toc-modified-id=\"Анализ-результатов-A/B-теста-2.3\"><span class=\"toc-item-num\">2.3&nbsp;&nbsp;</span>Анализ результатов A/B-теста</a></span><ul class=\"toc-item\"><li><span><a href=\"#Анализ-кумулятивных-показателей\" data-toc-modified-id=\"Анализ-кумулятивных-показателей-2.3.1\"><span class=\"toc-item-num\">2.3.1&nbsp;&nbsp;</span>Анализ кумулятивных показателей</a></span></li><li><span><a href=\"#Анализ-средних-показателей\" data-toc-modified-id=\"Анализ-средних-показателей-2.3.2\"><span class=\"toc-item-num\">2.3.2&nbsp;&nbsp;</span>Анализ средних показателей</a></span></li><li><span><a href=\"#Анализ-различий-между-группами-по-сырым-данным\" data-toc-modified-id=\"Анализ-различий-между-группами-по-сырым-данным-2.3.3\"><span class=\"toc-item-num\">2.3.3&nbsp;&nbsp;</span>Анализ различий между группами по сырым данным</a></span></li><li><span><a href=\"#Анализ-различий-между-группами-по-очищенным-данным\" data-toc-modified-id=\"Анализ-различий-между-группами-по-очищенным-данным-2.3.4\"><span class=\"toc-item-num\">2.3.4&nbsp;&nbsp;</span>Анализ различий между группами по очищенным данным</a></span></li><li><span><a href=\"#Решение-об-остановке-тестирования\" data-toc-modified-id=\"Решение-об-остановке-тестирования-2.3.5\"><span class=\"toc-item-num\">2.3.5&nbsp;&nbsp;</span>Решение об остановке тестирования</a></span></li></ul></li></ul></li><li><span><a href=\"#Выводы\" data-toc-modified-id=\"Выводы-3\"><span class=\"toc-item-num\">3&nbsp;&nbsp;</span>Выводы</a></span></li></ul></div>"
   ]
  },
  {
   "cell_type": "markdown",
   "id": "c9228890",
   "metadata": {},
   "source": [
    "Данный проект состоит из двух частей. В первой части приоритизация гипотез, а вторая часть посвящена A/B-тесту.\n",
    "\n",
    "**Цель первой части проекта** — выявить наиболее приоритетную гипотезу для проведения A/B-теста.\n",
    "\n",
    "**Цель второй части проекта** — принять решение о целесообразности реализации гипотезы.\n",
    "\n",
    "*Задачи исследования:*\n",
    "\n",
    "1. Приоритизация:\n",
    "    \n",
    "    * приоритизировать гипотезы с помощью фреймворка `ICE`\n",
    "    * приоритизировать гипотезы с помощью фреймворка `RICE`\n",
    "    \n",
    "    \n",
    "2. A/B-тест:\n",
    "\n",
    "    * проанализировать кумулятивные показатели групп\n",
    "    * проанализировать средние показатели групп\n",
    "    * провести статистический анализ различий между группами по «сырым» и «очищенным» данным\n",
    "    \n",
    "*Исследование включает в себя следующие этапы:*\n",
    "\n",
    "1. Приоритизация:\n",
    "    \n",
    "    * применение фреймворка `ICE`\n",
    "    * применение фреймворка `RICE`\n",
    "    * сравнение результатов по фреймворкам\n",
    "    \n",
    "    \n",
    "2. A/B-тест:\n",
    "\n",
    "    * первичный обзор данных\n",
    "    \n",
    "    * предобработка данных:\n",
    "        \n",
    "        * переименование столбцов\n",
    "        * изменение типов данных\n",
    "        * поиск артефактов\n",
    "        * агрегирование данных для анализа\n",
    "    \n",
    "    * анализ результатов A/B-теста:\n",
    "        \n",
    "        * кумулятивные показатели\n",
    "        * средние показатели\n",
    "        * статистический анализ различий между группами по «сырым» данным\n",
    "        * статистический анализ различий между группами по «очищенным» данным\n",
    "\n",
    "Источник данных — обработанный лог сервера и данные о покупках."
   ]
  },
  {
   "cell_type": "markdown",
   "id": "4090260e",
   "metadata": {},
   "source": [
    "# Приоритизация гипотез и A/B-тест"
   ]
  },
  {
   "cell_type": "markdown",
   "id": "6f2d92d0",
   "metadata": {},
   "source": [
    "Перед началом работы загрузим все необходимые библиотеки и модули."
   ]
  },
  {
   "cell_type": "code",
   "execution_count": 1,
   "id": "d9968f4d",
   "metadata": {},
   "outputs": [],
   "source": [
    "import numpy as np\n",
    "import pandas as pd\n",
    "import scipy.stats as st\n",
    "import seaborn as sns\n",
    "from matplotlib import pyplot as plt\n",
    "from matplotlib.ticker import AutoMinorLocator, NullLocator\n",
    "\n",
    "\n",
    "%matplotlib inline"
   ]
  },
  {
   "cell_type": "markdown",
   "id": "a7f43a93",
   "metadata": {},
   "source": [
    "## Приоритизация гипотез"
   ]
  },
  {
   "cell_type": "markdown",
   "id": "e2b7eaec",
   "metadata": {},
   "source": [
    "Загрузим данные для приоритизации гипотез A/B-теста и посмотрим содержимое таблицы."
   ]
  },
  {
   "cell_type": "code",
   "execution_count": 2,
   "id": "e1cd5d8a",
   "metadata": {},
   "outputs": [
    {
     "data": {
      "text/html": [
       "<div>\n",
       "<style scoped>\n",
       "    .dataframe tbody tr th:only-of-type {\n",
       "        vertical-align: middle;\n",
       "    }\n",
       "\n",
       "    .dataframe tbody tr th {\n",
       "        vertical-align: top;\n",
       "    }\n",
       "\n",
       "    .dataframe thead th {\n",
       "        text-align: right;\n",
       "    }\n",
       "</style>\n",
       "<table border=\"1\" class=\"dataframe\">\n",
       "  <thead>\n",
       "    <tr style=\"text-align: right;\">\n",
       "      <th></th>\n",
       "      <th>Hypothesis</th>\n",
       "      <th>Reach</th>\n",
       "      <th>Impact</th>\n",
       "      <th>Confidence</th>\n",
       "      <th>Efforts</th>\n",
       "    </tr>\n",
       "  </thead>\n",
       "  <tbody>\n",
       "    <tr>\n",
       "      <th>0</th>\n",
       "      <td>Добавить два новых канала привлечения трафика, что позволит привлекать на 30% больше пользователей</td>\n",
       "      <td>3</td>\n",
       "      <td>10</td>\n",
       "      <td>8</td>\n",
       "      <td>6</td>\n",
       "    </tr>\n",
       "    <tr>\n",
       "      <th>1</th>\n",
       "      <td>Запустить собственную службу доставки, что сократит срок доставки заказов</td>\n",
       "      <td>2</td>\n",
       "      <td>5</td>\n",
       "      <td>4</td>\n",
       "      <td>10</td>\n",
       "    </tr>\n",
       "    <tr>\n",
       "      <th>2</th>\n",
       "      <td>Добавить блоки рекомендаций товаров на сайт интернет магазина, чтобы повысить конверсию и средний чек заказа</td>\n",
       "      <td>8</td>\n",
       "      <td>3</td>\n",
       "      <td>7</td>\n",
       "      <td>3</td>\n",
       "    </tr>\n",
       "    <tr>\n",
       "      <th>3</th>\n",
       "      <td>Изменить структура категорий, что увеличит конверсию, т.к. пользователи быстрее найдут нужный товар</td>\n",
       "      <td>8</td>\n",
       "      <td>3</td>\n",
       "      <td>3</td>\n",
       "      <td>8</td>\n",
       "    </tr>\n",
       "    <tr>\n",
       "      <th>4</th>\n",
       "      <td>Изменить цвет фона главной страницы, чтобы увеличить вовлеченность пользователей</td>\n",
       "      <td>3</td>\n",
       "      <td>1</td>\n",
       "      <td>1</td>\n",
       "      <td>1</td>\n",
       "    </tr>\n",
       "    <tr>\n",
       "      <th>5</th>\n",
       "      <td>Добавить страницу отзывов клиентов о магазине, что позволит увеличить количество заказов</td>\n",
       "      <td>3</td>\n",
       "      <td>2</td>\n",
       "      <td>2</td>\n",
       "      <td>3</td>\n",
       "    </tr>\n",
       "    <tr>\n",
       "      <th>6</th>\n",
       "      <td>Показать на главной странице баннеры с актуальными акциями и распродажами, чтобы увеличить конверсию</td>\n",
       "      <td>5</td>\n",
       "      <td>3</td>\n",
       "      <td>8</td>\n",
       "      <td>3</td>\n",
       "    </tr>\n",
       "    <tr>\n",
       "      <th>7</th>\n",
       "      <td>Добавить форму подписки на все основные страницы, чтобы собрать базу клиентов для email-рассылок</td>\n",
       "      <td>10</td>\n",
       "      <td>7</td>\n",
       "      <td>8</td>\n",
       "      <td>5</td>\n",
       "    </tr>\n",
       "    <tr>\n",
       "      <th>8</th>\n",
       "      <td>Запустить акцию, дающую скидку на товар в день рождения</td>\n",
       "      <td>1</td>\n",
       "      <td>9</td>\n",
       "      <td>9</td>\n",
       "      <td>5</td>\n",
       "    </tr>\n",
       "  </tbody>\n",
       "</table>\n",
       "</div>"
      ],
      "text/plain": [
       "                                                                                                     Hypothesis  \\\n",
       "0            Добавить два новых канала привлечения трафика, что позволит привлекать на 30% больше пользователей   \n",
       "1                                     Запустить собственную службу доставки, что сократит срок доставки заказов   \n",
       "2  Добавить блоки рекомендаций товаров на сайт интернет магазина, чтобы повысить конверсию и средний чек заказа   \n",
       "3           Изменить структура категорий, что увеличит конверсию, т.к. пользователи быстрее найдут нужный товар   \n",
       "4                              Изменить цвет фона главной страницы, чтобы увеличить вовлеченность пользователей   \n",
       "5                      Добавить страницу отзывов клиентов о магазине, что позволит увеличить количество заказов   \n",
       "6          Показать на главной странице баннеры с актуальными акциями и распродажами, чтобы увеличить конверсию   \n",
       "7              Добавить форму подписки на все основные страницы, чтобы собрать базу клиентов для email-рассылок   \n",
       "8                                                       Запустить акцию, дающую скидку на товар в день рождения   \n",
       "\n",
       "   Reach  Impact  Confidence  Efforts  \n",
       "0      3      10           8        6  \n",
       "1      2       5           4       10  \n",
       "2      8       3           7        3  \n",
       "3      8       3           3        8  \n",
       "4      3       1           1        1  \n",
       "5      3       2           2        3  \n",
       "6      5       3           8        3  \n",
       "7     10       7           8        5  \n",
       "8      1       9           9        5  "
      ]
     },
     "execution_count": 2,
     "metadata": {},
     "output_type": "execute_result"
    }
   ],
   "source": [
    "try:\n",
    "    hypotheses = pd.read_csv('/datasets/hypothesis.csv')\n",
    "except FileNotFoundError:\n",
    "    hypotheses = pd.read_csv('hypothesis.csv')\n",
    "    \n",
    "pd.set_option('display.max_colwidth', None)\n",
    "hypotheses"
   ]
  },
  {
   "cell_type": "markdown",
   "id": "ba35005e",
   "metadata": {},
   "source": [
    "Описание данных:\n",
    "\n",
    "`Hypothesis` — краткое описание гипотезы;\n",
    "\n",
    "`Reach` — охват пользователей по 10-балльной шкале;\n",
    "\n",
    "`Impact` — влияние на пользователей по 10-балльной шкале;\n",
    "\n",
    "`Confidence` — уверенность в гипотезе по 10-балльной шкале;\n",
    "\n",
    "`Efforts` — затраты ресурсов на проверку гипотезы по 10-балльной шкале. Чем больше значение `Efforts`, тем дороже проверка гипотезы."
   ]
  },
  {
   "cell_type": "markdown",
   "id": "91808400",
   "metadata": {},
   "source": [
    "Для удобства приведём названия столбцов к `camel_case`:"
   ]
  },
  {
   "cell_type": "code",
   "execution_count": 3,
   "id": "a3318de3",
   "metadata": {},
   "outputs": [],
   "source": [
    "hypotheses.columns = ['hypothesis', 'reach', 'impact', 'confidence', 'efforts']"
   ]
  },
  {
   "cell_type": "markdown",
   "id": "a56d7f99",
   "metadata": {},
   "source": [
    "### Фреймворк `ICE`"
   ]
  },
  {
   "cell_type": "markdown",
   "id": "eb280377",
   "metadata": {},
   "source": [
    "Мы имеем 9 гипотез. Приоритизируем их с помощью фреймворка ICE*, который позволяет агрегировать влияние реализации гипотезы на пользоваталей, уверенность в гипотезе и затраты на её реализацию. Для этого создадим столбец `ice_score`, в который добавим, предварительно округлив до 2 знаков, результат перемножения столбцов `impact` и `confidence`, делённый на столбец `efforts`:\n",
    "\n",
    "\n",
    "\n",
    "*[фреймворк ICE](https://habr.com/ru/company/hygger/blog/424323/) предполагает приоритизацию на основе трёх характеристик гипотезы, оцениваемых по некой шкале (обычно от 1 до 10):\n",
    " \n",
    "*Impact* (Влияние) — демонстрирует, насколько идея положительно повлияет на ключевой показатель, который вы пытаетесь улучшить.\n",
    "\n",
    "*Efforts* (Легкость реализации или простота) — оценка того, сколько усилий и ресурсов требуется для реализации этой идеи.\n",
    "\n",
    "*Confidence* (Уверенность) — показывает степень уверенности в оценках влияния и легкости реализации."
   ]
  },
  {
   "cell_type": "code",
   "execution_count": 4,
   "id": "4e1131ab",
   "metadata": {},
   "outputs": [
    {
     "data": {
      "text/html": [
       "<div>\n",
       "<style scoped>\n",
       "    .dataframe tbody tr th:only-of-type {\n",
       "        vertical-align: middle;\n",
       "    }\n",
       "\n",
       "    .dataframe tbody tr th {\n",
       "        vertical-align: top;\n",
       "    }\n",
       "\n",
       "    .dataframe thead th {\n",
       "        text-align: right;\n",
       "    }\n",
       "</style>\n",
       "<table border=\"1\" class=\"dataframe\">\n",
       "  <thead>\n",
       "    <tr style=\"text-align: right;\">\n",
       "      <th></th>\n",
       "      <th>hypothesis</th>\n",
       "      <th>reach</th>\n",
       "      <th>impact</th>\n",
       "      <th>confidence</th>\n",
       "      <th>efforts</th>\n",
       "      <th>ice_score</th>\n",
       "    </tr>\n",
       "  </thead>\n",
       "  <tbody>\n",
       "    <tr>\n",
       "      <th>8</th>\n",
       "      <td>Запустить акцию, дающую скидку на товар в день рождения</td>\n",
       "      <td>1</td>\n",
       "      <td>9</td>\n",
       "      <td>9</td>\n",
       "      <td>5</td>\n",
       "      <td>16.20</td>\n",
       "    </tr>\n",
       "    <tr>\n",
       "      <th>0</th>\n",
       "      <td>Добавить два новых канала привлечения трафика, что позволит привлекать на 30% больше пользователей</td>\n",
       "      <td>3</td>\n",
       "      <td>10</td>\n",
       "      <td>8</td>\n",
       "      <td>6</td>\n",
       "      <td>13.33</td>\n",
       "    </tr>\n",
       "    <tr>\n",
       "      <th>7</th>\n",
       "      <td>Добавить форму подписки на все основные страницы, чтобы собрать базу клиентов для email-рассылок</td>\n",
       "      <td>10</td>\n",
       "      <td>7</td>\n",
       "      <td>8</td>\n",
       "      <td>5</td>\n",
       "      <td>11.20</td>\n",
       "    </tr>\n",
       "    <tr>\n",
       "      <th>6</th>\n",
       "      <td>Показать на главной странице баннеры с актуальными акциями и распродажами, чтобы увеличить конверсию</td>\n",
       "      <td>5</td>\n",
       "      <td>3</td>\n",
       "      <td>8</td>\n",
       "      <td>3</td>\n",
       "      <td>8.00</td>\n",
       "    </tr>\n",
       "    <tr>\n",
       "      <th>2</th>\n",
       "      <td>Добавить блоки рекомендаций товаров на сайт интернет магазина, чтобы повысить конверсию и средний чек заказа</td>\n",
       "      <td>8</td>\n",
       "      <td>3</td>\n",
       "      <td>7</td>\n",
       "      <td>3</td>\n",
       "      <td>7.00</td>\n",
       "    </tr>\n",
       "    <tr>\n",
       "      <th>1</th>\n",
       "      <td>Запустить собственную службу доставки, что сократит срок доставки заказов</td>\n",
       "      <td>2</td>\n",
       "      <td>5</td>\n",
       "      <td>4</td>\n",
       "      <td>10</td>\n",
       "      <td>2.00</td>\n",
       "    </tr>\n",
       "    <tr>\n",
       "      <th>5</th>\n",
       "      <td>Добавить страницу отзывов клиентов о магазине, что позволит увеличить количество заказов</td>\n",
       "      <td>3</td>\n",
       "      <td>2</td>\n",
       "      <td>2</td>\n",
       "      <td>3</td>\n",
       "      <td>1.33</td>\n",
       "    </tr>\n",
       "    <tr>\n",
       "      <th>3</th>\n",
       "      <td>Изменить структура категорий, что увеличит конверсию, т.к. пользователи быстрее найдут нужный товар</td>\n",
       "      <td>8</td>\n",
       "      <td>3</td>\n",
       "      <td>3</td>\n",
       "      <td>8</td>\n",
       "      <td>1.12</td>\n",
       "    </tr>\n",
       "    <tr>\n",
       "      <th>4</th>\n",
       "      <td>Изменить цвет фона главной страницы, чтобы увеличить вовлеченность пользователей</td>\n",
       "      <td>3</td>\n",
       "      <td>1</td>\n",
       "      <td>1</td>\n",
       "      <td>1</td>\n",
       "      <td>1.00</td>\n",
       "    </tr>\n",
       "  </tbody>\n",
       "</table>\n",
       "</div>"
      ],
      "text/plain": [
       "                                                                                                     hypothesis  \\\n",
       "8                                                       Запустить акцию, дающую скидку на товар в день рождения   \n",
       "0            Добавить два новых канала привлечения трафика, что позволит привлекать на 30% больше пользователей   \n",
       "7              Добавить форму подписки на все основные страницы, чтобы собрать базу клиентов для email-рассылок   \n",
       "6          Показать на главной странице баннеры с актуальными акциями и распродажами, чтобы увеличить конверсию   \n",
       "2  Добавить блоки рекомендаций товаров на сайт интернет магазина, чтобы повысить конверсию и средний чек заказа   \n",
       "1                                     Запустить собственную службу доставки, что сократит срок доставки заказов   \n",
       "5                      Добавить страницу отзывов клиентов о магазине, что позволит увеличить количество заказов   \n",
       "3           Изменить структура категорий, что увеличит конверсию, т.к. пользователи быстрее найдут нужный товар   \n",
       "4                              Изменить цвет фона главной страницы, чтобы увеличить вовлеченность пользователей   \n",
       "\n",
       "   reach  impact  confidence  efforts  ice_score  \n",
       "8      1       9           9        5      16.20  \n",
       "0      3      10           8        6      13.33  \n",
       "7     10       7           8        5      11.20  \n",
       "6      5       3           8        3       8.00  \n",
       "2      8       3           7        3       7.00  \n",
       "1      2       5           4       10       2.00  \n",
       "5      3       2           2        3       1.33  \n",
       "3      8       3           3        8       1.12  \n",
       "4      3       1           1        1       1.00  "
      ]
     },
     "execution_count": 4,
     "metadata": {},
     "output_type": "execute_result"
    }
   ],
   "source": [
    "hypotheses['ice_score'] = round(hypotheses['impact'] * hypotheses['confidence'] / hypotheses['efforts'], 2)\n",
    "\n",
    "hypotheses.sort_values(by='ice_score', ascending=False)"
   ]
  },
  {
   "cell_type": "markdown",
   "id": "a1c854f0",
   "metadata": {},
   "source": [
    "Если руководствоваться выводами, полученными при помощи фреймворка `ICE`, наиболее приоритетными являются гипотезы №8 (скидка в день рождения), 0 (2 новых канала привлечения)  и 7 (форма подписки для сбока email-ов клиентов). Для этих гипотез критерий `ICE` больше 10. Наименее приоритетны гипотезы №5 (страница с отзывами), 3 (новая структура категорий) и 4 (другой цвет фона главной страницы). Их критерий `ICE` менее 2.\n",
    "\n",
    "Интересно, что наиболее приоритетные гипотезы обладают не только высокими показателями влияния на пользователей и уверенности в результате реализации, но и сравнительно высокой стоимостью (`efforts` составляет 5-6 баллов). "
   ]
  },
  {
   "cell_type": "markdown",
   "id": "1c4ca927",
   "metadata": {},
   "source": [
    "### Фреймворк `RICE`"
   ]
  },
  {
   "cell_type": "markdown",
   "id": "0feef814",
   "metadata": {},
   "source": [
    "Чтобы учесть также охват пользователей, проведём приоритизацию на основе фреймворка `RICE`*. Для этого перемножим столбцы `reach`, `impact` и `confidence`, поделим произведение на столбец `efforts` и запишем округлённый результат в столбец `rice_score`.\n",
    "\n",
    "*фреймворк `RICE` — это модификация фреймворка `ICE`, учитывающая также, на какую долю пользователей повлияет реализация гипотезы (фактор Reach)."
   ]
  },
  {
   "cell_type": "code",
   "execution_count": 5,
   "id": "3dde8d2e",
   "metadata": {},
   "outputs": [
    {
     "data": {
      "text/html": [
       "<div>\n",
       "<style scoped>\n",
       "    .dataframe tbody tr th:only-of-type {\n",
       "        vertical-align: middle;\n",
       "    }\n",
       "\n",
       "    .dataframe tbody tr th {\n",
       "        vertical-align: top;\n",
       "    }\n",
       "\n",
       "    .dataframe thead th {\n",
       "        text-align: right;\n",
       "    }\n",
       "</style>\n",
       "<table border=\"1\" class=\"dataframe\">\n",
       "  <thead>\n",
       "    <tr style=\"text-align: right;\">\n",
       "      <th></th>\n",
       "      <th>hypothesis</th>\n",
       "      <th>reach</th>\n",
       "      <th>impact</th>\n",
       "      <th>confidence</th>\n",
       "      <th>efforts</th>\n",
       "      <th>ice_score</th>\n",
       "      <th>rice_score</th>\n",
       "    </tr>\n",
       "  </thead>\n",
       "  <tbody>\n",
       "    <tr>\n",
       "      <th>7</th>\n",
       "      <td>Добавить форму подписки на все основные страницы, чтобы собрать базу клиентов для email-рассылок</td>\n",
       "      <td>10</td>\n",
       "      <td>7</td>\n",
       "      <td>8</td>\n",
       "      <td>5</td>\n",
       "      <td>11.20</td>\n",
       "      <td>112.0</td>\n",
       "    </tr>\n",
       "    <tr>\n",
       "      <th>2</th>\n",
       "      <td>Добавить блоки рекомендаций товаров на сайт интернет магазина, чтобы повысить конверсию и средний чек заказа</td>\n",
       "      <td>8</td>\n",
       "      <td>3</td>\n",
       "      <td>7</td>\n",
       "      <td>3</td>\n",
       "      <td>7.00</td>\n",
       "      <td>56.0</td>\n",
       "    </tr>\n",
       "    <tr>\n",
       "      <th>0</th>\n",
       "      <td>Добавить два новых канала привлечения трафика, что позволит привлекать на 30% больше пользователей</td>\n",
       "      <td>3</td>\n",
       "      <td>10</td>\n",
       "      <td>8</td>\n",
       "      <td>6</td>\n",
       "      <td>13.33</td>\n",
       "      <td>40.0</td>\n",
       "    </tr>\n",
       "    <tr>\n",
       "      <th>6</th>\n",
       "      <td>Показать на главной странице баннеры с актуальными акциями и распродажами, чтобы увеличить конверсию</td>\n",
       "      <td>5</td>\n",
       "      <td>3</td>\n",
       "      <td>8</td>\n",
       "      <td>3</td>\n",
       "      <td>8.00</td>\n",
       "      <td>40.0</td>\n",
       "    </tr>\n",
       "    <tr>\n",
       "      <th>8</th>\n",
       "      <td>Запустить акцию, дающую скидку на товар в день рождения</td>\n",
       "      <td>1</td>\n",
       "      <td>9</td>\n",
       "      <td>9</td>\n",
       "      <td>5</td>\n",
       "      <td>16.20</td>\n",
       "      <td>16.2</td>\n",
       "    </tr>\n",
       "    <tr>\n",
       "      <th>3</th>\n",
       "      <td>Изменить структура категорий, что увеличит конверсию, т.к. пользователи быстрее найдут нужный товар</td>\n",
       "      <td>8</td>\n",
       "      <td>3</td>\n",
       "      <td>3</td>\n",
       "      <td>8</td>\n",
       "      <td>1.12</td>\n",
       "      <td>9.0</td>\n",
       "    </tr>\n",
       "    <tr>\n",
       "      <th>1</th>\n",
       "      <td>Запустить собственную службу доставки, что сократит срок доставки заказов</td>\n",
       "      <td>2</td>\n",
       "      <td>5</td>\n",
       "      <td>4</td>\n",
       "      <td>10</td>\n",
       "      <td>2.00</td>\n",
       "      <td>4.0</td>\n",
       "    </tr>\n",
       "    <tr>\n",
       "      <th>5</th>\n",
       "      <td>Добавить страницу отзывов клиентов о магазине, что позволит увеличить количество заказов</td>\n",
       "      <td>3</td>\n",
       "      <td>2</td>\n",
       "      <td>2</td>\n",
       "      <td>3</td>\n",
       "      <td>1.33</td>\n",
       "      <td>4.0</td>\n",
       "    </tr>\n",
       "    <tr>\n",
       "      <th>4</th>\n",
       "      <td>Изменить цвет фона главной страницы, чтобы увеличить вовлеченность пользователей</td>\n",
       "      <td>3</td>\n",
       "      <td>1</td>\n",
       "      <td>1</td>\n",
       "      <td>1</td>\n",
       "      <td>1.00</td>\n",
       "      <td>3.0</td>\n",
       "    </tr>\n",
       "  </tbody>\n",
       "</table>\n",
       "</div>"
      ],
      "text/plain": [
       "                                                                                                     hypothesis  \\\n",
       "7              Добавить форму подписки на все основные страницы, чтобы собрать базу клиентов для email-рассылок   \n",
       "2  Добавить блоки рекомендаций товаров на сайт интернет магазина, чтобы повысить конверсию и средний чек заказа   \n",
       "0            Добавить два новых канала привлечения трафика, что позволит привлекать на 30% больше пользователей   \n",
       "6          Показать на главной странице баннеры с актуальными акциями и распродажами, чтобы увеличить конверсию   \n",
       "8                                                       Запустить акцию, дающую скидку на товар в день рождения   \n",
       "3           Изменить структура категорий, что увеличит конверсию, т.к. пользователи быстрее найдут нужный товар   \n",
       "1                                     Запустить собственную службу доставки, что сократит срок доставки заказов   \n",
       "5                      Добавить страницу отзывов клиентов о магазине, что позволит увеличить количество заказов   \n",
       "4                              Изменить цвет фона главной страницы, чтобы увеличить вовлеченность пользователей   \n",
       "\n",
       "   reach  impact  confidence  efforts  ice_score  rice_score  \n",
       "7     10       7           8        5      11.20       112.0  \n",
       "2      8       3           7        3       7.00        56.0  \n",
       "0      3      10           8        6      13.33        40.0  \n",
       "6      5       3           8        3       8.00        40.0  \n",
       "8      1       9           9        5      16.20        16.2  \n",
       "3      8       3           3        8       1.12         9.0  \n",
       "1      2       5           4       10       2.00         4.0  \n",
       "5      3       2           2        3       1.33         4.0  \n",
       "4      3       1           1        1       1.00         3.0  "
      ]
     },
     "execution_count": 5,
     "metadata": {},
     "output_type": "execute_result"
    }
   ],
   "source": [
    "hypotheses['rice_score'] = (\n",
    "    round(hypotheses['reach'] * hypotheses['impact'] * hypotheses['confidence'] \n",
    "          / hypotheses['efforts'],\n",
    "          2)\n",
    ")\n",
    "hypotheses.sort_values(by='rice_score', ascending=False)"
   ]
  },
  {
   "cell_type": "markdown",
   "id": "15f4cdc9",
   "metadata": {},
   "source": [
    "Здесь самыми приоритетными гипотезами оказались гипотезы № 7 (форма подписки для сбора email-ов пользователей), 2 (блоки рекомендаций товаров), 0 (новые каналы привлечения трафика) и 6 (баннеры с акциями). При этом отрыв гипотезы № 7 от остальных очень велик. Это связано с её большим большим охватом и достаточно высокими показателями влияния на пользователей и уверенности в результате реализации.\n",
    "\n",
    "Наименьший приоритет у гипотез № 1 (собственная служба доставки), 5 (страница с отзывами клиентов) и 4 (изменение фона главной страницы)."
   ]
  },
  {
   "cell_type": "markdown",
   "id": "17f6cb71",
   "metadata": {},
   "source": [
    "### Сравнение результатов приоритизации"
   ]
  },
  {
   "cell_type": "markdown",
   "id": "68e17740",
   "metadata": {},
   "source": [
    "Для сравнения результатов приоритизации гипотез построим точечную диаграмму, на которой отметим значения факторов `ICE` и `RICE` для каждой гипотезы:"
   ]
  },
  {
   "cell_type": "code",
   "execution_count": 6,
   "id": "d9d44a1f",
   "metadata": {},
   "outputs": [
    {
     "data": {
      "image/png": "[encoded data removed]",
      "text/plain": [
       "<Figure size 720x360 with 1 Axes>"
      ]
     },
     "metadata": {
      "needs_background": "light"
     },
     "output_type": "display_data"
    }
   ],
   "source": [
    "plt.figure(figsize=(10, 5))\n",
    "\n",
    "sns.scatterplot(data=hypotheses, x=hypotheses.index, y='ice_score', label='ICE')\n",
    "sns.scatterplot(data=hypotheses, x=hypotheses.index, y='rice_score', label='RICE', ax=plt.gca())\n",
    "\n",
    "plt.gca().set_ylabel('Score')\n",
    "plt.gca().set_xlabel('Hypothesis number')\n",
    "plt.title('ICE and RICE-scores comparison');"
   ]
  },
  {
   "cell_type": "markdown",
   "id": "1f49a9bb",
   "metadata": {},
   "source": [
    "В целом результаты приоритизация с помощью фреймворка `ICE` и фреймворка `RICE` достаточно похожи. Так, только гипотеза № 8 не попала в топ-3 по версии `RICE`, хотя она была в топ-3 `ICE`. Её «выбытие» связано с крайне низким значением охвата — и неудивительно, всё-таки пользователей, которые заходят на сайт магазина в свой день рождения должны быть совсем немного. По остальным показателям эта гипотеза весьма привлекательна для проверки.\n",
    "\n",
    "Гипотезу № 8 в топ-3 `RICE` заменила гипотеза № 2. У неё высокий охват (именно за счёт него она пробилась в топ-3) и уверенность в результате реализации, хотя вот влияние на пользователей весьма скромное.\n",
    "\n",
    "В целом оценка по фреймворку `RICE` кажется более комплексной, чем оценка по фреймворку `ICE`, т.к. она учитывает охват. Именно эту оценку мы бы выбрали для окончательного выбора тестируемых гипотез. По ней наиболее приоритетная гипотеза — №7 (форма подписки для сбора email-ов пользователей). Её мы и будем тестировать."
   ]
  },
  {
   "cell_type": "markdown",
   "id": "39ee3ce9",
   "metadata": {},
   "source": [
    "## A/B-тест"
   ]
  },
  {
   "cell_type": "markdown",
   "id": "a6019fd4",
   "metadata": {},
   "source": [
    "### Обзор данных"
   ]
  },
  {
   "cell_type": "markdown",
   "id": "bcd6b935",
   "metadata": {},
   "source": [
    "Загрузим результаты A/B-теста:"
   ]
  },
  {
   "cell_type": "code",
   "execution_count": 7,
   "id": "17179392",
   "metadata": {},
   "outputs": [
    {
     "data": {
      "text/html": [
       "<style type=\"text/css\">\n",
       "#T_da873_ caption {\n",
       "  color: black;\n",
       "  font-size: 1.5em;\n",
       "  font-weight: bold;\n",
       "}\n",
       "</style>\n",
       "<table id=\"T_da873_\">\n",
       "  <caption>orders</caption>\n",
       "  <thead>\n",
       "    <tr>\n",
       "      <th class=\"blank level0\" >&nbsp;</th>\n",
       "      <th class=\"col_heading level0 col0\" >transactionId</th>\n",
       "      <th class=\"col_heading level0 col1\" >visitorId</th>\n",
       "      <th class=\"col_heading level0 col2\" >date</th>\n",
       "      <th class=\"col_heading level0 col3\" >revenue</th>\n",
       "      <th class=\"col_heading level0 col4\" >group</th>\n",
       "    </tr>\n",
       "  </thead>\n",
       "  <tbody>\n",
       "    <tr>\n",
       "      <th id=\"T_da873_level0_row0\" class=\"row_heading level0 row0\" >0</th>\n",
       "      <td id=\"T_da873_row0_col0\" class=\"data row0 col0\" >3667963787</td>\n",
       "      <td id=\"T_da873_row0_col1\" class=\"data row0 col1\" >3312258926</td>\n",
       "      <td id=\"T_da873_row0_col2\" class=\"data row0 col2\" >2019-08-15</td>\n",
       "      <td id=\"T_da873_row0_col3\" class=\"data row0 col3\" >1650</td>\n",
       "      <td id=\"T_da873_row0_col4\" class=\"data row0 col4\" >B</td>\n",
       "    </tr>\n",
       "    <tr>\n",
       "      <th id=\"T_da873_level0_row1\" class=\"row_heading level0 row1\" >1</th>\n",
       "      <td id=\"T_da873_row1_col0\" class=\"data row1 col0\" >2804400009</td>\n",
       "      <td id=\"T_da873_row1_col1\" class=\"data row1 col1\" >3642806036</td>\n",
       "      <td id=\"T_da873_row1_col2\" class=\"data row1 col2\" >2019-08-15</td>\n",
       "      <td id=\"T_da873_row1_col3\" class=\"data row1 col3\" >730</td>\n",
       "      <td id=\"T_da873_row1_col4\" class=\"data row1 col4\" >B</td>\n",
       "    </tr>\n",
       "    <tr>\n",
       "      <th id=\"T_da873_level0_row2\" class=\"row_heading level0 row2\" >2</th>\n",
       "      <td id=\"T_da873_row2_col0\" class=\"data row2 col0\" >2961555356</td>\n",
       "      <td id=\"T_da873_row2_col1\" class=\"data row2 col1\" >4069496402</td>\n",
       "      <td id=\"T_da873_row2_col2\" class=\"data row2 col2\" >2019-08-15</td>\n",
       "      <td id=\"T_da873_row2_col3\" class=\"data row2 col3\" >400</td>\n",
       "      <td id=\"T_da873_row2_col4\" class=\"data row2 col4\" >A</td>\n",
       "    </tr>\n",
       "    <tr>\n",
       "      <th id=\"T_da873_level0_row3\" class=\"row_heading level0 row3\" >3</th>\n",
       "      <td id=\"T_da873_row3_col0\" class=\"data row3 col0\" >3797467345</td>\n",
       "      <td id=\"T_da873_row3_col1\" class=\"data row3 col1\" >1196621759</td>\n",
       "      <td id=\"T_da873_row3_col2\" class=\"data row3 col2\" >2019-08-15</td>\n",
       "      <td id=\"T_da873_row3_col3\" class=\"data row3 col3\" >9759</td>\n",
       "      <td id=\"T_da873_row3_col4\" class=\"data row3 col4\" >B</td>\n",
       "    </tr>\n",
       "    <tr>\n",
       "      <th id=\"T_da873_level0_row4\" class=\"row_heading level0 row4\" >4</th>\n",
       "      <td id=\"T_da873_row4_col0\" class=\"data row4 col0\" >2282983706</td>\n",
       "      <td id=\"T_da873_row4_col1\" class=\"data row4 col1\" >2322279887</td>\n",
       "      <td id=\"T_da873_row4_col2\" class=\"data row4 col2\" >2019-08-15</td>\n",
       "      <td id=\"T_da873_row4_col3\" class=\"data row4 col3\" >2308</td>\n",
       "      <td id=\"T_da873_row4_col4\" class=\"data row4 col4\" >B</td>\n",
       "    </tr>\n",
       "  </tbody>\n",
       "</table>\n"
      ],
      "text/plain": [
       "<pandas.io.formats.style.Styler at 0x7f314b3fc3d0>"
      ]
     },
     "metadata": {},
     "output_type": "display_data"
    },
    {
     "data": {
      "text/html": [
       "<style type=\"text/css\">\n",
       "#T_eef4b_ caption {\n",
       "  color: black;\n",
       "  font-size: 1.5em;\n",
       "  font-weight: bold;\n",
       "}\n",
       "</style>\n",
       "<table id=\"T_eef4b_\">\n",
       "  <caption>visitors</caption>\n",
       "  <thead>\n",
       "    <tr>\n",
       "      <th class=\"blank level0\" >&nbsp;</th>\n",
       "      <th class=\"col_heading level0 col0\" >date</th>\n",
       "      <th class=\"col_heading level0 col1\" >group</th>\n",
       "      <th class=\"col_heading level0 col2\" >visitors</th>\n",
       "    </tr>\n",
       "  </thead>\n",
       "  <tbody>\n",
       "    <tr>\n",
       "      <th id=\"T_eef4b_level0_row0\" class=\"row_heading level0 row0\" >0</th>\n",
       "      <td id=\"T_eef4b_row0_col0\" class=\"data row0 col0\" >2019-08-01</td>\n",
       "      <td id=\"T_eef4b_row0_col1\" class=\"data row0 col1\" >A</td>\n",
       "      <td id=\"T_eef4b_row0_col2\" class=\"data row0 col2\" >719</td>\n",
       "    </tr>\n",
       "    <tr>\n",
       "      <th id=\"T_eef4b_level0_row1\" class=\"row_heading level0 row1\" >1</th>\n",
       "      <td id=\"T_eef4b_row1_col0\" class=\"data row1 col0\" >2019-08-02</td>\n",
       "      <td id=\"T_eef4b_row1_col1\" class=\"data row1 col1\" >A</td>\n",
       "      <td id=\"T_eef4b_row1_col2\" class=\"data row1 col2\" >619</td>\n",
       "    </tr>\n",
       "    <tr>\n",
       "      <th id=\"T_eef4b_level0_row2\" class=\"row_heading level0 row2\" >2</th>\n",
       "      <td id=\"T_eef4b_row2_col0\" class=\"data row2 col0\" >2019-08-03</td>\n",
       "      <td id=\"T_eef4b_row2_col1\" class=\"data row2 col1\" >A</td>\n",
       "      <td id=\"T_eef4b_row2_col2\" class=\"data row2 col2\" >507</td>\n",
       "    </tr>\n",
       "    <tr>\n",
       "      <th id=\"T_eef4b_level0_row3\" class=\"row_heading level0 row3\" >3</th>\n",
       "      <td id=\"T_eef4b_row3_col0\" class=\"data row3 col0\" >2019-08-04</td>\n",
       "      <td id=\"T_eef4b_row3_col1\" class=\"data row3 col1\" >A</td>\n",
       "      <td id=\"T_eef4b_row3_col2\" class=\"data row3 col2\" >717</td>\n",
       "    </tr>\n",
       "    <tr>\n",
       "      <th id=\"T_eef4b_level0_row4\" class=\"row_heading level0 row4\" >4</th>\n",
       "      <td id=\"T_eef4b_row4_col0\" class=\"data row4 col0\" >2019-08-05</td>\n",
       "      <td id=\"T_eef4b_row4_col1\" class=\"data row4 col1\" >A</td>\n",
       "      <td id=\"T_eef4b_row4_col2\" class=\"data row4 col2\" >756</td>\n",
       "    </tr>\n",
       "  </tbody>\n",
       "</table>\n"
      ],
      "text/plain": [
       "<pandas.io.formats.style.Styler at 0x7f314b3fc280>"
      ]
     },
     "execution_count": 7,
     "metadata": {},
     "output_type": "execute_result"
    }
   ],
   "source": [
    "try:\n",
    "    orders = pd.read_csv('/datasets/orders.csv')\n",
    "    visitors = pd.read_csv('/datasets/visitors.csv')\n",
    "except FileNotFoundError:\n",
    "    orders = pd.read_csv('orders.csv')\n",
    "    visitors = pd.read_csv('visitors.csv')\n",
    "    /\n",
    "\n",
    "display(orders\n",
    "        .head()\n",
    "        .style.set_caption(\"orders\")\n",
    "        .set_table_styles([{'selector': 'caption',\n",
    "                            'props': 'color: black; font-size: 1.5em; font-weight: bold'}])\n",
    "       )\n",
    "(\n",
    "    visitors\n",
    "        .head()\n",
    "        .style.set_caption(\"visitors\")\n",
    "        .set_table_styles([{'selector': 'caption',\n",
    "                            'props': 'color: black; font-size: 1.5em; font-weight: bold'}])\n",
    "    )"
   ]
  },
  {
   "cell_type": "markdown",
   "id": "baf3d2ff",
   "metadata": {},
   "source": [
    "Описание данных таблицы `orders`:\n",
    "\n",
    "`transactionId` — идентификатор заказа;\n",
    "\n",
    "`visitorId` — идентификатор пользователя, совершившего заказ;\n",
    "\n",
    "`date` — дата, когда был совершён заказ;\n",
    "\n",
    "`revenue` — выручка заказа;\n",
    "\n",
    "`group` — группа A/B-теста, в которую попал заказ.\n",
    "\n",
    "Описание данных таблицы `visitors`:\n",
    "\n",
    "`date` — дата;\n",
    "\n",
    "`group` — группа A/B-теста;\n",
    "\n",
    "`visitors` — количество пользователей в указанную дату в указанной группе A/B-теста"
   ]
  },
  {
   "cell_type": "markdown",
   "id": "00e707ec",
   "metadata": {},
   "source": [
    "Посмотрим общую информацию о данных в обеих таблицах:"
   ]
  },
  {
   "cell_type": "code",
   "execution_count": 8,
   "id": "f764f4e3",
   "metadata": {},
   "outputs": [
    {
     "name": "stdout",
     "output_type": "stream",
     "text": [
      "<class 'pandas.core.frame.DataFrame'>\n",
      "RangeIndex: 1197 entries, 0 to 1196\n",
      "Data columns (total 5 columns):\n",
      " #   Column         Non-Null Count  Dtype \n",
      "---  ------         --------------  ----- \n",
      " 0   transactionId  1197 non-null   int64 \n",
      " 1   visitorId      1197 non-null   int64 \n",
      " 2   date           1197 non-null   object\n",
      " 3   revenue        1197 non-null   int64 \n",
      " 4   group          1197 non-null   object\n",
      "dtypes: int64(3), object(2)\n",
      "memory usage: 46.9+ KB\n",
      "\n",
      "<class 'pandas.core.frame.DataFrame'>\n",
      "RangeIndex: 62 entries, 0 to 61\n",
      "Data columns (total 3 columns):\n",
      " #   Column    Non-Null Count  Dtype \n",
      "---  ------    --------------  ----- \n",
      " 0   date      62 non-null     object\n",
      " 1   group     62 non-null     object\n",
      " 2   visitors  62 non-null     int64 \n",
      "dtypes: int64(1), object(2)\n",
      "memory usage: 1.6+ KB\n"
     ]
    }
   ],
   "source": [
    "orders.info()\n",
    "print()\n",
    "visitors.info()"
   ]
  },
  {
   "cell_type": "markdown",
   "id": "cda56140",
   "metadata": {},
   "source": [
    "Посмотрим также статистическую информацию о числовых столбцах:"
   ]
  },
  {
   "cell_type": "code",
   "execution_count": 9,
   "id": "54061544",
   "metadata": {},
   "outputs": [
    {
     "data": {
      "text/html": [
       "<div>\n",
       "<style scoped>\n",
       "    .dataframe tbody tr th:only-of-type {\n",
       "        vertical-align: middle;\n",
       "    }\n",
       "\n",
       "    .dataframe tbody tr th {\n",
       "        vertical-align: top;\n",
       "    }\n",
       "\n",
       "    .dataframe thead th {\n",
       "        text-align: right;\n",
       "    }\n",
       "</style>\n",
       "<table border=\"1\" class=\"dataframe\">\n",
       "  <thead>\n",
       "    <tr style=\"text-align: right;\">\n",
       "      <th></th>\n",
       "      <th>transactionId</th>\n",
       "      <th>visitorId</th>\n",
       "      <th>revenue</th>\n",
       "    </tr>\n",
       "  </thead>\n",
       "  <tbody>\n",
       "    <tr>\n",
       "      <th>count</th>\n",
       "      <td>1.197000e+03</td>\n",
       "      <td>1.197000e+03</td>\n",
       "      <td>1.197000e+03</td>\n",
       "    </tr>\n",
       "    <tr>\n",
       "      <th>mean</th>\n",
       "      <td>2.155621e+09</td>\n",
       "      <td>2.165960e+09</td>\n",
       "      <td>8.348006e+03</td>\n",
       "    </tr>\n",
       "    <tr>\n",
       "      <th>std</th>\n",
       "      <td>1.229085e+09</td>\n",
       "      <td>1.236014e+09</td>\n",
       "      <td>3.919113e+04</td>\n",
       "    </tr>\n",
       "    <tr>\n",
       "      <th>min</th>\n",
       "      <td>1.062393e+06</td>\n",
       "      <td>5.114589e+06</td>\n",
       "      <td>5.000000e+01</td>\n",
       "    </tr>\n",
       "    <tr>\n",
       "      <th>25%</th>\n",
       "      <td>1.166776e+09</td>\n",
       "      <td>1.111826e+09</td>\n",
       "      <td>1.220000e+03</td>\n",
       "    </tr>\n",
       "    <tr>\n",
       "      <th>50%</th>\n",
       "      <td>2.145194e+09</td>\n",
       "      <td>2.217985e+09</td>\n",
       "      <td>2.978000e+03</td>\n",
       "    </tr>\n",
       "    <tr>\n",
       "      <th>75%</th>\n",
       "      <td>3.237740e+09</td>\n",
       "      <td>3.177606e+09</td>\n",
       "      <td>8.290000e+03</td>\n",
       "    </tr>\n",
       "    <tr>\n",
       "      <th>max</th>\n",
       "      <td>4.293856e+09</td>\n",
       "      <td>4.283872e+09</td>\n",
       "      <td>1.294500e+06</td>\n",
       "    </tr>\n",
       "  </tbody>\n",
       "</table>\n",
       "</div>"
      ],
      "text/plain": [
       "       transactionId     visitorId       revenue\n",
       "count   1.197000e+03  1.197000e+03  1.197000e+03\n",
       "mean    2.155621e+09  2.165960e+09  8.348006e+03\n",
       "std     1.229085e+09  1.236014e+09  3.919113e+04\n",
       "min     1.062393e+06  5.114589e+06  5.000000e+01\n",
       "25%     1.166776e+09  1.111826e+09  1.220000e+03\n",
       "50%     2.145194e+09  2.217985e+09  2.978000e+03\n",
       "75%     3.237740e+09  3.177606e+09  8.290000e+03\n",
       "max     4.293856e+09  4.283872e+09  1.294500e+06"
      ]
     },
     "metadata": {},
     "output_type": "display_data"
    },
    {
     "data": {
      "text/html": [
       "<div>\n",
       "<style scoped>\n",
       "    .dataframe tbody tr th:only-of-type {\n",
       "        vertical-align: middle;\n",
       "    }\n",
       "\n",
       "    .dataframe tbody tr th {\n",
       "        vertical-align: top;\n",
       "    }\n",
       "\n",
       "    .dataframe thead th {\n",
       "        text-align: right;\n",
       "    }\n",
       "</style>\n",
       "<table border=\"1\" class=\"dataframe\">\n",
       "  <thead>\n",
       "    <tr style=\"text-align: right;\">\n",
       "      <th></th>\n",
       "      <th>visitors</th>\n",
       "    </tr>\n",
       "  </thead>\n",
       "  <tbody>\n",
       "    <tr>\n",
       "      <th>count</th>\n",
       "      <td>62.000000</td>\n",
       "    </tr>\n",
       "    <tr>\n",
       "      <th>mean</th>\n",
       "      <td>607.290323</td>\n",
       "    </tr>\n",
       "    <tr>\n",
       "      <th>std</th>\n",
       "      <td>114.400560</td>\n",
       "    </tr>\n",
       "    <tr>\n",
       "      <th>min</th>\n",
       "      <td>361.000000</td>\n",
       "    </tr>\n",
       "    <tr>\n",
       "      <th>25%</th>\n",
       "      <td>534.000000</td>\n",
       "    </tr>\n",
       "    <tr>\n",
       "      <th>50%</th>\n",
       "      <td>624.500000</td>\n",
       "    </tr>\n",
       "    <tr>\n",
       "      <th>75%</th>\n",
       "      <td>710.500000</td>\n",
       "    </tr>\n",
       "    <tr>\n",
       "      <th>max</th>\n",
       "      <td>770.000000</td>\n",
       "    </tr>\n",
       "  </tbody>\n",
       "</table>\n",
       "</div>"
      ],
      "text/plain": [
       "         visitors\n",
       "count   62.000000\n",
       "mean   607.290323\n",
       "std    114.400560\n",
       "min    361.000000\n",
       "25%    534.000000\n",
       "50%    624.500000\n",
       "75%    710.500000\n",
       "max    770.000000"
      ]
     },
     "execution_count": 9,
     "metadata": {},
     "output_type": "execute_result"
    }
   ],
   "source": [
    "display(orders.describe())\n",
    "visitors.describe()"
   ]
  },
  {
   "cell_type": "markdown",
   "id": "b42dad39",
   "metadata": {},
   "source": [
    "То же самое, но в форме гистограмм:"
   ]
  },
  {
   "cell_type": "code",
   "execution_count": 10,
   "id": "93f8613e",
   "metadata": {},
   "outputs": [
    {
     "data": {
      "image/png": "[encoded data removed]",
      "text/plain": [
       "<Figure size 432x288 with 4 Axes>"
      ]
     },
     "metadata": {
      "needs_background": "light"
     },
     "output_type": "display_data"
    },
    {
     "data": {
      "image/png": "[encoded data removed]",
      "text/plain": [
       "<Figure size 432x288 with 1 Axes>"
      ]
     },
     "metadata": {
      "needs_background": "light"
     },
     "output_type": "display_data"
    }
   ],
   "source": [
    "orders.hist()\n",
    "visitors.hist();"
   ]
  },
  {
   "cell_type": "markdown",
   "id": "ef3f7d67",
   "metadata": {},
   "source": [
    "Первичные выводы о данных:"
   ]
  },
  {
   "cell_type": "markdown",
   "id": "37f43cac",
   "metadata": {},
   "source": [
    "1. Явных пропусков ни в одной из таблиц нет. Возможно, есть какие-то заполнители в столбцах с типом object.\n",
    "\n",
    "2. Данные числовых столбцах относительно нормальные, хотя, судя по статистическому описанию, дисперсия выручки очень серьёзная. Наверняка есть очень большие (и очень маленькие) значения. Посещаемость в целом имеет ожидаемые значения. Аномалий вроде отрицательных чисел или неожиданных нулей в числовых столбцах нет.\n",
    "\n",
    "3. Неудобный тип данных у столбцов с датой.\n",
    "\n",
    "4. Неудобные названия столбцов с id."
   ]
  },
  {
   "cell_type": "markdown",
   "id": "69936615",
   "metadata": {},
   "source": [
    "### Предобработка данных"
   ]
  },
  {
   "cell_type": "markdown",
   "id": "00e22da1",
   "metadata": {},
   "source": [
    "#### Переименование столбцов"
   ]
  },
  {
   "cell_type": "markdown",
   "id": "a4343d70",
   "metadata": {},
   "source": [
    "Приведём столбцы с id к `camel_case`:"
   ]
  },
  {
   "cell_type": "code",
   "execution_count": 11,
   "id": "c01d7ef0",
   "metadata": {},
   "outputs": [
    {
     "data": {
      "text/html": [
       "<div>\n",
       "<style scoped>\n",
       "    .dataframe tbody tr th:only-of-type {\n",
       "        vertical-align: middle;\n",
       "    }\n",
       "\n",
       "    .dataframe tbody tr th {\n",
       "        vertical-align: top;\n",
       "    }\n",
       "\n",
       "    .dataframe thead th {\n",
       "        text-align: right;\n",
       "    }\n",
       "</style>\n",
       "<table border=\"1\" class=\"dataframe\">\n",
       "  <thead>\n",
       "    <tr style=\"text-align: right;\">\n",
       "      <th></th>\n",
       "      <th>transaction_id</th>\n",
       "      <th>visitor_id</th>\n",
       "      <th>date</th>\n",
       "      <th>revenue</th>\n",
       "      <th>group</th>\n",
       "    </tr>\n",
       "  </thead>\n",
       "  <tbody>\n",
       "    <tr>\n",
       "      <th>0</th>\n",
       "      <td>3667963787</td>\n",
       "      <td>3312258926</td>\n",
       "      <td>2019-08-15</td>\n",
       "      <td>1650</td>\n",
       "      <td>B</td>\n",
       "    </tr>\n",
       "    <tr>\n",
       "      <th>1</th>\n",
       "      <td>2804400009</td>\n",
       "      <td>3642806036</td>\n",
       "      <td>2019-08-15</td>\n",
       "      <td>730</td>\n",
       "      <td>B</td>\n",
       "    </tr>\n",
       "    <tr>\n",
       "      <th>2</th>\n",
       "      <td>2961555356</td>\n",
       "      <td>4069496402</td>\n",
       "      <td>2019-08-15</td>\n",
       "      <td>400</td>\n",
       "      <td>A</td>\n",
       "    </tr>\n",
       "    <tr>\n",
       "      <th>3</th>\n",
       "      <td>3797467345</td>\n",
       "      <td>1196621759</td>\n",
       "      <td>2019-08-15</td>\n",
       "      <td>9759</td>\n",
       "      <td>B</td>\n",
       "    </tr>\n",
       "    <tr>\n",
       "      <th>4</th>\n",
       "      <td>2282983706</td>\n",
       "      <td>2322279887</td>\n",
       "      <td>2019-08-15</td>\n",
       "      <td>2308</td>\n",
       "      <td>B</td>\n",
       "    </tr>\n",
       "  </tbody>\n",
       "</table>\n",
       "</div>"
      ],
      "text/plain": [
       "   transaction_id  visitor_id        date  revenue group\n",
       "0      3667963787  3312258926  2019-08-15     1650     B\n",
       "1      2804400009  3642806036  2019-08-15      730     B\n",
       "2      2961555356  4069496402  2019-08-15      400     A\n",
       "3      3797467345  1196621759  2019-08-15     9759     B\n",
       "4      2282983706  2322279887  2019-08-15     2308     B"
      ]
     },
     "execution_count": 11,
     "metadata": {},
     "output_type": "execute_result"
    }
   ],
   "source": [
    "orders.rename(columns={'transactionId': 'transaction_id', 'visitorId': 'visitor_id'}, inplace=True)\n",
    "\n",
    "orders.head()"
   ]
  },
  {
   "cell_type": "markdown",
   "id": "9d9c070a",
   "metadata": {},
   "source": [
    "Успешно."
   ]
  },
  {
   "cell_type": "markdown",
   "id": "061f4064",
   "metadata": {},
   "source": [
    "#### Типы данных"
   ]
  },
  {
   "cell_type": "markdown",
   "id": "c26b08a5",
   "metadata": {},
   "source": [
    "Приведём столбцы с датой к типу `datetime`:"
   ]
  },
  {
   "cell_type": "code",
   "execution_count": 12,
   "id": "ea5a4abb",
   "metadata": {},
   "outputs": [],
   "source": [
    "visitors['date'] = pd.to_datetime(visitors['date'])\n",
    "orders['date'] = pd.to_datetime(orders['date'])"
   ]
  },
  {
   "cell_type": "markdown",
   "id": "7be022b2",
   "metadata": {},
   "source": [
    "#### Поиск артефактов"
   ]
  },
  {
   "cell_type": "markdown",
   "id": "55414ba6",
   "metadata": {},
   "source": [
    "Проверим на всякий случай, есть ли непредусмотренные значения в столбцах `group`."
   ]
  },
  {
   "cell_type": "code",
   "execution_count": 13,
   "id": "a732d357",
   "metadata": {},
   "outputs": [
    {
     "data": {
      "text/plain": [
       "array(['A', 'B'], dtype=object)"
      ]
     },
     "execution_count": 13,
     "metadata": {},
     "output_type": "execute_result"
    }
   ],
   "source": [
    "visitors['group'].unique()"
   ]
  },
  {
   "cell_type": "markdown",
   "id": "8c75cf66",
   "metadata": {},
   "source": [
    "Лишних значений нет.\n",
    "\n",
    "Проверим теперь, какие есть даты в столбце с датами, и нет ли там чего-нибудь лишнего."
   ]
  },
  {
   "cell_type": "code",
   "execution_count": 14,
   "id": "a2e970c6",
   "metadata": {},
   "outputs": [
    {
     "data": {
      "image/png": "[encoded data removed]",
      "text/plain": [
       "<Figure size 1080x360 with 1 Axes>"
      ]
     },
     "metadata": {
      "needs_background": "light"
     },
     "output_type": "display_data"
    }
   ],
   "source": [
    "datetime_columns = [visitors['date'],\n",
    "                    orders['date']]\n",
    "props = dict(boxstyle='round', facecolor='wheat', alpha=0.9) # свойства текстовых вставок для графика\n",
    "\n",
    "indeces = []\n",
    "df_list = []\n",
    "\n",
    "fig, ax = plt.subplots(figsize=(15,5))\n",
    "division_value = 1 # цена деления шкалы\n",
    "ax.set_ylim(0 - 0.3 * division_value, len(datetime_columns) - 1 + 0.3 * division_value)\n",
    "\n",
    "for i, col in enumerate(datetime_columns):\n",
    "    df = pd.DataFrame({'dt': col.dt.date, col.name: [i for k in range(len(col))]})\n",
    "    df.plot(x='dt', y=col.name, style='x', ax=ax, legend=False)\n",
    "    text_box = f'{col.name}:\\nEarliest: {col.min().date()}\\nLatest: {col.max().date()}'\n",
    "    text_y_pos = i / (division_value * 0.6 + len(datetime_columns) - 1) + 0.01 # координата y для текстовой вставки\n",
    "    ax.text(0.05, text_y_pos, text_box, transform=ax.transAxes, fontsize=10)\n",
    "    \n",
    "ax.yaxis.set_major_locator(NullLocator())\n",
    "ax.set_xlabel('')\n",
    "plt.title('Даты наблюдений, представленные в данных');"
   ]
  },
  {
   "cell_type": "markdown",
   "id": "cb3769bb",
   "metadata": {},
   "source": [
    "Ряд значений времени непрерывный. Лишних значений нет. Период проведения теста — с 1 по 31 августа 2019 года. "
   ]
  },
  {
   "cell_type": "markdown",
   "id": "79e679ac",
   "metadata": {},
   "source": [
    "Значения в столбце `revenue` отфильтруем в блоке с анализом A/B-теста."
   ]
  },
  {
   "cell_type": "markdown",
   "id": "9d34a0df",
   "metadata": {},
   "source": [
    "<a id='both_groups_users'></a>\n",
    "Проверим, есть ли такие среди совершавших заказы такие пользователи, которые, заказав два раза или более в разные моменты времени, оказались сразу в двух группах:"
   ]
  },
  {
   "cell_type": "code",
   "execution_count": 15,
   "id": "aae93801",
   "metadata": {},
   "outputs": [
    {
     "name": "stdout",
     "output_type": "stream",
     "text": [
      "Количество пользователей, оказавшихся сразу в обеих группах: 58\n"
     ]
    }
   ],
   "source": [
    "both_groups_visitors = []\n",
    "\n",
    "for visitor_id in orders.query('group == \"A\"')['visitor_id'].values:\n",
    "    if (visitor_id in orders.query('group == \"B\"')['visitor_id'].values\n",
    "        and visitor_id not in both_groups_visitors):\n",
    "        both_groups_visitors.append(visitor_id)\n",
    "        \n",
    "print('Количество пользователей, оказавшихся сразу в обеих группах:', len(both_groups_visitors))        "
   ]
  },
  {
   "cell_type": "markdown",
   "id": "32df1c9b",
   "metadata": {},
   "source": [
    "Пользователи, оказавшиеся сразу в двух группах, существуют. Следует учесть это при написании функций для агрегирования и анализа данных. Иными словами, в тех случаях, когда анализируются показатели для всей совокупности пользователей, не стоит собирать их путём сложения соответствующих датафреймов групп A и B. "
   ]
  },
  {
   "cell_type": "markdown",
   "id": "f70d554d",
   "metadata": {},
   "source": [
    "#### Агрегирование данных для анализа "
   ]
  },
  {
   "cell_type": "markdown",
   "id": "cd74003d",
   "metadata": {},
   "source": [
    "Соберём кумулятивные значения по посещениям и заказам для обеих групп. В итоговой таблице с аггрегированными данными `data_aggr` для каждой группы (`A` и `B`) будут столбцы с информацией о:\n",
    "\n",
    "* количестве посещений в каждый из дней (`visitors_daily_a/b`),\n",
    "* количестве заказов в каждый из дней (`orders_daily_a/b`),\n",
    "* объёме выручки за каждый из дней (`revenue_daily_a/b`),\n",
    "* накопленном количестве посещений на данный день (`visitors_cumulative_a/b`),\n",
    "* накопленном количестве заказов на данный день (`orders_cumulative_a/b`),\n",
    "* накопленной выручке на данный день (`revenue_cumulative_a/b`)."
   ]
  },
  {
   "cell_type": "code",
   "execution_count": 16,
   "id": "5457928d",
   "metadata": {},
   "outputs": [
    {
     "data": {
      "text/html": [
       "<div>\n",
       "<style scoped>\n",
       "    .dataframe tbody tr th:only-of-type {\n",
       "        vertical-align: middle;\n",
       "    }\n",
       "\n",
       "    .dataframe tbody tr th {\n",
       "        vertical-align: top;\n",
       "    }\n",
       "\n",
       "    .dataframe thead th {\n",
       "        text-align: right;\n",
       "    }\n",
       "</style>\n",
       "<table border=\"1\" class=\"dataframe\">\n",
       "  <thead>\n",
       "    <tr style=\"text-align: right;\">\n",
       "      <th></th>\n",
       "      <th>date</th>\n",
       "      <th>orders_per_day_a</th>\n",
       "      <th>revenue_per_day_a</th>\n",
       "      <th>orders_per_day_b</th>\n",
       "      <th>revenue_per_day_b</th>\n",
       "      <th>orders_cumulative_a</th>\n",
       "      <th>revenue_cumulative_a</th>\n",
       "      <th>orders_cumulative_b</th>\n",
       "      <th>revenue_cumulative_b</th>\n",
       "      <th>visitors_per_day_a</th>\n",
       "      <th>visitors_per_day_b</th>\n",
       "      <th>visitors_cumulative_a</th>\n",
       "      <th>visitors_cumulative_b</th>\n",
       "    </tr>\n",
       "  </thead>\n",
       "  <tbody>\n",
       "    <tr>\n",
       "      <th>0</th>\n",
       "      <td>2019-08-01</td>\n",
       "      <td>24</td>\n",
       "      <td>148579</td>\n",
       "      <td>21</td>\n",
       "      <td>101217</td>\n",
       "      <td>24</td>\n",
       "      <td>148579</td>\n",
       "      <td>21</td>\n",
       "      <td>101217</td>\n",
       "      <td>719</td>\n",
       "      <td>713</td>\n",
       "      <td>719</td>\n",
       "      <td>713</td>\n",
       "    </tr>\n",
       "    <tr>\n",
       "      <th>1</th>\n",
       "      <td>2019-08-02</td>\n",
       "      <td>20</td>\n",
       "      <td>93822</td>\n",
       "      <td>24</td>\n",
       "      <td>165531</td>\n",
       "      <td>44</td>\n",
       "      <td>242401</td>\n",
       "      <td>45</td>\n",
       "      <td>266748</td>\n",
       "      <td>619</td>\n",
       "      <td>581</td>\n",
       "      <td>1338</td>\n",
       "      <td>1294</td>\n",
       "    </tr>\n",
       "    <tr>\n",
       "      <th>2</th>\n",
       "      <td>2019-08-03</td>\n",
       "      <td>24</td>\n",
       "      <td>112473</td>\n",
       "      <td>16</td>\n",
       "      <td>114248</td>\n",
       "      <td>68</td>\n",
       "      <td>354874</td>\n",
       "      <td>61</td>\n",
       "      <td>380996</td>\n",
       "      <td>507</td>\n",
       "      <td>509</td>\n",
       "      <td>1845</td>\n",
       "      <td>1803</td>\n",
       "    </tr>\n",
       "    <tr>\n",
       "      <th>3</th>\n",
       "      <td>2019-08-04</td>\n",
       "      <td>16</td>\n",
       "      <td>70825</td>\n",
       "      <td>17</td>\n",
       "      <td>108571</td>\n",
       "      <td>84</td>\n",
       "      <td>425699</td>\n",
       "      <td>78</td>\n",
       "      <td>489567</td>\n",
       "      <td>717</td>\n",
       "      <td>770</td>\n",
       "      <td>2562</td>\n",
       "      <td>2573</td>\n",
       "    </tr>\n",
       "    <tr>\n",
       "      <th>4</th>\n",
       "      <td>2019-08-05</td>\n",
       "      <td>25</td>\n",
       "      <td>124218</td>\n",
       "      <td>23</td>\n",
       "      <td>92428</td>\n",
       "      <td>109</td>\n",
       "      <td>549917</td>\n",
       "      <td>101</td>\n",
       "      <td>581995</td>\n",
       "      <td>756</td>\n",
       "      <td>707</td>\n",
       "      <td>3318</td>\n",
       "      <td>3280</td>\n",
       "    </tr>\n",
       "  </tbody>\n",
       "</table>\n",
       "</div>"
      ],
      "text/plain": [
       "        date  orders_per_day_a  revenue_per_day_a  orders_per_day_b  \\\n",
       "0 2019-08-01                24             148579                21   \n",
       "1 2019-08-02                20              93822                24   \n",
       "2 2019-08-03                24             112473                16   \n",
       "3 2019-08-04                16              70825                17   \n",
       "4 2019-08-05                25             124218                23   \n",
       "\n",
       "   revenue_per_day_b  orders_cumulative_a  revenue_cumulative_a  \\\n",
       "0             101217                   24                148579   \n",
       "1             165531                   44                242401   \n",
       "2             114248                   68                354874   \n",
       "3             108571                   84                425699   \n",
       "4              92428                  109                549917   \n",
       "\n",
       "   orders_cumulative_b  revenue_cumulative_b  visitors_per_day_a  \\\n",
       "0                   21                101217                 719   \n",
       "1                   45                266748                 619   \n",
       "2                   61                380996                 507   \n",
       "3                   78                489567                 717   \n",
       "4                  101                581995                 756   \n",
       "\n",
       "   visitors_per_day_b  visitors_cumulative_a  visitors_cumulative_b  \n",
       "0                 713                    719                    713  \n",
       "1                 581                   1338                   1294  \n",
       "2                 509                   1845                   1803  \n",
       "3                 770                   2562                   2573  \n",
       "4                 707                   3318                   3280  "
      ]
     },
     "execution_count": 16,
     "metadata": {},
     "output_type": "execute_result"
    }
   ],
   "source": [
    "visitors_daily_a = visitors.query('group == \"A\"')[['date', 'visitors']]\n",
    "visitors_daily_b = visitors.query('group == \"B\"')[['date', 'visitors']]\n",
    "\n",
    "visitors_cumulative_a = (\n",
    "    visitors_daily_a\n",
    "    .apply(lambda x: visitors_daily_a[visitors_daily_a['date'] <= x['date']].agg(\n",
    "                            {'date': 'max',\n",
    "                             'visitors': 'sum'}),\n",
    "            axis=1\n",
    "          )\n",
    ")\n",
    "\n",
    "visitors_cumulative_b = (\n",
    "    visitors_daily_b\n",
    "    .apply(lambda x: visitors_daily_b[visitors_daily_b['date'] <= x['date']].agg(\n",
    "                            {'date': 'max',\n",
    "                             'visitors': 'sum'}),\n",
    "                        axis=1\n",
    "          )\n",
    ")\n",
    "\n",
    "visitors_daily_a.rename(columns={'visitors': 'visitors_per_day_a'}, inplace=True)\n",
    "visitors_daily_b.rename(columns={'visitors': 'visitors_per_day_b'}, inplace=True)\n",
    "\n",
    "visitors_cumulative_a.rename(columns={'visitors': 'visitors_cumulative_a'}, inplace=True)\n",
    "visitors_cumulative_b.rename(columns={'visitors': 'visitors_cumulative_b'}, inplace=True)\n",
    "\n",
    "\n",
    "orders_daily_a = (\n",
    "    orders\n",
    "    .query('group == \"A\"')[['date', 'transaction_id', 'revenue']]\n",
    "    .groupby('date', as_index=False)\n",
    "    .agg({\n",
    "        'transaction_id': 'nunique',\n",
    "        'revenue': 'sum'\n",
    "    })\n",
    ")\n",
    "\n",
    "orders_daily_b = (\n",
    "    orders\n",
    "    .query('group == \"B\"')[['date', 'transaction_id', 'revenue']]\n",
    "    .groupby('date', as_index=False)\n",
    "    .agg({\n",
    "        'transaction_id': 'nunique',\n",
    "        'revenue': 'sum'\n",
    "    })\n",
    ")\n",
    "\n",
    "\n",
    "\n",
    "orders_daily_a.rename(\n",
    "    columns={\n",
    "        'transaction_id': 'orders_per_day_a',\n",
    "        'revenue': 'revenue_per_day_a'\n",
    "        },\n",
    "    inplace=True)\n",
    "\n",
    "orders_daily_b.rename(\n",
    "    columns={\n",
    "        'transaction_id': 'orders_per_day_b',\n",
    "        'revenue': 'revenue_per_day_b'\n",
    "        },\n",
    "    inplace=True)\n",
    "\n",
    "\n",
    "\n",
    "orders_cumulative_a = (\n",
    "    orders_daily_a.apply(\n",
    "        lambda x: orders_daily_a[orders_daily_a['date'] <= x['date']].agg({\n",
    "            'date': 'max',\n",
    "            'orders_per_day_a': 'sum',\n",
    "            'revenue_per_day_a': 'sum'\n",
    "        }),\n",
    "        axis=1\n",
    "    )\n",
    ")\n",
    "\n",
    "orders_cumulative_b = (\n",
    "    orders_daily_b.apply(\n",
    "        lambda x: orders_daily_b[orders_daily_b['date'] <= x['date']].agg({\n",
    "            'date': 'max',\n",
    "            'orders_per_day_b': 'sum',\n",
    "            'revenue_per_day_b': 'sum'\n",
    "        }),\n",
    "        axis=1\n",
    "    )\n",
    ")\n",
    "\n",
    "\n",
    "orders_cumulative_a.rename(\n",
    "    columns={\n",
    "        'orders_per_day_a': 'orders_cumulative_a',\n",
    "        'revenue_per_day_a': 'revenue_cumulative_a'\n",
    "        },\n",
    "    inplace=True)\n",
    "\n",
    "orders_cumulative_b.rename(\n",
    "    columns={\n",
    "        'orders_per_day_b': 'orders_cumulative_b',\n",
    "        'revenue_per_day_b': 'revenue_cumulative_b'\n",
    "        },\n",
    "    inplace=True)\n",
    "\n",
    "\n",
    "data_aggr = (\n",
    "    orders_daily_a\n",
    "    .merge(orders_daily_b, on='date', how='left')\n",
    "    .merge(orders_cumulative_a, on='date', how='left')\n",
    "    .merge(orders_cumulative_b, on='date', how='left')\n",
    "    .merge(visitors_daily_a, on='date', how='left')\n",
    "    .merge(visitors_daily_b, on='date', how='left')\n",
    "    .merge(visitors_cumulative_a, on='date', how='left')\n",
    "    .merge(visitors_cumulative_b, on='date', how='left')\n",
    "    )\n",
    "\n",
    "data_aggr.head()"
   ]
  },
  {
   "cell_type": "markdown",
   "id": "c72b1266",
   "metadata": {},
   "source": [
    "Кумулятивные значения успешно собраны."
   ]
  },
  {
   "cell_type": "markdown",
   "id": "79378941",
   "metadata": {},
   "source": [
    "### Анализ результатов A/B-теста"
   ]
  },
  {
   "cell_type": "markdown",
   "id": "bf2cd68a",
   "metadata": {},
   "source": [
    "#### Анализ кумулятивных показателей"
   ]
  },
  {
   "cell_type": "markdown",
   "id": "b481f6e2",
   "metadata": {},
   "source": [
    "Построим график динамики кумулятивной выручки по группам."
   ]
  },
  {
   "cell_type": "code",
   "execution_count": 17,
   "id": "3ba657f6",
   "metadata": {},
   "outputs": [
    {
     "data": {
      "image/png": "[encoded data removed]",
      "text/plain": [
       "<Figure size 720x360 with 1 Axes>"
      ]
     },
     "metadata": {
      "needs_background": "light"
     },
     "output_type": "display_data"
    }
   ],
   "source": [
    "fig, ax = plt.subplots(figsize=(10, 5))\n",
    "\n",
    "ax.plot(data_aggr['date'], data_aggr['revenue_cumulative_a'], label='A')\n",
    "ax.plot(data_aggr['date'], data_aggr['revenue_cumulative_b'], label='B')\n",
    "\n",
    "plt.xticks(rotation=45)\n",
    "ax.xaxis.set_minor_locator(AutoMinorLocator())\n",
    "plt.grid(True, which='both', axis='x')\n",
    "\n",
    "plt.legend()\n",
    "plt.title('Cumulative revenue by group');"
   ]
  },
  {
   "cell_type": "markdown",
   "id": "f019649d",
   "metadata": {},
   "source": [
    "По динамике кумулятивной выручки группы идут в целом довольно близко друг к другу до 19 августа, когда происходит резкий скачок выручки в группе B. При этом угол наклона кривой не меняется и после скачка кривая ведёт себя себя стабильно. Это заставляет нас предположить наличие аномалий в группе B.\n",
    "\n",
    "До скачка группа B какое-то время опережала группу А, но потом покатели их выручки начали сближаться. Видимо, первоначальные различия были связано с эффектом подглядывания, т.е. только к середине августа кумулятивные значения начали стабилизироваться."
   ]
  },
  {
   "cell_type": "markdown",
   "id": "bf5ffdc5",
   "metadata": {},
   "source": [
    "Теперь построим график кумулятивного среднего чека по группам."
   ]
  },
  {
   "cell_type": "code",
   "execution_count": 18,
   "id": "9362ba0c",
   "metadata": {},
   "outputs": [
    {
     "data": {
      "image/png": "[encoded data removed]",
      "text/plain": [
       "<Figure size 720x360 with 1 Axes>"
      ]
     },
     "metadata": {
      "needs_background": "light"
     },
     "output_type": "display_data"
    }
   ],
   "source": [
    "fig, ax = plt.subplots(figsize=(10, 5))\n",
    "\n",
    "df = (\n",
    "    pd.DataFrame(\n",
    "        {'date': data_aggr['date'],\n",
    "         'arpu': data_aggr['revenue_cumulative_a'] / data_aggr['orders_cumulative_a']}\n",
    "    )\n",
    ")\n",
    "\n",
    "ax.plot(df['date'], df['arpu'], label='A')\n",
    "\n",
    "df = (    \n",
    "    pd.DataFrame(\n",
    "        {'date': data_aggr['date'],\n",
    "         'arpu': data_aggr['revenue_cumulative_b'] / data_aggr['orders_cumulative_b']}\n",
    "    )\n",
    ")\n",
    "\n",
    "ax.plot(df['date'], df['arpu'], label='B')\n",
    "\n",
    "plt.xticks(rotation=45)\n",
    "ax.xaxis.set_minor_locator(AutoMinorLocator())\n",
    "plt.grid(True, which='both', axis='x')\n",
    "\n",
    "plt.legend()\n",
    "plt.title('Cumulative average return per user by group');"
   ]
  },
  {
   "cell_type": "markdown",
   "id": "1ca777e8",
   "metadata": {},
   "source": [
    "Динамика кумулятивного среднего чека в целом схожа с динамикой кумулятивной выручки. Первоначально кумулятивный средний чек в группе B был выше, затем он сблизился со средним чеком в группе А. 19 августа средний чек в группе B резко вырос, после чего он постепенно снижался. Видимо, где-то 19 августа был сделан какой-то аномально большой заказ. Его надо будет отфильтровать.\n",
    "\n",
    "Возможно, что присутствуют и другие аномалии. Так, например, резкие изменения среднего чека в районе 5 и 14 августа кажутся подозрительными. Впрочем, те, что произошли около 5 августа, могут быть вызваны эффектом подглядывания."
   ]
  },
  {
   "cell_type": "markdown",
   "id": "84832661",
   "metadata": {},
   "source": [
    "Для лучшего понимания динамики среднего чека построим график относительного изменения кумулятивного среднего чека группы A к группе B."
   ]
  },
  {
   "cell_type": "code",
   "execution_count": 19,
   "id": "fdbec0e1",
   "metadata": {},
   "outputs": [
    {
     "data": {
      "image/png": "[encoded data removed]",
      "text/plain": [
       "<Figure size 720x360 with 1 Axes>"
      ]
     },
     "metadata": {
      "needs_background": "light"
     },
     "output_type": "display_data"
    }
   ],
   "source": [
    "df = (\n",
    "    pd.DataFrame(\n",
    "        {\n",
    "         'date': data_aggr['date'],\n",
    "         'arpu_rel': (data_aggr['revenue_cumulative_b'] / data_aggr['orders_cumulative_b']) /\n",
    "                 (data_aggr['revenue_cumulative_a'] / data_aggr['orders_cumulative_a']) - 1\n",
    "        }\n",
    "    )\n",
    ")\n",
    "\n",
    "plt.figure(figsize=(10, 5))\n",
    "\n",
    "plt.plot(df['date'], df['arpu_rel'])\n",
    "\n",
    "plt.axhline(y=0, color='grey', linestyle='--')\n",
    "\n",
    "plt.xticks(rotation=45)\n",
    "plt.gca().xaxis.set_minor_locator(AutoMinorLocator())\n",
    "plt.grid(True, which='both', axis='x')\n",
    "\n",
    "plt.title('Relative (B to A) ARPU');"
   ]
  },
  {
   "cell_type": "markdown",
   "id": "efcdf74e",
   "metadata": {},
   "source": [
    "По графику относительного среднего чека видно, что средний чек в группе B в основном был лучше, чем в группе A. Это, однако, во многом связано с аномалией 19 августа.\n",
    "\n",
    "Резкие колебания относительного среднего чека наблюдаются в районе 5 и 19 августа. Изменения, происходившие  другие моменты, тоже трудно назвать плавными, но они по крайней мере длились дольше одного дня.  "
   ]
  },
  {
   "cell_type": "markdown",
   "id": "6e70ec58",
   "metadata": {},
   "source": [
    "Теперь проанализируем динамику среднего кумулятивного количества заказов по группам."
   ]
  },
  {
   "cell_type": "code",
   "execution_count": 20,
   "id": "95cca331",
   "metadata": {},
   "outputs": [
    {
     "data": {
      "image/png": "[encoded data removed]",
      "text/plain": [
       "<Figure size 720x360 with 1 Axes>"
      ]
     },
     "metadata": {
      "needs_background": "light"
     },
     "output_type": "display_data"
    }
   ],
   "source": [
    "fig, ax = plt.subplots(figsize=(10, 5))\n",
    "\n",
    "df = (\n",
    "    pd.DataFrame(\n",
    "        {'date': data_aggr['date'],\n",
    "         'av_orders': data_aggr['orders_cumulative_a'] / data_aggr['visitors_cumulative_a']}\n",
    "        )\n",
    "    )\n",
    "\n",
    "ax.plot(df['date'], df['av_orders'], label='A')\n",
    "\n",
    "df = (\n",
    "    pd.DataFrame(\n",
    "        {'date': data_aggr['date'],\n",
    "         'av_orders': data_aggr['orders_cumulative_b'] / data_aggr['visitors_cumulative_b']}\n",
    "        )\n",
    "    )    \n",
    "\n",
    "ax.plot(df['date'], df['av_orders'], label='B')\n",
    "\n",
    "plt.xticks(rotation=45)\n",
    "ax.xaxis.set_minor_locator(AutoMinorLocator())\n",
    "plt.grid(True, which='both', axis='x')\n",
    "\n",
    "plt.legend()\n",
    "plt.title('Average cumulative number of orders per user by group');"
   ]
  },
  {
   "cell_type": "markdown",
   "id": "467e43bd",
   "metadata": {},
   "source": [
    "Среднее кумулятивное количество заказов в группе B с 6 августа стабильно выше, чем в группе А. Достаточно резкие колебания наблюдаются в основном в группе B (около 10 августа, около 14 августа, около 18 августа)."
   ]
  },
  {
   "cell_type": "markdown",
   "id": "87c76644",
   "metadata": {},
   "source": [
    "Посмотрим на относительное изменение среднего кумулятивного количества заказов."
   ]
  },
  {
   "cell_type": "code",
   "execution_count": 21,
   "id": "75b29cbb",
   "metadata": {},
   "outputs": [
    {
     "data": {
      "image/png": "[encoded data removed]",
      "text/plain": [
       "<Figure size 720x360 with 1 Axes>"
      ]
     },
     "metadata": {
      "needs_background": "light"
     },
     "output_type": "display_data"
    }
   ],
   "source": [
    "df = (\n",
    "    pd.DataFrame(\n",
    "        {\n",
    "         'date': data_aggr['date'],\n",
    "         'av_orders': (data_aggr['orders_cumulative_b'] / data_aggr['visitors_cumulative_b']) /\n",
    "                 (data_aggr['orders_cumulative_a'] / data_aggr['visitors_cumulative_a']) - 1\n",
    "        }\n",
    "    )\n",
    ")\n",
    "\n",
    "plt.figure(figsize=(10, 5))\n",
    "\n",
    "plt.plot(df['date'], df['av_orders'])\n",
    "\n",
    "plt.axhline(y=0, color='grey', linestyle='--')\n",
    "\n",
    "plt.xticks(rotation=45)\n",
    "plt.gca().xaxis.set_minor_locator(AutoMinorLocator())\n",
    "plt.grid(True, which='both', axis='x')\n",
    "\n",
    "plt.title('Relative (B to A) average cumulative number of orders per user');"
   ]
  },
  {
   "cell_type": "markdown",
   "id": "c7d933c2",
   "metadata": {},
   "source": [
    "По графику видно, что с 6 августа среднее число заказов в группе B начало стремительно расти относительно того же показателя в группе B. Динамика относительногго среднего количества заказов стабилизировалась после 10 августа. Сравнительно резкие изменения после этого заметны в районе 15, 18, 23 и 27 августа."
   ]
  },
  {
   "cell_type": "markdown",
   "id": "c4f96f15",
   "metadata": {},
   "source": [
    "**Краткие выводы:**\n",
    "\n",
    "Кумулятиное среднее число заказов кажется стабильно более высоким в группе B. Что касается кумулятивного среднего чека, то здесь такой стабильности не наблюдается. По графикам особых различий не заметно, если не принимать во внимание выброса 19 августа."
   ]
  },
  {
   "cell_type": "markdown",
   "id": "6500ec3b",
   "metadata": {},
   "source": [
    "#### Анализ средних показателей"
   ]
  },
  {
   "cell_type": "markdown",
   "id": "15913c77",
   "metadata": {},
   "source": [
    "Выясним, какое количество заказов на одного пользователя можно считать аномальным. Построим точечный график количества заказов на одного пользователя."
   ]
  },
  {
   "cell_type": "code",
   "execution_count": 22,
   "id": "82a60c4d",
   "metadata": {},
   "outputs": [
    {
     "data": {
      "image/png": "[encoded data removed]",
      "text/plain": [
       "<Figure size 1080x360 with 1 Axes>"
      ]
     },
     "metadata": {
      "needs_background": "light"
     },
     "output_type": "display_data"
    }
   ],
   "source": [
    "orders_per_users = (\n",
    "    orders\n",
    "    .groupby('visitor_id', as_index=False)\n",
    "    .agg({'transaction_id': 'count'})\n",
    "    .rename(columns={'transaction_id': 'orders_per_user'})\n",
    ")\n",
    "\n",
    "fig, ax = plt.subplots(figsize=(15, 5))\n",
    "\n",
    "orders_per_users.plot.scatter(x='visitor_id', y='orders_per_user', ax=ax)\n",
    "\n",
    "plt.title('Number of orders per user');"
   ]
  },
  {
   "cell_type": "markdown",
   "id": "34cdd02f",
   "metadata": {},
   "source": [
    "Судя по диаграмме, больше 1 заказа делает совсем немного пользователей. А больше 3 — и вовсе единицы."
   ]
  },
  {
   "cell_type": "markdown",
   "id": "bc10aef5",
   "metadata": {},
   "source": [
    "Определим статистически аномальное количество заказов на одного пользователя. Посчитаем 95 и 99 перцентили. Сохраним их на будущее."
   ]
  },
  {
   "cell_type": "code",
   "execution_count": 23,
   "id": "f91c55b2",
   "metadata": {},
   "outputs": [
    {
     "data": {
      "text/plain": [
       "array([2., 4.])"
      ]
     },
     "execution_count": 23,
     "metadata": {},
     "output_type": "execute_result"
    }
   ],
   "source": [
    "percentiles_orders = np.percentile(orders_per_users['orders_per_user'], [95, 99])\n",
    "\n",
    "percentiles_orders"
   ]
  },
  {
   "cell_type": "markdown",
   "id": "c6252b9d",
   "metadata": {},
   "source": [
    "Получается, что больше 2 заказов совершило не более 5 процентов пользователей, а больше 4 — не более 1 процента. Будем считать аномальными пользователей, совершивших 3 заказа и более (уровень значимости — 5 процентов)."
   ]
  },
  {
   "cell_type": "markdown",
   "id": "73a59f86",
   "metadata": {},
   "source": [
    "Теперь построим график распределения стоимостей заказов."
   ]
  },
  {
   "cell_type": "code",
   "execution_count": 24,
   "id": "cbd3edf1",
   "metadata": {},
   "outputs": [
    {
     "data": {
      "image/png": "[encoded data removed]",
      "text/plain": [
       "<Figure size 1080x360 with 2 Axes>"
      ]
     },
     "metadata": {
      "needs_background": "light"
     },
     "output_type": "display_data"
    }
   ],
   "source": [
    "fig, (ax1, ax2) = plt.subplots(nrows=1, ncols=2, figsize=(15, 5))\n",
    "\n",
    "\n",
    "sns.scatterplot(data=orders, x='transaction_id', y='revenue', hue='group', ax=ax1)\n",
    "ax1.set_title('full scale')\n",
    "sns.scatterplot(data=orders, x='transaction_id', y='revenue', hue='group', ax=ax2)\n",
    "\n",
    "ax2.set_ylim(0, 0.1 * 10**6)\n",
    "ax2.set_ylabel('')\n",
    "ax2.set_title('less than $100.000')\n",
    "\n",
    "plt.suptitle('Revenue per order', fontsize=14, weight='bold');"
   ]
  },
  {
   "cell_type": "markdown",
   "id": "434064ca",
   "metadata": {},
   "source": [
    "Хорошо видно, что заказов на сумму больше 100 000 долларов, почти нет. В целом же условную границе нормальности, кажется, можно провести по значению в 30 000 долларов. Проверим это, посчитав 95 и 99 перцентили. Сохраним эти значения на будущее."
   ]
  },
  {
   "cell_type": "code",
   "execution_count": 25,
   "id": "6d5335b3",
   "metadata": {},
   "outputs": [
    {
     "data": {
      "text/plain": [
       "array([28000. , 58233.2])"
      ]
     },
     "execution_count": 25,
     "metadata": {},
     "output_type": "execute_result"
    }
   ],
   "source": [
    "percentiles_revenue = np.percentile(orders['revenue'], [95, 99])\n",
    "\n",
    "percentiles_revenue"
   ]
  },
  {
   "cell_type": "markdown",
   "id": "286b9527",
   "metadata": {},
   "source": [
    "Не более 5 процентов заказов имеют стоимость больше 28 тысяч долларов. А заказы на сумму больше 58 234 долларов составляют не более 1 процента от общего числа. Будем считать аномальными все заказы, стоимость которых больше 28 000 долларов (уровень значимости — 5 процентов)."
   ]
  },
  {
   "cell_type": "markdown",
   "id": "577e8a5b",
   "metadata": {},
   "source": [
    "**Краткие выводы:**\n",
    "\n",
    "Аномальных пользователей по числу заказов и заказов по выручке не так уж много. При уровне значимости в 5% в качестве порога аномальности можно выбрать:\n",
    "\n",
    "* для среднего количества заказов — 2 заказа\n",
    "\n",
    "* для среднего чека — 28 000 долларов."
   ]
  },
  {
   "cell_type": "markdown",
   "id": "ae3625d3",
   "metadata": {},
   "source": [
    "#### Анализ различий между группами по сырым данным"
   ]
  },
  {
   "cell_type": "markdown",
   "id": "d10e6c22",
   "metadata": {},
   "source": [
    "Подготовим данные для анализа различий в количестве заказов между группами. Сохраним в переменных `sample_a` и `sample_b` количество заказов в каждой группе для каждого пользователя. Для этого найдём количество заказов у всех пользователей, совершавших заказы, и сохраним его в переменнной `orders_by_user_a/b`. Для пользователей, ничего не заказавших, оставим нули."
   ]
  },
  {
   "cell_type": "code",
   "execution_count": 34,
   "id": "02e395b3",
   "metadata": {},
   "outputs": [
    {
     "data": {
      "text/plain": [
       "499    7\n",
       "278    5\n",
       "227    5\n",
       "23     4\n",
       "18     4\n",
       "dtype: int64"
      ]
     },
     "metadata": {},
     "output_type": "display_data"
    },
    {
     "data": {
      "text/plain": [
       "340    6\n",
       "326    5\n",
       "424    4\n",
       "514    4\n",
       "580    4\n",
       "dtype: int64"
      ]
     },
     "execution_count": 34,
     "metadata": {},
     "output_type": "execute_result"
    }
   ],
   "source": [
    "orders_by_user_a = (\n",
    "    orders\n",
    "    .query('group == \"A\"')\n",
    "    .groupby('visitor_id', as_index=False)\n",
    "    .agg({'transaction_id': 'count'})\n",
    ")\n",
    "\n",
    "orders_by_user_b = (\n",
    "    orders\n",
    "    .query('group == \"B\"')\n",
    "    .groupby('visitor_id', as_index=False)\n",
    "    .agg({'transaction_id': 'count'})\n",
    ")\n",
    "\n",
    "orders_by_user_a.rename(columns={'transaction_id': 'orders_cnt'}, inplace=True)\n",
    "orders_by_user_b.rename(columns={'transaction_id': 'orders_cnt'}, inplace=True)\n",
    "\n",
    "sample_a = pd.concat(\n",
    "    [\n",
    "        orders_by_user_a['orders_cnt'],\n",
    "        pd.Series(\n",
    "            0,\n",
    "            index=np.arange(\n",
    "                    data_aggr['visitors_per_day_a'].sum() - len(orders_by_user_a)\n",
    "            )\n",
    "        )\n",
    "    ],\n",
    "    axis = 0\n",
    ")\n",
    "\n",
    "display(sample_a.sort_values(ascending=False).head())\n",
    "\n",
    "sample_b = pd.concat(\n",
    "    [\n",
    "        orders_by_user_b['orders_cnt'],\n",
    "        pd.Series(\n",
    "            0,\n",
    "            index=np.arange(\n",
    "                    data_aggr['visitors_per_day_b'].sum() - len(orders_by_user_b)\n",
    "            )\n",
    "        )\n",
    "    ],\n",
    "    axis = 0\n",
    ")\n",
    "\n",
    "sample_b.sort_values(ascending=False).head()"
   ]
  },
  {
   "cell_type": "markdown",
   "id": "ee085f34",
   "metadata": {},
   "source": [
    "Теперь проверим статистическую значимость различий в среднем количестве заказов между группами при помощи непараметрического теста Уилкоксона-Манна-Уитни. Также посчитаем разность среднего количества заказов между группами. В качестве уровня значимости примем 5 процентов.\n",
    "\n",
    "H0: среднее количестве заказов в группах одинаковое.\n",
    "\n",
    "H1: среднее количество заказов в группах различно."
   ]
  },
  {
   "cell_type": "code",
   "execution_count": 27,
   "id": "d9b9a165",
   "metadata": {},
   "outputs": [
    {
     "name": "stdout",
     "output_type": "stream",
     "text": [
      "p-значение:  0.016792355056752608\n",
      "Отвергаем нулевую гипотезу: разница статистически значима\n",
      "Относительная разница в среднем количестве заказов (B к A): 0.138\n"
     ]
    }
   ],
   "source": [
    "alpha = 0.05\n",
    "\n",
    "results = st.mannwhitneyu(sample_a, sample_b)\n",
    "\n",
    "print('p-значение: ', results.pvalue)\n",
    "\n",
    "if results.pvalue < alpha:\n",
    "    print('Отвергаем нулевую гипотезу: разница статистически значима')\n",
    "else:\n",
    "    print('Не получилось отвергнуть нулевую гипотезу, вывод о различии сделать нельзя')\n",
    "    \n",
    "print(\n",
    "    f\"Относительная разница в среднем количестве заказов (B к A): {(sample_b.mean() / sample_a.mean() - 1):.3f}\"\n",
    "    )    "
   ]
  },
  {
   "cell_type": "markdown",
   "id": "a3026d80",
   "metadata": {},
   "source": [
    "По сырым данным выходит, что различия в конверсии в покупателей между группами есть. В группе B конверсия на 13,8% выше, и это статистически значимое различие. Посмотрим теперь на различия в среднем чеке.\n",
    "\n",
    "H0: средний чек в групппах одинаковый.\n",
    "\n",
    "H1: средний чек в группах различается."
   ]
  },
  {
   "cell_type": "code",
   "execution_count": 28,
   "id": "146e6f53",
   "metadata": {},
   "outputs": [
    {
     "name": "stdout",
     "output_type": "stream",
     "text": [
      "p-значение: 0.7292909855432458\n",
      "Не получилось отвергнуть нулевую гипотезу, вывод о различии сделать нельзя\n",
      "Относительная разница в среднем чеке (B к A): 0.259\n"
     ]
    }
   ],
   "source": [
    "results = st.mannwhitneyu(\n",
    "    orders.query('group == \"A\"')['revenue'],\n",
    "    orders.query('group == \"B\"')['revenue']\n",
    "    ) \n",
    "\n",
    "print('p-значение:', results.pvalue)\n",
    "\n",
    "if results.pvalue < alpha:\n",
    "    print('Отвергаем нулевую гипотезу: разница статистически значима')\n",
    "else:\n",
    "    print('Не получилось отвергнуть нулевую гипотезу, вывод о различии сделать нельзя')\n",
    "\n",
    "print(\n",
    "    f'Относительная разница в среднем чеке (B к A): {orders[orders[\"group\"] == \"B\"][\"revenue\"].mean() / orders[orders[\"group\"] == \"A\"][\"revenue\"].mean() - 1:.3f}'\n",
    "    )"
   ]
  },
  {
   "cell_type": "markdown",
   "id": "4b79f99b",
   "metadata": {},
   "source": [
    "Получается, что средний чек по сырым данным в группах не различается. При этом относительная разница в размере среднего чека больше, чем разница в среднем количестве заказов. Интересно. Выходит, что для заказов разница в 13,8% — это статистически значимое различие, а для среднего чека и 25,9% недостаточно. Вероятно, большое различие в средних чеках объясняется наличием аномалий в группе B."
   ]
  },
  {
   "cell_type": "markdown",
   "id": "b4855e14",
   "metadata": {},
   "source": [
    "#### Анализ различий между группами по очищенным данным"
   ]
  },
  {
   "cell_type": "markdown",
   "id": "0e9caaaf",
   "metadata": {},
   "source": [
    "Как отмечалось выше, в данных есть крупные аномалии. Отфильтруем их и выясним, есть ли в очищенных данных статистически значимые различия между группами. Для фильтрации будем использовать уровень значимости в 5 процентов, т.е. отбросим все значения, выходящие за пределы соответствующего 95-го перцентиля.\n",
    "\n",
    "Сначала соберём в одну переменную идентификаторы пользователей, которым соответствуют выбросы, а потом создадим сэмплы для «нормальных» пользователей."
   ]
  },
  {
   "cell_type": "code",
   "execution_count": 29,
   "id": "6083d22e",
   "metadata": {},
   "outputs": [
    {
     "data": {
      "text/plain": [
       "484    2\n",
       "470    2\n",
       "150    2\n",
       "416    2\n",
       "338    2\n",
       "dtype: int64"
      ]
     },
     "metadata": {},
     "output_type": "display_data"
    },
    {
     "data": {
      "text/plain": [
       "291    2\n",
       "233    2\n",
       "322    2\n",
       "330    2\n",
       "536    2\n",
       "dtype: int64"
      ]
     },
     "metadata": {},
     "output_type": "display_data"
    },
    {
     "name": "stdout",
     "output_type": "stream",
     "text": [
      "Удалено 7.2% пользователей, совершавших заказы.\n"
     ]
    }
   ],
   "source": [
    "users_with_many_orders = pd.concat(\n",
    "    [\n",
    "        orders_by_user_a.query('orders_cnt > @percentiles_orders[0]')['visitor_id'],\n",
    "        orders_by_user_b.query('orders_cnt > @percentiles_orders[0]')['visitor_id']\n",
    "    ],\n",
    "    axis=0\n",
    ")\n",
    "\n",
    "users_with_expensive_orders = orders.query('revenue > @percentiles_revenue[0]')['visitor_id']\n",
    "\n",
    "abnormal_users = (\n",
    "    pd.concat(\n",
    "        [\n",
    "            users_with_many_orders,\n",
    "            users_with_expensive_orders\n",
    "        ],\n",
    "        axis=0\n",
    "    )\n",
    "    .drop_duplicates()\n",
    ")\n",
    "\n",
    "sample_a_filtered = pd.concat(\n",
    "    [\n",
    "        orders_by_user_a.query('visitor_id not in @abnormal_users')['orders_cnt'],\n",
    "        pd.Series(\n",
    "            0,\n",
    "            index=np.arange(\n",
    "                    data_aggr['visitors_per_day_a'].sum() - len(orders_by_user_a)\n",
    "            )\n",
    "        )\n",
    "    ],\n",
    "    axis=0\n",
    ")\n",
    "\n",
    "\n",
    "display(sample_a_filtered\n",
    "        .sort_values(ascending=False)\n",
    "        .head())\n",
    "\n",
    "\n",
    "sample_b_filtered = pd.concat(\n",
    "    [\n",
    "        orders_by_user_b.query('visitor_id not in @abnormal_users')['orders_cnt'],\n",
    "        pd.Series(\n",
    "            0,\n",
    "            index=np.arange(\n",
    "                    data_aggr['visitors_per_day_b'].sum() - len(orders_by_user_b)\n",
    "            )\n",
    "        )\n",
    "    ],\n",
    "    axis=0\n",
    ")\n",
    "\n",
    "\n",
    "display(sample_b_filtered\n",
    "        .sort_values(ascending=False)\n",
    "        .head()\n",
    ")\n",
    "\n",
    "print(f'Удалено {len(abnormal_users) / len(orders_per_users):.1%} пользователей, совершавших заказы.') \n"
   ]
  },
  {
   "cell_type": "markdown",
   "id": "94f0bc51",
   "metadata": {},
   "source": [
    "Отфильтрованные выборки готовы. Всего было удалено 7,2% всех пользователей, совершавших заказы. Это относительно немного.\n",
    "\n",
    "Теперь можно применить критерий Уилкоксона-Манна-Уитни.\n",
    "\n",
    "H0: среднее количестве заказов в группах одинаковое.\n",
    "\n",
    "H1: среднее количество заказов в группах различно."
   ]
  },
  {
   "cell_type": "code",
   "execution_count": 30,
   "id": "94756c02",
   "metadata": {},
   "outputs": [
    {
     "name": "stdout",
     "output_type": "stream",
     "text": [
      "p-значение:  0.013042592743036745\n",
      "Отвергаем нулевую гипотезу: разница статистически значима\n",
      "Относительная разница в среднем количестве заказов (B к A): 0.173\n"
     ]
    }
   ],
   "source": [
    "results = st.mannwhitneyu(sample_a_filtered, sample_b_filtered)\n",
    "\n",
    "print('p-значение: ', results.pvalue)\n",
    "\n",
    "if results.pvalue < alpha:\n",
    "    print('Отвергаем нулевую гипотезу: разница статистически значима')\n",
    "else:\n",
    "    print('Не получилось отвергнуть нулевую гипотезу, вывод о различии сделать нельзя')\n",
    "    \n",
    "print(\n",
    "    f\"Относительная разница в среднем количестве заказов (B к A): {(sample_b_filtered.mean() / sample_a_filtered.mean() - 1):.3f}\"\n",
    "    )    "
   ]
  },
  {
   "cell_type": "markdown",
   "id": "ec0b4614",
   "metadata": {},
   "source": [
    "По очищенным данным относительная разница в среднем количестве чеков увеличилась и осталась при этом статистически значимой. Теперь проверим, есть ли разница в среднем чеке в очищенных данных.\n",
    "\n",
    "H0: средний чек в групппах одинаковый.\n",
    "\n",
    "H1: средний чек в группах различается."
   ]
  },
  {
   "cell_type": "code",
   "execution_count": 31,
   "id": "8dcae9df",
   "metadata": {},
   "outputs": [
    {
     "name": "stdout",
     "output_type": "stream",
     "text": [
      "p-значение: 0.738481751314565\n",
      "Не получилось отвергнуть нулевую гипотезу, вывод о различии сделать нельзя\n",
      "Относительная разница в среднем чеке (B к A): -0.020\n"
     ]
    }
   ],
   "source": [
    "results = st.mannwhitneyu(\n",
    "    orders.query('visitor_id not in @abnormal_users and group == \"A\"')['revenue'],\n",
    "    orders.query('visitor_id not in @abnormal_users and group == \"B\"')['revenue']\n",
    "    ) \n",
    "\n",
    "print('p-значение:', results.pvalue)\n",
    "\n",
    "if results.pvalue < alpha:\n",
    "    print('Отвергаем нулевую гипотезу: разница статистически значима')\n",
    "else:\n",
    "    print('Не получилось отвергнуть нулевую гипотезу, вывод о различии сделать нельзя')\n",
    "\n",
    "print(\n",
    "    f'Относительная разница в среднем чеке (B к A): {orders[(orders[\"group\"] == \"B\") & ~(orders[\"visitor_id\"].isin(abnormal_users))][\"revenue\"].mean() / orders[(orders[\"group\"] == \"A\") & ~(orders[\"visitor_id\"].isin(abnormal_users))][\"revenue\"].mean() - 1:.3f}'\n",
    "    )"
   ]
  },
  {
   "cell_type": "markdown",
   "id": "b82eb1ec",
   "metadata": {},
   "source": [
    "По очищенным данным наличие статистически значимого различиия в среднем чеке тоже не подтвердилось. Относительная разница изменила знак: в очищенных данных средний чек в группе А на 2% больше, чем в группе В."
   ]
  },
  {
   "cell_type": "markdown",
   "id": "586bc55d",
   "metadata": {},
   "source": [
    "#### Решение об остановке тестирования"
   ]
  },
  {
   "cell_type": "markdown",
   "id": "f73a755b",
   "metadata": {},
   "source": [
    "Анализ кумулятивных показателей, а также статистический анализ различий в среднем количестве заказов и среднем чеке, показывают, что между группами A и B:\n",
    "\n",
    "* существуют устойчивые и статистически значимые различия в среднем количестве заказов, сохраняющиеся и после фильтрации данных;\n",
    "\n",
    "* статистически значимых различий по среднему чеку нет как по сырым, так и по отфильтрованным данным.\n",
    "\n",
    "Устойчивых характер выявленных различий / сходств позволяет нам принять решение об остановке теста с результатом: реализация пртестированной гипотезы позволяет увеличить конверсию, однако не влияет на средний чек. В целом эксперимент можно признать успешным."
   ]
  },
  {
   "cell_type": "markdown",
   "id": "e3260efd",
   "metadata": {},
   "source": [
    "## Выводы"
   ]
  },
  {
   "cell_type": "markdown",
   "id": "2f60579f",
   "metadata": {},
   "source": [
    "В ходе исследования были выполнены следующие действия:\n",
    "\n",
    "1. Проведена приоритизация гипотез: применены фреймворки `ICE` и `RICE`, сопоставлены их результаты.\n",
    "\n",
    "2. Проведена предобработка данных для A/B-теста: приведены к удобному виду названия столбцов и типы данных в столбцах с датой, выполнен поиск артефактов, агрегированы данные для дальнейшего анализа (собраны кумулятивные и средние значения).\n",
    "\n",
    "3. Выполнен анализ результатов A/B-теста: проанализированы кумулятивные и средние показатели, проведён статистический анализ различий между группами.\n",
    "\n",
    "**Целью проекта** было, во-первых, выявить наиболее приоритетную гипотезу для тестирования и, во-вторых, протестировать её в ходе A/B-теста. В качестве наиболее приоритетной была выделена гипотеза №7 — «Добавить форму подписки на все основные страницы, чтобы собрать базу клиентов для email-рассылок». A/B-тестирование показало, что её реализация позволит увеличить конверсию пользователей в покупатели, однако на среднем чеке это не скажется.\n",
    "\n",
    "**Рекомендация** — реализовать гипотезу, т.е. добавить форму подписки на все основные страницы, чтобы собрать базу клиентов для email-рассылок."
   ]
  }
 ],
 "metadata": {
  "ExecuteTimeLog": [
   {
    "duration": 1083,
    "start_time": "2022-11-14T09:38:08.161Z"
   },
   {
    "duration": 86,
    "start_time": "2022-11-14T09:38:09.246Z"
   },
   {
    "duration": 3,
    "start_time": "2022-11-14T09:38:09.334Z"
   },
   {
    "duration": 17,
    "start_time": "2022-11-14T09:38:09.339Z"
   },
   {
    "duration": 23,
    "start_time": "2022-11-14T09:38:09.358Z"
   },
   {
    "duration": 115,
    "start_time": "2022-11-14T09:38:09.383Z"
   },
   {
    "duration": 18,
    "start_time": "2022-11-14T09:38:09.500Z"
   },
   {
    "duration": 49,
    "start_time": "2022-11-14T09:38:09.520Z"
   },
   {
    "duration": 447,
    "start_time": "2022-11-14T09:38:09.570Z"
   },
   {
    "duration": 9,
    "start_time": "2022-11-14T09:38:10.020Z"
   },
   {
    "duration": 18,
    "start_time": "2022-11-14T09:38:10.030Z"
   },
   {
    "duration": 17,
    "start_time": "2022-11-14T09:38:10.050Z"
   },
   {
    "duration": 274,
    "start_time": "2022-11-14T09:38:10.068Z"
   },
   {
    "duration": 241,
    "start_time": "2022-11-14T09:38:10.344Z"
   },
   {
    "duration": 252,
    "start_time": "2022-11-14T09:38:10.587Z"
   },
   {
    "duration": 247,
    "start_time": "2022-11-14T09:38:10.841Z"
   },
   {
    "duration": 396,
    "start_time": "2022-11-14T09:38:11.089Z"
   },
   {
    "duration": 268,
    "start_time": "2022-11-14T09:38:11.487Z"
   },
   {
    "duration": 425,
    "start_time": "2022-11-14T09:38:11.756Z"
   },
   {
    "duration": 152,
    "start_time": "2022-11-14T09:38:12.183Z"
   },
   {
    "duration": 5,
    "start_time": "2022-11-14T09:38:12.337Z"
   },
   {
    "duration": 274,
    "start_time": "2022-11-14T09:38:12.343Z"
   },
   {
    "duration": 5,
    "start_time": "2022-11-14T09:38:12.619Z"
   },
   {
    "duration": 27,
    "start_time": "2022-11-14T09:38:12.625Z"
   },
   {
    "duration": 36,
    "start_time": "2022-11-14T09:38:12.654Z"
   },
   {
    "duration": 14,
    "start_time": "2022-11-14T09:38:12.692Z"
   },
   {
    "duration": 150,
    "start_time": "2022-11-14T09:38:12.710Z"
   },
   {
    "duration": 24,
    "start_time": "2022-11-14T09:38:12.862Z"
   },
   {
    "duration": 15,
    "start_time": "2022-11-14T09:38:12.887Z"
   },
   {
    "duration": 80,
    "start_time": "2022-11-14T09:44:41.022Z"
   }
  ],
  "kernelspec": {
   "display_name": "Python 3 (ipykernel)",
   "language": "python",
   "name": "python3"
  },
  "language_info": {
   "codemirror_mode": {
    "name": "ipython",
    "version": 3
   },
   "file_extension": ".py",
   "mimetype": "text/x-python",
   "name": "python",
   "nbconvert_exporter": "python",
   "pygments_lexer": "ipython3",
   "version": "3.9.7"
  },
  "toc": {
   "base_numbering": 1,
   "nav_menu": {},
   "number_sections": true,
   "sideBar": true,
   "skip_h1_title": true,
   "title_cell": "Содержание",
   "title_sidebar": "Содержание",
   "toc_cell": true,
   "toc_position": {
    "height": "calc(100% - 180px)",
    "left": "10px",
    "top": "150px",
    "width": "384px"
   },
   "toc_section_display": true,
   "toc_window_display": true
  }
 },
 "nbformat": 4,
 "nbformat_minor": 5
}
