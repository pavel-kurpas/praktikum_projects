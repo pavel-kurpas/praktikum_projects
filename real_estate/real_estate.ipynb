{
 "cells": [
  {
   "cell_type": "markdown",
   "metadata": {
    "toc": true
   },
   "source": [
    "<h1>Содержание<span class=\"tocSkip\"></span></h1>\n",
    "<div class=\"toc\"><ul class=\"toc-item\"><li><span><a href=\"#Изучение-данных-из-файла\" data-toc-modified-id=\"Изучение-данных-из-файла-1\"><span class=\"toc-item-num\">1&nbsp;&nbsp;</span>Изучение данных из файла</a></span></li><li><span><a href=\"#Предобработка-данных\" data-toc-modified-id=\"Предобработка-данных-2\"><span class=\"toc-item-num\">2&nbsp;&nbsp;</span>Предобработка данных</a></span><ul class=\"toc-item\"><li><span><a href=\"#Обработка-пропусков\" data-toc-modified-id=\"Обработка-пропусков-2.1\"><span class=\"toc-item-num\">2.1&nbsp;&nbsp;</span>Обработка пропусков</a></span></li><li><span><a href=\"#Изменение-типов-данных\" data-toc-modified-id=\"Изменение-типов-данных-2.2\"><span class=\"toc-item-num\">2.2&nbsp;&nbsp;</span>Изменение типов данных</a></span></li><li><span><a href=\"#Обработка-дубликатов\" data-toc-modified-id=\"Обработка-дубликатов-2.3\"><span class=\"toc-item-num\">2.3&nbsp;&nbsp;</span>Обработка дубликатов</a></span></li><li><span><a href=\"#Устранение-артефактов\" data-toc-modified-id=\"Устранение-артефактов-2.4\"><span class=\"toc-item-num\">2.4&nbsp;&nbsp;</span>Устранение артефактов</a></span></li></ul></li><li><span><a href=\"#Расчёты-и-добавление-результатов-в-таблицу\" data-toc-modified-id=\"Расчёты-и-добавление-результатов-в-таблицу-3\"><span class=\"toc-item-num\">3&nbsp;&nbsp;</span>Расчёты и добавление результатов в таблицу</a></span></li><li><span><a href=\"#Исследовательский-анализ-данных\" data-toc-modified-id=\"Исследовательский-анализ-данных-4\"><span class=\"toc-item-num\">4&nbsp;&nbsp;</span>Исследовательский анализ данных</a></span><ul class=\"toc-item\"><li><span><a href=\"#Основные-параметры-объектов\" data-toc-modified-id=\"Основные-параметры-объектов-4.1\"><span class=\"toc-item-num\">4.1&nbsp;&nbsp;</span>Основные параметры объектов</a></span></li><li><span><a href=\"#Скорость-продаж\" data-toc-modified-id=\"Скорость-продаж-4.2\"><span class=\"toc-item-num\">4.2&nbsp;&nbsp;</span>Скорость продаж</a></span></li><li><span><a href=\"#Факторы-цены\" data-toc-modified-id=\"Факторы-цены-4.3\"><span class=\"toc-item-num\">4.3&nbsp;&nbsp;</span>Факторы цены</a></span></li><li><span><a href=\"#Средняя-цена-за-квадратный-метр\" data-toc-modified-id=\"Средняя-цена-за-квадратный-метр-4.4\"><span class=\"toc-item-num\">4.4&nbsp;&nbsp;</span>Средняя цена за квадратный метр</a></span></li><li><span><a href=\"#Цена-одного-километра-расстояния-до-центра\" data-toc-modified-id=\"Цена-одного-километра-расстояния-до-центра-4.5\"><span class=\"toc-item-num\">4.5&nbsp;&nbsp;</span>Цена одного километра расстояния до центра</a></span></li></ul></li><li><span><a href=\"#Общий-вывод\" data-toc-modified-id=\"Общий-вывод-5\"><span class=\"toc-item-num\">5&nbsp;&nbsp;</span>Общий вывод</a></span></li></ul></div>"
   ]
  },
  {
   "cell_type": "markdown",
   "metadata": {},
   "source": [
    "# Исследование объявлений о продаже квартир\n",
    "\n",
    "Имеются данные сервиса Яндекс Недвижимость — архив объявлений за несколько лет о продаже квартир в Санкт-Петербурге и соседних населённых пунктах.\n",
    "\n",
    "*Главная цель проекта* — выявление закономерностей и особенностей рынка вторичной жилой недвижимости в Санкт-Петербурге.\n",
    "\n",
    "*Задачи*:\n",
    "\n",
    "* выполнить предобработку данных;\n",
    "* изучить данные на предмет наличия в них особенностей и зависимостей.\n",
    "\n",
    "*Исследование включает в себя следующие этапы*:\n",
    "\n",
    "1. Первичный обзор данных\n",
    "\n",
    "\n",
    "2. Предобработка данных:\n",
    "    * обработка пропусков\n",
    "    * изменение типов данных\n",
    "    * обработка дубликатов\n",
    "    * устранение артефактов\n",
    "    \n",
    "\n",
    "3. Введение дополнительных столбцов с расчётными данными\n",
    "\n",
    "\n",
    "4. Исследовательский анализ данных:\n",
    "    * исследование основных параметров объявлений\n",
    "    * исследование скорости продаж (сроков размещения объявления)\n",
    "    * исследование факторов, определяющих стоимость объектов\n",
    "    * исследование цены одного квадратного метра в топ-10 населённых пунктов по числу объявлений\n",
    "    * исследование цены одного километра расстояния до центра Петербурга"
   ]
  },
  {
   "cell_type": "markdown",
   "metadata": {},
   "source": [
    "## Изучение данных из файла"
   ]
  },
  {
   "cell_type": "markdown",
   "metadata": {},
   "source": [
    "Сохраним таблицу с данными объявлений о продаже квартир в переменную `real_estate`. Учтём, что в качестве разделителя используется не запятая, а табуляция. Перед тем, как вывести 5 первых строк на экран, на всякий случай снимем ограничение на количество выводимых столбцов."
   ]
  },
  {
   "cell_type": "code",
   "execution_count": 1,
   "metadata": {},
   "outputs": [
    {
     "data": {
      "text/html": [
       "<div>\n",
       "<style scoped>\n",
       "    .dataframe tbody tr th:only-of-type {\n",
       "        vertical-align: middle;\n",
       "    }\n",
       "\n",
       "    .dataframe tbody tr th {\n",
       "        vertical-align: top;\n",
       "    }\n",
       "\n",
       "    .dataframe thead th {\n",
       "        text-align: right;\n",
       "    }\n",
       "</style>\n",
       "<table border=\"1\" class=\"dataframe\">\n",
       "  <thead>\n",
       "    <tr style=\"text-align: right;\">\n",
       "      <th></th>\n",
       "      <th>total_images</th>\n",
       "      <th>last_price</th>\n",
       "      <th>total_area</th>\n",
       "      <th>first_day_exposition</th>\n",
       "      <th>rooms</th>\n",
       "      <th>ceiling_height</th>\n",
       "      <th>floors_total</th>\n",
       "      <th>living_area</th>\n",
       "      <th>floor</th>\n",
       "      <th>is_apartment</th>\n",
       "      <th>studio</th>\n",
       "      <th>open_plan</th>\n",
       "      <th>kitchen_area</th>\n",
       "      <th>balcony</th>\n",
       "      <th>locality_name</th>\n",
       "      <th>airports_nearest</th>\n",
       "      <th>cityCenters_nearest</th>\n",
       "      <th>parks_around3000</th>\n",
       "      <th>parks_nearest</th>\n",
       "      <th>ponds_around3000</th>\n",
       "      <th>ponds_nearest</th>\n",
       "      <th>days_exposition</th>\n",
       "    </tr>\n",
       "  </thead>\n",
       "  <tbody>\n",
       "    <tr>\n",
       "      <th>0</th>\n",
       "      <td>20</td>\n",
       "      <td>13000000.0</td>\n",
       "      <td>108.0</td>\n",
       "      <td>2019-03-07T00:00:00</td>\n",
       "      <td>3</td>\n",
       "      <td>2.70</td>\n",
       "      <td>16.0</td>\n",
       "      <td>51.0</td>\n",
       "      <td>8</td>\n",
       "      <td>NaN</td>\n",
       "      <td>False</td>\n",
       "      <td>False</td>\n",
       "      <td>25.0</td>\n",
       "      <td>NaN</td>\n",
       "      <td>Санкт-Петербург</td>\n",
       "      <td>18863.0</td>\n",
       "      <td>16028.0</td>\n",
       "      <td>1.0</td>\n",
       "      <td>482.0</td>\n",
       "      <td>2.0</td>\n",
       "      <td>755.0</td>\n",
       "      <td>NaN</td>\n",
       "    </tr>\n",
       "    <tr>\n",
       "      <th>1</th>\n",
       "      <td>7</td>\n",
       "      <td>3350000.0</td>\n",
       "      <td>40.4</td>\n",
       "      <td>2018-12-04T00:00:00</td>\n",
       "      <td>1</td>\n",
       "      <td>NaN</td>\n",
       "      <td>11.0</td>\n",
       "      <td>18.6</td>\n",
       "      <td>1</td>\n",
       "      <td>NaN</td>\n",
       "      <td>False</td>\n",
       "      <td>False</td>\n",
       "      <td>11.0</td>\n",
       "      <td>2.0</td>\n",
       "      <td>посёлок Шушары</td>\n",
       "      <td>12817.0</td>\n",
       "      <td>18603.0</td>\n",
       "      <td>0.0</td>\n",
       "      <td>NaN</td>\n",
       "      <td>0.0</td>\n",
       "      <td>NaN</td>\n",
       "      <td>81.0</td>\n",
       "    </tr>\n",
       "    <tr>\n",
       "      <th>2</th>\n",
       "      <td>10</td>\n",
       "      <td>5196000.0</td>\n",
       "      <td>56.0</td>\n",
       "      <td>2015-08-20T00:00:00</td>\n",
       "      <td>2</td>\n",
       "      <td>NaN</td>\n",
       "      <td>5.0</td>\n",
       "      <td>34.3</td>\n",
       "      <td>4</td>\n",
       "      <td>NaN</td>\n",
       "      <td>False</td>\n",
       "      <td>False</td>\n",
       "      <td>8.3</td>\n",
       "      <td>0.0</td>\n",
       "      <td>Санкт-Петербург</td>\n",
       "      <td>21741.0</td>\n",
       "      <td>13933.0</td>\n",
       "      <td>1.0</td>\n",
       "      <td>90.0</td>\n",
       "      <td>2.0</td>\n",
       "      <td>574.0</td>\n",
       "      <td>558.0</td>\n",
       "    </tr>\n",
       "    <tr>\n",
       "      <th>3</th>\n",
       "      <td>0</td>\n",
       "      <td>64900000.0</td>\n",
       "      <td>159.0</td>\n",
       "      <td>2015-07-24T00:00:00</td>\n",
       "      <td>3</td>\n",
       "      <td>NaN</td>\n",
       "      <td>14.0</td>\n",
       "      <td>NaN</td>\n",
       "      <td>9</td>\n",
       "      <td>NaN</td>\n",
       "      <td>False</td>\n",
       "      <td>False</td>\n",
       "      <td>NaN</td>\n",
       "      <td>0.0</td>\n",
       "      <td>Санкт-Петербург</td>\n",
       "      <td>28098.0</td>\n",
       "      <td>6800.0</td>\n",
       "      <td>2.0</td>\n",
       "      <td>84.0</td>\n",
       "      <td>3.0</td>\n",
       "      <td>234.0</td>\n",
       "      <td>424.0</td>\n",
       "    </tr>\n",
       "    <tr>\n",
       "      <th>4</th>\n",
       "      <td>2</td>\n",
       "      <td>10000000.0</td>\n",
       "      <td>100.0</td>\n",
       "      <td>2018-06-19T00:00:00</td>\n",
       "      <td>2</td>\n",
       "      <td>3.03</td>\n",
       "      <td>14.0</td>\n",
       "      <td>32.0</td>\n",
       "      <td>13</td>\n",
       "      <td>NaN</td>\n",
       "      <td>False</td>\n",
       "      <td>False</td>\n",
       "      <td>41.0</td>\n",
       "      <td>NaN</td>\n",
       "      <td>Санкт-Петербург</td>\n",
       "      <td>31856.0</td>\n",
       "      <td>8098.0</td>\n",
       "      <td>2.0</td>\n",
       "      <td>112.0</td>\n",
       "      <td>1.0</td>\n",
       "      <td>48.0</td>\n",
       "      <td>121.0</td>\n",
       "    </tr>\n",
       "  </tbody>\n",
       "</table>\n",
       "</div>"
      ],
      "text/plain": [
       "   total_images  last_price  total_area first_day_exposition  rooms  \\\n",
       "0            20  13000000.0       108.0  2019-03-07T00:00:00      3   \n",
       "1             7   3350000.0        40.4  2018-12-04T00:00:00      1   \n",
       "2            10   5196000.0        56.0  2015-08-20T00:00:00      2   \n",
       "3             0  64900000.0       159.0  2015-07-24T00:00:00      3   \n",
       "4             2  10000000.0       100.0  2018-06-19T00:00:00      2   \n",
       "\n",
       "   ceiling_height  floors_total  living_area  floor is_apartment  studio  \\\n",
       "0            2.70          16.0         51.0      8          NaN   False   \n",
       "1             NaN          11.0         18.6      1          NaN   False   \n",
       "2             NaN           5.0         34.3      4          NaN   False   \n",
       "3             NaN          14.0          NaN      9          NaN   False   \n",
       "4            3.03          14.0         32.0     13          NaN   False   \n",
       "\n",
       "   open_plan  kitchen_area  balcony    locality_name  airports_nearest  \\\n",
       "0      False          25.0      NaN  Санкт-Петербург           18863.0   \n",
       "1      False          11.0      2.0   посёлок Шушары           12817.0   \n",
       "2      False           8.3      0.0  Санкт-Петербург           21741.0   \n",
       "3      False           NaN      0.0  Санкт-Петербург           28098.0   \n",
       "4      False          41.0      NaN  Санкт-Петербург           31856.0   \n",
       "\n",
       "   cityCenters_nearest  parks_around3000  parks_nearest  ponds_around3000  \\\n",
       "0              16028.0               1.0          482.0               2.0   \n",
       "1              18603.0               0.0            NaN               0.0   \n",
       "2              13933.0               1.0           90.0               2.0   \n",
       "3               6800.0               2.0           84.0               3.0   \n",
       "4               8098.0               2.0          112.0               1.0   \n",
       "\n",
       "   ponds_nearest  days_exposition  \n",
       "0          755.0              NaN  \n",
       "1            NaN             81.0  \n",
       "2          574.0            558.0  \n",
       "3          234.0            424.0  \n",
       "4           48.0            121.0  "
      ]
     },
     "execution_count": 1,
     "metadata": {},
     "output_type": "execute_result"
    }
   ],
   "source": [
    "import pandas as pd\n",
    "\n",
    "#этот датасет я не буду выкладывать в открытый доступ\n",
    "real_estate = pd.read_csv('...', sep='\\t')\n",
    "pd.set_option('display.max_columns', None)\n",
    "real_estate.head()"
   ]
  },
  {
   "cell_type": "markdown",
   "metadata": {},
   "source": [
    "Из условия известно:\n",
    "\n",
    "`airports_nearest` — расстояние до ближайшего аэропорта в метрах (м),\n",
    "\n",
    "`balcony` — число балконов,\n",
    "\n",
    "`ceiling_height` — высота потолков (м),\n",
    "\n",
    "`cityCenters_nearest` — расстояние до центра города (м),\n",
    "\n",
    "`days_exposition` — сколько дней было размещено объявление (от публикации до снятия),\n",
    "\n",
    "`first_day_exposition` — дата публикации,\n",
    "\n",
    "`floor` — этаж,\n",
    "\n",
    "`floors_total` — всего этажей в доме,\n",
    "\n",
    "`is_apartment` — апартаменты (булев тип),\n",
    "\n",
    "`kitchen_area` — площадь кухни в квадратных метрах (м²),\n",
    "\n",
    "`last_price` — цена на момент снятия с публикации,\n",
    "\n",
    "`living_area` — жилая площадь в квадратных метрах (м²),\n",
    "\n",
    "`locality_name` — название населённого пункта,\n",
    "\n",
    "`open_plan` — свободная планировка (булев тип),\n",
    "\n",
    "`parks_around3000` — число парков в радиусе 3 км,\n",
    "\n",
    "`parks_nearest` — расстояние до ближайшего парка (м),\n",
    "\n",
    "`ponds_around3000` — число водоёмов в радиусе 3 км,\n",
    "\n",
    "`ponds_nearest` — расстояние до ближайшего водоёма (м),\n",
    "\n",
    "`rooms` — число комнат,\n",
    "\n",
    "`studio` — квартира-студия (булев тип),\n",
    "\n",
    "`total_area` — площадь квартиры в квадратных метрах (м²),\n",
    "\n",
    "`total_images` — число фотографий квартиры в объявлении."
   ]
  },
  {
   "cell_type": "markdown",
   "metadata": {},
   "source": [
    "Также известно, что все данные в датасете можно подразделить на два типа: добавленные пользователем и картографические. К первому типу относятся, например, площадь квартиры, её этаж и количество балконов, ко второму — расстояния до центра города, аэропорта и ближайшего парка."
   ]
  },
  {
   "cell_type": "markdown",
   "metadata": {},
   "source": [
    "Посмотрим общую информацию о таблице:"
   ]
  },
  {
   "cell_type": "code",
   "execution_count": 2,
   "metadata": {},
   "outputs": [
    {
     "name": "stdout",
     "output_type": "stream",
     "text": [
      "<class 'pandas.core.frame.DataFrame'>\n",
      "RangeIndex: 23699 entries, 0 to 23698\n",
      "Data columns (total 22 columns):\n",
      " #   Column                Non-Null Count  Dtype  \n",
      "---  ------                --------------  -----  \n",
      " 0   total_images          23699 non-null  int64  \n",
      " 1   last_price            23699 non-null  float64\n",
      " 2   total_area            23699 non-null  float64\n",
      " 3   first_day_exposition  23699 non-null  object \n",
      " 4   rooms                 23699 non-null  int64  \n",
      " 5   ceiling_height        14504 non-null  float64\n",
      " 6   floors_total          23613 non-null  float64\n",
      " 7   living_area           21796 non-null  float64\n",
      " 8   floor                 23699 non-null  int64  \n",
      " 9   is_apartment          2775 non-null   object \n",
      " 10  studio                23699 non-null  bool   \n",
      " 11  open_plan             23699 non-null  bool   \n",
      " 12  kitchen_area          21421 non-null  float64\n",
      " 13  balcony               12180 non-null  float64\n",
      " 14  locality_name         23650 non-null  object \n",
      " 15  airports_nearest      18157 non-null  float64\n",
      " 16  cityCenters_nearest   18180 non-null  float64\n",
      " 17  parks_around3000      18181 non-null  float64\n",
      " 18  parks_nearest         8079 non-null   float64\n",
      " 19  ponds_around3000      18181 non-null  float64\n",
      " 20  ponds_nearest         9110 non-null   float64\n",
      " 21  days_exposition       20518 non-null  float64\n",
      "dtypes: bool(2), float64(14), int64(3), object(3)\n",
      "memory usage: 3.7+ MB\n"
     ]
    }
   ],
   "source": [
    "real_estate.info()"
   ]
  },
  {
   "cell_type": "markdown",
   "metadata": {},
   "source": [
    "Также взглянем на статистическое описание данных:"
   ]
  },
  {
   "cell_type": "code",
   "execution_count": 3,
   "metadata": {},
   "outputs": [
    {
     "data": {
      "text/html": [
       "<div>\n",
       "<style scoped>\n",
       "    .dataframe tbody tr th:only-of-type {\n",
       "        vertical-align: middle;\n",
       "    }\n",
       "\n",
       "    .dataframe tbody tr th {\n",
       "        vertical-align: top;\n",
       "    }\n",
       "\n",
       "    .dataframe thead th {\n",
       "        text-align: right;\n",
       "    }\n",
       "</style>\n",
       "<table border=\"1\" class=\"dataframe\">\n",
       "  <thead>\n",
       "    <tr style=\"text-align: right;\">\n",
       "      <th></th>\n",
       "      <th>total_images</th>\n",
       "      <th>last_price</th>\n",
       "      <th>total_area</th>\n",
       "      <th>rooms</th>\n",
       "      <th>ceiling_height</th>\n",
       "      <th>floors_total</th>\n",
       "      <th>living_area</th>\n",
       "      <th>floor</th>\n",
       "      <th>kitchen_area</th>\n",
       "      <th>balcony</th>\n",
       "      <th>airports_nearest</th>\n",
       "      <th>cityCenters_nearest</th>\n",
       "      <th>parks_around3000</th>\n",
       "      <th>parks_nearest</th>\n",
       "      <th>ponds_around3000</th>\n",
       "      <th>ponds_nearest</th>\n",
       "      <th>days_exposition</th>\n",
       "    </tr>\n",
       "  </thead>\n",
       "  <tbody>\n",
       "    <tr>\n",
       "      <th>count</th>\n",
       "      <td>23699.000000</td>\n",
       "      <td>2.369900e+04</td>\n",
       "      <td>23699.000000</td>\n",
       "      <td>23699.000000</td>\n",
       "      <td>14504.000000</td>\n",
       "      <td>23613.000000</td>\n",
       "      <td>21796.000000</td>\n",
       "      <td>23699.000000</td>\n",
       "      <td>21421.000000</td>\n",
       "      <td>12180.000000</td>\n",
       "      <td>18157.000000</td>\n",
       "      <td>18180.000000</td>\n",
       "      <td>18181.000000</td>\n",
       "      <td>8079.000000</td>\n",
       "      <td>18181.000000</td>\n",
       "      <td>9110.000000</td>\n",
       "      <td>20518.000000</td>\n",
       "    </tr>\n",
       "    <tr>\n",
       "      <th>mean</th>\n",
       "      <td>9.858475</td>\n",
       "      <td>6.541549e+06</td>\n",
       "      <td>60.348651</td>\n",
       "      <td>2.070636</td>\n",
       "      <td>2.771499</td>\n",
       "      <td>10.673824</td>\n",
       "      <td>34.457852</td>\n",
       "      <td>5.892358</td>\n",
       "      <td>10.569807</td>\n",
       "      <td>1.150082</td>\n",
       "      <td>28793.672193</td>\n",
       "      <td>14191.277833</td>\n",
       "      <td>0.611408</td>\n",
       "      <td>490.804555</td>\n",
       "      <td>0.770255</td>\n",
       "      <td>517.980900</td>\n",
       "      <td>180.888634</td>\n",
       "    </tr>\n",
       "    <tr>\n",
       "      <th>std</th>\n",
       "      <td>5.682529</td>\n",
       "      <td>1.088701e+07</td>\n",
       "      <td>35.654083</td>\n",
       "      <td>1.078405</td>\n",
       "      <td>1.261056</td>\n",
       "      <td>6.597173</td>\n",
       "      <td>22.030445</td>\n",
       "      <td>4.885249</td>\n",
       "      <td>5.905438</td>\n",
       "      <td>1.071300</td>\n",
       "      <td>12630.880622</td>\n",
       "      <td>8608.386210</td>\n",
       "      <td>0.802074</td>\n",
       "      <td>342.317995</td>\n",
       "      <td>0.938346</td>\n",
       "      <td>277.720643</td>\n",
       "      <td>219.727988</td>\n",
       "    </tr>\n",
       "    <tr>\n",
       "      <th>min</th>\n",
       "      <td>0.000000</td>\n",
       "      <td>1.219000e+04</td>\n",
       "      <td>12.000000</td>\n",
       "      <td>0.000000</td>\n",
       "      <td>1.000000</td>\n",
       "      <td>1.000000</td>\n",
       "      <td>2.000000</td>\n",
       "      <td>1.000000</td>\n",
       "      <td>1.300000</td>\n",
       "      <td>0.000000</td>\n",
       "      <td>0.000000</td>\n",
       "      <td>181.000000</td>\n",
       "      <td>0.000000</td>\n",
       "      <td>1.000000</td>\n",
       "      <td>0.000000</td>\n",
       "      <td>13.000000</td>\n",
       "      <td>1.000000</td>\n",
       "    </tr>\n",
       "    <tr>\n",
       "      <th>25%</th>\n",
       "      <td>6.000000</td>\n",
       "      <td>3.400000e+06</td>\n",
       "      <td>40.000000</td>\n",
       "      <td>1.000000</td>\n",
       "      <td>2.520000</td>\n",
       "      <td>5.000000</td>\n",
       "      <td>18.600000</td>\n",
       "      <td>2.000000</td>\n",
       "      <td>7.000000</td>\n",
       "      <td>0.000000</td>\n",
       "      <td>18585.000000</td>\n",
       "      <td>9238.000000</td>\n",
       "      <td>0.000000</td>\n",
       "      <td>288.000000</td>\n",
       "      <td>0.000000</td>\n",
       "      <td>294.000000</td>\n",
       "      <td>45.000000</td>\n",
       "    </tr>\n",
       "    <tr>\n",
       "      <th>50%</th>\n",
       "      <td>9.000000</td>\n",
       "      <td>4.650000e+06</td>\n",
       "      <td>52.000000</td>\n",
       "      <td>2.000000</td>\n",
       "      <td>2.650000</td>\n",
       "      <td>9.000000</td>\n",
       "      <td>30.000000</td>\n",
       "      <td>4.000000</td>\n",
       "      <td>9.100000</td>\n",
       "      <td>1.000000</td>\n",
       "      <td>26726.000000</td>\n",
       "      <td>13098.500000</td>\n",
       "      <td>0.000000</td>\n",
       "      <td>455.000000</td>\n",
       "      <td>1.000000</td>\n",
       "      <td>502.000000</td>\n",
       "      <td>95.000000</td>\n",
       "    </tr>\n",
       "    <tr>\n",
       "      <th>75%</th>\n",
       "      <td>14.000000</td>\n",
       "      <td>6.800000e+06</td>\n",
       "      <td>69.900000</td>\n",
       "      <td>3.000000</td>\n",
       "      <td>2.800000</td>\n",
       "      <td>16.000000</td>\n",
       "      <td>42.300000</td>\n",
       "      <td>8.000000</td>\n",
       "      <td>12.000000</td>\n",
       "      <td>2.000000</td>\n",
       "      <td>37273.000000</td>\n",
       "      <td>16293.000000</td>\n",
       "      <td>1.000000</td>\n",
       "      <td>612.000000</td>\n",
       "      <td>1.000000</td>\n",
       "      <td>729.000000</td>\n",
       "      <td>232.000000</td>\n",
       "    </tr>\n",
       "    <tr>\n",
       "      <th>max</th>\n",
       "      <td>50.000000</td>\n",
       "      <td>7.630000e+08</td>\n",
       "      <td>900.000000</td>\n",
       "      <td>19.000000</td>\n",
       "      <td>100.000000</td>\n",
       "      <td>60.000000</td>\n",
       "      <td>409.700000</td>\n",
       "      <td>33.000000</td>\n",
       "      <td>112.000000</td>\n",
       "      <td>5.000000</td>\n",
       "      <td>84869.000000</td>\n",
       "      <td>65968.000000</td>\n",
       "      <td>3.000000</td>\n",
       "      <td>3190.000000</td>\n",
       "      <td>3.000000</td>\n",
       "      <td>1344.000000</td>\n",
       "      <td>1580.000000</td>\n",
       "    </tr>\n",
       "  </tbody>\n",
       "</table>\n",
       "</div>"
      ],
      "text/plain": [
       "       total_images    last_price    total_area         rooms  ceiling_height  \\\n",
       "count  23699.000000  2.369900e+04  23699.000000  23699.000000    14504.000000   \n",
       "mean       9.858475  6.541549e+06     60.348651      2.070636        2.771499   \n",
       "std        5.682529  1.088701e+07     35.654083      1.078405        1.261056   \n",
       "min        0.000000  1.219000e+04     12.000000      0.000000        1.000000   \n",
       "25%        6.000000  3.400000e+06     40.000000      1.000000        2.520000   \n",
       "50%        9.000000  4.650000e+06     52.000000      2.000000        2.650000   \n",
       "75%       14.000000  6.800000e+06     69.900000      3.000000        2.800000   \n",
       "max       50.000000  7.630000e+08    900.000000     19.000000      100.000000   \n",
       "\n",
       "       floors_total   living_area         floor  kitchen_area       balcony  \\\n",
       "count  23613.000000  21796.000000  23699.000000  21421.000000  12180.000000   \n",
       "mean      10.673824     34.457852      5.892358     10.569807      1.150082   \n",
       "std        6.597173     22.030445      4.885249      5.905438      1.071300   \n",
       "min        1.000000      2.000000      1.000000      1.300000      0.000000   \n",
       "25%        5.000000     18.600000      2.000000      7.000000      0.000000   \n",
       "50%        9.000000     30.000000      4.000000      9.100000      1.000000   \n",
       "75%       16.000000     42.300000      8.000000     12.000000      2.000000   \n",
       "max       60.000000    409.700000     33.000000    112.000000      5.000000   \n",
       "\n",
       "       airports_nearest  cityCenters_nearest  parks_around3000  parks_nearest  \\\n",
       "count      18157.000000         18180.000000      18181.000000    8079.000000   \n",
       "mean       28793.672193         14191.277833          0.611408     490.804555   \n",
       "std        12630.880622          8608.386210          0.802074     342.317995   \n",
       "min            0.000000           181.000000          0.000000       1.000000   \n",
       "25%        18585.000000          9238.000000          0.000000     288.000000   \n",
       "50%        26726.000000         13098.500000          0.000000     455.000000   \n",
       "75%        37273.000000         16293.000000          1.000000     612.000000   \n",
       "max        84869.000000         65968.000000          3.000000    3190.000000   \n",
       "\n",
       "       ponds_around3000  ponds_nearest  days_exposition  \n",
       "count      18181.000000    9110.000000     20518.000000  \n",
       "mean           0.770255     517.980900       180.888634  \n",
       "std            0.938346     277.720643       219.727988  \n",
       "min            0.000000      13.000000         1.000000  \n",
       "25%            0.000000     294.000000        45.000000  \n",
       "50%            1.000000     502.000000        95.000000  \n",
       "75%            1.000000     729.000000       232.000000  \n",
       "max            3.000000    1344.000000      1580.000000  "
      ]
     },
     "execution_count": 3,
     "metadata": {},
     "output_type": "execute_result"
    }
   ],
   "source": [
    "real_estate.describe()"
   ]
  },
  {
   "cell_type": "markdown",
   "metadata": {},
   "source": [
    "Визуализируем распределение значений в столбцах таблицы:"
   ]
  },
  {
   "cell_type": "code",
   "execution_count": 4,
   "metadata": {},
   "outputs": [
    {
     "data": {
      "image/png": "[encoded data removed]",
      "text/plain": [
       "<Figure size 1080x1440 with 20 Axes>"
      ]
     },
     "metadata": {
      "needs_background": "light"
     },
     "output_type": "display_data"
    }
   ],
   "source": [
    "real_estate.hist(figsize=(15, 20));"
   ]
  },
  {
   "cell_type": "markdown",
   "metadata": {},
   "source": [
    "**Промежуточные выводы**"
   ]
  },
  {
   "cell_type": "markdown",
   "metadata": {},
   "source": [
    "Приведённые в таблице данные далеки от совершенства. Во всех столбцах, кроме `total_images`, `last_price`, `total_area`, `first_day_exposition`, `rooms`, `floor`, `studio` и `open_plan`, есть пропуски.\n",
    "\n",
    "Также в данных явно имеются неправдоподобные значения. Особенно это легко отследить по строкам `max` и `min` в ячейке со статистическим описанием таблицы. Так, сложно себе представить квартиру с высотой потолков 1 метр или жилое здание с 60 этажами в Петербурге. С этими значениями нужно будет что-то делать.\n",
    "\n",
    "В целом, однако, данные выглядят нормально:\n",
    "* на каждой гистограмме присутствует по одному пику;\n",
    "* значения, соответствуеющие пикам, ожидаемые;\n",
    "* больших выбросов не наблюдается."
   ]
  },
  {
   "cell_type": "markdown",
   "metadata": {},
   "source": [
    "## Предобработка данных"
   ]
  },
  {
   "cell_type": "markdown",
   "metadata": {},
   "source": [
    "### Обработка пропусков"
   ]
  },
  {
   "cell_type": "markdown",
   "metadata": {},
   "source": [
    "<a id='omissions_categories'></a>\n",
    "Используем три разные стратегии для обработки пропусков.\n",
    "\n",
    "1. Пропуски, которые могут быть заполнены исходя из содержания столбца, в котором они появились, мы заполним.\n",
    "\n",
    "\n",
    "2. Пропуски, которые заполнить нельзя и при этом число содержащих их строк сравнительно невелико (<5% от общего числа строк), мы удалим.\n",
    "\n",
    "\n",
    "3. Пропуски, которые заполнить нельзя и число содержащих их строк велико, мы оставим без изменений.\n",
    "\n",
    "\n",
    "**К первой категории пропусков относятся пропуски в столбцах:**\n",
    "\n",
    "`ceiling_height` — здесь можно использовать медиану для заполнения пропусков (скорее всего, владельцы квартир не вносят данные о высоте потолков, потому что им они считают её «обычной», поэтому логично будет заменить пропуски «обычными» значениями; среднее мы не используем, так как в столбце явно присутствуют неправдоподобно большие значения);\n",
    "\n",
    "`is_apartment` — здесь пропуски, вероятно, соответствуют значению `False` (полагаем, что те, кто продаёт апартаменты, не забудут отметить это в своём объявлении, а для всех остальных эта графа особого значения не имеет, поэтому вполне может быть ими пропущена);\n",
    "\n",
    "`balcony` — здесь в качестве заполнителя можно использовать `0` (наверное, владельцы квартир без балконов даже не обращают внимания на графу \"Количество балконов\", а потому и не заполняют её; доля рассеянных владельцев, у которых балкон(ы) есть и они просто забыли указать, сколько их, вряд ли будет велика)\n",
    "\n",
    "Заполним пропуски в указанных столбцах."
   ]
  },
  {
   "cell_type": "code",
   "execution_count": 5,
   "metadata": {},
   "outputs": [],
   "source": [
    "real_estate['ceiling_height'].fillna(\n",
    "    real_estate['ceiling_height'].median(),\n",
    "    inplace=True\n",
    ")\n",
    "real_estate['is_apartment'].fillna(False, inplace=True)\n",
    "real_estate['balcony'].fillna(0.0, inplace=True)"
   ]
  },
  {
   "cell_type": "markdown",
   "metadata": {},
   "source": [
    "Чтобы понять, пропуски из каких стобцов попадут во [вторую и третью категории](#omissions_categories), рассчитаем доли строк с пропусками для всех столбцов таблицы и выведем их на экран (в %). "
   ]
  },
  {
   "cell_type": "code",
   "execution_count": 6,
   "metadata": {},
   "outputs": [
    {
     "data": {
      "text/plain": [
       "total_images             0.000000\n",
       "last_price               0.000000\n",
       "total_area               0.000000\n",
       "first_day_exposition     0.000000\n",
       "rooms                    0.000000\n",
       "ceiling_height           0.000000\n",
       "floors_total             0.362885\n",
       "living_area              8.029875\n",
       "floor                    0.000000\n",
       "is_apartment             0.000000\n",
       "studio                   0.000000\n",
       "open_plan                0.000000\n",
       "kitchen_area             9.612220\n",
       "balcony                  0.000000\n",
       "locality_name            0.206760\n",
       "airports_nearest        23.384953\n",
       "cityCenters_nearest     23.287902\n",
       "parks_around3000        23.283683\n",
       "parks_nearest           65.909954\n",
       "ponds_around3000        23.283683\n",
       "ponds_nearest           61.559559\n",
       "days_exposition         13.422507\n",
       "dtype: float64"
      ]
     },
     "execution_count": 6,
     "metadata": {},
     "output_type": "execute_result"
    }
   ],
   "source": [
    "real_estate.apply(axis=0, func=lambda x: x.isna().sum() / len(real_estate) * 100)"
   ]
  },
  {
   "cell_type": "markdown",
   "metadata": {},
   "source": [
    "Во вторую категорию попадают только пропуски в столбцах `floors_total` и `locality_name`. Откуда они взялись? Скорее всего, владельцы забыли заполнить эти графы. Или, может, не нашли соответствующего населённого пункта в выпадающем списке. \n",
    "\n",
    "Исключение строк с пропусками в этих столбцах не скажется на качестве данных негативно, поскольку таких пропусков немного. Удалим их."
   ]
  },
  {
   "cell_type": "code",
   "execution_count": 7,
   "metadata": {},
   "outputs": [],
   "source": [
    "real_estate = real_estate.dropna(subset=['floors_total', 'locality_name']).reset_index()"
   ]
  },
  {
   "cell_type": "markdown",
   "metadata": {},
   "source": [
    "Проверим, успешно ли обработаны пропуски из первой и второй категорий."
   ]
  },
  {
   "cell_type": "code",
   "execution_count": 8,
   "metadata": {},
   "outputs": [
    {
     "name": "stdout",
     "output_type": "stream",
     "text": [
      "Количество пропусков в столбце ceiling_height: 0\n",
      "Количество пропусков в столбце is_apartment: 0\n",
      "Количество пропусков в столбце balcony: 0\n",
      "Количество пропусков в столбце floors_total: 0\n",
      "Количество пропусков в столбце locality_name: 0\n"
     ]
    }
   ],
   "source": [
    "for column in ['ceiling_height', 'is_apartment', 'balcony', 'floors_total', 'locality_name']:\n",
    "    print(f'Количество пропусков в столбце {column}:', real_estate[column].isna().sum())"
   ]
  },
  {
   "cell_type": "markdown",
   "metadata": {},
   "source": [
    "Пропуски обработаны успешно."
   ]
  },
  {
   "cell_type": "markdown",
   "metadata": {},
   "source": [
    "Перейдём к пропускам из [третьей категории](#omissions_categories).\n",
    "\n",
    "Их много, поэтому удалять содержащие их строки не самая лучшая идея. Это может привести к потере большого объёма важных данных.\n",
    "Проанализируем эти пропуски и попробуем понять, откуда они взялись и можно ли с ними что-то сделать. Для этого визуализируем их при помощи хитмэпа из библиотеки `seaborn`. В левой части диаграммы будут отмечены пропуски в столбцах с данными, добавленными пользователем, а в правой — пропуски в столбцах с картографическими данными."
   ]
  },
  {
   "cell_type": "code",
   "execution_count": 9,
   "metadata": {},
   "outputs": [
    {
     "data": {
      "image/png": "[encoded data removed]",
      "text/plain": [
       "<Figure size 432x288 with 1 Axes>"
      ]
     },
     "metadata": {
      "needs_background": "light"
     },
     "output_type": "display_data"
    }
   ],
   "source": [
    "import seaborn as sns\n",
    "\n",
    "sns.heatmap(\n",
    "    real_estate[\n",
    "        ['living_area', 'kitchen_area', 'days_exposition', 'airports_nearest', 'cityCenters_nearest',\n",
    "         'parks_around3000', 'parks_nearest', 'ponds_around3000', 'ponds_nearest']].isna(),\n",
    "    yticklabels=False, cbar=False, cmap='YlGnBu');"
   ]
  },
  {
   "cell_type": "markdown",
   "metadata": {},
   "source": [
    "По этой диаграмме можно сделать следующие выводы:\n",
    "\n",
    "1. Зачастую (но не всегда) пропуски в столбцах, в которых указывается жилая площадь и площадь кухни, связаны между собой. Видимо, дело в том, что люди, не знающие жилую площадь квартиры, обычно не знают и площадь кухни. Другая возможная причина возникновения пропусков в этих столбцах — некорректная обработка ввода (например, не обрабатываются числовые поля, в которых владелец указал также строковые символы (м²)). Впрочем, это уже маловероятно — скорее всего, дизайнеры объявления позаботились о том, чтобы не допустить таких проблем, раз их не возникало в другом столбце с площадью (`total_area`).\n",
    "\n",
    "\n",
    "2. Распределение пропусков в столбце `days_exposition` не связано с данными в других столбцах. Они возникают в строках, соответствующих тем объявлениям, которые, по всей видимости, не были сняты на момент выгрузки.\n",
    "\n",
    "\n",
    "3. Пропуски в столбцах, заполненных картографическими данными, явно связаны между собой. Пропуски в столбцах `airports_nearest`, `cityCenters_nearest`, `ponds_around3000` и `parks_around3000` попадают в одни и те же строки. В этих же строках оказываются пропущены данные по столбцам `ponds_nearest` и `parks_nearest`. При этом последние содержат больше пропусков. Попробуем найти причину возникновения пропусков в картографических данных."
   ]
  },
  {
   "cell_type": "markdown",
   "metadata": {},
   "source": [
    "Сначала выясним, почему пропусков в `ponds_nearest` и `parks_nearest` больше, чем в других столбцах. Посмотрим, каким значениям в других столбцах соответствуют такие пропуски. Начнём со столбца `ponds_nearest`:"
   ]
  },
  {
   "cell_type": "code",
   "execution_count": 10,
   "metadata": {},
   "outputs": [
    {
     "data": {
      "text/html": [
       "<div>\n",
       "<style scoped>\n",
       "    .dataframe tbody tr th:only-of-type {\n",
       "        vertical-align: middle;\n",
       "    }\n",
       "\n",
       "    .dataframe tbody tr th {\n",
       "        vertical-align: top;\n",
       "    }\n",
       "\n",
       "    .dataframe thead th {\n",
       "        text-align: right;\n",
       "    }\n",
       "</style>\n",
       "<table border=\"1\" class=\"dataframe\">\n",
       "  <thead>\n",
       "    <tr style=\"text-align: right;\">\n",
       "      <th></th>\n",
       "      <th>index</th>\n",
       "      <th>total_images</th>\n",
       "      <th>last_price</th>\n",
       "      <th>total_area</th>\n",
       "      <th>first_day_exposition</th>\n",
       "      <th>rooms</th>\n",
       "      <th>ceiling_height</th>\n",
       "      <th>floors_total</th>\n",
       "      <th>living_area</th>\n",
       "      <th>floor</th>\n",
       "      <th>is_apartment</th>\n",
       "      <th>studio</th>\n",
       "      <th>open_plan</th>\n",
       "      <th>kitchen_area</th>\n",
       "      <th>balcony</th>\n",
       "      <th>locality_name</th>\n",
       "      <th>airports_nearest</th>\n",
       "      <th>cityCenters_nearest</th>\n",
       "      <th>parks_around3000</th>\n",
       "      <th>parks_nearest</th>\n",
       "      <th>ponds_around3000</th>\n",
       "      <th>ponds_nearest</th>\n",
       "      <th>days_exposition</th>\n",
       "    </tr>\n",
       "  </thead>\n",
       "  <tbody>\n",
       "    <tr>\n",
       "      <th>1</th>\n",
       "      <td>1</td>\n",
       "      <td>7</td>\n",
       "      <td>3350000.0</td>\n",
       "      <td>40.40</td>\n",
       "      <td>2018-12-04T00:00:00</td>\n",
       "      <td>1</td>\n",
       "      <td>2.65</td>\n",
       "      <td>11.0</td>\n",
       "      <td>18.60</td>\n",
       "      <td>1</td>\n",
       "      <td>False</td>\n",
       "      <td>False</td>\n",
       "      <td>False</td>\n",
       "      <td>11.00</td>\n",
       "      <td>2.0</td>\n",
       "      <td>посёлок Шушары</td>\n",
       "      <td>12817.0</td>\n",
       "      <td>18603.0</td>\n",
       "      <td>0.0</td>\n",
       "      <td>NaN</td>\n",
       "      <td>0.0</td>\n",
       "      <td>NaN</td>\n",
       "      <td>81.0</td>\n",
       "    </tr>\n",
       "    <tr>\n",
       "      <th>5</th>\n",
       "      <td>5</td>\n",
       "      <td>10</td>\n",
       "      <td>2890000.0</td>\n",
       "      <td>30.40</td>\n",
       "      <td>2018-09-10T00:00:00</td>\n",
       "      <td>1</td>\n",
       "      <td>2.65</td>\n",
       "      <td>12.0</td>\n",
       "      <td>14.40</td>\n",
       "      <td>5</td>\n",
       "      <td>False</td>\n",
       "      <td>False</td>\n",
       "      <td>False</td>\n",
       "      <td>9.10</td>\n",
       "      <td>0.0</td>\n",
       "      <td>городской посёлок Янино-1</td>\n",
       "      <td>NaN</td>\n",
       "      <td>NaN</td>\n",
       "      <td>NaN</td>\n",
       "      <td>NaN</td>\n",
       "      <td>NaN</td>\n",
       "      <td>NaN</td>\n",
       "      <td>55.0</td>\n",
       "    </tr>\n",
       "    <tr>\n",
       "      <th>6</th>\n",
       "      <td>6</td>\n",
       "      <td>6</td>\n",
       "      <td>3700000.0</td>\n",
       "      <td>37.30</td>\n",
       "      <td>2017-11-02T00:00:00</td>\n",
       "      <td>1</td>\n",
       "      <td>2.65</td>\n",
       "      <td>26.0</td>\n",
       "      <td>10.60</td>\n",
       "      <td>6</td>\n",
       "      <td>False</td>\n",
       "      <td>False</td>\n",
       "      <td>False</td>\n",
       "      <td>14.40</td>\n",
       "      <td>1.0</td>\n",
       "      <td>посёлок Парголово</td>\n",
       "      <td>52996.0</td>\n",
       "      <td>19143.0</td>\n",
       "      <td>0.0</td>\n",
       "      <td>NaN</td>\n",
       "      <td>0.0</td>\n",
       "      <td>NaN</td>\n",
       "      <td>155.0</td>\n",
       "    </tr>\n",
       "    <tr>\n",
       "      <th>7</th>\n",
       "      <td>7</td>\n",
       "      <td>5</td>\n",
       "      <td>7915000.0</td>\n",
       "      <td>71.60</td>\n",
       "      <td>2019-04-18T00:00:00</td>\n",
       "      <td>2</td>\n",
       "      <td>2.65</td>\n",
       "      <td>24.0</td>\n",
       "      <td>NaN</td>\n",
       "      <td>22</td>\n",
       "      <td>False</td>\n",
       "      <td>False</td>\n",
       "      <td>False</td>\n",
       "      <td>18.90</td>\n",
       "      <td>2.0</td>\n",
       "      <td>Санкт-Петербург</td>\n",
       "      <td>23982.0</td>\n",
       "      <td>11634.0</td>\n",
       "      <td>0.0</td>\n",
       "      <td>NaN</td>\n",
       "      <td>0.0</td>\n",
       "      <td>NaN</td>\n",
       "      <td>NaN</td>\n",
       "    </tr>\n",
       "    <tr>\n",
       "      <th>8</th>\n",
       "      <td>8</td>\n",
       "      <td>20</td>\n",
       "      <td>2900000.0</td>\n",
       "      <td>33.16</td>\n",
       "      <td>2018-05-23T00:00:00</td>\n",
       "      <td>1</td>\n",
       "      <td>2.65</td>\n",
       "      <td>27.0</td>\n",
       "      <td>15.43</td>\n",
       "      <td>26</td>\n",
       "      <td>False</td>\n",
       "      <td>False</td>\n",
       "      <td>False</td>\n",
       "      <td>8.81</td>\n",
       "      <td>0.0</td>\n",
       "      <td>посёлок Мурино</td>\n",
       "      <td>NaN</td>\n",
       "      <td>NaN</td>\n",
       "      <td>NaN</td>\n",
       "      <td>NaN</td>\n",
       "      <td>NaN</td>\n",
       "      <td>NaN</td>\n",
       "      <td>189.0</td>\n",
       "    </tr>\n",
       "  </tbody>\n",
       "</table>\n",
       "</div>"
      ],
      "text/plain": [
       "   index  total_images  last_price  total_area first_day_exposition  rooms  \\\n",
       "1      1             7   3350000.0       40.40  2018-12-04T00:00:00      1   \n",
       "5      5            10   2890000.0       30.40  2018-09-10T00:00:00      1   \n",
       "6      6             6   3700000.0       37.30  2017-11-02T00:00:00      1   \n",
       "7      7             5   7915000.0       71.60  2019-04-18T00:00:00      2   \n",
       "8      8            20   2900000.0       33.16  2018-05-23T00:00:00      1   \n",
       "\n",
       "   ceiling_height  floors_total  living_area  floor  is_apartment  studio  \\\n",
       "1            2.65          11.0        18.60      1         False   False   \n",
       "5            2.65          12.0        14.40      5         False   False   \n",
       "6            2.65          26.0        10.60      6         False   False   \n",
       "7            2.65          24.0          NaN     22         False   False   \n",
       "8            2.65          27.0        15.43     26         False   False   \n",
       "\n",
       "   open_plan  kitchen_area  balcony              locality_name  \\\n",
       "1      False         11.00      2.0             посёлок Шушары   \n",
       "5      False          9.10      0.0  городской посёлок Янино-1   \n",
       "6      False         14.40      1.0          посёлок Парголово   \n",
       "7      False         18.90      2.0            Санкт-Петербург   \n",
       "8      False          8.81      0.0             посёлок Мурино   \n",
       "\n",
       "   airports_nearest  cityCenters_nearest  parks_around3000  parks_nearest  \\\n",
       "1           12817.0              18603.0               0.0            NaN   \n",
       "5               NaN                  NaN               NaN            NaN   \n",
       "6           52996.0              19143.0               0.0            NaN   \n",
       "7           23982.0              11634.0               0.0            NaN   \n",
       "8               NaN                  NaN               NaN            NaN   \n",
       "\n",
       "   ponds_around3000  ponds_nearest  days_exposition  \n",
       "1               0.0            NaN             81.0  \n",
       "5               NaN            NaN             55.0  \n",
       "6               0.0            NaN            155.0  \n",
       "7               0.0            NaN              NaN  \n",
       "8               NaN            NaN            189.0  "
      ]
     },
     "execution_count": 10,
     "metadata": {},
     "output_type": "execute_result"
    }
   ],
   "source": [
    "real_estate[real_estate['ponds_nearest'].isna()].head()"
   ]
  },
  {
   "cell_type": "markdown",
   "metadata": {},
   "source": [
    "По выведенным строкам видно, что пропуски возникают в `ponds_nearest` и `parks_nearest` тогда, когда в `ponds_around3000` и `parks_around3000` соответственно оказывается значение `NaN` или `0`. Проверим это наблюдение:"
   ]
  },
  {
   "cell_type": "code",
   "execution_count": 11,
   "metadata": {},
   "outputs": [
    {
     "name": "stdout",
     "output_type": "stream",
     "text": [
      "Уникальные значения в столбце \"ponds_around3000\", соотвествующие пропуску в \"ponds_nearest\": [ 0. nan]\n",
      "Уникальные значения в столбце \"parks_around3000\", соотвествующие пропуску в \"parks_nearest\": [ 0. nan]\n"
     ]
    }
   ],
   "source": [
    "print('Уникальные значения в столбце \"ponds_around3000\", соотвествующие пропуску в \"ponds_nearest\":',\n",
    "      real_estate[real_estate['ponds_nearest'].isna()]['ponds_around3000'].unique())\n",
    "print('Уникальные значения в столбце \"parks_around3000\", соотвествующие пропуску в \"parks_nearest\":',\n",
    "      real_estate[real_estate['parks_nearest'].isna()]['parks_around3000'].unique())"
   ]
  },
  {
   "cell_type": "markdown",
   "metadata": {},
   "source": [
    "Проверим, работает ли это в обратную сторону: гарантированно ли мы получим `NaN` в `ponds_nearest` или `parks_nearest`, если в `ponds_around3000` или `parks_around3000` соответственно будет `0`:"
   ]
  },
  {
   "cell_type": "code",
   "execution_count": 12,
   "metadata": {},
   "outputs": [
    {
     "name": "stdout",
     "output_type": "stream",
     "text": [
      "Уникальные значения в столбце \"ponds_nearest\", соотвествующие нулю в \"ponds_around3000\":\n",
      "Series([], Name: ponds_nearest, dtype: int64)\n",
      "\n",
      "Уникальные значения в столбце \"parks_nearest\", соотвествующие нулю в \"parks_around3000\":\n",
      "3190.0    2\n",
      "3064.0    1\n",
      "3013.0    1\n",
      "Name: parks_nearest, dtype: int64\n"
     ]
    }
   ],
   "source": [
    "print('Уникальные значения в столбце \"ponds_nearest\", соотвествующие нулю в \"ponds_around3000\":')\n",
    "print(real_estate.query('ponds_around3000 == 0.0')['ponds_nearest'].value_counts())\n",
    "print()\n",
    "print('Уникальные значения в столбце \"parks_nearest\", соотвествующие нулю в \"parks_around3000\":')\n",
    "print(real_estate.query('parks_around3000 == 0.0')['parks_nearest'].value_counts())"
   ]
  },
  {
   "cell_type": "markdown",
   "metadata": {},
   "source": [
    "В целом работает."
   ]
  },
  {
   "cell_type": "markdown",
   "metadata": {},
   "source": [
    "<a id='parks_and_ponds'></a>\n",
    "Видимо, дело в том, что в алгоритме оценки расстояния до ближайшего пруда или парка есть отсечка на максимальное расстояние (со значением в районе 3000 м, которое, возможно, когда-то менялось), на котором может находиться объект. Если оно превышено, то тогда алгоритм возвращает `NaN`. Из-за этого почти во всех случаях, когда в радиусе 3000 м не оказывается ни одного пруда или парка, в столбцах `ponds_around` или `parks_nearest` возникает пропуск."
   ]
  },
  {
   "cell_type": "markdown",
   "metadata": {},
   "source": [
    "Теперь попробуем выяснить, почему возникают остальные пропуски в картографических данных. Рассмотрим первые пять строк с пропусками в картографических данных:"
   ]
  },
  {
   "cell_type": "code",
   "execution_count": 13,
   "metadata": {},
   "outputs": [
    {
     "data": {
      "text/html": [
       "<div>\n",
       "<style scoped>\n",
       "    .dataframe tbody tr th:only-of-type {\n",
       "        vertical-align: middle;\n",
       "    }\n",
       "\n",
       "    .dataframe tbody tr th {\n",
       "        vertical-align: top;\n",
       "    }\n",
       "\n",
       "    .dataframe thead th {\n",
       "        text-align: right;\n",
       "    }\n",
       "</style>\n",
       "<table border=\"1\" class=\"dataframe\">\n",
       "  <thead>\n",
       "    <tr style=\"text-align: right;\">\n",
       "      <th></th>\n",
       "      <th>index</th>\n",
       "      <th>total_images</th>\n",
       "      <th>last_price</th>\n",
       "      <th>total_area</th>\n",
       "      <th>first_day_exposition</th>\n",
       "      <th>rooms</th>\n",
       "      <th>ceiling_height</th>\n",
       "      <th>floors_total</th>\n",
       "      <th>living_area</th>\n",
       "      <th>floor</th>\n",
       "      <th>is_apartment</th>\n",
       "      <th>studio</th>\n",
       "      <th>open_plan</th>\n",
       "      <th>kitchen_area</th>\n",
       "      <th>balcony</th>\n",
       "      <th>locality_name</th>\n",
       "      <th>airports_nearest</th>\n",
       "      <th>cityCenters_nearest</th>\n",
       "      <th>parks_around3000</th>\n",
       "      <th>parks_nearest</th>\n",
       "      <th>ponds_around3000</th>\n",
       "      <th>ponds_nearest</th>\n",
       "      <th>days_exposition</th>\n",
       "    </tr>\n",
       "  </thead>\n",
       "  <tbody>\n",
       "    <tr>\n",
       "      <th>5</th>\n",
       "      <td>5</td>\n",
       "      <td>10</td>\n",
       "      <td>2890000.0</td>\n",
       "      <td>30.40</td>\n",
       "      <td>2018-09-10T00:00:00</td>\n",
       "      <td>1</td>\n",
       "      <td>2.65</td>\n",
       "      <td>12.0</td>\n",
       "      <td>14.40</td>\n",
       "      <td>5</td>\n",
       "      <td>False</td>\n",
       "      <td>False</td>\n",
       "      <td>False</td>\n",
       "      <td>9.10</td>\n",
       "      <td>0.0</td>\n",
       "      <td>городской посёлок Янино-1</td>\n",
       "      <td>NaN</td>\n",
       "      <td>NaN</td>\n",
       "      <td>NaN</td>\n",
       "      <td>NaN</td>\n",
       "      <td>NaN</td>\n",
       "      <td>NaN</td>\n",
       "      <td>55.0</td>\n",
       "    </tr>\n",
       "    <tr>\n",
       "      <th>8</th>\n",
       "      <td>8</td>\n",
       "      <td>20</td>\n",
       "      <td>2900000.0</td>\n",
       "      <td>33.16</td>\n",
       "      <td>2018-05-23T00:00:00</td>\n",
       "      <td>1</td>\n",
       "      <td>2.65</td>\n",
       "      <td>27.0</td>\n",
       "      <td>15.43</td>\n",
       "      <td>26</td>\n",
       "      <td>False</td>\n",
       "      <td>False</td>\n",
       "      <td>False</td>\n",
       "      <td>8.81</td>\n",
       "      <td>0.0</td>\n",
       "      <td>посёлок Мурино</td>\n",
       "      <td>NaN</td>\n",
       "      <td>NaN</td>\n",
       "      <td>NaN</td>\n",
       "      <td>NaN</td>\n",
       "      <td>NaN</td>\n",
       "      <td>NaN</td>\n",
       "      <td>189.0</td>\n",
       "    </tr>\n",
       "    <tr>\n",
       "      <th>12</th>\n",
       "      <td>12</td>\n",
       "      <td>10</td>\n",
       "      <td>3890000.0</td>\n",
       "      <td>54.00</td>\n",
       "      <td>2016-06-30T00:00:00</td>\n",
       "      <td>2</td>\n",
       "      <td>2.65</td>\n",
       "      <td>5.0</td>\n",
       "      <td>30.00</td>\n",
       "      <td>5</td>\n",
       "      <td>False</td>\n",
       "      <td>False</td>\n",
       "      <td>False</td>\n",
       "      <td>9.00</td>\n",
       "      <td>0.0</td>\n",
       "      <td>Сертолово</td>\n",
       "      <td>NaN</td>\n",
       "      <td>NaN</td>\n",
       "      <td>NaN</td>\n",
       "      <td>NaN</td>\n",
       "      <td>NaN</td>\n",
       "      <td>NaN</td>\n",
       "      <td>90.0</td>\n",
       "    </tr>\n",
       "    <tr>\n",
       "      <th>22</th>\n",
       "      <td>22</td>\n",
       "      <td>20</td>\n",
       "      <td>5000000.0</td>\n",
       "      <td>58.00</td>\n",
       "      <td>2017-04-24T00:00:00</td>\n",
       "      <td>2</td>\n",
       "      <td>2.75</td>\n",
       "      <td>25.0</td>\n",
       "      <td>30.00</td>\n",
       "      <td>15</td>\n",
       "      <td>False</td>\n",
       "      <td>False</td>\n",
       "      <td>False</td>\n",
       "      <td>11.00</td>\n",
       "      <td>2.0</td>\n",
       "      <td>деревня Кудрово</td>\n",
       "      <td>NaN</td>\n",
       "      <td>NaN</td>\n",
       "      <td>NaN</td>\n",
       "      <td>NaN</td>\n",
       "      <td>NaN</td>\n",
       "      <td>NaN</td>\n",
       "      <td>60.0</td>\n",
       "    </tr>\n",
       "    <tr>\n",
       "      <th>30</th>\n",
       "      <td>30</td>\n",
       "      <td>12</td>\n",
       "      <td>2200000.0</td>\n",
       "      <td>32.80</td>\n",
       "      <td>2018-02-19T00:00:00</td>\n",
       "      <td>1</td>\n",
       "      <td>2.65</td>\n",
       "      <td>9.0</td>\n",
       "      <td>NaN</td>\n",
       "      <td>2</td>\n",
       "      <td>False</td>\n",
       "      <td>False</td>\n",
       "      <td>False</td>\n",
       "      <td>NaN</td>\n",
       "      <td>0.0</td>\n",
       "      <td>Коммунар</td>\n",
       "      <td>NaN</td>\n",
       "      <td>NaN</td>\n",
       "      <td>NaN</td>\n",
       "      <td>NaN</td>\n",
       "      <td>NaN</td>\n",
       "      <td>NaN</td>\n",
       "      <td>63.0</td>\n",
       "    </tr>\n",
       "  </tbody>\n",
       "</table>\n",
       "</div>"
      ],
      "text/plain": [
       "    index  total_images  last_price  total_area first_day_exposition  rooms  \\\n",
       "5       5            10   2890000.0       30.40  2018-09-10T00:00:00      1   \n",
       "8       8            20   2900000.0       33.16  2018-05-23T00:00:00      1   \n",
       "12     12            10   3890000.0       54.00  2016-06-30T00:00:00      2   \n",
       "22     22            20   5000000.0       58.00  2017-04-24T00:00:00      2   \n",
       "30     30            12   2200000.0       32.80  2018-02-19T00:00:00      1   \n",
       "\n",
       "    ceiling_height  floors_total  living_area  floor  is_apartment  studio  \\\n",
       "5             2.65          12.0        14.40      5         False   False   \n",
       "8             2.65          27.0        15.43     26         False   False   \n",
       "12            2.65           5.0        30.00      5         False   False   \n",
       "22            2.75          25.0        30.00     15         False   False   \n",
       "30            2.65           9.0          NaN      2         False   False   \n",
       "\n",
       "    open_plan  kitchen_area  balcony              locality_name  \\\n",
       "5       False          9.10      0.0  городской посёлок Янино-1   \n",
       "8       False          8.81      0.0             посёлок Мурино   \n",
       "12      False          9.00      0.0                  Сертолово   \n",
       "22      False         11.00      2.0            деревня Кудрово   \n",
       "30      False           NaN      0.0                   Коммунар   \n",
       "\n",
       "    airports_nearest  cityCenters_nearest  parks_around3000  parks_nearest  \\\n",
       "5                NaN                  NaN               NaN            NaN   \n",
       "8                NaN                  NaN               NaN            NaN   \n",
       "12               NaN                  NaN               NaN            NaN   \n",
       "22               NaN                  NaN               NaN            NaN   \n",
       "30               NaN                  NaN               NaN            NaN   \n",
       "\n",
       "    ponds_around3000  ponds_nearest  days_exposition  \n",
       "5                NaN            NaN             55.0  \n",
       "8                NaN            NaN            189.0  \n",
       "12               NaN            NaN             90.0  \n",
       "22               NaN            NaN             60.0  \n",
       "30               NaN            NaN             63.0  "
      ]
     },
     "execution_count": 13,
     "metadata": {},
     "output_type": "execute_result"
    }
   ],
   "source": [
    "real_estate[real_estate['airports_nearest'].isna()].head()"
   ]
  },
  {
   "cell_type": "markdown",
   "metadata": {},
   "source": [
    "Сразу бросается в глаза, что все населённые пункты, указанные в строках выше, — это не Петербург. Посмотрим, какую долю занимают строки, где в `locality_name` указан Петербург, среди всех строк с пропусками в картографических данных:"
   ]
  },
  {
   "cell_type": "code",
   "execution_count": 14,
   "metadata": {},
   "outputs": [
    {
     "name": "stdout",
     "output_type": "stream",
     "text": [
      "Доля строк с пропусками в картографических данных, в которых в качестве населённого пункта указан Санкт-Петербург: 0.35646085295989816 %\n"
     ]
    }
   ],
   "source": [
    "spb_share = (len(real_estate[\n",
    "        (real_estate['airports_nearest'].isna())\n",
    "        & (real_estate['locality_name'] == 'Санкт-Петербург')])\n",
    "        / len(real_estate['airports_nearest'].isna()))\n",
    "print('Доля строк с пропусками в картографических данных, в которых в качестве населённого пункта указан Санкт-Петербург:',\n",
    "      spb_share * 100,'%')"
   ]
  },
  {
   "cell_type": "markdown",
   "metadata": {},
   "source": [
    "Получается, подавляющее большинство пропусков в картографических данных связаны со сбоями в алгоритме расчёта расстояния до соответствующего объекта, если этот объект находится не в Петербурге. Что касается пропусков в данных, относящихся к Петербургу, то тут сложнее определить их источник. Возможно, все они связаны с объявляениями о недвижимости в удалённых частях города, и поэтому алгоритм подспудно рассматривает их как находищиеся в других населённых пунктах."
   ]
  },
  {
   "cell_type": "markdown",
   "metadata": {},
   "source": [
    "К сожалению, даже составив представление о возможных причинах пропусков [третьей категории](#omissions_categories), мы не можем устранить их, не исказив данные. Поэтому оставим их как есть. На этом обработка пропусков завершена."
   ]
  },
  {
   "cell_type": "markdown",
   "metadata": {},
   "source": [
    "### Изменение типов данных\n",
    "\n",
    "Ещё раз просмотрим информацию о типах данных столбцов датафрейма `real_estate`:"
   ]
  },
  {
   "cell_type": "code",
   "execution_count": 15,
   "metadata": {},
   "outputs": [
    {
     "name": "stdout",
     "output_type": "stream",
     "text": [
      "<class 'pandas.core.frame.DataFrame'>\n",
      "RangeIndex: 23565 entries, 0 to 23564\n",
      "Data columns (total 23 columns):\n",
      " #   Column                Non-Null Count  Dtype  \n",
      "---  ------                --------------  -----  \n",
      " 0   index                 23565 non-null  int64  \n",
      " 1   total_images          23565 non-null  int64  \n",
      " 2   last_price            23565 non-null  float64\n",
      " 3   total_area            23565 non-null  float64\n",
      " 4   first_day_exposition  23565 non-null  object \n",
      " 5   rooms                 23565 non-null  int64  \n",
      " 6   ceiling_height        23565 non-null  float64\n",
      " 7   floors_total          23565 non-null  float64\n",
      " 8   living_area           21700 non-null  float64\n",
      " 9   floor                 23565 non-null  int64  \n",
      " 10  is_apartment          23565 non-null  bool   \n",
      " 11  studio                23565 non-null  bool   \n",
      " 12  open_plan             23565 non-null  bool   \n",
      " 13  kitchen_area          21343 non-null  float64\n",
      " 14  balcony               23565 non-null  float64\n",
      " 15  locality_name         23565 non-null  object \n",
      " 16  airports_nearest      18041 non-null  float64\n",
      " 17  cityCenters_nearest   18064 non-null  float64\n",
      " 18  parks_around3000      18065 non-null  float64\n",
      " 19  parks_nearest         8030 non-null   float64\n",
      " 20  ponds_around3000      18065 non-null  float64\n",
      " 21  ponds_nearest         9036 non-null   float64\n",
      " 22  days_exposition       20394 non-null  float64\n",
      "dtypes: bool(3), float64(14), int64(4), object(2)\n",
      "memory usage: 3.7+ MB\n"
     ]
    }
   ],
   "source": [
    "real_estate.info()"
   ]
  },
  {
   "cell_type": "markdown",
   "metadata": {},
   "source": [
    "Изменить типы данных стоит в следующих столбцах:\n",
    "\n",
    "* `first_day_exposition` — с типа `str` на тип `datetime`,\n",
    "* `floors_total` — с типа `float` на тип `integer`,\n",
    "* `balcony` — с типа `float` на тип `integer`,\n",
    "\n",
    "Ещё мы округлим значения в `days_exposition` до 0 знаков после запятой.\n",
    "\n",
    "Также было бы неплохо преобразовать в целочисленный формат данные в столбцах `parks_around3000` и `ponds_around3000`, однако это сделать не удастся, поскольку эти столбцы содержат большое количество пропусков, формат которых при попытке преобразования в `integer` не изменится. Ещё могло бы быть удобно иметь столбец `days_exposition` в формате `timedelta`, но так как в проекте нет заданий, связанных с расчётом дня снятия объявлений, в этом необходимости.\n",
    "\n",
    "Изменение типов данных в данном случае объясняется соображениями удобства и/или экономии памяти.\n",
    "\n",
    "Сделаем это и проверим результат:"
   ]
  },
  {
   "cell_type": "code",
   "execution_count": 16,
   "metadata": {},
   "outputs": [
    {
     "data": {
      "text/html": [
       "<div>\n",
       "<style scoped>\n",
       "    .dataframe tbody tr th:only-of-type {\n",
       "        vertical-align: middle;\n",
       "    }\n",
       "\n",
       "    .dataframe tbody tr th {\n",
       "        vertical-align: top;\n",
       "    }\n",
       "\n",
       "    .dataframe thead th {\n",
       "        text-align: right;\n",
       "    }\n",
       "</style>\n",
       "<table border=\"1\" class=\"dataframe\">\n",
       "  <thead>\n",
       "    <tr style=\"text-align: right;\">\n",
       "      <th></th>\n",
       "      <th>index</th>\n",
       "      <th>total_images</th>\n",
       "      <th>last_price</th>\n",
       "      <th>total_area</th>\n",
       "      <th>first_day_exposition</th>\n",
       "      <th>rooms</th>\n",
       "      <th>ceiling_height</th>\n",
       "      <th>floors_total</th>\n",
       "      <th>living_area</th>\n",
       "      <th>floor</th>\n",
       "      <th>is_apartment</th>\n",
       "      <th>studio</th>\n",
       "      <th>open_plan</th>\n",
       "      <th>kitchen_area</th>\n",
       "      <th>balcony</th>\n",
       "      <th>locality_name</th>\n",
       "      <th>airports_nearest</th>\n",
       "      <th>cityCenters_nearest</th>\n",
       "      <th>parks_around3000</th>\n",
       "      <th>parks_nearest</th>\n",
       "      <th>ponds_around3000</th>\n",
       "      <th>ponds_nearest</th>\n",
       "      <th>days_exposition</th>\n",
       "    </tr>\n",
       "  </thead>\n",
       "  <tbody>\n",
       "    <tr>\n",
       "      <th>0</th>\n",
       "      <td>0</td>\n",
       "      <td>20</td>\n",
       "      <td>13000000.0</td>\n",
       "      <td>108.0</td>\n",
       "      <td>2019-03-07</td>\n",
       "      <td>3</td>\n",
       "      <td>2.70</td>\n",
       "      <td>16</td>\n",
       "      <td>51.0</td>\n",
       "      <td>8</td>\n",
       "      <td>False</td>\n",
       "      <td>False</td>\n",
       "      <td>False</td>\n",
       "      <td>25.0</td>\n",
       "      <td>0</td>\n",
       "      <td>Санкт-Петербург</td>\n",
       "      <td>18863.0</td>\n",
       "      <td>16028.0</td>\n",
       "      <td>1.0</td>\n",
       "      <td>482.0</td>\n",
       "      <td>2.0</td>\n",
       "      <td>755.0</td>\n",
       "      <td>NaN</td>\n",
       "    </tr>\n",
       "    <tr>\n",
       "      <th>1</th>\n",
       "      <td>1</td>\n",
       "      <td>7</td>\n",
       "      <td>3350000.0</td>\n",
       "      <td>40.4</td>\n",
       "      <td>2018-12-04</td>\n",
       "      <td>1</td>\n",
       "      <td>2.65</td>\n",
       "      <td>11</td>\n",
       "      <td>18.6</td>\n",
       "      <td>1</td>\n",
       "      <td>False</td>\n",
       "      <td>False</td>\n",
       "      <td>False</td>\n",
       "      <td>11.0</td>\n",
       "      <td>2</td>\n",
       "      <td>посёлок Шушары</td>\n",
       "      <td>12817.0</td>\n",
       "      <td>18603.0</td>\n",
       "      <td>0.0</td>\n",
       "      <td>NaN</td>\n",
       "      <td>0.0</td>\n",
       "      <td>NaN</td>\n",
       "      <td>81.0</td>\n",
       "    </tr>\n",
       "    <tr>\n",
       "      <th>2</th>\n",
       "      <td>2</td>\n",
       "      <td>10</td>\n",
       "      <td>5196000.0</td>\n",
       "      <td>56.0</td>\n",
       "      <td>2015-08-20</td>\n",
       "      <td>2</td>\n",
       "      <td>2.65</td>\n",
       "      <td>5</td>\n",
       "      <td>34.3</td>\n",
       "      <td>4</td>\n",
       "      <td>False</td>\n",
       "      <td>False</td>\n",
       "      <td>False</td>\n",
       "      <td>8.3</td>\n",
       "      <td>0</td>\n",
       "      <td>Санкт-Петербург</td>\n",
       "      <td>21741.0</td>\n",
       "      <td>13933.0</td>\n",
       "      <td>1.0</td>\n",
       "      <td>90.0</td>\n",
       "      <td>2.0</td>\n",
       "      <td>574.0</td>\n",
       "      <td>558.0</td>\n",
       "    </tr>\n",
       "    <tr>\n",
       "      <th>3</th>\n",
       "      <td>3</td>\n",
       "      <td>0</td>\n",
       "      <td>64900000.0</td>\n",
       "      <td>159.0</td>\n",
       "      <td>2015-07-24</td>\n",
       "      <td>3</td>\n",
       "      <td>2.65</td>\n",
       "      <td>14</td>\n",
       "      <td>NaN</td>\n",
       "      <td>9</td>\n",
       "      <td>False</td>\n",
       "      <td>False</td>\n",
       "      <td>False</td>\n",
       "      <td>NaN</td>\n",
       "      <td>0</td>\n",
       "      <td>Санкт-Петербург</td>\n",
       "      <td>28098.0</td>\n",
       "      <td>6800.0</td>\n",
       "      <td>2.0</td>\n",
       "      <td>84.0</td>\n",
       "      <td>3.0</td>\n",
       "      <td>234.0</td>\n",
       "      <td>424.0</td>\n",
       "    </tr>\n",
       "    <tr>\n",
       "      <th>4</th>\n",
       "      <td>4</td>\n",
       "      <td>2</td>\n",
       "      <td>10000000.0</td>\n",
       "      <td>100.0</td>\n",
       "      <td>2018-06-19</td>\n",
       "      <td>2</td>\n",
       "      <td>3.03</td>\n",
       "      <td>14</td>\n",
       "      <td>32.0</td>\n",
       "      <td>13</td>\n",
       "      <td>False</td>\n",
       "      <td>False</td>\n",
       "      <td>False</td>\n",
       "      <td>41.0</td>\n",
       "      <td>0</td>\n",
       "      <td>Санкт-Петербург</td>\n",
       "      <td>31856.0</td>\n",
       "      <td>8098.0</td>\n",
       "      <td>2.0</td>\n",
       "      <td>112.0</td>\n",
       "      <td>1.0</td>\n",
       "      <td>48.0</td>\n",
       "      <td>121.0</td>\n",
       "    </tr>\n",
       "  </tbody>\n",
       "</table>\n",
       "</div>"
      ],
      "text/plain": [
       "   index  total_images  last_price  total_area first_day_exposition  rooms  \\\n",
       "0      0            20  13000000.0       108.0           2019-03-07      3   \n",
       "1      1             7   3350000.0        40.4           2018-12-04      1   \n",
       "2      2            10   5196000.0        56.0           2015-08-20      2   \n",
       "3      3             0  64900000.0       159.0           2015-07-24      3   \n",
       "4      4             2  10000000.0       100.0           2018-06-19      2   \n",
       "\n",
       "   ceiling_height  floors_total  living_area  floor  is_apartment  studio  \\\n",
       "0            2.70            16         51.0      8         False   False   \n",
       "1            2.65            11         18.6      1         False   False   \n",
       "2            2.65             5         34.3      4         False   False   \n",
       "3            2.65            14          NaN      9         False   False   \n",
       "4            3.03            14         32.0     13         False   False   \n",
       "\n",
       "   open_plan  kitchen_area  balcony    locality_name  airports_nearest  \\\n",
       "0      False          25.0        0  Санкт-Петербург           18863.0   \n",
       "1      False          11.0        2   посёлок Шушары           12817.0   \n",
       "2      False           8.3        0  Санкт-Петербург           21741.0   \n",
       "3      False           NaN        0  Санкт-Петербург           28098.0   \n",
       "4      False          41.0        0  Санкт-Петербург           31856.0   \n",
       "\n",
       "   cityCenters_nearest  parks_around3000  parks_nearest  ponds_around3000  \\\n",
       "0              16028.0               1.0          482.0               2.0   \n",
       "1              18603.0               0.0            NaN               0.0   \n",
       "2              13933.0               1.0           90.0               2.0   \n",
       "3               6800.0               2.0           84.0               3.0   \n",
       "4               8098.0               2.0          112.0               1.0   \n",
       "\n",
       "   ponds_nearest  days_exposition  \n",
       "0          755.0              NaN  \n",
       "1            NaN             81.0  \n",
       "2          574.0            558.0  \n",
       "3          234.0            424.0  \n",
       "4           48.0            121.0  "
      ]
     },
     "metadata": {},
     "output_type": "display_data"
    },
    {
     "name": "stdout",
     "output_type": "stream",
     "text": [
      "<class 'pandas.core.frame.DataFrame'>\n",
      "RangeIndex: 23565 entries, 0 to 23564\n",
      "Data columns (total 23 columns):\n",
      " #   Column                Non-Null Count  Dtype         \n",
      "---  ------                --------------  -----         \n",
      " 0   index                 23565 non-null  int64         \n",
      " 1   total_images          23565 non-null  int64         \n",
      " 2   last_price            23565 non-null  float64       \n",
      " 3   total_area            23565 non-null  float64       \n",
      " 4   first_day_exposition  23565 non-null  datetime64[ns]\n",
      " 5   rooms                 23565 non-null  int64         \n",
      " 6   ceiling_height        23565 non-null  float64       \n",
      " 7   floors_total          23565 non-null  int64         \n",
      " 8   living_area           21700 non-null  float64       \n",
      " 9   floor                 23565 non-null  int64         \n",
      " 10  is_apartment          23565 non-null  bool          \n",
      " 11  studio                23565 non-null  bool          \n",
      " 12  open_plan             23565 non-null  bool          \n",
      " 13  kitchen_area          21343 non-null  float64       \n",
      " 14  balcony               23565 non-null  int64         \n",
      " 15  locality_name         23565 non-null  object        \n",
      " 16  airports_nearest      18041 non-null  float64       \n",
      " 17  cityCenters_nearest   18064 non-null  float64       \n",
      " 18  parks_around3000      18065 non-null  float64       \n",
      " 19  parks_nearest         8030 non-null   float64       \n",
      " 20  ponds_around3000      18065 non-null  float64       \n",
      " 21  ponds_nearest         9036 non-null   float64       \n",
      " 22  days_exposition       20394 non-null  float64       \n",
      "dtypes: bool(3), datetime64[ns](1), float64(12), int64(6), object(1)\n",
      "memory usage: 3.7+ MB\n"
     ]
    }
   ],
   "source": [
    "real_estate['first_day_exposition'] = pd.to_datetime(\n",
    "    real_estate['first_day_exposition'],\n",
    "    format='%Y-%m-%dT%H:%M:%S'\n",
    ")\n",
    "real_estate['floors_total'] = real_estate['floors_total'].astype('int')\n",
    "real_estate['balcony'] = real_estate['balcony'].astype('int')\n",
    "\n",
    "real_estate['days_exposition'] = real_estate['days_exposition'].apply(lambda x: round(x, 0))\n",
    "\n",
    "display(real_estate.head())\n",
    "real_estate.info()"
   ]
  },
  {
   "cell_type": "markdown",
   "metadata": {},
   "source": [
    "Преобразование прошло успешно."
   ]
  },
  {
   "cell_type": "markdown",
   "metadata": {},
   "source": [
    "### Обработка дубликатов"
   ]
  },
  {
   "cell_type": "markdown",
   "metadata": {},
   "source": [
    "Поищем неявные дубликаты в `real_estate`. Таковые можно найти только в строковых столбцах, а он всего один — это `locality_name`. Внимательно просмотрим список уникальных значений, отсортированный в лексикографическом порядке:"
   ]
  },
  {
   "cell_type": "code",
   "execution_count": 17,
   "metadata": {},
   "outputs": [
    {
     "data": {
      "text/plain": [
       "['Бокситогорск',\n",
       " 'Волосово',\n",
       " 'Волхов',\n",
       " 'Всеволожск',\n",
       " 'Выборг',\n",
       " 'Высоцк',\n",
       " 'Гатчина',\n",
       " 'Зеленогорск',\n",
       " 'Ивангород',\n",
       " 'Каменногорск',\n",
       " 'Кингисепп',\n",
       " 'Кириши',\n",
       " 'Кировск',\n",
       " 'Колпино',\n",
       " 'Коммунар',\n",
       " 'Красное Село',\n",
       " 'Кронштадт',\n",
       " 'Кудрово',\n",
       " 'Лодейное Поле',\n",
       " 'Ломоносов',\n",
       " 'Луга',\n",
       " 'Любань',\n",
       " 'Мурино',\n",
       " 'Никольское',\n",
       " 'Новая Ладога',\n",
       " 'Отрадное',\n",
       " 'Павловск',\n",
       " 'Петергоф',\n",
       " 'Пикалёво',\n",
       " 'Подпорожье',\n",
       " 'Приморск',\n",
       " 'Приозерск',\n",
       " 'Пушкин',\n",
       " 'Санкт-Петербург',\n",
       " 'Светогорск',\n",
       " 'Сертолово',\n",
       " 'Сестрорецк',\n",
       " 'Сланцы',\n",
       " 'Сосновый Бор',\n",
       " 'Сясьстрой',\n",
       " 'Тихвин',\n",
       " 'Тосно',\n",
       " 'Шлиссельбург',\n",
       " 'городской поселок Большая Ижора',\n",
       " 'городской поселок Янино-1',\n",
       " 'городской посёлок Будогощь',\n",
       " 'городской посёлок Виллози',\n",
       " 'городской посёлок Лесогорский',\n",
       " 'городской посёлок Мга',\n",
       " 'городской посёлок Назия',\n",
       " 'городской посёлок Новоселье',\n",
       " 'городской посёлок Павлово',\n",
       " 'городской посёлок Рощино',\n",
       " 'городской посёлок Свирьстрой',\n",
       " 'городской посёлок Советский',\n",
       " 'городской посёлок Фёдоровское',\n",
       " 'городской посёлок Янино-1',\n",
       " 'деревня Агалатово',\n",
       " 'деревня Аро',\n",
       " 'деревня Батово',\n",
       " 'деревня Бегуницы',\n",
       " 'деревня Белогорка',\n",
       " 'деревня Большая Вруда',\n",
       " 'деревня Большая Пустомержа',\n",
       " 'деревня Большие Колпаны',\n",
       " 'деревня Большое Рейзино',\n",
       " 'деревня Большой Сабск',\n",
       " 'деревня Бор',\n",
       " 'деревня Борисова Грива',\n",
       " 'деревня Ваганово',\n",
       " 'деревня Вартемяги',\n",
       " 'деревня Вахнова Кара',\n",
       " 'деревня Выскатка',\n",
       " 'деревня Гарболово',\n",
       " 'деревня Глинка',\n",
       " 'деревня Горбунки',\n",
       " 'деревня Гостилицы',\n",
       " 'деревня Заклинье',\n",
       " 'деревня Заневка',\n",
       " 'деревня Зимитицы',\n",
       " 'деревня Извара',\n",
       " 'деревня Иссад',\n",
       " 'деревня Калитино',\n",
       " 'деревня Кальтино',\n",
       " 'деревня Камышовка',\n",
       " 'деревня Каськово',\n",
       " 'деревня Келози',\n",
       " 'деревня Кипень',\n",
       " 'деревня Кисельня',\n",
       " 'деревня Колтуши',\n",
       " 'деревня Коркино',\n",
       " 'деревня Котлы',\n",
       " 'деревня Кривко',\n",
       " 'деревня Кудрово',\n",
       " 'деревня Кузьмолово',\n",
       " 'деревня Курковицы',\n",
       " 'деревня Куровицы',\n",
       " 'деревня Куттузи',\n",
       " 'деревня Лаврики',\n",
       " 'деревня Лаголово',\n",
       " 'деревня Лампово',\n",
       " 'деревня Лесколово',\n",
       " 'деревня Лопухинка',\n",
       " 'деревня Лупполово',\n",
       " 'деревня Малая Романовка',\n",
       " 'деревня Малое Верево',\n",
       " 'деревня Малое Карлино',\n",
       " 'деревня Малые Колпаны',\n",
       " 'деревня Мануйлово',\n",
       " 'деревня Меньково',\n",
       " 'деревня Мины',\n",
       " 'деревня Мистолово',\n",
       " 'деревня Ненимяки',\n",
       " 'деревня Нижние Осельки',\n",
       " 'деревня Нижняя',\n",
       " 'деревня Низино',\n",
       " 'деревня Новое Девяткино',\n",
       " 'деревня Новолисино',\n",
       " 'деревня Нурма',\n",
       " 'деревня Оржицы',\n",
       " 'деревня Парицы',\n",
       " 'деревня Пельгора',\n",
       " 'деревня Пеники',\n",
       " 'деревня Пижма',\n",
       " 'деревня Пикколово',\n",
       " 'деревня Пудомяги',\n",
       " 'деревня Пустынка',\n",
       " 'деревня Пчева',\n",
       " 'деревня Рабитицы',\n",
       " 'деревня Разбегаево',\n",
       " 'деревня Раздолье',\n",
       " 'деревня Разметелево',\n",
       " 'деревня Рапполово',\n",
       " 'деревня Реброво',\n",
       " 'деревня Русско',\n",
       " 'деревня Сижно',\n",
       " 'деревня Снегирёвка',\n",
       " 'деревня Старая',\n",
       " 'деревня Старая Пустошь',\n",
       " 'деревня Старое Хинколово',\n",
       " 'деревня Старополье',\n",
       " 'деревня Старосиверская',\n",
       " 'деревня Старые Бегуницы',\n",
       " 'деревня Суоранда',\n",
       " 'деревня Сяськелево',\n",
       " 'деревня Тарасово',\n",
       " 'деревня Терпилицы',\n",
       " 'деревня Тихковицы',\n",
       " 'деревня Тойворово',\n",
       " 'деревня Торосово',\n",
       " 'деревня Торошковичи',\n",
       " 'деревня Трубников Бор',\n",
       " 'деревня Фалилеево',\n",
       " 'деревня Фёдоровское',\n",
       " 'деревня Хапо-Ое',\n",
       " 'деревня Хязельки',\n",
       " 'деревня Чудской Бор',\n",
       " 'деревня Шпаньково',\n",
       " 'деревня Щеглово',\n",
       " 'деревня Юкки',\n",
       " 'деревня Ялгино',\n",
       " 'деревня Яльгелево',\n",
       " 'деревня Ям-Тесово',\n",
       " 'коттеджный поселок Кивеннапа Север',\n",
       " 'коттеджный поселок Счастье',\n",
       " 'коттеджный посёлок Лесное',\n",
       " 'поселок Аннино',\n",
       " 'поселок Барышево',\n",
       " 'поселок Бугры',\n",
       " 'поселок Возрождение',\n",
       " 'поселок Войсковицы',\n",
       " 'поселок Володарское',\n",
       " 'поселок Гаврилово',\n",
       " 'поселок Гарболово',\n",
       " 'поселок Гладкое',\n",
       " 'поселок Глажево',\n",
       " 'поселок Глебычево',\n",
       " 'поселок Гончарово',\n",
       " 'поселок Громово',\n",
       " 'поселок Дружноселье',\n",
       " 'поселок Елизаветино',\n",
       " 'поселок Жилгородок',\n",
       " 'поселок Жилпосёлок',\n",
       " 'поселок Житково',\n",
       " 'поселок Заводской',\n",
       " 'поселок Запорожское',\n",
       " 'поселок Зимитицы',\n",
       " 'поселок Ильичёво',\n",
       " 'поселок Калитино',\n",
       " 'поселок Каложицы',\n",
       " 'поселок Кингисеппский',\n",
       " 'поселок Кирпичное',\n",
       " 'поселок Кобралово',\n",
       " 'поселок Кобринское',\n",
       " 'поселок Коммунары',\n",
       " 'поселок Коробицыно',\n",
       " 'поселок Котельский',\n",
       " 'поселок Красная Долина',\n",
       " 'поселок Красносельское',\n",
       " 'поселок Лесное',\n",
       " 'поселок Лисий Нос',\n",
       " 'поселок Лукаши',\n",
       " 'поселок Любань',\n",
       " 'поселок Мельниково',\n",
       " 'поселок Мичуринское',\n",
       " 'поселок Молодцово',\n",
       " 'поселок Мурино',\n",
       " 'поселок Новый Свет',\n",
       " 'поселок Новый Учхоз',\n",
       " 'поселок Оредеж',\n",
       " 'поселок Пансионат Зелёный Бор',\n",
       " 'поселок Первомайское',\n",
       " 'поселок Перово',\n",
       " 'поселок Петровское',\n",
       " 'поселок Победа',\n",
       " 'поселок Поляны',\n",
       " 'поселок Почап',\n",
       " 'поселок Починок',\n",
       " 'поселок Пушное',\n",
       " 'поселок Пчевжа',\n",
       " 'поселок Рабитицы',\n",
       " 'поселок Романовка',\n",
       " 'поселок Ромашки',\n",
       " 'поселок Рябово',\n",
       " 'поселок Севастьяново',\n",
       " 'поселок Селезнёво',\n",
       " 'поселок Сельцо',\n",
       " 'поселок Семиозерье',\n",
       " 'поселок Семрино',\n",
       " 'поселок Серебрянский',\n",
       " 'поселок Совхозный',\n",
       " 'поселок Старая Малукса',\n",
       " 'поселок Стеклянный',\n",
       " 'поселок Сумино',\n",
       " 'поселок Суходолье',\n",
       " 'поселок Тельмана',\n",
       " 'поселок Терволово',\n",
       " 'поселок Торковичи',\n",
       " 'поселок Тёсово-4',\n",
       " 'поселок Углово',\n",
       " 'поселок Усть-Луга',\n",
       " 'поселок Ушаки',\n",
       " 'поселок Цвелодубово',\n",
       " 'поселок Цвылёво',\n",
       " 'поселок городского типа Большая Ижора',\n",
       " 'поселок городского типа Вырица',\n",
       " 'поселок городского типа Дружная Горка',\n",
       " 'поселок городского типа Дубровка',\n",
       " 'поселок городского типа Ефимовский',\n",
       " 'поселок городского типа Кондратьево',\n",
       " 'поселок городского типа Красный Бор',\n",
       " 'поселок городского типа Кузьмоловский',\n",
       " 'поселок городского типа Лебяжье',\n",
       " 'поселок городского типа Лесогорский',\n",
       " 'поселок городского типа Назия',\n",
       " 'поселок городского типа Никольский',\n",
       " 'поселок городского типа Приладожский',\n",
       " 'поселок городского типа Рахья',\n",
       " 'поселок городского типа Рощино',\n",
       " 'поселок городского типа Рябово',\n",
       " 'поселок городского типа Синявино',\n",
       " 'поселок городского типа Советский',\n",
       " 'поселок городского типа Токсово',\n",
       " 'поселок городского типа Форносово',\n",
       " 'поселок городского типа имени Свердлова',\n",
       " 'поселок станции Вещево',\n",
       " 'поселок станции Корнево',\n",
       " 'поселок станции Лужайка',\n",
       " 'поселок станции Приветнинское',\n",
       " 'посёлок Александровская',\n",
       " 'посёлок Алексеевка',\n",
       " 'посёлок Аннино',\n",
       " 'посёлок Белоостров',\n",
       " 'посёлок Бугры',\n",
       " 'посёлок Возрождение',\n",
       " 'посёлок Войскорово',\n",
       " 'посёлок Высокоключевой',\n",
       " 'посёлок Гаврилово',\n",
       " 'посёлок Дзержинского',\n",
       " 'посёлок Жилгородок',\n",
       " 'посёлок Ильичёво',\n",
       " 'посёлок Кикерино',\n",
       " 'посёлок Кобралово',\n",
       " 'посёлок Коробицыно',\n",
       " 'посёлок Левашово',\n",
       " 'посёлок Ленинское',\n",
       " 'посёлок Лисий Нос',\n",
       " 'посёлок Мельниково',\n",
       " 'посёлок Металлострой',\n",
       " 'посёлок Мичуринское',\n",
       " 'посёлок Молодёжное',\n",
       " 'посёлок Мурино',\n",
       " 'посёлок Мыза-Ивановка',\n",
       " 'посёлок Новогорелово',\n",
       " 'посёлок Новый Свет',\n",
       " 'посёлок Пансионат Зелёный Бор',\n",
       " 'посёлок Парголово',\n",
       " 'посёлок Перово',\n",
       " 'посёлок Песочный',\n",
       " 'посёлок Петро-Славянка',\n",
       " 'посёлок Петровское',\n",
       " 'посёлок Платформа 69-й километр',\n",
       " 'посёлок Плодовое',\n",
       " 'посёлок Плоское',\n",
       " 'посёлок Победа',\n",
       " 'посёлок Поляны',\n",
       " 'посёлок Понтонный',\n",
       " 'посёлок Пригородный',\n",
       " 'посёлок Пудость',\n",
       " 'посёлок Репино',\n",
       " 'посёлок Ропша',\n",
       " 'посёлок Сапёрное',\n",
       " 'посёлок Сапёрный',\n",
       " 'посёлок Сосново',\n",
       " 'посёлок Старая Малукса',\n",
       " 'посёлок Стеклянный',\n",
       " 'посёлок Стрельна',\n",
       " 'посёлок Суйда',\n",
       " 'посёлок Сумино',\n",
       " 'посёлок Тельмана',\n",
       " 'посёлок Терволово',\n",
       " 'посёлок Торфяное',\n",
       " 'посёлок Усть-Ижора',\n",
       " 'посёлок Усть-Луга',\n",
       " 'посёлок Форт Красная Горка',\n",
       " 'посёлок Шугозеро',\n",
       " 'посёлок Шушары',\n",
       " 'посёлок Щеглово',\n",
       " 'посёлок городского типа Важины',\n",
       " 'посёлок городского типа Вознесенье',\n",
       " 'посёлок городского типа Вырица',\n",
       " 'посёлок городского типа Красный Бор',\n",
       " 'посёлок городского типа Кузнечное',\n",
       " 'посёлок городского типа Кузьмоловский',\n",
       " 'посёлок городского типа Лебяжье',\n",
       " 'посёлок городского типа Мга',\n",
       " 'посёлок городского типа Павлово',\n",
       " 'посёлок городского типа Рощино',\n",
       " 'посёлок городского типа Рябово',\n",
       " 'посёлок городского типа Сиверский',\n",
       " 'посёлок городского типа Тайцы',\n",
       " 'посёлок городского типа Токсово',\n",
       " 'посёлок городского типа Ульяновка',\n",
       " 'посёлок городского типа Форносово',\n",
       " 'посёлок городского типа имени Морозова',\n",
       " 'посёлок городского типа имени Свердлова',\n",
       " 'посёлок при железнодорожной станции Вещево',\n",
       " 'посёлок при железнодорожной станции Приветнинское',\n",
       " 'посёлок станции Громово',\n",
       " 'посёлок станции Свирь',\n",
       " 'садоводческое некоммерческое товарищество Лесная Поляна',\n",
       " 'садовое товарищество Новая Ропша',\n",
       " 'садовое товарищество Приладожский',\n",
       " 'садовое товарищество Рахья',\n",
       " 'садовое товарищество Садко',\n",
       " 'село Копорье',\n",
       " 'село Никольское',\n",
       " 'село Павлово',\n",
       " 'село Паша',\n",
       " 'село Путилово',\n",
       " 'село Рождествено',\n",
       " 'село Русско-Высоцкое',\n",
       " 'село Старая Ладога',\n",
       " 'село Шум']"
      ]
     },
     "metadata": {},
     "output_type": "display_data"
    }
   ],
   "source": [
    "display(sorted(real_estate['locality_name'].unique()))"
   ]
  },
  {
   "cell_type": "markdown",
   "metadata": {},
   "source": [
    "Найденные дубликаты:\n",
    "\n",
    "* названия, содержащие букву «ё» (например, «городской поселок/посёлок Янино-1»);\n",
    "* названия, содержащие словосочетания «поселок при железнодорожной станции» / «поселок станции» (понятия поселок при железнодорожной станции в принципе [нет](https://msu.lenobl.ru/media/content/docs/188/2_-_soderzhanie.pdf), это то же самое, что и посёлок при станции);\n",
    "* названия, содержащие словосочетания «городской поселок» / «поселок городского типа» (это [одно и то же](https://docs.cntd.ru/document/891832035)).\n",
    "\n",
    "Кроме того, замечены населённые пункты, названия которых отличаются только типом (например «Мурино» и «поселок Мурино»). Необходимо выявить все такие «подозрительные» населённые пункты и проверить, не являются ли они неявными дубликатами. Но сначала разберёмся с очевидными неявными дубликами из списка выше."
   ]
  },
  {
   "cell_type": "code",
   "execution_count": 18,
   "metadata": {},
   "outputs": [
    {
     "name": "stdout",
     "output_type": "stream",
     "text": [
      "Уникальные значения столбца locality_name:\n"
     ]
    },
    {
     "data": {
      "text/plain": [
       "['Бокситогорск',\n",
       " 'Волосово',\n",
       " 'Волхов',\n",
       " 'Всеволожск',\n",
       " 'Выборг',\n",
       " 'Высоцк',\n",
       " 'Гатчина',\n",
       " 'Зеленогорск',\n",
       " 'Ивангород',\n",
       " 'Каменногорск',\n",
       " 'Кингисепп',\n",
       " 'Кириши',\n",
       " 'Кировск',\n",
       " 'Колпино',\n",
       " 'Коммунар',\n",
       " 'Красное Село',\n",
       " 'Кронштадт',\n",
       " 'Кудрово',\n",
       " 'Лодейное Поле',\n",
       " 'Ломоносов',\n",
       " 'Луга',\n",
       " 'Любань',\n",
       " 'Мурино',\n",
       " 'Никольское',\n",
       " 'Новая Ладога',\n",
       " 'Отрадное',\n",
       " 'Павловск',\n",
       " 'Петергоф',\n",
       " 'Пикалево',\n",
       " 'Подпорожье',\n",
       " 'Приморск',\n",
       " 'Приозерск',\n",
       " 'Пушкин',\n",
       " 'Санкт-Петербург',\n",
       " 'Светогорск',\n",
       " 'Сертолово',\n",
       " 'Сестрорецк',\n",
       " 'Сланцы',\n",
       " 'Сосновый Бор',\n",
       " 'Сясьстрой',\n",
       " 'Тихвин',\n",
       " 'Тосно',\n",
       " 'Шлиссельбург',\n",
       " 'деревня Агалатово',\n",
       " 'деревня Аро',\n",
       " 'деревня Батово',\n",
       " 'деревня Бегуницы',\n",
       " 'деревня Белогорка',\n",
       " 'деревня Большая Вруда',\n",
       " 'деревня Большая Пустомержа',\n",
       " 'деревня Большие Колпаны',\n",
       " 'деревня Большое Рейзино',\n",
       " 'деревня Большой Сабск',\n",
       " 'деревня Бор',\n",
       " 'деревня Борисова Грива',\n",
       " 'деревня Ваганово',\n",
       " 'деревня Вартемяги',\n",
       " 'деревня Вахнова Кара',\n",
       " 'деревня Выскатка',\n",
       " 'деревня Гарболово',\n",
       " 'деревня Глинка',\n",
       " 'деревня Горбунки',\n",
       " 'деревня Гостилицы',\n",
       " 'деревня Заклинье',\n",
       " 'деревня Заневка',\n",
       " 'деревня Зимитицы',\n",
       " 'деревня Извара',\n",
       " 'деревня Иссад',\n",
       " 'деревня Калитино',\n",
       " 'деревня Кальтино',\n",
       " 'деревня Камышовка',\n",
       " 'деревня Каськово',\n",
       " 'деревня Келози',\n",
       " 'деревня Кипень',\n",
       " 'деревня Кисельня',\n",
       " 'деревня Колтуши',\n",
       " 'деревня Коркино',\n",
       " 'деревня Котлы',\n",
       " 'деревня Кривко',\n",
       " 'деревня Кудрово',\n",
       " 'деревня Кузьмолово',\n",
       " 'деревня Курковицы',\n",
       " 'деревня Куровицы',\n",
       " 'деревня Куттузи',\n",
       " 'деревня Лаврики',\n",
       " 'деревня Лаголово',\n",
       " 'деревня Лампово',\n",
       " 'деревня Лесколово',\n",
       " 'деревня Лопухинка',\n",
       " 'деревня Лупполово',\n",
       " 'деревня Малая Романовка',\n",
       " 'деревня Малое Верево',\n",
       " 'деревня Малое Карлино',\n",
       " 'деревня Малые Колпаны',\n",
       " 'деревня Мануйлово',\n",
       " 'деревня Меньково',\n",
       " 'деревня Мины',\n",
       " 'деревня Мистолово',\n",
       " 'деревня Ненимяки',\n",
       " 'деревня Нижние Осельки',\n",
       " 'деревня Нижняя',\n",
       " 'деревня Низино',\n",
       " 'деревня Новое Девяткино',\n",
       " 'деревня Новолисино',\n",
       " 'деревня Нурма',\n",
       " 'деревня Оржицы',\n",
       " 'деревня Парицы',\n",
       " 'деревня Пельгора',\n",
       " 'деревня Пеники',\n",
       " 'деревня Пижма',\n",
       " 'деревня Пикколово',\n",
       " 'деревня Пудомяги',\n",
       " 'деревня Пустынка',\n",
       " 'деревня Пчева',\n",
       " 'деревня Рабитицы',\n",
       " 'деревня Разбегаево',\n",
       " 'деревня Раздолье',\n",
       " 'деревня Разметелево',\n",
       " 'деревня Рапполово',\n",
       " 'деревня Реброво',\n",
       " 'деревня Русско',\n",
       " 'деревня Сижно',\n",
       " 'деревня Снегиревка',\n",
       " 'деревня Старая',\n",
       " 'деревня Старая Пустошь',\n",
       " 'деревня Старое Хинколово',\n",
       " 'деревня Старополье',\n",
       " 'деревня Старосиверская',\n",
       " 'деревня Старые Бегуницы',\n",
       " 'деревня Суоранда',\n",
       " 'деревня Сяськелево',\n",
       " 'деревня Тарасово',\n",
       " 'деревня Терпилицы',\n",
       " 'деревня Тихковицы',\n",
       " 'деревня Тойворово',\n",
       " 'деревня Торосово',\n",
       " 'деревня Торошковичи',\n",
       " 'деревня Трубников Бор',\n",
       " 'деревня Фалилеево',\n",
       " 'деревня Федоровское',\n",
       " 'деревня Хапо-Ое',\n",
       " 'деревня Хязельки',\n",
       " 'деревня Чудской Бор',\n",
       " 'деревня Шпаньково',\n",
       " 'деревня Щеглово',\n",
       " 'деревня Юкки',\n",
       " 'деревня Ялгино',\n",
       " 'деревня Яльгелево',\n",
       " 'деревня Ям-Тесово',\n",
       " 'коттеджный поселок Кивеннапа Север',\n",
       " 'коттеджный поселок Лесное',\n",
       " 'коттеджный поселок Счастье',\n",
       " 'поселок Александровская',\n",
       " 'поселок Алексеевка',\n",
       " 'поселок Аннино',\n",
       " 'поселок Барышево',\n",
       " 'поселок Белоостров',\n",
       " 'поселок Бугры',\n",
       " 'поселок Возрождение',\n",
       " 'поселок Войсковицы',\n",
       " 'поселок Войскорово',\n",
       " 'поселок Володарское',\n",
       " 'поселок Высокоключевой',\n",
       " 'поселок Гаврилово',\n",
       " 'поселок Гарболово',\n",
       " 'поселок Гладкое',\n",
       " 'поселок Глажево',\n",
       " 'поселок Глебычево',\n",
       " 'поселок Гончарово',\n",
       " 'поселок Громово',\n",
       " 'поселок Дзержинского',\n",
       " 'поселок Дружноселье',\n",
       " 'поселок Елизаветино',\n",
       " 'поселок Жилгородок',\n",
       " 'поселок Жилпоселок',\n",
       " 'поселок Житково',\n",
       " 'поселок Заводской',\n",
       " 'поселок Запорожское',\n",
       " 'поселок Зимитицы',\n",
       " 'поселок Ильичево',\n",
       " 'поселок Калитино',\n",
       " 'поселок Каложицы',\n",
       " 'поселок Кикерино',\n",
       " 'поселок Кингисеппский',\n",
       " 'поселок Кирпичное',\n",
       " 'поселок Кобралово',\n",
       " 'поселок Кобринское',\n",
       " 'поселок Коммунары',\n",
       " 'поселок Коробицыно',\n",
       " 'поселок Котельский',\n",
       " 'поселок Красная Долина',\n",
       " 'поселок Красносельское',\n",
       " 'поселок Левашово',\n",
       " 'поселок Ленинское',\n",
       " 'поселок Лесное',\n",
       " 'поселок Лисий Нос',\n",
       " 'поселок Лукаши',\n",
       " 'поселок Любань',\n",
       " 'поселок Мельниково',\n",
       " 'поселок Металлострой',\n",
       " 'поселок Мичуринское',\n",
       " 'поселок Молодежное',\n",
       " 'поселок Молодцово',\n",
       " 'поселок Мурино',\n",
       " 'поселок Мыза-Ивановка',\n",
       " 'поселок Новогорелово',\n",
       " 'поселок Новый Свет',\n",
       " 'поселок Новый Учхоз',\n",
       " 'поселок Оредеж',\n",
       " 'поселок Пансионат Зеленый Бор',\n",
       " 'поселок Парголово',\n",
       " 'поселок Первомайское',\n",
       " 'поселок Перово',\n",
       " 'поселок Песочный',\n",
       " 'поселок Петро-Славянка',\n",
       " 'поселок Петровское',\n",
       " 'поселок Платформа 69-й километр',\n",
       " 'поселок Плодовое',\n",
       " 'поселок Плоское',\n",
       " 'поселок Победа',\n",
       " 'поселок Поляны',\n",
       " 'поселок Понтонный',\n",
       " 'поселок Почап',\n",
       " 'поселок Починок',\n",
       " 'поселок Пригородный',\n",
       " 'поселок Пудость',\n",
       " 'поселок Пушное',\n",
       " 'поселок Пчевжа',\n",
       " 'поселок Рабитицы',\n",
       " 'поселок Репино',\n",
       " 'поселок Романовка',\n",
       " 'поселок Ромашки',\n",
       " 'поселок Ропша',\n",
       " 'поселок Рябово',\n",
       " 'поселок Саперное',\n",
       " 'поселок Саперный',\n",
       " 'поселок Севастьяново',\n",
       " 'поселок Селезнево',\n",
       " 'поселок Сельцо',\n",
       " 'поселок Семиозерье',\n",
       " 'поселок Семрино',\n",
       " 'поселок Серебрянский',\n",
       " 'поселок Совхозный',\n",
       " 'поселок Сосново',\n",
       " 'поселок Старая Малукса',\n",
       " 'поселок Стеклянный',\n",
       " 'поселок Стрельна',\n",
       " 'поселок Суйда',\n",
       " 'поселок Сумино',\n",
       " 'поселок Суходолье',\n",
       " 'поселок Тельмана',\n",
       " 'поселок Терволово',\n",
       " 'поселок Тесово-4',\n",
       " 'поселок Торковичи',\n",
       " 'поселок Торфяное',\n",
       " 'поселок Углово',\n",
       " 'поселок Усть-Ижора',\n",
       " 'поселок Усть-Луга',\n",
       " 'поселок Ушаки',\n",
       " 'поселок Форт Красная Горка',\n",
       " 'поселок Цвелодубово',\n",
       " 'поселок Цвылево',\n",
       " 'поселок Шугозеро',\n",
       " 'поселок Шушары',\n",
       " 'поселок Щеглово',\n",
       " 'поселок городского типа Большая Ижора',\n",
       " 'поселок городского типа Будогощь',\n",
       " 'поселок городского типа Важины',\n",
       " 'поселок городского типа Виллози',\n",
       " 'поселок городского типа Вознесенье',\n",
       " 'поселок городского типа Вырица',\n",
       " 'поселок городского типа Дружная Горка',\n",
       " 'поселок городского типа Дубровка',\n",
       " 'поселок городского типа Ефимовский',\n",
       " 'поселок городского типа Кондратьево',\n",
       " 'поселок городского типа Красный Бор',\n",
       " 'поселок городского типа Кузнечное',\n",
       " 'поселок городского типа Кузьмоловский',\n",
       " 'поселок городского типа Лебяжье',\n",
       " 'поселок городского типа Лесогорский',\n",
       " 'поселок городского типа Мга',\n",
       " 'поселок городского типа Назия',\n",
       " 'поселок городского типа Никольский',\n",
       " 'поселок городского типа Новоселье',\n",
       " 'поселок городского типа Павлово',\n",
       " 'поселок городского типа Приладожский',\n",
       " 'поселок городского типа Рахья',\n",
       " 'поселок городского типа Рощино',\n",
       " 'поселок городского типа Рябово',\n",
       " 'поселок городского типа Свирьстрой',\n",
       " 'поселок городского типа Сиверский',\n",
       " 'поселок городского типа Синявино',\n",
       " 'поселок городского типа Советский',\n",
       " 'поселок городского типа Тайцы',\n",
       " 'поселок городского типа Токсово',\n",
       " 'поселок городского типа Ульяновка',\n",
       " 'поселок городского типа Федоровское',\n",
       " 'поселок городского типа Форносово',\n",
       " 'поселок городского типа Янино-1',\n",
       " 'поселок городского типа имени Морозова',\n",
       " 'поселок городского типа имени Свердлова',\n",
       " 'поселок станции Вещево',\n",
       " 'поселок станции Громово',\n",
       " 'поселок станции Корнево',\n",
       " 'поселок станции Лужайка',\n",
       " 'поселок станции Приветнинское',\n",
       " 'поселок станции Свирь',\n",
       " 'садоводческое некоммерческое товарищество Лесная Поляна',\n",
       " 'садовое товарищество Новая Ропша',\n",
       " 'садовое товарищество Приладожский',\n",
       " 'садовое товарищество Рахья',\n",
       " 'садовое товарищество Садко',\n",
       " 'село Копорье',\n",
       " 'село Никольское',\n",
       " 'село Павлово',\n",
       " 'село Паша',\n",
       " 'село Путилово',\n",
       " 'село Рождествено',\n",
       " 'село Русско-Высоцкое',\n",
       " 'село Старая Ладога',\n",
       " 'село Шум']"
      ]
     },
     "metadata": {},
     "output_type": "display_data"
    }
   ],
   "source": [
    "real_estate['locality_name'] = real_estate['locality_name'].replace(regex={'ё': 'е'}) #сначала меняем \"ё\" на \"е\", \n",
    "                                                                        #т.к. это влияет на следующие замены                                                                                  \n",
    "real_estate['locality_name'] = (real_estate['locality_name'].replace(regex={\n",
    "        'городской поселок': 'поселок городского типа',\n",
    "        'поселок при железнодорожной станции': 'поселок станции'}))\n",
    "\n",
    "print('Уникальные значения столбца locality_name:')\n",
    "display(sorted(real_estate['locality_name'].unique()))"
   ]
  },
  {
   "cell_type": "markdown",
   "metadata": {},
   "source": [
    "Очевидные неявные дубликаты исключены. Займёмся неочевидными. Для этого составим список `locality_names_doubled`, в который войдут названия, встречающиеся в наименованиях сразу нескольких населённых пунктов. Ожидаем, что повторяющихся названий относительно мало, поэтому не будем усложнять код и смиримся с тем, что в список попадут части нескольких заведомо неодинаковых названий (например, в нём окажется название «Бор», которое является частью названий «Сосновый Бор», «Красный Бор» и «Зеленый Бор»). Поскольку таких случаев немного, времени на поиск более оптимального алгоритма уйдёт больше, чем на ручной перебор.     "
   ]
  },
  {
   "cell_type": "code",
   "execution_count": 19,
   "metadata": {},
   "outputs": [
    {
     "name": "stdout",
     "output_type": "stream",
     "text": [
      "Повторяющиеся названия населённых пунктов:\n"
     ]
    },
    {
     "data": {
      "text/plain": [
       "['Мурино',\n",
       " 'Бор',\n",
       " 'Кудрово',\n",
       " 'Павлово',\n",
       " 'Федоровское',\n",
       " 'Ропша',\n",
       " 'Колпаны',\n",
       " 'Рахья',\n",
       " 'Бегуницы',\n",
       " 'Рябово',\n",
       " 'Никольское',\n",
       " 'Ладога',\n",
       " 'Щеглово',\n",
       " 'Горка',\n",
       " 'Любань',\n",
       " 'Зимитицы',\n",
       " 'Гарболово',\n",
       " 'Громово',\n",
       " 'Калитино',\n",
       " 'Приладожский',\n",
       " 'Рабитицы',\n",
       " 'Романовка',\n",
       " 'Лесное']"
      ]
     },
     "metadata": {},
     "output_type": "display_data"
    }
   ],
   "source": [
    "locality_names_all = []\n",
    "locality_names_doubled = []\n",
    "\n",
    "for full_name in real_estate['locality_name'].unique():\n",
    "    name = full_name.split(' ')[-1]\n",
    "    if name in locality_names_all:\n",
    "        if name not in locality_names_doubled:\n",
    "            locality_names_doubled.append(name)\n",
    "    else:\n",
    "        locality_names_all.append(name)\n",
    "        \n",
    "print('Повторяющиеся названия населённых пунктов:')\n",
    "display(locality_names_doubled)"
   ]
  },
  {
   "cell_type": "markdown",
   "metadata": {},
   "source": [
    "Теперь, вооружившись [справочником по административно-территориальному делению Ленинградской области на 2017 год](https://msu.lenobl.ru/media/content/docs/188/2_-_soderzhanie.pdf) и не забывая в необходимых случаях обращаться к информации из открытых источников, мы можем просмотреть информацию по каждому из повторяющихся названий и найти настоящие неявные дубликаты.\n",
    "\n",
    "В результате выяснилось, что к неявным дубликатам относятся только четыре наименования: \n",
    "\n",
    "* «Мурино» / «поселок Мурино» — стал городом в 2019 году;\n",
    "* «Кудрово» / «деревня Кудрово» — стала городом в 2018 году;\n",
    "* «поселок городского типа Федоровское» / «деревня Федоровское» — стала пгт в 2017 году;\n",
    "* «деревня Гарболово» / «посёлок Гарболово» — отдельного посёлка Гарболово, отличного от нынешней деревни, нет и не было; вероятно, где-то в районе 2017 года посёлок переименовали в деревню.\n",
    "\n",
    "Устраним эти неявные дубликаты. Оставим только более новые названия.\n",
    "\n",
    "*Кстати, в описании задания проекта было сказано, что «поселок Рябово» и «поселок городского типа Рябово» — это одно и то же. По всей видимости, это ошибка: согласно справочнику, существует и поселок Рябово, и пгт Рябово, причём они даже находятся в разных частях Ленобласти: один в Выборгском районе, а другой в Тосненском. Судя по данным официальных источников, оба населённых пункта до сих пор существуют ([раз](https://primorsk.vbglenobl.ru/o-poselenii/istoricheskaya-spravka), [два](http://www.adm-ryabovo.ru/)).*"
   ]
  },
  {
   "cell_type": "code",
   "execution_count": 20,
   "metadata": {},
   "outputs": [
    {
     "name": "stdout",
     "output_type": "stream",
     "text": [
      "Неочевидные неявные дубликаты устранены.\n"
     ]
    }
   ],
   "source": [
    "real_estate['locality_name'] = (real_estate['locality_name'].replace(to_replace={\n",
    "        'поселок Мурино': 'Мурино',\n",
    "        'деревня Кудрово': 'Кудрово',\n",
    "        'деревня Федоровское': 'поселок городского типа Федоровское',\n",
    "        'поселок Гарболово': 'деревня Гарболово'}))\n",
    "\n",
    "removed_names = ['поселок Мурино', 'деревня Кудрово', 'деревня Федоровское', 'поселок Гарболово']\n",
    "\n",
    "if len(real_estate.query('locality_name in @removed_names')) == 0:\n",
    "    print('Неочевидные неявные дубликаты устранены.')\n",
    "else:\n",
    "    print('Неочевидные неявные дубликаты остались!')"
   ]
  },
  {
   "cell_type": "markdown",
   "metadata": {},
   "source": [
    "На всякий случай проверим, не появилось ли явных дубликатов в результате устранения неявных:"
   ]
  },
  {
   "cell_type": "code",
   "execution_count": 21,
   "metadata": {},
   "outputs": [
    {
     "name": "stdout",
     "output_type": "stream",
     "text": [
      "Количество явных дубликатов в датафрейме: 0\n"
     ]
    }
   ],
   "source": [
    "print('Количество явных дубликатов в датафрейме:', real_estate.duplicated().sum())"
   ]
  },
  {
   "cell_type": "markdown",
   "metadata": {},
   "source": [
    "Обработка дубликатов завершена."
   ]
  },
  {
   "cell_type": "markdown",
   "metadata": {},
   "source": [
    "### Устранение артефактов"
   ]
  },
  {
   "cell_type": "markdown",
   "metadata": {},
   "source": [
    "Ещё раз просмотрим базовую статистику по столбцам:"
   ]
  },
  {
   "cell_type": "code",
   "execution_count": 22,
   "metadata": {
    "scrolled": false
   },
   "outputs": [
    {
     "data": {
      "text/html": [
       "<div>\n",
       "<style scoped>\n",
       "    .dataframe tbody tr th:only-of-type {\n",
       "        vertical-align: middle;\n",
       "    }\n",
       "\n",
       "    .dataframe tbody tr th {\n",
       "        vertical-align: top;\n",
       "    }\n",
       "\n",
       "    .dataframe thead th {\n",
       "        text-align: right;\n",
       "    }\n",
       "</style>\n",
       "<table border=\"1\" class=\"dataframe\">\n",
       "  <thead>\n",
       "    <tr style=\"text-align: right;\">\n",
       "      <th></th>\n",
       "      <th>index</th>\n",
       "      <th>total_images</th>\n",
       "      <th>last_price</th>\n",
       "      <th>total_area</th>\n",
       "      <th>rooms</th>\n",
       "      <th>ceiling_height</th>\n",
       "      <th>floors_total</th>\n",
       "      <th>living_area</th>\n",
       "      <th>floor</th>\n",
       "      <th>kitchen_area</th>\n",
       "      <th>balcony</th>\n",
       "      <th>airports_nearest</th>\n",
       "      <th>cityCenters_nearest</th>\n",
       "      <th>parks_around3000</th>\n",
       "      <th>parks_nearest</th>\n",
       "      <th>ponds_around3000</th>\n",
       "      <th>ponds_nearest</th>\n",
       "      <th>days_exposition</th>\n",
       "    </tr>\n",
       "  </thead>\n",
       "  <tbody>\n",
       "    <tr>\n",
       "      <th>count</th>\n",
       "      <td>23565.000000</td>\n",
       "      <td>23565.000000</td>\n",
       "      <td>2.356500e+04</td>\n",
       "      <td>23565.000000</td>\n",
       "      <td>23565.000000</td>\n",
       "      <td>23565.000000</td>\n",
       "      <td>23565.000000</td>\n",
       "      <td>21700.000000</td>\n",
       "      <td>23565.000000</td>\n",
       "      <td>21343.000000</td>\n",
       "      <td>23565.000000</td>\n",
       "      <td>18041.000000</td>\n",
       "      <td>18064.000000</td>\n",
       "      <td>18065.000000</td>\n",
       "      <td>8030.000000</td>\n",
       "      <td>18065.000000</td>\n",
       "      <td>9036.000000</td>\n",
       "      <td>20394.000000</td>\n",
       "    </tr>\n",
       "    <tr>\n",
       "      <th>mean</th>\n",
       "      <td>11846.826183</td>\n",
       "      <td>9.878421</td>\n",
       "      <td>6.540058e+06</td>\n",
       "      <td>60.322824</td>\n",
       "      <td>2.070656</td>\n",
       "      <td>2.724530</td>\n",
       "      <td>10.675875</td>\n",
       "      <td>34.454822</td>\n",
       "      <td>5.878124</td>\n",
       "      <td>10.560994</td>\n",
       "      <td>0.593677</td>\n",
       "      <td>28797.082701</td>\n",
       "      <td>14192.656056</td>\n",
       "      <td>0.611569</td>\n",
       "      <td>490.580448</td>\n",
       "      <td>0.769499</td>\n",
       "      <td>518.289509</td>\n",
       "      <td>180.741395</td>\n",
       "    </tr>\n",
       "    <tr>\n",
       "      <th>std</th>\n",
       "      <td>6842.594114</td>\n",
       "      <td>5.681156</td>\n",
       "      <td>1.091093e+07</td>\n",
       "      <td>35.657060</td>\n",
       "      <td>1.078591</td>\n",
       "      <td>0.991026</td>\n",
       "      <td>6.594823</td>\n",
       "      <td>22.045359</td>\n",
       "      <td>4.871485</td>\n",
       "      <td>5.900630</td>\n",
       "      <td>0.960660</td>\n",
       "      <td>12632.499735</td>\n",
       "      <td>8613.348153</td>\n",
       "      <td>0.802088</td>\n",
       "      <td>341.572956</td>\n",
       "      <td>0.938669</td>\n",
       "      <td>278.009558</td>\n",
       "      <td>219.732782</td>\n",
       "    </tr>\n",
       "    <tr>\n",
       "      <th>min</th>\n",
       "      <td>0.000000</td>\n",
       "      <td>0.000000</td>\n",
       "      <td>1.219000e+04</td>\n",
       "      <td>12.000000</td>\n",
       "      <td>0.000000</td>\n",
       "      <td>1.000000</td>\n",
       "      <td>1.000000</td>\n",
       "      <td>2.000000</td>\n",
       "      <td>1.000000</td>\n",
       "      <td>1.300000</td>\n",
       "      <td>0.000000</td>\n",
       "      <td>0.000000</td>\n",
       "      <td>181.000000</td>\n",
       "      <td>0.000000</td>\n",
       "      <td>1.000000</td>\n",
       "      <td>0.000000</td>\n",
       "      <td>13.000000</td>\n",
       "      <td>1.000000</td>\n",
       "    </tr>\n",
       "    <tr>\n",
       "      <th>25%</th>\n",
       "      <td>5921.000000</td>\n",
       "      <td>6.000000</td>\n",
       "      <td>3.400000e+06</td>\n",
       "      <td>40.000000</td>\n",
       "      <td>1.000000</td>\n",
       "      <td>2.600000</td>\n",
       "      <td>5.000000</td>\n",
       "      <td>18.600000</td>\n",
       "      <td>2.000000</td>\n",
       "      <td>7.000000</td>\n",
       "      <td>0.000000</td>\n",
       "      <td>18565.000000</td>\n",
       "      <td>9238.000000</td>\n",
       "      <td>0.000000</td>\n",
       "      <td>288.000000</td>\n",
       "      <td>0.000000</td>\n",
       "      <td>293.000000</td>\n",
       "      <td>45.000000</td>\n",
       "    </tr>\n",
       "    <tr>\n",
       "      <th>50%</th>\n",
       "      <td>11850.000000</td>\n",
       "      <td>9.000000</td>\n",
       "      <td>4.646000e+06</td>\n",
       "      <td>52.000000</td>\n",
       "      <td>2.000000</td>\n",
       "      <td>2.650000</td>\n",
       "      <td>9.000000</td>\n",
       "      <td>30.000000</td>\n",
       "      <td>4.000000</td>\n",
       "      <td>9.100000</td>\n",
       "      <td>0.000000</td>\n",
       "      <td>26757.000000</td>\n",
       "      <td>13096.500000</td>\n",
       "      <td>0.000000</td>\n",
       "      <td>455.000000</td>\n",
       "      <td>1.000000</td>\n",
       "      <td>503.000000</td>\n",
       "      <td>95.000000</td>\n",
       "    </tr>\n",
       "    <tr>\n",
       "      <th>75%</th>\n",
       "      <td>17774.000000</td>\n",
       "      <td>14.000000</td>\n",
       "      <td>6.790000e+06</td>\n",
       "      <td>69.700000</td>\n",
       "      <td>3.000000</td>\n",
       "      <td>2.700000</td>\n",
       "      <td>16.000000</td>\n",
       "      <td>42.300000</td>\n",
       "      <td>8.000000</td>\n",
       "      <td>12.000000</td>\n",
       "      <td>1.000000</td>\n",
       "      <td>37273.000000</td>\n",
       "      <td>16285.000000</td>\n",
       "      <td>1.000000</td>\n",
       "      <td>612.000000</td>\n",
       "      <td>1.000000</td>\n",
       "      <td>730.000000</td>\n",
       "      <td>231.000000</td>\n",
       "    </tr>\n",
       "    <tr>\n",
       "      <th>max</th>\n",
       "      <td>23698.000000</td>\n",
       "      <td>50.000000</td>\n",
       "      <td>7.630000e+08</td>\n",
       "      <td>900.000000</td>\n",
       "      <td>19.000000</td>\n",
       "      <td>100.000000</td>\n",
       "      <td>60.000000</td>\n",
       "      <td>409.700000</td>\n",
       "      <td>33.000000</td>\n",
       "      <td>112.000000</td>\n",
       "      <td>5.000000</td>\n",
       "      <td>84869.000000</td>\n",
       "      <td>65968.000000</td>\n",
       "      <td>3.000000</td>\n",
       "      <td>3190.000000</td>\n",
       "      <td>3.000000</td>\n",
       "      <td>1344.000000</td>\n",
       "      <td>1580.000000</td>\n",
       "    </tr>\n",
       "  </tbody>\n",
       "</table>\n",
       "</div>"
      ],
      "text/plain": [
       "              index  total_images    last_price    total_area         rooms  \\\n",
       "count  23565.000000  23565.000000  2.356500e+04  23565.000000  23565.000000   \n",
       "mean   11846.826183      9.878421  6.540058e+06     60.322824      2.070656   \n",
       "std     6842.594114      5.681156  1.091093e+07     35.657060      1.078591   \n",
       "min        0.000000      0.000000  1.219000e+04     12.000000      0.000000   \n",
       "25%     5921.000000      6.000000  3.400000e+06     40.000000      1.000000   \n",
       "50%    11850.000000      9.000000  4.646000e+06     52.000000      2.000000   \n",
       "75%    17774.000000     14.000000  6.790000e+06     69.700000      3.000000   \n",
       "max    23698.000000     50.000000  7.630000e+08    900.000000     19.000000   \n",
       "\n",
       "       ceiling_height  floors_total   living_area         floor  kitchen_area  \\\n",
       "count    23565.000000  23565.000000  21700.000000  23565.000000  21343.000000   \n",
       "mean         2.724530     10.675875     34.454822      5.878124     10.560994   \n",
       "std          0.991026      6.594823     22.045359      4.871485      5.900630   \n",
       "min          1.000000      1.000000      2.000000      1.000000      1.300000   \n",
       "25%          2.600000      5.000000     18.600000      2.000000      7.000000   \n",
       "50%          2.650000      9.000000     30.000000      4.000000      9.100000   \n",
       "75%          2.700000     16.000000     42.300000      8.000000     12.000000   \n",
       "max        100.000000     60.000000    409.700000     33.000000    112.000000   \n",
       "\n",
       "            balcony  airports_nearest  cityCenters_nearest  parks_around3000  \\\n",
       "count  23565.000000      18041.000000         18064.000000      18065.000000   \n",
       "mean       0.593677      28797.082701         14192.656056          0.611569   \n",
       "std        0.960660      12632.499735          8613.348153          0.802088   \n",
       "min        0.000000          0.000000           181.000000          0.000000   \n",
       "25%        0.000000      18565.000000          9238.000000          0.000000   \n",
       "50%        0.000000      26757.000000         13096.500000          0.000000   \n",
       "75%        1.000000      37273.000000         16285.000000          1.000000   \n",
       "max        5.000000      84869.000000         65968.000000          3.000000   \n",
       "\n",
       "       parks_nearest  ponds_around3000  ponds_nearest  days_exposition  \n",
       "count    8030.000000      18065.000000    9036.000000     20394.000000  \n",
       "mean      490.580448          0.769499     518.289509       180.741395  \n",
       "std       341.572956          0.938669     278.009558       219.732782  \n",
       "min         1.000000          0.000000      13.000000         1.000000  \n",
       "25%       288.000000          0.000000     293.000000        45.000000  \n",
       "50%       455.000000          1.000000     503.000000        95.000000  \n",
       "75%       612.000000          1.000000     730.000000       231.000000  \n",
       "max      3190.000000          3.000000    1344.000000      1580.000000  "
      ]
     },
     "execution_count": 22,
     "metadata": {},
     "output_type": "execute_result"
    }
   ],
   "source": [
    "real_estate.describe()"
   ]
  },
  {
   "cell_type": "markdown",
   "metadata": {},
   "source": [
    "<a id='suspicious_values'></a>\n",
    "\n",
    "Сомнения вызывают крайние значения в следующих столбцах:\n",
    "\n",
    "* `ceiling_height` — потолки высотой 1 м и 100 м?\n",
    "* `floors_total` — этажность в 60 этажей у жилого здания?\n",
    "* `airports_nearest` — минимальное расстояние в 0 м?\n",
    "\n",
    "Несколько подозрительно выглядят также минимальные значения в столбцах `total_area`, `rooms`, `living_area` и `kitchen_area`, однако в принципе можно представить крошечные студии или однокомнатные квартиры с такими характеристиками (вот [реальный пример](https://moika78.ru/news/2019-01-14/175808-studiya-v-12-kvadratov-najdena-samaya-malenkaya-kvartira-peterburga/))."
   ]
  },
  {
   "cell_type": "markdown",
   "metadata": {},
   "source": [
    "Начнём с высоты потолков. Построим две диаграммы распределения высот*. На первый диаграмме представим все значения, на второй диаграмме — значения в диапазоне от 0 до 10 м. На оси х можно разместить любой параметр — в данном случае это не имеет значения. Пусть это будет значение столбца `index`.\n",
    "\n",
    "**Мы используем диаграммы распределения, а не «ящик с усами», т.к. минимальное значение высоты потолка неправдоподобно и неизвестно, сколько ещё значений находится в диапазоне ниже нормального. В то же время на диаграмме «ящик с усами» такие значения точно попадут в зону нижнего «уса» и оценить их количество будет сложно. К тому же в случае с высотой потолка нормальные значения известны, и необходимости в статистической оценке их нормальности нет*. "
   ]
  },
  {
   "cell_type": "code",
   "execution_count": 23,
   "metadata": {},
   "outputs": [
    {
     "data": {
      "image/png": "[encoded data removed]",
      "text/plain": [
       "<Figure size 1080x360 with 2 Axes>"
      ]
     },
     "metadata": {
      "needs_background": "light"
     },
     "output_type": "display_data"
    }
   ],
   "source": [
    "import matplotlib.pyplot as plt\n",
    "from matplotlib.ticker import AutoMinorLocator\n",
    "\n",
    "fig, (ax1, ax2) = plt.subplots(nrows=1, ncols=2, figsize=(15,5))\n",
    "\n",
    "ax1.yaxis.set_minor_locator(AutoMinorLocator(4))\n",
    "ax1.yaxis.set_minor_formatter(\"{x:.0f}\")\n",
    "ax1.tick_params(which='both', length=2)\n",
    "ax1.grid(True, which='both', axis='y')\n",
    "ax1.set_title('Распределение значений высоты потолка')\n",
    "ax1.set_xlabel('Индекс объекта')\n",
    "ax1.set_ylabel('Высота потолка в метрах')\n",
    "ax1.plot(real_estate['index'], real_estate['ceiling_height'], 'bo', markersize=3)\n",
    "\n",
    "ax2.set_ylim(0, 10)\n",
    "ax2.yaxis.set_minor_locator(AutoMinorLocator(2))\n",
    "ax2.yaxis.set_minor_formatter(\"{x:.0f}\")\n",
    "ax2.tick_params(which='both', length=2)\n",
    "ax2.set_xlabel('Индекс объекта')\n",
    "ax2.set_ylabel('Высота потолка в метрах')\n",
    "ax2.grid(True, which='both', axis='y')\n",
    "ax2.set_title('Распределение значений высоты потолка от 0 до 10 м')\n",
    "ax2.plot(real_estate['index'], real_estate['ceiling_height'], 'bo', markersize=2);"
   ]
  },
  {
   "cell_type": "markdown",
   "metadata": {},
   "source": [
    "Анализируя эти диаграммы, можно сделать следующие выводы:\n",
    "\n",
    "1. Подавляющее большинство значений высоты потолка «нормальные», т.е. попадают в диапазон от 2 до 4 м.\n",
    "\n",
    "\n",
    "2. Часть значений выглядит довольно необычно, но тоже в пределах нормы. Так, потолок высотой от 5 до 15 м — это, конечно, много, но для пентхауса или старинного особняка в принципе возможно.\n",
    "\n",
    "\n",
    "3. Значения высоты в диапазоне от 15 до 35 м выглядят уже неправдоподобно. Однако тот факт, что они формируют более или менее определённую полосу на первой диаграмме, можно предположить, что их появление связано с ошибкой в использовании десятичного разделителя. Вполне возможно, что некоторые владельцы по ошибке не поставили запятую или сдвинули её вправо, и вместо 2,7 метров получилось 27 метров. Такие значения мы исправим, домножив на 0,1.\n",
    "\n",
    "\n",
    "4. Значения высоты менее 2 м и более 35 м (такое значение только одно — 100 м) похожи на неисправимые ошибки. К счастью, таких высот совсем немного, и мы можем безболезненно удалить их.\n",
    "\n",
    "Избавимся от артефактов в столбце `ceiling_height` и сразу проверим результат:"
   ]
  },
  {
   "cell_type": "code",
   "execution_count": 24,
   "metadata": {},
   "outputs": [
    {
     "data": {
      "image/png": "[encoded data removed]",
      "text/plain": [
       "<Figure size 576x360 with 1 Axes>"
      ]
     },
     "metadata": {
      "needs_background": "light"
     },
     "output_type": "display_data"
    }
   ],
   "source": [
    "real_estate['ceiling_height'].where(\n",
    "    (real_estate['ceiling_height'] < 15) | (real_estate['ceiling_height'] > 35),\n",
    "    real_estate['ceiling_height'] * 0.1,\n",
    "    inplace=True)\n",
    "\n",
    "real_estate.drop(\n",
    "    labels=real_estate.query('ceiling_height < 2 or ceiling_height > 15').index.tolist(),\n",
    "    axis=0,\n",
    "    inplace=True)\n",
    "\n",
    "fig, ax1 = plt.subplots(figsize=(8,5))\n",
    "\n",
    "ax1.yaxis.set_minor_locator(AutoMinorLocator(2))\n",
    "ax1.yaxis.set_minor_formatter(\"{x:.0f}\")\n",
    "ax1.tick_params(which='both', length=2)\n",
    "ax1.grid(True, which='both', axis='y')\n",
    "ax1.set_title('Распределение значений высоты потолка')\n",
    "ax1.set_xlabel('Индекс объекта')\n",
    "ax1.set_ylabel('Высота потолка в метрах')\n",
    "ax1.plot(real_estate['index'], real_estate['ceiling_height'], 'bo', markersize=3);"
   ]
  },
  {
   "cell_type": "markdown",
   "metadata": {},
   "source": [
    "Артефакты в столбце `ceiling_height` устранены успешно."
   ]
  },
  {
   "cell_type": "markdown",
   "metadata": {},
   "source": [
    "Рассмотрим необычные значения в столбце `floors_total`. Здесь удобнее может оказаться диаграмма «ящик с усами», поскольку в данном случае минимальное значение (1 этаж) вполне правдоподобно и тот факт, что оно покрывается межквартильным размахом, умноженным на 1,5, никак не помешает анализу."
   ]
  },
  {
   "cell_type": "code",
   "execution_count": 25,
   "metadata": {
    "scrolled": true
   },
   "outputs": [
    {
     "data": {
      "image/png": "[encoded data removed]",
      "text/plain": [
       "<Figure size 360x360 with 1 Axes>"
      ]
     },
     "metadata": {
      "needs_background": "light"
     },
     "output_type": "display_data"
    }
   ],
   "source": [
    "real_estate.boxplot('floors_total', figsize=(5,5))\n",
    "plt.ylabel('Количество этажей в здании')\n",
    "plt.show();"
   ]
  },
  {
   "cell_type": "markdown",
   "metadata": {},
   "source": [
    "Подозрения внушают значения больше 37 (именно [такова](https://spbhomes.ru/science/samye-vysokie-zdaniya-v-sankt-peterburge/) максимальная этажность жилого здания в Петербурге). Удалим их и проверим результат:"
   ]
  },
  {
   "cell_type": "code",
   "execution_count": 26,
   "metadata": {},
   "outputs": [
    {
     "data": {
      "image/png": "[encoded data removed]",
      "text/plain": [
       "<Figure size 360x360 with 1 Axes>"
      ]
     },
     "metadata": {
      "needs_background": "light"
     },
     "output_type": "display_data"
    }
   ],
   "source": [
    "real_estate.drop(labels=real_estate.query('floors_total > 37').index.tolist(),\n",
    "    axis=0,\n",
    "    inplace=True)\n",
    "\n",
    "real_estate.boxplot('floors_total', figsize=(5,5))\n",
    "plt.ylabel('Количество этажей в здании')\n",
    "plt.show();"
   ]
  },
  {
   "cell_type": "markdown",
   "metadata": {},
   "source": [
    "Артефакты в столбце `floors_total` устранены."
   ]
  },
  {
   "cell_type": "markdown",
   "metadata": {},
   "source": [
    "Теперь разберёмся с аномалиями в столбце `airports_nearest`. Посмотрим, много ли объектов находятся на расстоянии менее 1 км до аэропорта."
   ]
  },
  {
   "cell_type": "code",
   "execution_count": 27,
   "metadata": {},
   "outputs": [
    {
     "name": "stdout",
     "output_type": "stream",
     "text": [
      "Количество объявлений об объектах, находящихся на расстоянии менее 1 км от аэропорта:  1\n"
     ]
    }
   ],
   "source": [
    "print('Количество объявлений об объектах, находящихся на расстоянии менее 1 км от аэропорта: ',\n",
    "      len(real_estate.query('airports_nearest < 1000')))"
   ]
  },
  {
   "cell_type": "markdown",
   "metadata": {},
   "source": [
    "Видимо, это одно объявление — результат какого-то сбоя при расчёте расстояния до аэропорта. Удалим его и проверим результат."
   ]
  },
  {
   "cell_type": "code",
   "execution_count": 28,
   "metadata": {},
   "outputs": [
    {
     "name": "stdout",
     "output_type": "stream",
     "text": [
      "Количество объявлений об объектах, находящихся на расстоянии менее 1 км от аэропорта:  0\n"
     ]
    }
   ],
   "source": [
    "real_estate.drop(\n",
    "    labels=real_estate.query('airports_nearest < 1000').index.tolist(),\n",
    "    axis=0,\n",
    "    inplace=True)\n",
    "\n",
    "print('Количество объявлений об объектах, находящихся на расстоянии менее 1 км от аэропорта: ',\n",
    "      len(real_estate.query('airports_nearest < 1000')))"
   ]
  },
  {
   "cell_type": "markdown",
   "metadata": {},
   "source": [
    "На этом обработка артефактов завершена."
   ]
  },
  {
   "cell_type": "markdown",
   "metadata": {},
   "source": [
    "**Промежуточные выводы**"
   ]
  },
  {
   "cell_type": "markdown",
   "metadata": {},
   "source": [
    "В ходе предобработки мы:\n",
    "\n",
    "* устранили часть пропусков, удалив их или заполнив; значительное количество пропусков при этом осталось, поскольку исключить их невозможно без снижения качества данных;\n",
    "\n",
    "* изменили типы данных в трёх столбцах для удобства дальнейшей работы;\n",
    "\n",
    "* устранили неявные дубликаты в столбце `locality_name`;\n",
    "\n",
    "* устранили небольшое количество артефактов в столбцах `ceiling_height`, `floors_total` и `airports_nearest`."
   ]
  },
  {
   "cell_type": "markdown",
   "metadata": {},
   "source": [
    "## Расчёты и добавление результатов в таблицу"
   ]
  },
  {
   "cell_type": "markdown",
   "metadata": {},
   "source": [
    "В соответствии с заданием проекта в таблицу нужно добавить столбцы со следующим данными:\n",
    "\n",
    "* цена одного квадратного метра — `square_meter_price`;\n",
    "* день недели публикации объявления (0 — понедельник, 1 — вторник и так далее) — `exposition_since_day_week`;\n",
    "* месяц публикации объявления — `exposition_since_month`;\n",
    "* год публикации объявления — `exposition_since_year`;\n",
    "* тип этажа квартиры (значения — «‎первый», «последний», «другой») — `floor_type`;\n",
    "* расстояние до центра города в километрах (в км и округлённое до целых значений) — `cityCenters_nearest_km`.\n",
    "\n",
    "Также для удобства введём столбец `last_price_mln`, в котором цена будет представлена в миллионах рублей.\n",
    "\n",
    "Проведём необходимые операции. Столбец с типом этажа квартиры внесём отдельно."
   ]
  },
  {
   "cell_type": "code",
   "execution_count": 29,
   "metadata": {},
   "outputs": [],
   "source": [
    "real_estate['square_meter_price'] = real_estate['last_price'] / real_estate['total_area']\n",
    "\n",
    "real_estate['exposition_since_day_week'] = real_estate['first_day_exposition'].dt.weekday\n",
    "real_estate['exposition_since_month'] = real_estate['first_day_exposition'].dt.month\n",
    "real_estate['exposition_since_year'] = real_estate['first_day_exposition'].dt.year\n",
    "\n",
    "real_estate['cityCenters_nearest_km'] = round(real_estate['cityCenters_nearest'] / 1000)\n",
    "\n",
    "real_estate['last_price_mln'] = real_estate['last_price'] / 1000000"
   ]
  },
  {
   "cell_type": "markdown",
   "metadata": {},
   "source": [
    "Для категоризации этажей напишем функцию `floor_type` и на всякий случай проверим её на тестовом датафрейме."
   ]
  },
  {
   "cell_type": "code",
   "execution_count": 30,
   "metadata": {},
   "outputs": [
    {
     "data": {
      "text/html": [
       "<div>\n",
       "<style scoped>\n",
       "    .dataframe tbody tr th:only-of-type {\n",
       "        vertical-align: middle;\n",
       "    }\n",
       "\n",
       "    .dataframe tbody tr th {\n",
       "        vertical-align: top;\n",
       "    }\n",
       "\n",
       "    .dataframe thead th {\n",
       "        text-align: right;\n",
       "    }\n",
       "</style>\n",
       "<table border=\"1\" class=\"dataframe\">\n",
       "  <thead>\n",
       "    <tr style=\"text-align: right;\">\n",
       "      <th></th>\n",
       "      <th>floor</th>\n",
       "      <th>floors_total</th>\n",
       "      <th>floor_type</th>\n",
       "    </tr>\n",
       "  </thead>\n",
       "  <tbody>\n",
       "    <tr>\n",
       "      <th>0</th>\n",
       "      <td>3</td>\n",
       "      <td>4</td>\n",
       "      <td>другой</td>\n",
       "    </tr>\n",
       "    <tr>\n",
       "      <th>1</th>\n",
       "      <td>1</td>\n",
       "      <td>2</td>\n",
       "      <td>первый</td>\n",
       "    </tr>\n",
       "    <tr>\n",
       "      <th>2</th>\n",
       "      <td>5</td>\n",
       "      <td>5</td>\n",
       "      <td>последний</td>\n",
       "    </tr>\n",
       "    <tr>\n",
       "      <th>3</th>\n",
       "      <td>1</td>\n",
       "      <td>1</td>\n",
       "      <td>первый</td>\n",
       "    </tr>\n",
       "  </tbody>\n",
       "</table>\n",
       "</div>"
      ],
      "text/plain": [
       "   floor  floors_total floor_type\n",
       "0      3             4     другой\n",
       "1      1             2     первый\n",
       "2      5             5  последний\n",
       "3      1             1     первый"
      ]
     },
     "execution_count": 30,
     "metadata": {},
     "output_type": "execute_result"
    }
   ],
   "source": [
    "def floor_type(row):\n",
    "    if row['floor'] == 1:\n",
    "        return 'первый'\n",
    "    if row['floor'] == row['floors_total']:\n",
    "        return 'последний'\n",
    "    return 'другой'\n",
    "\n",
    "test_df = pd.DataFrame({'floor': [3, 1, 5, 1],\n",
    "                       'floors_total': [4, 2, 5, 1]})\n",
    "test_df['floor_type'] = test_df.apply(floor_type, axis=1)\n",
    "\n",
    "test_df"
   ]
  },
  {
   "cell_type": "markdown",
   "metadata": {},
   "source": [
    "Функция работает корректно, можно применять её к `real_estate`. Сразу же посмотрим результат добавления новых столбцов."
   ]
  },
  {
   "cell_type": "code",
   "execution_count": 31,
   "metadata": {},
   "outputs": [
    {
     "data": {
      "text/html": [
       "<div>\n",
       "<style scoped>\n",
       "    .dataframe tbody tr th:only-of-type {\n",
       "        vertical-align: middle;\n",
       "    }\n",
       "\n",
       "    .dataframe tbody tr th {\n",
       "        vertical-align: top;\n",
       "    }\n",
       "\n",
       "    .dataframe thead th {\n",
       "        text-align: right;\n",
       "    }\n",
       "</style>\n",
       "<table border=\"1\" class=\"dataframe\">\n",
       "  <thead>\n",
       "    <tr style=\"text-align: right;\">\n",
       "      <th></th>\n",
       "      <th>index</th>\n",
       "      <th>total_images</th>\n",
       "      <th>last_price</th>\n",
       "      <th>total_area</th>\n",
       "      <th>first_day_exposition</th>\n",
       "      <th>rooms</th>\n",
       "      <th>ceiling_height</th>\n",
       "      <th>floors_total</th>\n",
       "      <th>living_area</th>\n",
       "      <th>floor</th>\n",
       "      <th>is_apartment</th>\n",
       "      <th>studio</th>\n",
       "      <th>open_plan</th>\n",
       "      <th>kitchen_area</th>\n",
       "      <th>balcony</th>\n",
       "      <th>locality_name</th>\n",
       "      <th>airports_nearest</th>\n",
       "      <th>cityCenters_nearest</th>\n",
       "      <th>parks_around3000</th>\n",
       "      <th>parks_nearest</th>\n",
       "      <th>ponds_around3000</th>\n",
       "      <th>ponds_nearest</th>\n",
       "      <th>days_exposition</th>\n",
       "      <th>square_meter_price</th>\n",
       "      <th>exposition_since_day_week</th>\n",
       "      <th>exposition_since_month</th>\n",
       "      <th>exposition_since_year</th>\n",
       "      <th>cityCenters_nearest_km</th>\n",
       "      <th>last_price_mln</th>\n",
       "      <th>floor_type</th>\n",
       "    </tr>\n",
       "  </thead>\n",
       "  <tbody>\n",
       "    <tr>\n",
       "      <th>0</th>\n",
       "      <td>0</td>\n",
       "      <td>20</td>\n",
       "      <td>13000000.0</td>\n",
       "      <td>108.0</td>\n",
       "      <td>2019-03-07</td>\n",
       "      <td>3</td>\n",
       "      <td>2.70</td>\n",
       "      <td>16</td>\n",
       "      <td>51.0</td>\n",
       "      <td>8</td>\n",
       "      <td>False</td>\n",
       "      <td>False</td>\n",
       "      <td>False</td>\n",
       "      <td>25.0</td>\n",
       "      <td>0</td>\n",
       "      <td>Санкт-Петербург</td>\n",
       "      <td>18863.0</td>\n",
       "      <td>16028.0</td>\n",
       "      <td>1.0</td>\n",
       "      <td>482.0</td>\n",
       "      <td>2.0</td>\n",
       "      <td>755.0</td>\n",
       "      <td>NaN</td>\n",
       "      <td>120370.370370</td>\n",
       "      <td>3</td>\n",
       "      <td>3</td>\n",
       "      <td>2019</td>\n",
       "      <td>16.0</td>\n",
       "      <td>13.000</td>\n",
       "      <td>другой</td>\n",
       "    </tr>\n",
       "    <tr>\n",
       "      <th>1</th>\n",
       "      <td>1</td>\n",
       "      <td>7</td>\n",
       "      <td>3350000.0</td>\n",
       "      <td>40.4</td>\n",
       "      <td>2018-12-04</td>\n",
       "      <td>1</td>\n",
       "      <td>2.65</td>\n",
       "      <td>11</td>\n",
       "      <td>18.6</td>\n",
       "      <td>1</td>\n",
       "      <td>False</td>\n",
       "      <td>False</td>\n",
       "      <td>False</td>\n",
       "      <td>11.0</td>\n",
       "      <td>2</td>\n",
       "      <td>поселок Шушары</td>\n",
       "      <td>12817.0</td>\n",
       "      <td>18603.0</td>\n",
       "      <td>0.0</td>\n",
       "      <td>NaN</td>\n",
       "      <td>0.0</td>\n",
       "      <td>NaN</td>\n",
       "      <td>81.0</td>\n",
       "      <td>82920.792079</td>\n",
       "      <td>1</td>\n",
       "      <td>12</td>\n",
       "      <td>2018</td>\n",
       "      <td>19.0</td>\n",
       "      <td>3.350</td>\n",
       "      <td>первый</td>\n",
       "    </tr>\n",
       "    <tr>\n",
       "      <th>2</th>\n",
       "      <td>2</td>\n",
       "      <td>10</td>\n",
       "      <td>5196000.0</td>\n",
       "      <td>56.0</td>\n",
       "      <td>2015-08-20</td>\n",
       "      <td>2</td>\n",
       "      <td>2.65</td>\n",
       "      <td>5</td>\n",
       "      <td>34.3</td>\n",
       "      <td>4</td>\n",
       "      <td>False</td>\n",
       "      <td>False</td>\n",
       "      <td>False</td>\n",
       "      <td>8.3</td>\n",
       "      <td>0</td>\n",
       "      <td>Санкт-Петербург</td>\n",
       "      <td>21741.0</td>\n",
       "      <td>13933.0</td>\n",
       "      <td>1.0</td>\n",
       "      <td>90.0</td>\n",
       "      <td>2.0</td>\n",
       "      <td>574.0</td>\n",
       "      <td>558.0</td>\n",
       "      <td>92785.714286</td>\n",
       "      <td>3</td>\n",
       "      <td>8</td>\n",
       "      <td>2015</td>\n",
       "      <td>14.0</td>\n",
       "      <td>5.196</td>\n",
       "      <td>другой</td>\n",
       "    </tr>\n",
       "    <tr>\n",
       "      <th>3</th>\n",
       "      <td>3</td>\n",
       "      <td>0</td>\n",
       "      <td>64900000.0</td>\n",
       "      <td>159.0</td>\n",
       "      <td>2015-07-24</td>\n",
       "      <td>3</td>\n",
       "      <td>2.65</td>\n",
       "      <td>14</td>\n",
       "      <td>NaN</td>\n",
       "      <td>9</td>\n",
       "      <td>False</td>\n",
       "      <td>False</td>\n",
       "      <td>False</td>\n",
       "      <td>NaN</td>\n",
       "      <td>0</td>\n",
       "      <td>Санкт-Петербург</td>\n",
       "      <td>28098.0</td>\n",
       "      <td>6800.0</td>\n",
       "      <td>2.0</td>\n",
       "      <td>84.0</td>\n",
       "      <td>3.0</td>\n",
       "      <td>234.0</td>\n",
       "      <td>424.0</td>\n",
       "      <td>408176.100629</td>\n",
       "      <td>4</td>\n",
       "      <td>7</td>\n",
       "      <td>2015</td>\n",
       "      <td>7.0</td>\n",
       "      <td>64.900</td>\n",
       "      <td>другой</td>\n",
       "    </tr>\n",
       "    <tr>\n",
       "      <th>4</th>\n",
       "      <td>4</td>\n",
       "      <td>2</td>\n",
       "      <td>10000000.0</td>\n",
       "      <td>100.0</td>\n",
       "      <td>2018-06-19</td>\n",
       "      <td>2</td>\n",
       "      <td>3.03</td>\n",
       "      <td>14</td>\n",
       "      <td>32.0</td>\n",
       "      <td>13</td>\n",
       "      <td>False</td>\n",
       "      <td>False</td>\n",
       "      <td>False</td>\n",
       "      <td>41.0</td>\n",
       "      <td>0</td>\n",
       "      <td>Санкт-Петербург</td>\n",
       "      <td>31856.0</td>\n",
       "      <td>8098.0</td>\n",
       "      <td>2.0</td>\n",
       "      <td>112.0</td>\n",
       "      <td>1.0</td>\n",
       "      <td>48.0</td>\n",
       "      <td>121.0</td>\n",
       "      <td>100000.000000</td>\n",
       "      <td>1</td>\n",
       "      <td>6</td>\n",
       "      <td>2018</td>\n",
       "      <td>8.0</td>\n",
       "      <td>10.000</td>\n",
       "      <td>другой</td>\n",
       "    </tr>\n",
       "  </tbody>\n",
       "</table>\n",
       "</div>"
      ],
      "text/plain": [
       "   index  total_images  last_price  total_area first_day_exposition  rooms  \\\n",
       "0      0            20  13000000.0       108.0           2019-03-07      3   \n",
       "1      1             7   3350000.0        40.4           2018-12-04      1   \n",
       "2      2            10   5196000.0        56.0           2015-08-20      2   \n",
       "3      3             0  64900000.0       159.0           2015-07-24      3   \n",
       "4      4             2  10000000.0       100.0           2018-06-19      2   \n",
       "\n",
       "   ceiling_height  floors_total  living_area  floor  is_apartment  studio  \\\n",
       "0            2.70            16         51.0      8         False   False   \n",
       "1            2.65            11         18.6      1         False   False   \n",
       "2            2.65             5         34.3      4         False   False   \n",
       "3            2.65            14          NaN      9         False   False   \n",
       "4            3.03            14         32.0     13         False   False   \n",
       "\n",
       "   open_plan  kitchen_area  balcony    locality_name  airports_nearest  \\\n",
       "0      False          25.0        0  Санкт-Петербург           18863.0   \n",
       "1      False          11.0        2   поселок Шушары           12817.0   \n",
       "2      False           8.3        0  Санкт-Петербург           21741.0   \n",
       "3      False           NaN        0  Санкт-Петербург           28098.0   \n",
       "4      False          41.0        0  Санкт-Петербург           31856.0   \n",
       "\n",
       "   cityCenters_nearest  parks_around3000  parks_nearest  ponds_around3000  \\\n",
       "0              16028.0               1.0          482.0               2.0   \n",
       "1              18603.0               0.0            NaN               0.0   \n",
       "2              13933.0               1.0           90.0               2.0   \n",
       "3               6800.0               2.0           84.0               3.0   \n",
       "4               8098.0               2.0          112.0               1.0   \n",
       "\n",
       "   ponds_nearest  days_exposition  square_meter_price  \\\n",
       "0          755.0              NaN       120370.370370   \n",
       "1            NaN             81.0        82920.792079   \n",
       "2          574.0            558.0        92785.714286   \n",
       "3          234.0            424.0       408176.100629   \n",
       "4           48.0            121.0       100000.000000   \n",
       "\n",
       "   exposition_since_day_week  exposition_since_month  exposition_since_year  \\\n",
       "0                          3                       3                   2019   \n",
       "1                          1                      12                   2018   \n",
       "2                          3                       8                   2015   \n",
       "3                          4                       7                   2015   \n",
       "4                          1                       6                   2018   \n",
       "\n",
       "   cityCenters_nearest_km  last_price_mln floor_type  \n",
       "0                    16.0          13.000     другой  \n",
       "1                    19.0           3.350     первый  \n",
       "2                    14.0           5.196     другой  \n",
       "3                     7.0          64.900     другой  \n",
       "4                     8.0          10.000     другой  "
      ]
     },
     "execution_count": 31,
     "metadata": {},
     "output_type": "execute_result"
    }
   ],
   "source": [
    "real_estate['floor_type'] = real_estate.apply(floor_type, axis=1)\n",
    "\n",
    "real_estate.head()"
   ]
  },
  {
   "cell_type": "markdown",
   "metadata": {},
   "source": [
    "Добавление столбцов прошло успешно."
   ]
  },
  {
   "cell_type": "markdown",
   "metadata": {},
   "source": [
    "<div class=\"alert alert-block alert-success\">✔️\n",
    "    \n",
    "\n",
    "__Комментарий от ревьюера №1__\n",
    "\n",
    "Этот раздел выполнен качественно\n",
    "</div>"
   ]
  },
  {
   "cell_type": "markdown",
   "metadata": {},
   "source": [
    "## Исследовательский анализ данных"
   ]
  },
  {
   "cell_type": "markdown",
   "metadata": {},
   "source": [
    "### Основные параметры объектов"
   ]
  },
  {
   "cell_type": "markdown",
   "metadata": {},
   "source": [
    "По заданию необходимо изучить следующие параметры:\n",
    "\n",
    "* общая площадь — `total_area`;\n",
    "* жилая площадь — `living_area`;\n",
    "* площадь кухни — `kitchen_area`;\n",
    "* цена объекта — `last_price`;\n",
    "* количество комнат — `rooms`;\n",
    "* высота потолков — `ceiling_height`;\n",
    "* этаж квартиры — `floor`;\n",
    "* тип этажа квартиры («первый», «последний», «другой») — `floor_type`;\n",
    "* общее количество этажей в доме — `floors_total`;\n",
    "* расстояние до центра города в метрах — `cityCenters_nearest`;\n",
    "* расстояние до ближайшего аэропорта — `airports_nearest`;\n",
    "* расстояние до ближайшего парка — `parks_nearest`;\n",
    "* день публикации объявления — `exposition_since_day_week`;\n",
    "* месяц публикации объявления — `exposition_since_month`.\n",
    "\n",
    "Начнём с площадей. Построим гистограммы по столбцам `total_area`, `living_area` и `total_area`:"
   ]
  },
  {
   "cell_type": "code",
   "execution_count": 32,
   "metadata": {},
   "outputs": [
    {
     "data": {
      "image/png": "[encoded data removed]",
      "text/plain": [
       "<Figure size 1080x360 with 3 Axes>"
      ]
     },
     "metadata": {
      "needs_background": "light"
     },
     "output_type": "display_data"
    }
   ],
   "source": [
    "from matplotlib.ticker import MultipleLocator\n",
    "\n",
    "fig, (ax1, ax2, ax3) = plt.subplots(nrows=1, ncols=3, figsize=(15,5))\n",
    "\n",
    "ax1.xaxis.set_major_locator(MultipleLocator(10))\n",
    "ax1.xaxis.set_minor_locator(AutoMinorLocator(2))\n",
    "ax1.grid(True, which='both')\n",
    "ax1.set_title('Общая площадь')\n",
    "ax1.set_xlabel('м²')\n",
    "ax1.hist(real_estate['total_area'],\n",
    "         bins=30,\n",
    "         range=(0, real_estate['total_area'].quantile(0.95)));\n",
    "\n",
    "ax2.xaxis.set_major_locator(MultipleLocator(5))\n",
    "ax2.grid(True, which='both')\n",
    "ax2.set_title('Жилая площадь')\n",
    "ax2.set_xlabel('м²')\n",
    "ax2.hist(real_estate['living_area'],\n",
    "         bins=30,\n",
    "         range=(0, real_estate['living_area'].quantile(0.95)));\n",
    "\n",
    "ax3.xaxis.set_major_locator(MultipleLocator(2.5))\n",
    "ax3.grid(True)\n",
    "ax3.set_title('Площадь кухни')\n",
    "ax3.set_xlabel('м²')\n",
    "ax3.hist(real_estate['kitchen_area'],\n",
    "         bins=30,\n",
    "         range=(0, real_estate['kitchen_area'].quantile(0.95)));"
   ]
  },
  {
   "cell_type": "markdown",
   "metadata": {},
   "source": [
    "По этим гистограммам можно сделать следующие выводы:\n",
    "\n",
    "*Общая площадь* (`total_area`) — площадь основной массы квартир попадает в диапазон от 30 до 75 м². Это вполне ожидаемое распределение для городского жилья. Небольшой пик, завершающий плато от 45 до 60 м², соответствует, вероятно, наиболее распространённому значению площади трёхкомнатных квартир. А основной пик — это, видимо, наиболее часто встречающаяся площадь двухкомнатных квартир.\n",
    "\n",
    "*Жилая площадь* `(living_area`) — жилая площадь большинства квартир составляет от 15 до 45 м², что опять же ожидаемо. На гистограмме видны два пика: первый, по всей видимости, сформирован квартирами-студиями и однушками, а во второй попадают двушки (как будто бы есть ещё третий небольшой пик, который мы бы связали с трёшками). Наличие провала между ними, должно быть, связано с тем, что площадь жилой комнаты не может быть менее 8 м². Это добавляет распределению площадей некоторую степень дискретности: непрерывность в данном случае может обеспечиваться лишь за счёт относительно бо́льшей площади жилой комнаты в однушках и студиях.\n",
    "\n",
    "*Площадь кухни* (`kitchen_area`) — распределение площадей кухни выглядит правдоподобно: большая часть значений находится в диапазоне от 6 до 12 м². Наличие на гистограмме большого количества пиков связано главным образом с тем, что вариативность значений площади кухни относительно мала, а число корзин на гистограмме, наоборот, относительно велико, так что группы типичных значений видны очень отчётливо.  "
   ]
  },
  {
   "cell_type": "markdown",
   "metadata": {},
   "source": [
    "Построим гистограммы для столбцов `last_price`, `rooms` и `ceiling_height`:"
   ]
  },
  {
   "cell_type": "code",
   "execution_count": 33,
   "metadata": {},
   "outputs": [
    {
     "data": {
      "image/png": "[encoded data removed]",
      "text/plain": [
       "<Figure size 1080x360 with 3 Axes>"
      ]
     },
     "metadata": {
      "needs_background": "light"
     },
     "output_type": "display_data"
    }
   ],
   "source": [
    "fig, (ax1, ax2, ax3) = plt.subplots(nrows=1, ncols=3, figsize=(15,5))\n",
    "\n",
    "ax1.xaxis.set_minor_locator(AutoMinorLocator(2))\n",
    "ax1.grid(True, which='both')\n",
    "ax1.set_title('Цена объекта')\n",
    "ax1.set_xlabel('млн руб.')\n",
    "ax1.hist(real_estate['last_price_mln'],\n",
    "         bins='auto',\n",
    "         range=(0, real_estate['last_price_mln'].quantile(0.95)));\n",
    "\n",
    "ax2.xaxis.set_major_locator(MultipleLocator(1))\n",
    "ax2.grid(True)\n",
    "ax2.set_title('Количество комнат')\n",
    "ax2.hist(real_estate['rooms'],\n",
    "         bins=20,\n",
    "         range=(0, 10));\n",
    "\n",
    "ax3.xaxis.set_major_locator(MultipleLocator(0.1))\n",
    "ax3.grid(True)\n",
    "ax3.set_title('Высота потолков')\n",
    "ax3.set_xlabel('м')\n",
    "ax3.hist(real_estate['ceiling_height'],\n",
    "         bins=20,\n",
    "         range=(2, real_estate['ceiling_height'].quantile(0.95)));"
   ]
  },
  {
   "cell_type": "markdown",
   "metadata": {},
   "source": [
    "*Цена* (`last_price`) — значения цены объектов распределены нормально. Основная масса значений лежит в диапазоне от 2 до 6,5 млн рублей, самое частое значение — около 3,5—4 млн. \"Хвост\" у распределения довольно длинный, что, впрочем, неудивительно: ведь речь идёт не о физической характеристике, а о довольно-таки эфимерной цене.\n",
    "\n",
    "*Количество комнат* (`rooms`) — большинство квартир — это однушки и двушки, много также трёшек. Распределение количества комнат в целом соответствует выдвинутым нами выше гипотезам о происхождении пиков на гистограммах площадей квартир.\n",
    "\n",
    "*Высота потолков* (`ceiling_height`) — на графике высоты заметны два относительно высоких пика и один невысокий. Пик в районе 2,4–2,5 м [можно связать](http://propotoloks.ru/vysota-potolka-v-hrushhevke-standarty-po-tipam-domov/#i) с квартирами, находящимися в постройках хрущёвской эпохи. Второй пик между 2,6 и 2,7 м — это более поздняя застройка («брежневки» и современное бюджетное строительство). Третий, небольшой пик — это, скорее всего, «сталинки», а также современное строительство классом повыше «эконома». Доходные дома XIX века вряд ли самостоятельно представлены на гистограмме, поскольку в них высота потолка обычно разная на разных этажах."
   ]
  },
  {
   "cell_type": "markdown",
   "metadata": {},
   "source": [
    "Настал черёд гистограмм по столбцам `floor`, `floor_type` и `floors_total`."
   ]
  },
  {
   "cell_type": "code",
   "execution_count": 34,
   "metadata": {},
   "outputs": [
    {
     "data": {
      "image/png": "[encoded data removed]",
      "text/plain": [
       "<Figure size 1080x360 with 3 Axes>"
      ]
     },
     "metadata": {
      "needs_background": "light"
     },
     "output_type": "display_data"
    }
   ],
   "source": [
    "fig, (ax1, ax2, ax3) = plt.subplots(nrows=1, ncols=3, figsize=(15,5))\n",
    "\n",
    "ax1.xaxis.set_major_locator(MultipleLocator(2))\n",
    "ax1.xaxis.set_minor_locator(AutoMinorLocator(2))\n",
    "ax1.grid(True)\n",
    "ax1.set_title('Этаж')\n",
    "ax1.set_xlabel('номер этажа')\n",
    "ax1.hist(real_estate['floor'],\n",
    "         bins='auto',\n",
    "         range=(1,25));\n",
    "\n",
    "ax2.grid(True)\n",
    "ax2.set_title('Тип этажа')\n",
    "ax2.hist(real_estate['floor_type'],\n",
    "         bins='auto');\n",
    "\n",
    "ax3.xaxis.set_major_locator(MultipleLocator(2))\n",
    "ax3.xaxis.set_minor_locator(AutoMinorLocator(2))\n",
    "ax3.grid(True)\n",
    "ax3.set_title('Количество этажей')\n",
    "ax3.hist(real_estate['floors_total'],\n",
    "         bins='auto');"
   ]
  },
  {
   "cell_type": "markdown",
   "metadata": {},
   "source": [
    "*Этаж* (`floor`) — в основном продаются квартиры, находящиеся на этаже не выше 5 (а квартиры на этажах выше 9 встречаются и вовсе редко). Это неудивительно, ведь в Яндекс.Недвижимости представлен вторичный рынок недвижимости, а большая часть «вторички» — это старый жилой фонд, этажность в Петербурге которого составляет обычно 5 или 9 этажей.\n",
    "\n",
    "*Тип этажа* (`floor_type`) — большая часть продающихся квартир находится не на первом и не на последнем этаже, что является ещё одним свидетельством нормальности нашей совокупности. Интересно, что квартир на последнем этаже продаётся чуть больше, чем на первом.\n",
    "\n",
    "*Количество этажей* (`floors_total`) — на гистограмме видно несколько пиков, на основании которых можно сделать выводы о типичной этажности жилого фонда в Петербурге и ближайших поселениях-спутниках*. Самый частый вид домов — пятиэтажки, следом за ними по частоте встречаемости идут девятиэтажки. Другие важные группы — 4-этажные, 12-этажные, 16-этажные и 25-этажные дома.\n",
    "\n",
    "**этажность домов в населённых пунктах, не являющихся ближайшими поселениями-спутниками Петербурга, не имеет большого значения. Это будет продемонстрировано в [конце параграфа](#additional).*"
   ]
  },
  {
   "cell_type": "markdown",
   "metadata": {},
   "source": [
    "Построим гистограммы по столбцам расстояний (`cityCenters_nearest`, `airports_nearest`, `parks_nearest`):"
   ]
  },
  {
   "cell_type": "code",
   "execution_count": 35,
   "metadata": {},
   "outputs": [
    {
     "data": {
      "image/png": "[encoded data removed]",
      "text/plain": [
       "<Figure size 1080x360 with 3 Axes>"
      ]
     },
     "metadata": {
      "needs_background": "light"
     },
     "output_type": "display_data"
    }
   ],
   "source": [
    "fig, (ax1, ax2, ax3) = plt.subplots(nrows=1, ncols=3, figsize=(15,5))\n",
    "\n",
    "ax1.xaxis.set_major_locator(MultipleLocator(5))\n",
    "ax1.grid(True)\n",
    "ax1.set_title('Расстояние до центра города')\n",
    "ax1.set_xlabel('км')\n",
    "ax1.hist(real_estate['cityCenters_nearest'] / 1000,\n",
    "         bins='auto');\n",
    "\n",
    "ax2.xaxis.set_major_locator(MultipleLocator(5))\n",
    "ax2.grid(True)\n",
    "ax2.set_title('Расстояние до аэропорта')\n",
    "ax2.set_xlabel('км')\n",
    "ax2.hist(real_estate['airports_nearest'] / 1000,\n",
    "         bins=50);\n",
    "\n",
    "ax3.xaxis.set_minor_locator(AutoMinorLocator(2))\n",
    "ax3.grid(True, which='both')\n",
    "ax3.set_title('Расстояние до ближайшего парка')\n",
    "ax3.set_xlabel('м')\n",
    "ax3.hist(real_estate['parks_nearest'],\n",
    "         bins='auto');"
   ]
  },
  {
   "cell_type": "markdown",
   "metadata": {},
   "source": [
    "*Расстояние до центра города* (`cityCenters_nearest`) — большая часть продающихся квартир находится на расстоянии не более 20 км от центра города. Заметные на гистограмме пики, вероятно, соответсвуют различным районам жилой застройки.\n",
    "\n",
    "*Расстояние до аэропорта* (`airports_nearest`) — большинство квартир расположены от аэропорта довольно далеко — от 10 до 55 км. Как-то содержательно интерпретировать пики на гистограмме не представляется возможным.\n",
    "\n",
    "*Расстояние до ближайшего парка* (`parks_nearest`) — квартиры в основном находятся не дальше, чем в 750 м от ближайшего парка."
   ]
  },
  {
   "cell_type": "markdown",
   "metadata": {},
   "source": [
    "Наконец, гистограммы для дня недели и месяца размещения объявления:"
   ]
  },
  {
   "cell_type": "code",
   "execution_count": 36,
   "metadata": {},
   "outputs": [
    {
     "data": {
      "image/png": "[encoded data removed]",
      "text/plain": [
       "<Figure size 720x360 with 2 Axes>"
      ]
     },
     "metadata": {
      "needs_background": "light"
     },
     "output_type": "display_data"
    }
   ],
   "source": [
    "fig, (ax1, ax2) = plt.subplots(nrows=1, ncols=2, figsize=(10,5))\n",
    "\n",
    "ax1.xaxis.set_major_locator(MultipleLocator(1))\n",
    "ax1.grid(True)\n",
    "ax1.set_title('День недели, когда размещено объявление')\n",
    "ax1.set_xlabel('номер дня недели (0 — пн, 6 — вс)')\n",
    "ax1.hist(real_estate['exposition_since_day_week'],\n",
    "         bins='auto');\n",
    "\n",
    "ax2.xaxis.set_major_locator(MultipleLocator(1))\n",
    "ax2.grid(True)\n",
    "ax2.set_title('Месяц размещения объявления')\n",
    "ax2.set_xlabel('номер месяца')\n",
    "ax2.hist(real_estate['exposition_since_month'],\n",
    "         bins='auto');"
   ]
  },
  {
   "cell_type": "markdown",
   "metadata": {},
   "source": [
    "*День недели, когда размещено объявление* (`exposition_since_day_week`) — объявления размещают в основном в рабочие дни, причём ближе к её середине. Суббота и воскресенье в этом плане популярностью не пользуются — видимо, на выходных отдыхать хочется больше, чем продавать имущество.\n",
    "\n",
    "*Месяц размещения объявления* (`exposition_since_month`) — меньшая доля объявлений размещается в январе, мае и декабре. Также летом их делается меньше, чем осенью, и значительно меньше, чем в феврале—апреле. Последний период — самый жаркое время для того, чтобы выйти на рынок вторичной жилой недвижимости. Вероятно, непопулярность января и мая объясняется обилием праздников, когда людям не хочется заниматься продажей недвижимости (по аналогии с выходными). Лето — период отпусков. В чём проблема декабря, не вполне понятно. Возможно, у людей увеличивается нагрузка на работе, т.к. закрывается год, плюс начинается подготовка к Новому году."
   ]
  },
  {
   "cell_type": "markdown",
   "metadata": {},
   "source": [
    "**Промежуточный вывод**\n",
    "\n",
    "Проанализировав построенные выше гистограммы, можно сделать общий вывод, что данные в целом имеют ожидаемое распределение. Закономерности, заслуживающие отдельного упоминания в данном выводе, касаются только момента размещения объявления: чаще всего они размещаются в рабочие дни и в феврале-апреле или осенью. Все остальные закономерности, на наш взгляд, достаточно тривиальны."
   ]
  },
  {
   "cell_type": "markdown",
   "metadata": {},
   "source": [
    "*Дополнительный блок о влиянии на рассмотренные выше распределения застройки в поселениях, не являющихся ближайшими спутниками Петербурга*"
   ]
  },
  {
   "cell_type": "markdown",
   "metadata": {},
   "source": [
    "<a id='additional'></a>\n",
    "На столбчатой диаграмме ниже показано количество объявлений в 20 населённых пунктах из датафрейма `real_estate` с наибольшим числом объявлений (все остальные поселения собраны в группу «Прочие»):"
   ]
  },
  {
   "cell_type": "code",
   "execution_count": 37,
   "metadata": {},
   "outputs": [
    {
     "data": {
      "image/png": "[encoded data removed]",
      "text/plain": [
       "<Figure size 1080x360 with 1 Axes>"
      ]
     },
     "metadata": {
      "needs_background": "light"
     },
     "output_type": "display_data"
    }
   ],
   "source": [
    "real_estate['locality_in_top30'] = (\n",
    "    real_estate['locality_name'].where(\n",
    "        real_estate['locality_name'].isin(\n",
    "            real_estate\n",
    "            .pivot_table(index='locality_name', aggfunc='count')\n",
    "            .sort_values(by='index', ascending=False)[:20].index),\n",
    "        'Прочие')\n",
    "    )\n",
    "\n",
    "(\n",
    "    real_estate\n",
    "     .pivot_table(index='locality_in_top30', values='index', aggfunc='count')\n",
    "     .sort_values(by='index', ascending=False)\n",
    "     .plot.bar(\n",
    "         y='index',\n",
    "         figsize=(15,5),\n",
    "         legend=False,\n",
    "         ylabel='количество объявлений',\n",
    "         xlabel=''\n",
    "     )\n",
    ")\n",
    "\n",
    "plt.gca().grid(True, axis='y')"
   ]
  },
  {
   "cell_type": "markdown",
   "metadata": {},
   "source": [
    "По диаграмме видно, что подавляющее большинство объявлений относится к Петербургу или его ближайшим поселениям-спутникам (Мурино, Кудрово, Шушары, Всеволожск, Пушкин, Колпино, Парголово, Петергоф, Сестрорецк, Красное Село, Новое Девяткино, Сертолово, Ломоносов). Кроме того, некоторые населённые пункты, оказавшиеся в группе «Прочие», также являются ближайшими спутниками (например, Бугры, Кронштадт, Коммунар, Сосновый Бор, Янино-1, Горелово). Застройка в них в целом такая же, как в основной жилой части Петербурга. Это говорит о том, что влияние характеристик застройки в населённых пунктах, удалённых от Петербурга, пренебрежимо мало."
   ]
  },
  {
   "cell_type": "markdown",
   "metadata": {},
   "source": [
    "### Скорость продаж"
   ]
  },
  {
   "cell_type": "markdown",
   "metadata": {},
   "source": [
    "Посмотрим, насколько быстро продавались квартиры. Для этого построим по столбцу `days_exposition` две гистограммы (для полных данных и с ограничением до 100 дней) и диаграмму «ящик с усами», а также посчитаем некоторые метрики."
   ]
  },
  {
   "cell_type": "code",
   "execution_count": 38,
   "metadata": {
    "scrolled": true
   },
   "outputs": [
    {
     "data": {
      "image/png": "[encoded data removed]",
      "text/plain": [
       "<Figure size 1152x360 with 3 Axes>"
      ]
     },
     "metadata": {
      "needs_background": "light"
     },
     "output_type": "display_data"
    }
   ],
   "source": [
    "fig, (ax1, ax2, ax3) = plt.subplots(nrows=1, ncols=3, figsize=(16,5))\n",
    "\n",
    "ax1.xaxis.set_minor_locator(AutoMinorLocator(2))\n",
    "ax1.grid(True, which='both')\n",
    "ax1.set_title('Срок размещения объявления')\n",
    "ax1.set_xlabel('дни')\n",
    "ax1.hist(real_estate['days_exposition'],\n",
    "         bins=50);\n",
    "\n",
    "ax2.xaxis.set_major_locator(MultipleLocator(10))\n",
    "ax2.xaxis.set_minor_locator(AutoMinorLocator(2))\n",
    "ax2.grid(True, which='both')\n",
    "ax2.set_title('Срок размещения объявления (до 100 дней)')\n",
    "ax2.set_xlabel('дни')\n",
    "ax2.hist(real_estate['days_exposition'],\n",
    "         bins=100,\n",
    "         range=(0,100));\n",
    "\n",
    "ax3.set_title('Срок размещения объявления')\n",
    "ax3.set_ylabel('дни')\n",
    "real_estate.boxplot(column='days_exposition', ax=ax3);"
   ]
  },
  {
   "cell_type": "code",
   "execution_count": 39,
   "metadata": {},
   "outputs": [
    {
     "data": {
      "text/plain": [
       "count    20387.000000\n",
       "mean       180.772944\n",
       "std        219.758885\n",
       "min          1.000000\n",
       "25%         45.000000\n",
       "50%         95.000000\n",
       "75%        231.000000\n",
       "max       1580.000000\n",
       "Name: days_exposition, dtype: float64"
      ]
     },
     "execution_count": 39,
     "metadata": {},
     "output_type": "execute_result"
    }
   ],
   "source": [
    "real_estate['days_exposition'].describe()"
   ]
  },
  {
   "cell_type": "markdown",
   "metadata": {},
   "source": [
    "По первой гистограмме хорошо видно, что распределение сроков размещения объявления имеет пик в районе 50 дней, а дальше идёт снижение. Основная масса объявлений снимается через примерно 300 дней.\n",
    "\n",
    "Вторая гистограмма гистограмма говорит о наличии интересной аномалии: на 45 и 60 днях присутствуют огромные пики, а на 7, 30 и 90 днях — пики поменьше. Самый большой пик соответсвует значению в 45 дней.\n",
    "\n",
    "Почему так? Кажется, дело не в психологии главным образом, тут что-то жёсткое — техническое или юридическое. \n",
    "\n",
    "Ответ на этот вопрос нашёлся на странице с [условиями размещения объектов](https://yandex.ru/support/realty/paid.html#paid) на Яндекс Недвижимости. В соотствии с условиями, объявления о продаже квартир стоимостью до 4,5 млн рублей размещаются бесплатно только 45 дней, от 4,5 млн до 10 млн — 60 дней, а от 10 млн — 90 дней. Как раз 3 из 5 наших пики, причём эта версия подтверждается характером распределения цен объектов — основная масса квартир как раз стоит меньше 4,5 млн, квартир дороже 4,5 млн уже меньше, а дороже 10 млн надо ещё поискать.\n",
    "\n",
    "Правда, такие условия размещения сейчас не применяются в Петербурге и Ленобласти, они касаются только регионов. Однако вполне уместным кажется предположить, что раньше (до мая 2019 года, когда было опубликовано последнее объявление в датасете) они всё же применялись и в Петербурге. Подтверждений этому факту, к сожалению, найти не удалось.\n",
    "\n",
    "Наверное, такой же логикой можно объяснить небольшие пики напротив 7 и 30 дней — там тоже раньше могли быть какие-то отсечки."
   ]
  },
  {
   "cell_type": "markdown",
   "metadata": {},
   "source": [
    "Обычная продажа занимает 95 дней (медиана). Ориентироваться на среднее арифметическое (180,8 дней) в данном случае не стоит из-за большой дисперсии. Аномально долгая продажа по диаграмме «ящик с усами» — это больше 500 дней (выходит за 1,5 межквартильных размаха). Порог аномально быстрой продажи по нему определить невозможно. \n",
    "\n",
    "За аномально короткие и аномально длительные сроки размещения объявлений мы примем 10-й и 90-й процентили соответственно. Рассчитаем их значения:"
   ]
  },
  {
   "cell_type": "code",
   "execution_count": 40,
   "metadata": {},
   "outputs": [
    {
     "name": "stdout",
     "output_type": "stream",
     "text": [
      "10-й процентиль: 17.0 дней\n",
      "90-й процентиль: 460.0 дней\n"
     ]
    }
   ],
   "source": [
    "print('10-й процентиль:', real_estate['days_exposition'].quantile(0.1), 'дней')\n",
    "print('90-й процентиль:', real_estate['days_exposition'].quantile(0.9), 'дней')"
   ]
  },
  {
   "cell_type": "markdown",
   "metadata": {},
   "source": [
    "Получается, что аномально быстрые продажи — это все, которые осуществляются быстрее, чем за 17 дней, а аномально долгие — те, которые совершаются через более чем 460 дней после размещения объявления. Просто быстрыми продажами можно считать все продажи, срок которых от 17 до 45 дней (от 10-го процентиля до первого квартиля). А долгими продажами будем считать те, которые совершаются в период между 231 и 460 днями (от третьего квартиля до 90-го процентиля) после размещения объявления. "
   ]
  },
  {
   "cell_type": "markdown",
   "metadata": {},
   "source": [
    "### Факторы цены"
   ]
  },
  {
   "cell_type": "markdown",
   "metadata": {},
   "source": [
    "По заданию необходимо выяснить, зависит ли цена от:\n",
    "\n",
    "* общей площади;\n",
    "* жилой площади;\n",
    "* площади кухни;\n",
    "* количества комнат;\n",
    "* этажа, на котором расположена квартира (первый, последний, другой);\n",
    "* даты размещения (день недели, месяц, год).\n",
    "\n",
    "Для этого построим необходимые диаграммы. В случае с площадью мы будем строить диаграммы рассеяния, а для всех остальных столбцов построим столбчатые диаграммы по медианным ценам. Для площадей также посчитаем коэффициенты корреляции Пирсона.\n",
    "\n",
    "Такой выбор типов графиков связан с тем, что множество значений площади можно условно считать непрерывным, тогда как множества количества комнат, типов этажа и дат размещения объявления носит дискретный характер. По этой причине для них диаграмма рассеяния не даст нужной информации. Мы будем будем характеризовать соответствующую им цену объекта при помощи типичного значения — медианы."
   ]
  },
  {
   "cell_type": "code",
   "execution_count": 41,
   "metadata": {},
   "outputs": [
    {
     "data": {
      "image/png": "[encoded data removed]",
      "text/plain": [
       "<Figure size 1080x360 with 3 Axes>"
      ]
     },
     "metadata": {
      "needs_background": "light"
     },
     "output_type": "display_data"
    }
   ],
   "source": [
    "cols_to_x_area = {\n",
    "    'total_area': 'Цена объекта vs. общая площадь',\n",
    "    'living_area': 'Цена объекта vs. жилая площадь ',\n",
    "    'kitchen_area': 'Цена объекта vs. площадь кухни'\n",
    "}\n",
    "\n",
    "fig, ax = plt.subplots(nrows=1, ncols=3, figsize=(15,5))\n",
    "\n",
    "column = 0\n",
    "\n",
    "for col in cols_to_x_area:\n",
    "    ax[column].set_title(cols_to_x_area[col])\n",
    "    ax[column].grid(True)\n",
    "    ax[column].set_ylabel('млн руб.')\n",
    "    ax[column].scatter(real_estate[col], real_estate['last_price_mln'], s=2, alpha=0.5)\n",
    "    ax[column].set_xlabel('м²')\n",
    "    ax[column].set_ylim(0, 100)\n",
    "    column += 1"
   ]
  },
  {
   "cell_type": "code",
   "execution_count": 42,
   "metadata": {},
   "outputs": [
    {
     "name": "stdout",
     "output_type": "stream",
     "text": [
      "Коэффициенты корреляции Пирсона для значений цены и соответствующего столбца:\n"
     ]
    },
    {
     "data": {
      "text/plain": [
       "total_area      0.653679\n",
       "living_area     0.566440\n",
       "kitchen_area    0.520376\n",
       "Name: last_price, dtype: float64"
      ]
     },
     "execution_count": 42,
     "metadata": {},
     "output_type": "execute_result"
    }
   ],
   "source": [
    "print('Коэффициенты корреляции Пирсона для значений цены и соответствующего столбца:')\n",
    "real_estate[['last_price', 'total_area', 'living_area', 'kitchen_area']].corr().loc['total_area':, 'last_price']"
   ]
  },
  {
   "cell_type": "markdown",
   "metadata": {},
   "source": [
    "Диаграммы показывают наличие положительной зависимости цены квартиры от площади (по крайней мере до перехода через определённый порог площади). Зависимость от общей площади самая сильная, а от площади кухни — самая слабая (возможно, зависимости нет, а скорее присутствует влияние других факторов — так, по мере увеличения жилой площади квартиры кухня тоже обычно возрастает, поэтому рост цены, вызванный ростом жилой площади, коррелирует с увеличением площади кухни).\n",
    "\n",
    "Коэффициенты корреляции Пирсона подтверждают наши выводы о том, что существует [средняя](https://tocodata.com/marketing/korrelyaciya.html) по силе корреляция между общей площадью и ценой. Корреляция между площадью кухни и ценой слабее, но тоже может считаться средней.\n",
    "\n",
    "Зависимость цены от общей и жилой площади в целом носит линейный характер. Утверждать это о зависимости от площади кухни с той же уверенностью нельзя. "
   ]
  },
  {
   "cell_type": "code",
   "execution_count": 43,
   "metadata": {},
   "outputs": [
    {
     "data": {
      "image/png": "[encoded data removed]",
      "text/plain": [
       "<Figure size 1080x720 with 5 Axes>"
      ]
     },
     "metadata": {
      "needs_background": "light"
     },
     "output_type": "display_data"
    }
   ],
   "source": [
    "cols_to_x_other = {\n",
    "    'rooms': 'Медианная цена объектов vs. количество комнат',\n",
    "    'floor_type': 'Медианная цена объектов vs. тип этажа',\n",
    "    'exposition_since_day_week': 'Медианная цена объектов vs. день размещения объявления',\n",
    "    'exposition_since_month': 'Медианная цена объектов vs. месяц размещения объявления',\n",
    "    'exposition_since_year': 'Медианная цена объектов vs. год размещения объявления'\n",
    "}\n",
    "\n",
    "gridsize = (2, 6)\n",
    "\n",
    "fig = plt.figure(figsize=(15, 10))\n",
    "\n",
    "ax1 = plt.subplot2grid(gridsize,(0, 0), colspan=2)\n",
    "ax2 = plt.subplot2grid(gridsize,(0, 2), colspan=2)\n",
    "ax3 = plt.subplot2grid(gridsize,(0, 4), colspan=2)\n",
    "ax4 = plt.subplot2grid(gridsize,(1, 0), colspan=3)\n",
    "ax5 = plt.subplot2grid(gridsize,(1, 3), colspan=3)\n",
    "\n",
    "ax = [ax1, ax2, ax3, ax4, ax5]\n",
    "\n",
    "i = 0\n",
    "\n",
    "for col in cols_to_x_other:\n",
    "    ax[i].set_title(cols_to_x_other[col], fontsize=10)\n",
    "    if i in [0,3]:\n",
    "        ax[i].set_ylabel('млн руб.')   \n",
    "    real_estate.groupby(col).median().plot.bar(y='last_price_mln', ax=ax[i], rot=0, legend=None)\n",
    "    ax[i].xaxis.label.set_visible(False)\n",
    "    ax[i].grid(True, axis='y')\n",
    "    i += 1"
   ]
  },
  {
   "cell_type": "markdown",
   "metadata": {},
   "source": [
    "По диаграммам можно сделать следующие выводы:\n",
    "\n",
    "*Цена vs. количество комнат* — положительная зависимость цены от количества комнат сохраняется примерно до того момента, пока количество комнат не превышает 7. После этого зависимость не столь однозначная. Вероятно, это связано с недостаточным размером выборки квартир, в которых необычно большое число комнат. Также, возможно, с какого-то момента большую роль начинают играть прочие факторы (расстояние до центра, этажность дома и т.д.). Огромное медианное значение цены для 12-комнатных квартир связано с тем, что в датасете есть только одна такая квартира, и её цена больше 400 млн руб.\n",
    "\n",
    "*Цена vs. тип этажа* — самые дорогие этажи — не первые и не последние. Первые же в основном самые дешёвые. Впрочем, эта зависимость не очень ярко выражена.\n",
    "\n",
    "*Цена vs. день недели размещения объявления* — зависимости цены от дня недели не прослеживается.\n",
    "\n",
    "*Цена vs. месяц размещения объявления* — явной зависимости цены от месяца размещения объявления не прослеживается.\n",
    "\n",
    "*Цена vs. год размещения объявления* — в 2014 году медианная цена была самой высокой, а затем она начала снижаться. Повышение наметилось лишь в 2019 году. Говорить о существовании зависимости цены от года как такового нельзя, скорее тут сказываются неучтённые факторы, «скрытые» в годе.\n",
    "\n",
    "Остановимся поподробнее на последнем наблюдении. Попробуем выяснить, что было драйвером снижения медианной стоимости объектов с 2014 по 2018 год: динамика цена за квадратный метр или площади продаваемых квартир. Для этого построим столбчатые диаграммы, в которых представим динамику этих двух показателей:"
   ]
  },
  {
   "cell_type": "code",
   "execution_count": 44,
   "metadata": {},
   "outputs": [
    {
     "data": {
      "image/png": "[encoded data removed]",
      "text/plain": [
       "<Figure size 1080x360 with 2 Axes>"
      ]
     },
     "metadata": {
      "needs_background": "light"
     },
     "output_type": "display_data"
    }
   ],
   "source": [
    "from matplotlib.ticker import FuncFormatter\n",
    "\n",
    "fig, (ax1, ax2) = plt.subplots(nrows=1, ncols=2, figsize=(15, 5))\n",
    "\n",
    "ax1.set_title('Динамика медианной цены 1 м² по годам')\n",
    "ax1.set_ylabel('тыс. руб.')\n",
    "(real_estate\n",
    " .groupby('exposition_since_year')\n",
    " .median()\n",
    " .plot.bar(y='square_meter_price', ax=ax1, rot=0, legend=None)\n",
    ")\n",
    "ax1.yaxis.set_major_formatter(FuncFormatter(lambda x, pos: x / 1000))\n",
    "ax1.grid(True, axis='y')\n",
    "ax1.xaxis.label.set_visible(False)\n",
    "\n",
    "\n",
    "ax2.set_title('Динамика медианной площади квартир по годам')\n",
    "ax2.set_ylabel('млн. руб.')\n",
    "(real_estate\n",
    " .groupby('exposition_since_year')\n",
    " .median()\n",
    " .plot.bar(y='total_area', ax=ax2, rot=0, legend=None)\n",
    ")\n",
    "ax2.grid(True, axis='y')\n",
    "ax2.xaxis.label.set_visible(False)"
   ]
  },
  {
   "cell_type": "markdown",
   "metadata": {},
   "source": [
    "Судя по диаграммам, главную роль в снижении медианной стоимости объектов сыграло уменьшение площади продаваемых квартир. Она падала более резко, чем цена квадратного метра, к тому же последняя начала восстанавливаться уже в 2018 году.\n",
    "\n",
    "Причин уменьшения площади продаваемых квартир может быть несколько, но основная, скорее всего, состоит в снижения располагаемых доходов населения с 2014 года. Этот период характеризовался кризисными, стагнационными тенденциями в российской экономике, что негативно сказывалось на уровне благосостояния граждан. А чем ниже благосостояние, тем меньшую площадь квартир может позволить себе семья. "
   ]
  },
  {
   "cell_type": "markdown",
   "metadata": {},
   "source": [
    "### Средняя цена за квадратный метр "
   ]
  },
  {
   "cell_type": "markdown",
   "metadata": {},
   "source": [
    "По заданию необходимо выделить 10 населённых пунктов с самым большим количеством объявлений и найти среднюю стоимости квадратного метра в них. Сделаем это:"
   ]
  },
  {
   "cell_type": "code",
   "execution_count": 45,
   "metadata": {},
   "outputs": [
    {
     "data": {
      "text/html": [
       "<div>\n",
       "<style scoped>\n",
       "    .dataframe tbody tr th:only-of-type {\n",
       "        vertical-align: middle;\n",
       "    }\n",
       "\n",
       "    .dataframe tbody tr th {\n",
       "        vertical-align: top;\n",
       "    }\n",
       "\n",
       "    .dataframe thead th {\n",
       "        text-align: right;\n",
       "    }\n",
       "</style>\n",
       "<table border=\"1\" class=\"dataframe\">\n",
       "  <thead>\n",
       "    <tr style=\"text-align: right;\">\n",
       "      <th></th>\n",
       "      <th>mean_price</th>\n",
       "    </tr>\n",
       "  </thead>\n",
       "  <tbody>\n",
       "    <tr>\n",
       "      <th>Санкт-Петербург</th>\n",
       "      <td>114834.464352</td>\n",
       "    </tr>\n",
       "    <tr>\n",
       "      <th>Пушкин</th>\n",
       "      <td>103125.819291</td>\n",
       "    </tr>\n",
       "    <tr>\n",
       "      <th>Кудрово</th>\n",
       "      <td>95260.846171</td>\n",
       "    </tr>\n",
       "    <tr>\n",
       "      <th>поселок Парголово</th>\n",
       "      <td>90175.913458</td>\n",
       "    </tr>\n",
       "    <tr>\n",
       "      <th>Мурино</th>\n",
       "      <td>86041.116064</td>\n",
       "    </tr>\n",
       "    <tr>\n",
       "      <th>поселок Шушары</th>\n",
       "      <td>78551.344545</td>\n",
       "    </tr>\n",
       "    <tr>\n",
       "      <th>Колпино</th>\n",
       "      <td>75424.579098</td>\n",
       "    </tr>\n",
       "    <tr>\n",
       "      <th>Гатчина</th>\n",
       "      <td>68746.146763</td>\n",
       "    </tr>\n",
       "    <tr>\n",
       "      <th>Всеволожск</th>\n",
       "      <td>68654.473986</td>\n",
       "    </tr>\n",
       "    <tr>\n",
       "      <th>Выборг</th>\n",
       "      <td>58141.909153</td>\n",
       "    </tr>\n",
       "  </tbody>\n",
       "</table>\n",
       "</div>"
      ],
      "text/plain": [
       "                      mean_price\n",
       "Санкт-Петербург    114834.464352\n",
       "Пушкин             103125.819291\n",
       "Кудрово             95260.846171\n",
       "поселок Парголово   90175.913458\n",
       "Мурино              86041.116064\n",
       "поселок Шушары      78551.344545\n",
       "Колпино             75424.579098\n",
       "Гатчина             68746.146763\n",
       "Всеволожск          68654.473986\n",
       "Выборг              58141.909153"
      ]
     },
     "execution_count": 45,
     "metadata": {},
     "output_type": "execute_result"
    }
   ],
   "source": [
    "locality_names_top10 = (\n",
    "                        real_estate\n",
    "                            .pivot_table(index='locality_name', values='index', aggfunc='count')\n",
    "                            .sort_values(by='index', ascending=False)[:10]\n",
    "                            .index\n",
    "                       )\n",
    "\n",
    "square_meter_price_mean = {}\n",
    "\n",
    "for locality in locality_names_top10:\n",
    "    square_meter_price_mean[locality] = (\n",
    "                                        real_estate\n",
    "                                             .query('locality_name == @locality')['square_meter_price']\n",
    "                                             .mean()\n",
    "                                        )\n",
    "    \n",
    "square_meter_prices = (\n",
    "    pd.DataFrame(\n",
    "        square_meter_price_mean.values(),\n",
    "        square_meter_price_mean.keys(),\n",
    "        columns=['mean_price']\n",
    "    )\n",
    "    .sort_values(by='mean_price', ascending=False))\n",
    "\n",
    "square_meter_prices"
   ]
  },
  {
   "cell_type": "markdown",
   "metadata": {},
   "source": [
    "В топ-10 городов по числу объявлений самая высокая цена за квадратный метр, ожидаемо, в Петербурге (почти 115 тыс. руб. за м²), а самая низкая — в Выборге (около 58 тыс. руб. за м²)."
   ]
  },
  {
   "cell_type": "markdown",
   "metadata": {},
   "source": [
    "### Цена одного километра расстояния до центра"
   ]
  },
  {
   "cell_type": "markdown",
   "metadata": {},
   "source": [
    "Найдём среднюю цену одного километра расстояния до центра в Петербурге, для чего сначала вычислим цену одного километра для каждого объявления (столбец `km_price`), а потом рассчитаем их среднее по группам. Группы выделим на основании гистограммы, характеризующей распределение расстояний до центра, и отметим их в столбце `distance_group`. Учтём, что жилая застройка, находящаяся на расстоянии больше 30 км от центра Петербурга, находится уже не на его территории."
   ]
  },
  {
   "cell_type": "code",
   "execution_count": 46,
   "metadata": {},
   "outputs": [
    {
     "data": {
      "text/html": [
       "<style type=\"text/css\">\n",
       "</style>\n",
       "<table id=\"T_c7799_\">\n",
       "  <thead>\n",
       "    <tr>\n",
       "      <th class=\"blank level0\" >&nbsp;</th>\n",
       "      <th class=\"col_heading level0 col0\" >km_price</th>\n",
       "    </tr>\n",
       "    <tr>\n",
       "      <th class=\"index_name level0\" >distance_group</th>\n",
       "      <th class=\"blank col0\" >&nbsp;</th>\n",
       "    </tr>\n",
       "  </thead>\n",
       "  <tbody>\n",
       "    <tr>\n",
       "      <th id=\"T_c7799_level0_row0\" class=\"row_heading level0 row0\" >0–5 км</th>\n",
       "      <td id=\"T_c7799_row0_col0\" class=\"data row0 col0\" >6768.0 тыс. руб.</td>\n",
       "    </tr>\n",
       "    <tr>\n",
       "      <th id=\"T_c7799_level0_row1\" class=\"row_heading level0 row1\" >5–10 км</th>\n",
       "      <td id=\"T_c7799_row1_col0\" class=\"data row1 col0\" >2010.0 тыс. руб.</td>\n",
       "    </tr>\n",
       "    <tr>\n",
       "      <th id=\"T_c7799_level0_row2\" class=\"row_heading level0 row2\" >10–15 км</th>\n",
       "      <td id=\"T_c7799_row2_col0\" class=\"data row2 col0\" >498.5 тыс. руб.</td>\n",
       "    </tr>\n",
       "    <tr>\n",
       "      <th id=\"T_c7799_level0_row3\" class=\"row_heading level0 row3\" >15–20 км</th>\n",
       "      <td id=\"T_c7799_row3_col0\" class=\"data row3 col0\" >345.9 тыс. руб.</td>\n",
       "    </tr>\n",
       "    <tr>\n",
       "      <th id=\"T_c7799_level0_row4\" class=\"row_heading level0 row4\" >20–30 км</th>\n",
       "      <td id=\"T_c7799_row4_col0\" class=\"data row4 col0\" >232.8 тыс. руб.</td>\n",
       "    </tr>\n",
       "  </tbody>\n",
       "</table>\n"
      ],
      "text/plain": [
       "<pandas.io.formats.style.Styler at 0x7fb2ab6cf820>"
      ]
     },
     "execution_count": 46,
     "metadata": {},
     "output_type": "execute_result"
    }
   ],
   "source": [
    "real_estate['distance_group'] = pd.cut(\n",
    "    real_estate['cityCenters_nearest_km'],\n",
    "    [0, 5, 10, 15, 20, 30],\n",
    "    right=False,\n",
    "    labels=['0–5 км', '5–10 км', '10–15 км', '15–20 км', '20–30 км']\n",
    "    )\n",
    "\n",
    "real_estate['km_price'] = (\n",
    "    real_estate\n",
    "    .query('cityCenters_nearest_km != 0')['last_price']\n",
    "    / real_estate['cityCenters_nearest_km']\n",
    "    )\n",
    "\n",
    "(\n",
    "    real_estate\n",
    "    .query('locality_name == \"Санкт-Петербург\"')\n",
    "    .pivot_table(index='distance_group', values='km_price')\n",
    "    .style.format({'km_price': lambda x: str(round(x / 1000, 1)) + ' тыс. руб.'})\n",
    ")"
   ]
  },
  {
   "cell_type": "markdown",
   "metadata": {},
   "source": [
    "По приведённой сводной таблице можно сделать достаточно очевидный вывод: средняя цена одного километра самая высокая у квартир, расположенных вблизи центра, и снижается по мере удаления от центра."
   ]
  },
  {
   "cell_type": "markdown",
   "metadata": {},
   "source": [
    "Можно провести более детальный анализ, рассчитав среднюю цену буквально для каждого километра и построив столбчатую диаграмму. Сделаем это:"
   ]
  },
  {
   "cell_type": "code",
   "execution_count": 47,
   "metadata": {},
   "outputs": [
    {
     "data": {
      "text/html": [
       "<style type=\"text/css\">\n",
       "#T_7f65d_ caption {\n",
       "  color: black;\n",
       "  font-size: 15px;\n",
       "  text-align: center;\n",
       "}\n",
       "</style>\n",
       "<table id=\"T_7f65d_\">\n",
       "  <caption>Средняя цена 1 км расстояния от центра</caption>\n",
       "  <thead>\n",
       "    <tr>\n",
       "      <th class=\"blank level0\" >&nbsp;</th>\n",
       "      <th class=\"col_heading level0 col0\" >km_price</th>\n",
       "    </tr>\n",
       "    <tr>\n",
       "      <th class=\"index_name level0\" >cityCenters_nearest_km</th>\n",
       "      <th class=\"blank col0\" >&nbsp;</th>\n",
       "    </tr>\n",
       "  </thead>\n",
       "  <tbody>\n",
       "    <tr>\n",
       "      <th id=\"T_7f65d_level0_row0\" class=\"row_heading level0 row0\" >1.0</th>\n",
       "      <td id=\"T_7f65d_row0_col0\" class=\"data row0 col0\" >21206.7 тыс. руб.</td>\n",
       "    </tr>\n",
       "    <tr>\n",
       "      <th id=\"T_7f65d_level0_row1\" class=\"row_heading level0 row1\" >2.0</th>\n",
       "      <td id=\"T_7f65d_row1_col0\" class=\"data row1 col0\" >8894.2 тыс. руб.</td>\n",
       "    </tr>\n",
       "    <tr>\n",
       "      <th id=\"T_7f65d_level0_row2\" class=\"row_heading level0 row2\" >3.0</th>\n",
       "      <td id=\"T_7f65d_row2_col0\" class=\"data row2 col0\" >3712.5 тыс. руб.</td>\n",
       "    </tr>\n",
       "    <tr>\n",
       "      <th id=\"T_7f65d_level0_row3\" class=\"row_heading level0 row3\" >4.0</th>\n",
       "      <td id=\"T_7f65d_row3_col0\" class=\"data row3 col0\" >3326.1 тыс. руб.</td>\n",
       "    </tr>\n",
       "    <tr>\n",
       "      <th id=\"T_7f65d_level0_row4\" class=\"row_heading level0 row4\" >5.0</th>\n",
       "      <td id=\"T_7f65d_row4_col0\" class=\"data row4 col0\" >2891.2 тыс. руб.</td>\n",
       "    </tr>\n",
       "    <tr>\n",
       "      <th id=\"T_7f65d_level0_row5\" class=\"row_heading level0 row5\" >6.0</th>\n",
       "      <td id=\"T_7f65d_row5_col0\" class=\"data row5 col0\" >2556.4 тыс. руб.</td>\n",
       "    </tr>\n",
       "    <tr>\n",
       "      <th id=\"T_7f65d_level0_row6\" class=\"row_heading level0 row6\" >7.0</th>\n",
       "      <td id=\"T_7f65d_row6_col0\" class=\"data row6 col0\" >2110.7 тыс. руб.</td>\n",
       "    </tr>\n",
       "    <tr>\n",
       "      <th id=\"T_7f65d_level0_row7\" class=\"row_heading level0 row7\" >8.0</th>\n",
       "      <td id=\"T_7f65d_row7_col0\" class=\"data row7 col0\" >1242.6 тыс. руб.</td>\n",
       "    </tr>\n",
       "    <tr>\n",
       "      <th id=\"T_7f65d_level0_row8\" class=\"row_heading level0 row8\" >9.0</th>\n",
       "      <td id=\"T_7f65d_row8_col0\" class=\"data row8 col0\" >773.0 тыс. руб.</td>\n",
       "    </tr>\n",
       "    <tr>\n",
       "      <th id=\"T_7f65d_level0_row9\" class=\"row_heading level0 row9\" >10.0</th>\n",
       "      <td id=\"T_7f65d_row9_col0\" class=\"data row9 col0\" >650.0 тыс. руб.</td>\n",
       "    </tr>\n",
       "    <tr>\n",
       "      <th id=\"T_7f65d_level0_row10\" class=\"row_heading level0 row10\" >11.0</th>\n",
       "      <td id=\"T_7f65d_row10_col0\" class=\"data row10 col0\" >566.2 тыс. руб.</td>\n",
       "    </tr>\n",
       "    <tr>\n",
       "      <th id=\"T_7f65d_level0_row11\" class=\"row_heading level0 row11\" >12.0</th>\n",
       "      <td id=\"T_7f65d_row11_col0\" class=\"data row11 col0\" >486.2 тыс. руб.</td>\n",
       "    </tr>\n",
       "    <tr>\n",
       "      <th id=\"T_7f65d_level0_row12\" class=\"row_heading level0 row12\" >13.0</th>\n",
       "      <td id=\"T_7f65d_row12_col0\" class=\"data row12 col0\" >467.6 тыс. руб.</td>\n",
       "    </tr>\n",
       "    <tr>\n",
       "      <th id=\"T_7f65d_level0_row13\" class=\"row_heading level0 row13\" >14.0</th>\n",
       "      <td id=\"T_7f65d_row13_col0\" class=\"data row13 col0\" >401.8 тыс. руб.</td>\n",
       "    </tr>\n",
       "    <tr>\n",
       "      <th id=\"T_7f65d_level0_row14\" class=\"row_heading level0 row14\" >15.0</th>\n",
       "      <td id=\"T_7f65d_row14_col0\" class=\"data row14 col0\" >391.8 тыс. руб.</td>\n",
       "    </tr>\n",
       "    <tr>\n",
       "      <th id=\"T_7f65d_level0_row15\" class=\"row_heading level0 row15\" >16.0</th>\n",
       "      <td id=\"T_7f65d_row15_col0\" class=\"data row15 col0\" >335.8 тыс. руб.</td>\n",
       "    </tr>\n",
       "    <tr>\n",
       "      <th id=\"T_7f65d_level0_row16\" class=\"row_heading level0 row16\" >17.0</th>\n",
       "      <td id=\"T_7f65d_row16_col0\" class=\"data row16 col0\" >311.7 тыс. руб.</td>\n",
       "    </tr>\n",
       "    <tr>\n",
       "      <th id=\"T_7f65d_level0_row17\" class=\"row_heading level0 row17\" >18.0</th>\n",
       "      <td id=\"T_7f65d_row17_col0\" class=\"data row17 col0\" >282.9 тыс. руб.</td>\n",
       "    </tr>\n",
       "    <tr>\n",
       "      <th id=\"T_7f65d_level0_row18\" class=\"row_heading level0 row18\" >19.0</th>\n",
       "      <td id=\"T_7f65d_row18_col0\" class=\"data row18 col0\" >265.9 тыс. руб.</td>\n",
       "    </tr>\n",
       "    <tr>\n",
       "      <th id=\"T_7f65d_level0_row19\" class=\"row_heading level0 row19\" >20.0</th>\n",
       "      <td id=\"T_7f65d_row19_col0\" class=\"data row19 col0\" >299.5 тыс. руб.</td>\n",
       "    </tr>\n",
       "    <tr>\n",
       "      <th id=\"T_7f65d_level0_row20\" class=\"row_heading level0 row20\" >21.0</th>\n",
       "      <td id=\"T_7f65d_row20_col0\" class=\"data row20 col0\" >261.6 тыс. руб.</td>\n",
       "    </tr>\n",
       "    <tr>\n",
       "      <th id=\"T_7f65d_level0_row21\" class=\"row_heading level0 row21\" >22.0</th>\n",
       "      <td id=\"T_7f65d_row21_col0\" class=\"data row21 col0\" >246.2 тыс. руб.</td>\n",
       "    </tr>\n",
       "    <tr>\n",
       "      <th id=\"T_7f65d_level0_row22\" class=\"row_heading level0 row22\" >23.0</th>\n",
       "      <td id=\"T_7f65d_row22_col0\" class=\"data row22 col0\" >215.7 тыс. руб.</td>\n",
       "    </tr>\n",
       "    <tr>\n",
       "      <th id=\"T_7f65d_level0_row23\" class=\"row_heading level0 row23\" >24.0</th>\n",
       "      <td id=\"T_7f65d_row23_col0\" class=\"data row23 col0\" >160.6 тыс. руб.</td>\n",
       "    </tr>\n",
       "    <tr>\n",
       "      <th id=\"T_7f65d_level0_row24\" class=\"row_heading level0 row24\" >25.0</th>\n",
       "      <td id=\"T_7f65d_row24_col0\" class=\"data row24 col0\" >162.1 тыс. руб.</td>\n",
       "    </tr>\n",
       "    <tr>\n",
       "      <th id=\"T_7f65d_level0_row25\" class=\"row_heading level0 row25\" >26.0</th>\n",
       "      <td id=\"T_7f65d_row25_col0\" class=\"data row25 col0\" >154.4 тыс. руб.</td>\n",
       "    </tr>\n",
       "    <tr>\n",
       "      <th id=\"T_7f65d_level0_row26\" class=\"row_heading level0 row26\" >27.0</th>\n",
       "      <td id=\"T_7f65d_row26_col0\" class=\"data row26 col0\" >307.4 тыс. руб.</td>\n",
       "    </tr>\n",
       "    <tr>\n",
       "      <th id=\"T_7f65d_level0_row27\" class=\"row_heading level0 row27\" >28.0</th>\n",
       "      <td id=\"T_7f65d_row27_col0\" class=\"data row27 col0\" >179.5 тыс. руб.</td>\n",
       "    </tr>\n",
       "    <tr>\n",
       "      <th id=\"T_7f65d_level0_row28\" class=\"row_heading level0 row28\" >29.0</th>\n",
       "      <td id=\"T_7f65d_row28_col0\" class=\"data row28 col0\" >146.1 тыс. руб.</td>\n",
       "    </tr>\n",
       "  </tbody>\n",
       "</table>\n"
      ],
      "text/plain": [
       "<pandas.io.formats.style.Styler at 0x7fb2ab88e190>"
      ]
     },
     "metadata": {},
     "output_type": "display_data"
    },
    {
     "data": {
      "image/png": "[encoded data removed]",
      "text/plain": [
       "<Figure size 1080x360 with 1 Axes>"
      ]
     },
     "metadata": {
      "needs_background": "light"
     },
     "output_type": "display_data"
    }
   ],
   "source": [
    "display(\n",
    "    real_estate\n",
    "    .query('locality_name == \"Санкт-Петербург\"')\n",
    "    .pivot_table(index='cityCenters_nearest_km', values='km_price')\n",
    "    .style.format({'km_price': lambda x: str(round(x / 1000, 1)) + ' тыс. руб.'})\n",
    "    .set_caption('Средняя цена 1 км расстояния от центра')\n",
    "    .set_table_styles([{\n",
    "        'selector': 'caption',\n",
    "        'props': [\n",
    "            ('color', 'black'),\n",
    "            ('font-size', '15px'),\n",
    "            (\"text-align\", \"center\")\n",
    "        ]\n",
    "}])\n",
    "    )\n",
    "\n",
    "(\n",
    "    real_estate\n",
    "    .query('locality_name == \"Санкт-Петербург\"')\n",
    "    .pivot_table(index='cityCenters_nearest_km', values='km_price')\n",
    "    .plot.bar(\n",
    "        y='km_price',\n",
    "        rot=0,\n",
    "        legend=None,\n",
    "        title='Средняя цена 1 км расстояния от центра',\n",
    "        ylabel='млн руб.',\n",
    "        xlabel='км от центра',\n",
    "        figsize=(15,5),\n",
    "        grid=True\n",
    "    )\n",
    ")\n",
    "\n",
    "\n",
    "plt.gca().yaxis.set_major_formatter(FuncFormatter(lambda x, pos: x / 1000000))"
   ]
  },
  {
   "cell_type": "markdown",
   "metadata": {},
   "source": [
    "Судя по диаграмме, снижение цены одного километра по мере удаления идёт сначала резко, а затем, в районе 3 км от центра, становится более плавным."
   ]
  },
  {
   "cell_type": "markdown",
   "metadata": {},
   "source": [
    "## Общий вывод"
   ]
  },
  {
   "cell_type": "markdown",
   "metadata": {},
   "source": [
    "В ходе работы над проектом были выполнены следующие **действия**:\n",
    "\n",
    "1. Проведено предобработка данных: сокращено количество пропусков, изменены типы данных в трёх столбцах, исключены неявные дубликаты в столбце с наименованием населённого пункта, устранены артефакты (аномально большие и малые значения) в трёх столбцах.\n",
    "\n",
    "\n",
    "2. Добавлены столбцы с данными о цене квадратного метра, расстояния до центра города в километрах, типе этажа, дне недели, месяце и годе публикации, а также некоторые другие столбцы.\n",
    "\n",
    "\n",
    "3. Проведён исследовательский анализ данных с использованием преимущественно графических методов, его результаты раскрыты ниже.\n",
    "\n",
    "\n",
    "Целью проекта было выявление **особенностей и закономерностей** рынка жилой недвижимости в Санкт-Петербурге и окрестностях. Выделим ключевые среди них:\n",
    "\n",
    "* типичная продаваемая в Петербурге квартира —  однушка или двушка площадью в районе 30—50 м² по цене 3,5–4 млн руб.; она находится на 2–8 этаже пяти- или девятиэтажного здания, расположенного в 10-15 км от центра города; в пешей доступности (750 м) обычно есть парк;\n",
    "\n",
    "\n",
    "* объявления о продаже недвижимости размещаются наиболее активно в рабочие дни в феврале-апреле и осенью, а в январе, мае и летом наблюдается относительное затишье;\n",
    "\n",
    "\n",
    "* продаются квартиры в основном в течение 250 дней после размещения объявления, медианное время продажи — 95 дней; значительная часть объявлений снимается на 45 и 60 день после публикации, т.к. истекает срок их бесплатного размещения.\n",
    "\n",
    "\n",
    "* на цену оказывают влияние такие факторы, как общая и жилая площадь квартиры (также, возможно, площадь кухни), количество комнат и тип этажа (первый, последний, другой); зависимость от площади и количества комнат положительная;\n",
    "\n",
    "\n",
    "* средняя цена за квадратный метр самая высокая в Петербурге (почти 115 тыс. руб. за м²), а самая низкая (среди поселений, попадающих в топ-10 по числу объявлений) — в Выборге (около 58 тыс. руб. за м²).\n",
    "\n",
    "\n",
    "* цена одного километра расстояния от центра снижается по мере удаления от центра.\n",
    "\n",
    "**Рекомендации:**\n",
    "\n",
    "* уточнить причины и устранить пропуски в картографических данных;\n",
    "\n",
    "\n",
    "* возможно, усовершенствовать ввод пользовательских данных (например, сделать выпадающее меню с типичной высотой потолка для разных типов построек или отфильтровать очевидные дубликаты в перечне населённых пунктов);\n",
    "\n",
    "\n",
    "* учесть данные о рынке вторичной жилой недвижимости в Санкт-Петербурге при разработке региональной маркетинговой стратегии сервисов Яндекса (например, Яндекс Услуг)."
   ]
  }
 ],
 "metadata": {
  "ExecuteTimeLog": [
   {
    "duration": 511,
    "start_time": "2022-08-04T22:02:32.260Z"
   },
   {
    "duration": 14,
    "start_time": "2022-08-04T22:02:32.773Z"
   },
   {
    "duration": 72,
    "start_time": "2022-08-04T22:02:32.789Z"
   },
   {
    "duration": 2061,
    "start_time": "2022-08-04T22:02:32.863Z"
   },
   {
    "duration": 15,
    "start_time": "2022-08-04T22:02:34.925Z"
   },
   {
    "duration": 14,
    "start_time": "2022-08-04T22:02:34.942Z"
   },
   {
    "duration": 17,
    "start_time": "2022-08-04T22:02:34.957Z"
   },
   {
    "duration": 8,
    "start_time": "2022-08-04T22:02:34.976Z"
   },
   {
    "duration": 956,
    "start_time": "2022-08-04T22:02:34.985Z"
   },
   {
    "duration": 22,
    "start_time": "2022-08-04T22:02:35.944Z"
   },
   {
    "duration": 9,
    "start_time": "2022-08-04T22:02:35.967Z"
   },
   {
    "duration": 15,
    "start_time": "2022-08-04T22:02:35.978Z"
   },
   {
    "duration": 45,
    "start_time": "2022-08-04T22:02:35.995Z"
   },
   {
    "duration": 7,
    "start_time": "2022-08-04T22:02:36.041Z"
   },
   {
    "duration": 15,
    "start_time": "2022-08-04T22:02:36.050Z"
   },
   {
    "duration": 46,
    "start_time": "2022-08-04T22:02:36.066Z"
   },
   {
    "duration": 33,
    "start_time": "2022-08-04T22:02:36.113Z"
   },
   {
    "duration": 74,
    "start_time": "2022-08-04T22:02:36.147Z"
   },
   {
    "duration": 8,
    "start_time": "2022-08-04T22:02:36.238Z"
   },
   {
    "duration": 16,
    "start_time": "2022-08-04T22:02:36.248Z"
   },
   {
    "duration": 29,
    "start_time": "2022-08-04T22:02:36.266Z"
   },
   {
    "duration": 83,
    "start_time": "2022-08-04T22:02:36.297Z"
   },
   {
    "duration": 348,
    "start_time": "2022-08-04T22:02:36.381Z"
   },
   {
    "duration": 186,
    "start_time": "2022-08-04T22:02:36.731Z"
   },
   {
    "duration": 115,
    "start_time": "2022-08-04T22:02:36.918Z"
   },
   {
    "duration": 119,
    "start_time": "2022-08-04T22:02:37.034Z"
   },
   {
    "duration": 6,
    "start_time": "2022-08-04T22:02:37.155Z"
   },
   {
    "duration": 14,
    "start_time": "2022-08-04T22:02:37.164Z"
   },
   {
    "duration": 14,
    "start_time": "2022-08-04T22:02:37.180Z"
   },
   {
    "duration": 10,
    "start_time": "2022-08-04T22:02:37.195Z"
   },
   {
    "duration": 348,
    "start_time": "2022-08-04T22:02:37.206Z"
   },
   {
    "duration": 578,
    "start_time": "2022-08-04T22:02:37.557Z"
   },
   {
    "duration": 531,
    "start_time": "2022-08-04T22:02:38.139Z"
   },
   {
    "duration": 643,
    "start_time": "2022-08-04T22:02:38.672Z"
   },
   {
    "duration": 784,
    "start_time": "2022-08-04T22:02:39.317Z"
   },
   {
    "duration": 352,
    "start_time": "2022-08-04T22:02:40.103Z"
   },
   {
    "duration": 282,
    "start_time": "2022-08-04T22:02:40.457Z"
   },
   {
    "duration": 357,
    "start_time": "2022-08-04T22:02:40.741Z"
   },
   {
    "duration": 9,
    "start_time": "2022-08-04T22:02:41.100Z"
   },
   {
    "duration": 23,
    "start_time": "2022-08-04T22:02:41.110Z"
   },
   {
    "duration": 359,
    "start_time": "2022-08-04T22:02:41.135Z"
   },
   {
    "duration": 866,
    "start_time": "2022-08-04T22:02:41.496Z"
   },
   {
    "duration": 46,
    "start_time": "2022-08-04T22:02:42.364Z"
   },
   {
    "duration": 71,
    "start_time": "2022-08-04T22:02:42.412Z"
   },
   {
    "duration": 290,
    "start_time": "2022-08-04T22:02:42.485Z"
   }
  ],
  "kernelspec": {
   "display_name": "Python 3 (ipykernel)",
   "language": "python",
   "name": "python3"
  },
  "language_info": {
   "codemirror_mode": {
    "name": "ipython",
    "version": 3
   },
   "file_extension": ".py",
   "mimetype": "text/x-python",
   "name": "python",
   "nbconvert_exporter": "python",
   "pygments_lexer": "ipython3",
   "version": "3.9.7"
  },
  "toc": {
   "base_numbering": 1,
   "nav_menu": {},
   "number_sections": true,
   "sideBar": true,
   "skip_h1_title": true,
   "title_cell": "Содержание",
   "title_sidebar": "Contents",
   "toc_cell": true,
   "toc_position": {},
   "toc_section_display": true,
   "toc_window_display": true
  }
 },
 "nbformat": 4,
 "nbformat_minor": 4
}
